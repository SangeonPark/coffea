{
 "cells": [
  {
   "cell_type": "code",
   "execution_count": 23,
   "metadata": {},
   "outputs": [],
   "source": [
    "from __future__ import print_function, division\n",
    "from collections import defaultdict, OrderedDict\n",
    "import gzip\n",
    "import pickle\n",
    "import json\n",
    "\n",
    "import uproot\n",
    "%matplotlib nbagg\n",
    "import matplotlib.pyplot as plt\n",
    "import numpy as np\n",
    "\n",
    "from fnal_column_analysis_tools import hist\n",
    "from fnal_column_analysis_tools.hist import plot"
   ]
  },
  {
   "cell_type": "code",
   "execution_count": 24,
   "metadata": {},
   "outputs": [],
   "source": [
    "with gzip.open(\"hists_reoptimize.pkl.gz\") as fin:\n",
    "    hists = pickle.load(fin)"
   ]
  },
  {
   "cell_type": "code",
   "execution_count": 25,
   "metadata": {},
   "outputs": [],
   "source": [
    "with gzip.open(\"hists_reoptimize_sig.pkl.gz\") as fin2:\n",
    "    hists2 = pickle.load(fin2)"
   ]
  },
  {
   "cell_type": "code",
   "execution_count": 26,
   "metadata": {},
   "outputs": [
    {
     "name": "stderr",
     "output_type": "stream",
     "text": [
      "/uscms/home/separk/nobackup/coffea/fnal-column-analysis-tools/fnal_column_analysis_tools/hist/hist_tools.py:478: RuntimeWarning: Allocating a large (>10M bin) histogram!\n",
      "  warnings.warn(\"Allocating a large (>10M bin) histogram!\", RuntimeWarning)\n"
     ]
    }
   ],
   "source": [
    "process = hist.Cat(\"process\", \"Process\", sorting='placement')\n",
    "process_cats = (\"dataset\", \"AK8Puppijet0_isHadronicV\")\n",
    "process_map = OrderedDict()\n",
    "#process_map[\"QCD\"] = (\"QCD*\", slice(None))\n",
    "#process_map[\"QCDinV\"] = (\"Z*\", 0)\n",
    "process_map[\"Hcc\"] = (\"GluGluHToCC\", 2)\n",
    "process_map[\"Hbb\"] = (\"GluGluHToBB\", 3)\n",
    "process_map[\"Zqq\"] = (\"ZJetsToQQ_HT*\", 1)\n",
    "process_map[\"Zcc\"] = (\"ZJetsToQQ_HT*\", 2)\n",
    "process_map[\"Zbb\"] = (\"ZJetsToQQ_HT*\", 3)\n",
    "process_map[\"Wqq\"] = (\"WJetsToQQ_HT*\", 1)\n",
    "process_map[\"Wcs\"] = (\"WJetsToQQ_HT*\", 2)\n",
    "process_map[\"Top\"] = (\"TTTo*\", slice(None))\n",
    "process_map[\"QCD\"] = (\"QCD*\", slice(None))\n",
    "\n",
    "\n",
    "for key in hists.keys():\n",
    "    hists[key] = hists[key].group(process, process_cats, process_map)\n",
    "    hists2[key] = hists2[key].group(process, process_cats, process_map)"
   ]
  },
  {
   "cell_type": "code",
   "execution_count": null,
   "metadata": {},
   "outputs": [],
   "source": []
  },
  {
   "cell_type": "code",
   "execution_count": 27,
   "metadata": {},
   "outputs": [],
   "source": [
    "x = hists['hjetpt']\n",
    "x2 = hists2['hjetpt']"
   ]
  },
  {
   "cell_type": "code",
   "execution_count": 28,
   "metadata": {},
   "outputs": [
    {
     "name": "stdout",
     "output_type": "stream",
     "text": [
      "<Hist (process,AK8Puppijet0_pt,AK8Puppijet0_N2sdb1,jetrho,AK8Puppijet0_deepdoubleb) instance at 0x7fd02e8a7dd8>\n",
      "<Hist (process,AK8Puppijet0_pt,AK8Puppijet0_N2sdb1,jetrho,AK8Puppijet0_deepdoubleb) instance at 0x7fd02ec235f8>\n"
     ]
    }
   ],
   "source": [
    "print(x)\n",
    "print(x2)"
   ]
  },
  {
   "cell_type": "code",
   "execution_count": 29,
   "metadata": {},
   "outputs": [],
   "source": [
    "y = x.project(\"AK8Puppijet0_pt\", slice(450,None), overflow='over')\n",
    "y2 = x2.project(\"AK8Puppijet0_pt\", slice(450,None), overflow='over')"
   ]
  },
  {
   "cell_type": "code",
   "execution_count": 30,
   "metadata": {},
   "outputs": [
    {
     "name": "stdout",
     "output_type": "stream",
     "text": [
      "<Hist (process,AK8Puppijet0_N2sdb1,jetrho,AK8Puppijet0_deepdoubleb) instance at 0x7fd02e8a4780>\n",
      "<Hist (process,AK8Puppijet0_N2sdb1,jetrho,AK8Puppijet0_deepdoubleb) instance at 0x7fd02e8a4978>\n"
     ]
    }
   ],
   "source": [
    "print(y)\n",
    "print(y2)"
   ]
  },
  {
   "cell_type": "code",
   "execution_count": 31,
   "metadata": {},
   "outputs": [],
   "source": [
    "z = y.sum(\"jetrho\")\n",
    "z2 = y2.sum(\"jetrho\")"
   ]
  },
  {
   "cell_type": "code",
   "execution_count": 32,
   "metadata": {
    "scrolled": true
   },
   "outputs": [
    {
     "name": "stdout",
     "output_type": "stream",
     "text": [
      "<Hist (process,AK8Puppijet0_N2sdb1,AK8Puppijet0_deepdoubleb) instance at 0x7fd02e8a45f8>\n",
      "<Hist (process,AK8Puppijet0_N2sdb1,AK8Puppijet0_deepdoubleb) instance at 0x7fd02e8a4550>\n"
     ]
    }
   ],
   "source": [
    "print(z)\n",
    "print(z2)"
   ]
  },
  {
   "cell_type": "code",
   "execution_count": 33,
   "metadata": {},
   "outputs": [
    {
     "name": "stdout",
     "output_type": "stream",
     "text": [
      "{('QCD',): array([3.4228500e+05, 1.6998853e+05, 8.3768609e+04, 5.0899090e+04,\n",
      "       3.4842562e+04, 2.5458727e+04, 1.9737492e+04, 1.5889106e+04,\n",
      "       1.3120262e+04, 1.1095387e+04, 9.5109697e+03, 8.3882676e+03,\n",
      "       7.4811465e+03, 6.6900308e+03, 6.0560703e+03, 5.5225425e+03,\n",
      "       5.1057188e+03, 4.8127920e+03, 4.4787036e+03, 4.2658105e+03,\n",
      "       4.0768223e+03, 3.8814348e+03, 3.8003665e+03, 3.6455513e+03,\n",
      "       3.6307871e+03, 3.6130911e+03, 3.5520081e+03, 3.5816829e+03,\n",
      "       3.5929619e+03, 3.6987493e+03, 3.7275552e+03, 3.8998284e+03,\n",
      "       4.0792646e+03, 4.2716445e+03, 4.3970098e+03, 4.0602231e+03,\n",
      "       2.9825571e+03, 1.5690505e+03, 5.1539722e+02, 7.0690361e+01],\n",
      "      dtype=float32)}\n",
      "{('Hbb',): array([0.04442631, 0.07195245, 0.06914911, 0.06730691, 0.06455697,\n",
      "       0.06463706, 0.06162014, 0.06348903, 0.06407639, 0.06442347,\n",
      "       0.06423658, 0.06546471, 0.06762729, 0.07187236, 0.07350096,\n",
      "       0.07803971, 0.08084305, 0.08554198, 0.09125546, 0.09857085,\n",
      "       0.10564595, 0.11277445, 0.12513585, 0.13872539, 0.14988536,\n",
      "       0.17025632, 0.19094765, 0.22093005, 0.2635676 , 0.31645733,\n",
      "       0.39553824, 0.5126912 , 0.7031317 , 1.0772578 , 1.846468  ,\n",
      "       3.082342  , 3.8553698 , 3.0644534 , 1.3659753 , 0.19006659],\n",
      "      dtype=float32)}\n"
     ]
    }
   ],
   "source": [
    "print(z.sum(\"AK8Puppijet0_N2sdb1\").values())\n",
    "print(z2.sum(\"AK8Puppijet0_N2sdb1\").values())"
   ]
  },
  {
   "cell_type": "code",
   "execution_count": 34,
   "metadata": {},
   "outputs": [],
   "source": [
    "def multidim_cumsum(a):\n",
    "    out = a[...,::-1].cumsum(1)[...,::-1]\n",
    "    #for i in range(2,a.ndim+1):\n",
    "    #    np.cumsum(out, axis=-i, out=out)\n",
    "    return out"
   ]
  },
  {
   "cell_type": "code",
   "execution_count": 4,
   "metadata": {},
   "outputs": [],
   "source": [
    "a = np.array([[7, -1, 3], [1, -2, 4], [10, 1, 5]])"
   ]
  },
  {
   "cell_type": "code",
   "execution_count": 27,
   "metadata": {},
   "outputs": [
    {
     "name": "stdout",
     "output_type": "stream",
     "text": [
      "[[ 7 -1  3]\n",
      " [ 1 -2  4]\n",
      " [10  1  5]]\n"
     ]
    }
   ],
   "source": [
    "print(a)"
   ]
  },
  {
   "cell_type": "code",
   "execution_count": 145,
   "metadata": {},
   "outputs": [
    {
     "data": {
      "text/plain": [
       "array([[ 9,  2,  3],\n",
       "       [ 3,  2,  4],\n",
       "       [16,  6,  5]])"
      ]
     },
     "execution_count": 145,
     "metadata": {},
     "output_type": "execute_result"
    }
   ],
   "source": [
    "multidim_cumsum(a)"
   ]
  },
  {
   "cell_type": "code",
   "execution_count": 34,
   "metadata": {},
   "outputs": [],
   "source": [
    "k = z.sum(\"AK8Puppijet0_N2sdb1\").values()"
   ]
  },
  {
   "cell_type": "code",
   "execution_count": 35,
   "metadata": {},
   "outputs": [
    {
     "name": "stdout",
     "output_type": "stream",
     "text": [
      "{('QCD',): array([3.4228500e+05, 1.6998853e+05, 8.3768609e+04, 5.0899090e+04,\n",
      "       3.4842562e+04, 2.5458727e+04, 1.9737492e+04, 1.5889106e+04,\n",
      "       1.3120262e+04, 1.1095387e+04, 9.5109697e+03, 8.3882676e+03,\n",
      "       7.4811465e+03, 6.6900308e+03, 6.0560703e+03, 5.5225425e+03,\n",
      "       5.1057188e+03, 4.8127920e+03, 4.4787036e+03, 4.2658105e+03,\n",
      "       4.0768223e+03, 3.8814348e+03, 3.8003665e+03, 3.6455513e+03,\n",
      "       3.6307871e+03, 3.6130911e+03, 3.5520081e+03, 3.5816829e+03,\n",
      "       3.5929619e+03, 3.6987493e+03, 3.7275552e+03, 3.8998284e+03,\n",
      "       4.0792646e+03, 4.2716445e+03, 4.3970098e+03, 4.0602231e+03,\n",
      "       2.9825571e+03, 1.5690505e+03, 5.1539722e+02, 7.0690361e+01],\n",
      "      dtype=float32)}\n"
     ]
    }
   ],
   "source": [
    "print(k)"
   ]
  },
  {
   "cell_type": "code",
   "execution_count": 36,
   "metadata": {},
   "outputs": [
    {
     "data": {
      "text/plain": [
       "array([3.4228500e+05, 1.6998853e+05, 8.3768609e+04, 5.0899090e+04,\n",
       "       3.4842562e+04, 2.5458727e+04, 1.9737492e+04, 1.5889106e+04,\n",
       "       1.3120262e+04, 1.1095387e+04, 9.5109697e+03, 8.3882676e+03,\n",
       "       7.4811465e+03, 6.6900308e+03, 6.0560703e+03, 5.5225425e+03,\n",
       "       5.1057188e+03, 4.8127920e+03, 4.4787036e+03, 4.2658105e+03,\n",
       "       4.0768223e+03, 3.8814348e+03, 3.8003665e+03, 3.6455513e+03,\n",
       "       3.6307871e+03, 3.6130911e+03, 3.5520081e+03, 3.5816829e+03,\n",
       "       3.5929619e+03, 3.6987493e+03, 3.7275552e+03, 3.8998284e+03,\n",
       "       4.0792646e+03, 4.2716445e+03, 4.3970098e+03, 4.0602231e+03,\n",
       "       2.9825571e+03, 1.5690505e+03, 5.1539722e+02, 7.0690361e+01],\n",
       "      dtype=float32)"
      ]
     },
     "execution_count": 36,
     "metadata": {},
     "output_type": "execute_result"
    }
   ],
   "source": [
    "k[('QCD',)]"
   ]
  },
  {
   "cell_type": "code",
   "execution_count": 37,
   "metadata": {},
   "outputs": [
    {
     "ename": "AxisError",
     "evalue": "axis 1 is out of bounds for array of dimension 1",
     "output_type": "error",
     "traceback": [
      "\u001b[0;31m---------------------------------------------------------------------------\u001b[0m",
      "\u001b[0;31mAxisError\u001b[0m                                 Traceback (most recent call last)",
      "\u001b[0;32m<ipython-input-37-210ca1c94982>\u001b[0m in \u001b[0;36m<module>\u001b[0;34m()\u001b[0m\n\u001b[0;32m----> 1\u001b[0;31m \u001b[0mmultidim_cumsum\u001b[0m\u001b[0;34m(\u001b[0m\u001b[0mk\u001b[0m\u001b[0;34m[\u001b[0m\u001b[0;34m(\u001b[0m\u001b[0;34m'QCD'\u001b[0m\u001b[0;34m,\u001b[0m\u001b[0;34m)\u001b[0m\u001b[0;34m]\u001b[0m\u001b[0;34m)\u001b[0m\u001b[0;34m\u001b[0m\u001b[0m\n\u001b[0m",
      "\u001b[0;32m<ipython-input-30-43f07f3b1ad0>\u001b[0m in \u001b[0;36mmultidim_cumsum\u001b[0;34m(a)\u001b[0m\n\u001b[1;32m      1\u001b[0m \u001b[0;32mdef\u001b[0m \u001b[0mmultidim_cumsum\u001b[0m\u001b[0;34m(\u001b[0m\u001b[0ma\u001b[0m\u001b[0;34m)\u001b[0m\u001b[0;34m:\u001b[0m\u001b[0;34m\u001b[0m\u001b[0m\n\u001b[0;32m----> 2\u001b[0;31m     \u001b[0mout\u001b[0m \u001b[0;34m=\u001b[0m \u001b[0ma\u001b[0m\u001b[0;34m[\u001b[0m\u001b[0;34m...\u001b[0m\u001b[0;34m,\u001b[0m\u001b[0;34m:\u001b[0m\u001b[0;34m:\u001b[0m\u001b[0;36m1\u001b[0m\u001b[0;34m]\u001b[0m\u001b[0;34m.\u001b[0m\u001b[0mcumsum\u001b[0m\u001b[0;34m(\u001b[0m\u001b[0;36m1\u001b[0m\u001b[0;34m)\u001b[0m\u001b[0;34m[\u001b[0m\u001b[0;34m...\u001b[0m\u001b[0;34m,\u001b[0m\u001b[0;34m:\u001b[0m\u001b[0;34m:\u001b[0m\u001b[0;36m1\u001b[0m\u001b[0;34m]\u001b[0m\u001b[0;34m\u001b[0m\u001b[0m\n\u001b[0m\u001b[1;32m      3\u001b[0m     \u001b[0;32mfor\u001b[0m \u001b[0mi\u001b[0m \u001b[0;32min\u001b[0m \u001b[0mrange\u001b[0m\u001b[0;34m(\u001b[0m\u001b[0;36m2\u001b[0m\u001b[0;34m,\u001b[0m\u001b[0ma\u001b[0m\u001b[0;34m.\u001b[0m\u001b[0mndim\u001b[0m\u001b[0;34m+\u001b[0m\u001b[0;36m1\u001b[0m\u001b[0;34m)\u001b[0m\u001b[0;34m:\u001b[0m\u001b[0;34m\u001b[0m\u001b[0m\n\u001b[1;32m      4\u001b[0m         \u001b[0mnp\u001b[0m\u001b[0;34m.\u001b[0m\u001b[0mcumsum\u001b[0m\u001b[0;34m(\u001b[0m\u001b[0mout\u001b[0m\u001b[0;34m,\u001b[0m \u001b[0maxis\u001b[0m\u001b[0;34m=\u001b[0m\u001b[0;34m-\u001b[0m\u001b[0mi\u001b[0m\u001b[0;34m,\u001b[0m \u001b[0mout\u001b[0m\u001b[0;34m=\u001b[0m\u001b[0mout\u001b[0m\u001b[0;34m)\u001b[0m\u001b[0;34m\u001b[0m\u001b[0m\n\u001b[1;32m      5\u001b[0m     \u001b[0;32mreturn\u001b[0m \u001b[0mout\u001b[0m\u001b[0;34m\u001b[0m\u001b[0m\n",
      "\u001b[0;31mAxisError\u001b[0m: axis 1 is out of bounds for array of dimension 1"
     ]
    }
   ],
   "source": [
    "multidim_cumsum(k[('QCD',)])"
   ]
  },
  {
   "cell_type": "code",
   "execution_count": 49,
   "metadata": {},
   "outputs": [],
   "source": [
    "t = z.project(\"process\").values(overflow='allnan')\n"
   ]
  },
  {
   "cell_type": "code",
   "execution_count": 50,
   "metadata": {},
   "outputs": [],
   "source": [
    "t2 = z2.project(\"process\").values(overflow='allnan')"
   ]
  },
  {
   "cell_type": "code",
   "execution_count": 51,
   "metadata": {},
   "outputs": [
    {
     "name": "stdout",
     "output_type": "stream",
     "text": [
      "{(): array([[0.        , 0.        , 0.        , ..., 0.        , 0.        ,\n",
      "        0.        ],\n",
      "       [0.        , 0.        , 0.01347783, ..., 0.        , 0.        ,\n",
      "        0.        ],\n",
      "       [0.        , 0.1526023 , 0.4287994 , ..., 0.07184455, 0.        ,\n",
      "        0.        ],\n",
      "       ...,\n",
      "       [0.        , 0.        , 0.        , ..., 0.        , 0.        ,\n",
      "        0.        ],\n",
      "       [0.        , 0.        , 0.        , ..., 0.        , 0.        ,\n",
      "        0.        ],\n",
      "       [0.        , 0.        , 0.        , ..., 0.        , 0.        ,\n",
      "        0.        ]], dtype=float32)}\n"
     ]
    }
   ],
   "source": [
    "print(t)"
   ]
  },
  {
   "cell_type": "code",
   "execution_count": 53,
   "metadata": {},
   "outputs": [
    {
     "data": {
      "text/plain": [
       "array([[ 0.        ,  0.        ,  0.        , ...,  0.        ,\n",
       "         0.        ,  0.        ],\n",
       "       [ 2.515664  ,  2.515664  ,  2.515664  , ...,  0.        ,\n",
       "         0.        ,  0.        ],\n",
       "       [12.051075  , 12.051075  , 11.898473  , ...,  0.07184455,\n",
       "         0.        ,  0.        ],\n",
       "       ...,\n",
       "       [ 0.        ,  0.        ,  0.        , ...,  0.        ,\n",
       "         0.        ,  0.        ],\n",
       "       [ 0.        ,  0.        ,  0.        , ...,  0.        ,\n",
       "         0.        ,  0.        ],\n",
       "       [ 0.        ,  0.        ,  0.        , ...,  0.        ,\n",
       "         0.        ,  0.        ]], dtype=float32)"
      ]
     },
     "execution_count": 53,
     "metadata": {},
     "output_type": "execute_result"
    }
   ],
   "source": [
    "multidim_cumsum(t[()])"
   ]
  },
  {
   "cell_type": "code",
   "execution_count": 54,
   "metadata": {},
   "outputs": [],
   "source": [
    "background = multidim_cumsum(t[()])"
   ]
  },
  {
   "cell_type": "code",
   "execution_count": 58,
   "metadata": {},
   "outputs": [
    {
     "name": "stdout",
     "output_type": "stream",
     "text": [
      "[[ 0.          0.          0.         ...  0.          0.\n",
      "   0.        ]\n",
      " [ 2.515664    2.515664    2.515664   ...  0.          0.\n",
      "   0.        ]\n",
      " [12.051075   12.051075   11.898473   ...  0.07184455  0.\n",
      "   0.        ]\n",
      " ...\n",
      " [ 0.          0.          0.         ...  0.          0.\n",
      "   0.        ]\n",
      " [ 0.          0.          0.         ...  0.          0.\n",
      "   0.        ]\n",
      " [ 0.          0.          0.         ...  0.          0.\n",
      "   0.        ]]\n"
     ]
    }
   ],
   "source": [
    "print(background)"
   ]
  },
  {
   "cell_type": "code",
   "execution_count": 59,
   "metadata": {},
   "outputs": [],
   "source": [
    "signal = multidim_cumsum(t2[()])"
   ]
  },
  {
   "cell_type": "code",
   "execution_count": 60,
   "metadata": {},
   "outputs": [
    {
     "name": "stdout",
     "output_type": "stream",
     "text": [
      "[[0.000000e+00 0.000000e+00 0.000000e+00 ... 0.000000e+00 0.000000e+00\n",
      "  0.000000e+00]\n",
      " [0.000000e+00 0.000000e+00 0.000000e+00 ... 0.000000e+00 0.000000e+00\n",
      "  0.000000e+00]\n",
      " [8.009549e-05 8.009549e-05 8.009549e-05 ... 0.000000e+00 0.000000e+00\n",
      "  0.000000e+00]\n",
      " ...\n",
      " [0.000000e+00 0.000000e+00 0.000000e+00 ... 0.000000e+00 0.000000e+00\n",
      "  0.000000e+00]\n",
      " [0.000000e+00 0.000000e+00 0.000000e+00 ... 0.000000e+00 0.000000e+00\n",
      "  0.000000e+00]\n",
      " [0.000000e+00 0.000000e+00 0.000000e+00 ... 0.000000e+00 0.000000e+00\n",
      "  0.000000e+00]]\n"
     ]
    }
   ],
   "source": [
    "print(signal)"
   ]
  },
  {
   "cell_type": "code",
   "execution_count": 22,
   "metadata": {},
   "outputs": [
    {
     "ename": "NameError",
     "evalue": "name 'a' is not defined",
     "output_type": "error",
     "traceback": [
      "\u001b[0;31m---------------------------------------------------------------------------\u001b[0m",
      "\u001b[0;31mNameError\u001b[0m                                 Traceback (most recent call last)",
      "\u001b[0;32m<ipython-input-22-bca0e2660b9f>\u001b[0m in \u001b[0;36m<module>\u001b[0;34m()\u001b[0m\n\u001b[0;32m----> 1\u001b[0;31m \u001b[0mprint\u001b[0m\u001b[0;34m(\u001b[0m\u001b[0ma\u001b[0m\u001b[0;34m)\u001b[0m\u001b[0;34m\u001b[0m\u001b[0m\n\u001b[0m",
      "\u001b[0;31mNameError\u001b[0m: name 'a' is not defined"
     ]
    }
   ],
   "source": [
    "print(a)"
   ]
  },
  {
   "cell_type": "code",
   "execution_count": null,
   "metadata": {},
   "outputs": [],
   "source": [
    "aa = multidim_cumsum(a)"
   ]
  },
  {
   "cell_type": "code",
   "execution_count": 23,
   "metadata": {},
   "outputs": [
    {
     "ename": "NameError",
     "evalue": "name 'aa' is not defined",
     "output_type": "error",
     "traceback": [
      "\u001b[0;31m---------------------------------------------------------------------------\u001b[0m",
      "\u001b[0;31mNameError\u001b[0m                                 Traceback (most recent call last)",
      "\u001b[0;32m<ipython-input-23-54933412a1fe>\u001b[0m in \u001b[0;36m<module>\u001b[0;34m()\u001b[0m\n\u001b[0;32m----> 1\u001b[0;31m \u001b[0mprint\u001b[0m\u001b[0;34m(\u001b[0m\u001b[0maa\u001b[0m\u001b[0;34m)\u001b[0m\u001b[0;34m\u001b[0m\u001b[0m\n\u001b[0m",
      "\u001b[0;31mNameError\u001b[0m: name 'aa' is not defined"
     ]
    }
   ],
   "source": [
    "print(aa)"
   ]
  },
  {
   "cell_type": "code",
   "execution_count": 24,
   "metadata": {},
   "outputs": [
    {
     "ename": "NameError",
     "evalue": "name 'aa' is not defined",
     "output_type": "error",
     "traceback": [
      "\u001b[0;31m---------------------------------------------------------------------------\u001b[0m",
      "\u001b[0;31mNameError\u001b[0m                                 Traceback (most recent call last)",
      "\u001b[0;32m<ipython-input-24-c728615b79da>\u001b[0m in \u001b[0;36m<module>\u001b[0;34m()\u001b[0m\n\u001b[0;32m----> 1\u001b[0;31m \u001b[0mprint\u001b[0m\u001b[0;34m(\u001b[0m\u001b[0mnp\u001b[0m\u001b[0;34m.\u001b[0m\u001b[0msqrt\u001b[0m\u001b[0;34m(\u001b[0m\u001b[0maa\u001b[0m\u001b[0;34m)\u001b[0m\u001b[0;34m)\u001b[0m\u001b[0;34m\u001b[0m\u001b[0m\n\u001b[0m",
      "\u001b[0;31mNameError\u001b[0m: name 'aa' is not defined"
     ]
    }
   ],
   "source": [
    "print(np.sqrt(aa))"
   ]
  },
  {
   "cell_type": "code",
   "execution_count": 61,
   "metadata": {},
   "outputs": [],
   "source": [
    "sqrtbkg = np.sqrt(background)"
   ]
  },
  {
   "cell_type": "code",
   "execution_count": 62,
   "metadata": {},
   "outputs": [
    {
     "name": "stdout",
     "output_type": "stream",
     "text": [
      "[[0.         0.         0.         ... 0.         0.         0.        ]\n",
      " [1.5860845  1.5860845  1.5860845  ... 0.         0.         0.        ]\n",
      " [3.4714658  3.4714658  3.4494164  ... 0.26803833 0.         0.        ]\n",
      " ...\n",
      " [0.         0.         0.         ... 0.         0.         0.        ]\n",
      " [0.         0.         0.         ... 0.         0.         0.        ]\n",
      " [0.         0.         0.         ... 0.         0.         0.        ]]\n"
     ]
    }
   ],
   "source": [
    "print(sqrtbkg)"
   ]
  },
  {
   "cell_type": "code",
   "execution_count": 27,
   "metadata": {},
   "outputs": [
    {
     "ename": "NameError",
     "evalue": "name 'aa' is not defined",
     "output_type": "error",
     "traceback": [
      "\u001b[0;31m---------------------------------------------------------------------------\u001b[0m",
      "\u001b[0;31mNameError\u001b[0m                                 Traceback (most recent call last)",
      "\u001b[0;32m<ipython-input-27-54933412a1fe>\u001b[0m in \u001b[0;36m<module>\u001b[0;34m()\u001b[0m\n\u001b[0;32m----> 1\u001b[0;31m \u001b[0mprint\u001b[0m\u001b[0;34m(\u001b[0m\u001b[0maa\u001b[0m\u001b[0;34m)\u001b[0m\u001b[0;34m\u001b[0m\u001b[0m\n\u001b[0m",
      "\u001b[0;31mNameError\u001b[0m: name 'aa' is not defined"
     ]
    }
   ],
   "source": [
    "print(aa)"
   ]
  },
  {
   "cell_type": "code",
   "execution_count": 61,
   "metadata": {},
   "outputs": [
    {
     "name": "stdout",
     "output_type": "stream",
     "text": [
      "[[2 3 3]\n",
      " [3 5 6]\n",
      " [4 7 9]]\n"
     ]
    }
   ],
   "source": [
    "print(aa+1)"
   ]
  },
  {
   "cell_type": "code",
   "execution_count": 62,
   "metadata": {},
   "outputs": [
    {
     "name": "stdout",
     "output_type": "stream",
     "text": [
      "[[2.         1.5        1.5       ]\n",
      " [1.5        1.25       1.2       ]\n",
      " [1.33333333 1.16666667 1.125     ]]\n"
     ]
    }
   ],
   "source": [
    "print((aa+1)/aa)"
   ]
  },
  {
   "cell_type": "code",
   "execution_count": 63,
   "metadata": {},
   "outputs": [],
   "source": [
    "soverb = signal/(sqrtbkg+1)"
   ]
  },
  {
   "cell_type": "code",
   "execution_count": 64,
   "metadata": {},
   "outputs": [
    {
     "name": "stdout",
     "output_type": "stream",
     "text": [
      "[[0.0000000e+00 0.0000000e+00 0.0000000e+00 ... 0.0000000e+00\n",
      "  0.0000000e+00 0.0000000e+00]\n",
      " [0.0000000e+00 0.0000000e+00 0.0000000e+00 ... 0.0000000e+00\n",
      "  0.0000000e+00 0.0000000e+00]\n",
      " [1.7912578e-05 1.7912578e-05 1.8001349e-05 ... 0.0000000e+00\n",
      "  0.0000000e+00 0.0000000e+00]\n",
      " ...\n",
      " [0.0000000e+00 0.0000000e+00 0.0000000e+00 ... 0.0000000e+00\n",
      "  0.0000000e+00 0.0000000e+00]\n",
      " [0.0000000e+00 0.0000000e+00 0.0000000e+00 ... 0.0000000e+00\n",
      "  0.0000000e+00 0.0000000e+00]\n",
      " [0.0000000e+00 0.0000000e+00 0.0000000e+00 ... 0.0000000e+00\n",
      "  0.0000000e+00 0.0000000e+00]]\n"
     ]
    }
   ],
   "source": [
    "print(soverb)"
   ]
  },
  {
   "cell_type": "code",
   "execution_count": 65,
   "metadata": {},
   "outputs": [
    {
     "name": "stdout",
     "output_type": "stream",
     "text": [
      "8\n"
     ]
    }
   ],
   "source": [
    "print(np.amax(aa))"
   ]
  },
  {
   "cell_type": "code",
   "execution_count": 66,
   "metadata": {},
   "outputs": [
    {
     "name": "stdout",
     "output_type": "stream",
     "text": [
      "0.02548592\n"
     ]
    }
   ],
   "source": [
    "print(np.amax(soverb))"
   ]
  },
  {
   "cell_type": "code",
   "execution_count": 67,
   "metadata": {},
   "outputs": [
    {
     "name": "stdout",
     "output_type": "stream",
     "text": [
      "8\n"
     ]
    }
   ],
   "source": [
    "print(np.argmax(aa))"
   ]
  },
  {
   "cell_type": "code",
   "execution_count": 68,
   "metadata": {},
   "outputs": [
    {
     "ename": "SyntaxError",
     "evalue": "invalid syntax (<ipython-input-68-5256b4a29449>, line 1)",
     "output_type": "error",
     "traceback": [
      "\u001b[0;36m  File \u001b[0;32m\"<ipython-input-68-5256b4a29449>\"\u001b[0;36m, line \u001b[0;32m1\u001b[0m\n\u001b[0;31m    print(aa.8)\u001b[0m\n\u001b[0m             ^\u001b[0m\n\u001b[0;31mSyntaxError\u001b[0m\u001b[0;31m:\u001b[0m invalid syntax\n"
     ]
    }
   ],
   "source": [
    "print(aa.8)"
   ]
  },
  {
   "cell_type": "code",
   "execution_count": 69,
   "metadata": {},
   "outputs": [
    {
     "name": "stdout",
     "output_type": "stream",
     "text": [
      "[[0.125 0.25  0.25 ]\n",
      " [0.25  0.5   0.625]\n",
      " [0.375 0.75  1.   ]]\n"
     ]
    }
   ],
   "source": [
    "print(aa/8)"
   ]
  },
  {
   "cell_type": "code",
   "execution_count": 70,
   "metadata": {},
   "outputs": [
    {
     "name": "stdout",
     "output_type": "stream",
     "text": [
      "[[0.125 0.25  0.25 ]\n",
      " [0.25  0.5   0.625]\n",
      " [0.375 0.75  1.   ]]\n"
     ]
    }
   ],
   "source": [
    "print(aa/np.amax(aa))"
   ]
  },
  {
   "cell_type": "code",
   "execution_count": 71,
   "metadata": {},
   "outputs": [
    {
     "name": "stdout",
     "output_type": "stream",
     "text": [
      "[[0.125 0.25  0.25 ]\n",
      " [0.25  0.5   0.625]\n",
      " [0.375 0.75  1.   ]]\n"
     ]
    }
   ],
   "source": [
    "print(aa/np.argmax(aa))"
   ]
  },
  {
   "cell_type": "code",
   "execution_count": 29,
   "metadata": {},
   "outputs": [
    {
     "name": "stdout",
     "output_type": "stream",
     "text": [
      "[[0.         0.         0.         ... 0.         0.         0.        ]\n",
      " [0.00030326 0.00030476 0.00030912 ... 0.00051443 0.00056548 0.        ]\n",
      " [0.00040841 0.00041573 0.00043079 ... 0.00108699 0.00034798 0.        ]\n",
      " ...\n",
      " [0.         0.         0.         ... 0.         0.         0.        ]\n",
      " [0.         0.         0.         ... 0.         0.         0.        ]\n",
      " [0.         0.         0.         ... 0.         0.         0.        ]]\n"
     ]
    }
   ],
   "source": [
    "print(soverb/np.amax(soverb))"
   ]
  },
  {
   "cell_type": "code",
   "execution_count": 65,
   "metadata": {},
   "outputs": [],
   "source": [
    "norm_soverb = soverb/np.amax(soverb)"
   ]
  },
  {
   "cell_type": "code",
   "execution_count": 66,
   "metadata": {},
   "outputs": [
    {
     "name": "stdout",
     "output_type": "stream",
     "text": [
      "[[0.         0.         0.         ... 0.         0.         0.        ]\n",
      " [0.         0.         0.         ... 0.         0.         0.        ]\n",
      " [0.00030327 0.00030327 0.00030477 ... 0.         0.         0.        ]\n",
      " ...\n",
      " [0.         0.         0.         ... 0.         0.         0.        ]\n",
      " [0.         0.         0.         ... 0.         0.         0.        ]\n",
      " [0.         0.         0.         ... 0.         0.         0.        ]]\n"
     ]
    }
   ],
   "source": [
    "print(norm_soverb)"
   ]
  },
  {
   "cell_type": "code",
   "execution_count": 67,
   "metadata": {},
   "outputs": [
    {
     "name": "stdout",
     "output_type": "stream",
     "text": [
      "466\n"
     ]
    }
   ],
   "source": [
    "print(np.argmax(soverb))"
   ]
  },
  {
   "cell_type": "code",
   "execution_count": 182,
   "metadata": {},
   "outputs": [
    {
     "data": {
      "application/javascript": [
       "/* Put everything inside the global mpl namespace */\n",
       "window.mpl = {};\n",
       "\n",
       "\n",
       "mpl.get_websocket_type = function() {\n",
       "    if (typeof(WebSocket) !== 'undefined') {\n",
       "        return WebSocket;\n",
       "    } else if (typeof(MozWebSocket) !== 'undefined') {\n",
       "        return MozWebSocket;\n",
       "    } else {\n",
       "        alert('Your browser does not have WebSocket support.' +\n",
       "              'Please try Chrome, Safari or Firefox ≥ 6. ' +\n",
       "              'Firefox 4 and 5 are also supported but you ' +\n",
       "              'have to enable WebSockets in about:config.');\n",
       "    };\n",
       "}\n",
       "\n",
       "mpl.figure = function(figure_id, websocket, ondownload, parent_element) {\n",
       "    this.id = figure_id;\n",
       "\n",
       "    this.ws = websocket;\n",
       "\n",
       "    this.supports_binary = (this.ws.binaryType != undefined);\n",
       "\n",
       "    if (!this.supports_binary) {\n",
       "        var warnings = document.getElementById(\"mpl-warnings\");\n",
       "        if (warnings) {\n",
       "            warnings.style.display = 'block';\n",
       "            warnings.textContent = (\n",
       "                \"This browser does not support binary websocket messages. \" +\n",
       "                    \"Performance may be slow.\");\n",
       "        }\n",
       "    }\n",
       "\n",
       "    this.imageObj = new Image();\n",
       "\n",
       "    this.context = undefined;\n",
       "    this.message = undefined;\n",
       "    this.canvas = undefined;\n",
       "    this.rubberband_canvas = undefined;\n",
       "    this.rubberband_context = undefined;\n",
       "    this.format_dropdown = undefined;\n",
       "\n",
       "    this.image_mode = 'full';\n",
       "\n",
       "    this.root = $('<div/>');\n",
       "    this._root_extra_style(this.root)\n",
       "    this.root.attr('style', 'display: inline-block');\n",
       "\n",
       "    $(parent_element).append(this.root);\n",
       "\n",
       "    this._init_header(this);\n",
       "    this._init_canvas(this);\n",
       "    this._init_toolbar(this);\n",
       "\n",
       "    var fig = this;\n",
       "\n",
       "    this.waiting = false;\n",
       "\n",
       "    this.ws.onopen =  function () {\n",
       "            fig.send_message(\"supports_binary\", {value: fig.supports_binary});\n",
       "            fig.send_message(\"send_image_mode\", {});\n",
       "            if (mpl.ratio != 1) {\n",
       "                fig.send_message(\"set_dpi_ratio\", {'dpi_ratio': mpl.ratio});\n",
       "            }\n",
       "            fig.send_message(\"refresh\", {});\n",
       "        }\n",
       "\n",
       "    this.imageObj.onload = function() {\n",
       "            if (fig.image_mode == 'full') {\n",
       "                // Full images could contain transparency (where diff images\n",
       "                // almost always do), so we need to clear the canvas so that\n",
       "                // there is no ghosting.\n",
       "                fig.context.clearRect(0, 0, fig.canvas.width, fig.canvas.height);\n",
       "            }\n",
       "            fig.context.drawImage(fig.imageObj, 0, 0);\n",
       "        };\n",
       "\n",
       "    this.imageObj.onunload = function() {\n",
       "        fig.ws.close();\n",
       "    }\n",
       "\n",
       "    this.ws.onmessage = this._make_on_message_function(this);\n",
       "\n",
       "    this.ondownload = ondownload;\n",
       "}\n",
       "\n",
       "mpl.figure.prototype._init_header = function() {\n",
       "    var titlebar = $(\n",
       "        '<div class=\"ui-dialog-titlebar ui-widget-header ui-corner-all ' +\n",
       "        'ui-helper-clearfix\"/>');\n",
       "    var titletext = $(\n",
       "        '<div class=\"ui-dialog-title\" style=\"width: 100%; ' +\n",
       "        'text-align: center; padding: 3px;\"/>');\n",
       "    titlebar.append(titletext)\n",
       "    this.root.append(titlebar);\n",
       "    this.header = titletext[0];\n",
       "}\n",
       "\n",
       "\n",
       "\n",
       "mpl.figure.prototype._canvas_extra_style = function(canvas_div) {\n",
       "\n",
       "}\n",
       "\n",
       "\n",
       "mpl.figure.prototype._root_extra_style = function(canvas_div) {\n",
       "\n",
       "}\n",
       "\n",
       "mpl.figure.prototype._init_canvas = function() {\n",
       "    var fig = this;\n",
       "\n",
       "    var canvas_div = $('<div/>');\n",
       "\n",
       "    canvas_div.attr('style', 'position: relative; clear: both; outline: 0');\n",
       "\n",
       "    function canvas_keyboard_event(event) {\n",
       "        return fig.key_event(event, event['data']);\n",
       "    }\n",
       "\n",
       "    canvas_div.keydown('key_press', canvas_keyboard_event);\n",
       "    canvas_div.keyup('key_release', canvas_keyboard_event);\n",
       "    this.canvas_div = canvas_div\n",
       "    this._canvas_extra_style(canvas_div)\n",
       "    this.root.append(canvas_div);\n",
       "\n",
       "    var canvas = $('<canvas/>');\n",
       "    canvas.addClass('mpl-canvas');\n",
       "    canvas.attr('style', \"left: 0; top: 0; z-index: 0; outline: 0\")\n",
       "\n",
       "    this.canvas = canvas[0];\n",
       "    this.context = canvas[0].getContext(\"2d\");\n",
       "\n",
       "    var backingStore = this.context.backingStorePixelRatio ||\n",
       "\tthis.context.webkitBackingStorePixelRatio ||\n",
       "\tthis.context.mozBackingStorePixelRatio ||\n",
       "\tthis.context.msBackingStorePixelRatio ||\n",
       "\tthis.context.oBackingStorePixelRatio ||\n",
       "\tthis.context.backingStorePixelRatio || 1;\n",
       "\n",
       "    mpl.ratio = (window.devicePixelRatio || 1) / backingStore;\n",
       "\n",
       "    var rubberband = $('<canvas/>');\n",
       "    rubberband.attr('style', \"position: absolute; left: 0; top: 0; z-index: 1;\")\n",
       "\n",
       "    var pass_mouse_events = true;\n",
       "\n",
       "    canvas_div.resizable({\n",
       "        start: function(event, ui) {\n",
       "            pass_mouse_events = false;\n",
       "        },\n",
       "        resize: function(event, ui) {\n",
       "            fig.request_resize(ui.size.width, ui.size.height);\n",
       "        },\n",
       "        stop: function(event, ui) {\n",
       "            pass_mouse_events = true;\n",
       "            fig.request_resize(ui.size.width, ui.size.height);\n",
       "        },\n",
       "    });\n",
       "\n",
       "    function mouse_event_fn(event) {\n",
       "        if (pass_mouse_events)\n",
       "            return fig.mouse_event(event, event['data']);\n",
       "    }\n",
       "\n",
       "    rubberband.mousedown('button_press', mouse_event_fn);\n",
       "    rubberband.mouseup('button_release', mouse_event_fn);\n",
       "    // Throttle sequential mouse events to 1 every 20ms.\n",
       "    rubberband.mousemove('motion_notify', mouse_event_fn);\n",
       "\n",
       "    rubberband.mouseenter('figure_enter', mouse_event_fn);\n",
       "    rubberband.mouseleave('figure_leave', mouse_event_fn);\n",
       "\n",
       "    canvas_div.on(\"wheel\", function (event) {\n",
       "        event = event.originalEvent;\n",
       "        event['data'] = 'scroll'\n",
       "        if (event.deltaY < 0) {\n",
       "            event.step = 1;\n",
       "        } else {\n",
       "            event.step = -1;\n",
       "        }\n",
       "        mouse_event_fn(event);\n",
       "    });\n",
       "\n",
       "    canvas_div.append(canvas);\n",
       "    canvas_div.append(rubberband);\n",
       "\n",
       "    this.rubberband = rubberband;\n",
       "    this.rubberband_canvas = rubberband[0];\n",
       "    this.rubberband_context = rubberband[0].getContext(\"2d\");\n",
       "    this.rubberband_context.strokeStyle = \"#000000\";\n",
       "\n",
       "    this._resize_canvas = function(width, height) {\n",
       "        // Keep the size of the canvas, canvas container, and rubber band\n",
       "        // canvas in synch.\n",
       "        canvas_div.css('width', width)\n",
       "        canvas_div.css('height', height)\n",
       "\n",
       "        canvas.attr('width', width * mpl.ratio);\n",
       "        canvas.attr('height', height * mpl.ratio);\n",
       "        canvas.attr('style', 'width: ' + width + 'px; height: ' + height + 'px;');\n",
       "\n",
       "        rubberband.attr('width', width);\n",
       "        rubberband.attr('height', height);\n",
       "    }\n",
       "\n",
       "    // Set the figure to an initial 600x600px, this will subsequently be updated\n",
       "    // upon first draw.\n",
       "    this._resize_canvas(600, 600);\n",
       "\n",
       "    // Disable right mouse context menu.\n",
       "    $(this.rubberband_canvas).bind(\"contextmenu\",function(e){\n",
       "        return false;\n",
       "    });\n",
       "\n",
       "    function set_focus () {\n",
       "        canvas.focus();\n",
       "        canvas_div.focus();\n",
       "    }\n",
       "\n",
       "    window.setTimeout(set_focus, 100);\n",
       "}\n",
       "\n",
       "mpl.figure.prototype._init_toolbar = function() {\n",
       "    var fig = this;\n",
       "\n",
       "    var nav_element = $('<div/>')\n",
       "    nav_element.attr('style', 'width: 100%');\n",
       "    this.root.append(nav_element);\n",
       "\n",
       "    // Define a callback function for later on.\n",
       "    function toolbar_event(event) {\n",
       "        return fig.toolbar_button_onclick(event['data']);\n",
       "    }\n",
       "    function toolbar_mouse_event(event) {\n",
       "        return fig.toolbar_button_onmouseover(event['data']);\n",
       "    }\n",
       "\n",
       "    for(var toolbar_ind in mpl.toolbar_items) {\n",
       "        var name = mpl.toolbar_items[toolbar_ind][0];\n",
       "        var tooltip = mpl.toolbar_items[toolbar_ind][1];\n",
       "        var image = mpl.toolbar_items[toolbar_ind][2];\n",
       "        var method_name = mpl.toolbar_items[toolbar_ind][3];\n",
       "\n",
       "        if (!name) {\n",
       "            // put a spacer in here.\n",
       "            continue;\n",
       "        }\n",
       "        var button = $('<button/>');\n",
       "        button.addClass('ui-button ui-widget ui-state-default ui-corner-all ' +\n",
       "                        'ui-button-icon-only');\n",
       "        button.attr('role', 'button');\n",
       "        button.attr('aria-disabled', 'false');\n",
       "        button.click(method_name, toolbar_event);\n",
       "        button.mouseover(tooltip, toolbar_mouse_event);\n",
       "\n",
       "        var icon_img = $('<span/>');\n",
       "        icon_img.addClass('ui-button-icon-primary ui-icon');\n",
       "        icon_img.addClass(image);\n",
       "        icon_img.addClass('ui-corner-all');\n",
       "\n",
       "        var tooltip_span = $('<span/>');\n",
       "        tooltip_span.addClass('ui-button-text');\n",
       "        tooltip_span.html(tooltip);\n",
       "\n",
       "        button.append(icon_img);\n",
       "        button.append(tooltip_span);\n",
       "\n",
       "        nav_element.append(button);\n",
       "    }\n",
       "\n",
       "    var fmt_picker_span = $('<span/>');\n",
       "\n",
       "    var fmt_picker = $('<select/>');\n",
       "    fmt_picker.addClass('mpl-toolbar-option ui-widget ui-widget-content');\n",
       "    fmt_picker_span.append(fmt_picker);\n",
       "    nav_element.append(fmt_picker_span);\n",
       "    this.format_dropdown = fmt_picker[0];\n",
       "\n",
       "    for (var ind in mpl.extensions) {\n",
       "        var fmt = mpl.extensions[ind];\n",
       "        var option = $(\n",
       "            '<option/>', {selected: fmt === mpl.default_extension}).html(fmt);\n",
       "        fmt_picker.append(option)\n",
       "    }\n",
       "\n",
       "    // Add hover states to the ui-buttons\n",
       "    $( \".ui-button\" ).hover(\n",
       "        function() { $(this).addClass(\"ui-state-hover\");},\n",
       "        function() { $(this).removeClass(\"ui-state-hover\");}\n",
       "    );\n",
       "\n",
       "    var status_bar = $('<span class=\"mpl-message\"/>');\n",
       "    nav_element.append(status_bar);\n",
       "    this.message = status_bar[0];\n",
       "}\n",
       "\n",
       "mpl.figure.prototype.request_resize = function(x_pixels, y_pixels) {\n",
       "    // Request matplotlib to resize the figure. Matplotlib will then trigger a resize in the client,\n",
       "    // which will in turn request a refresh of the image.\n",
       "    this.send_message('resize', {'width': x_pixels, 'height': y_pixels});\n",
       "}\n",
       "\n",
       "mpl.figure.prototype.send_message = function(type, properties) {\n",
       "    properties['type'] = type;\n",
       "    properties['figure_id'] = this.id;\n",
       "    this.ws.send(JSON.stringify(properties));\n",
       "}\n",
       "\n",
       "mpl.figure.prototype.send_draw_message = function() {\n",
       "    if (!this.waiting) {\n",
       "        this.waiting = true;\n",
       "        this.ws.send(JSON.stringify({type: \"draw\", figure_id: this.id}));\n",
       "    }\n",
       "}\n",
       "\n",
       "\n",
       "mpl.figure.prototype.handle_save = function(fig, msg) {\n",
       "    var format_dropdown = fig.format_dropdown;\n",
       "    var format = format_dropdown.options[format_dropdown.selectedIndex].value;\n",
       "    fig.ondownload(fig, format);\n",
       "}\n",
       "\n",
       "\n",
       "mpl.figure.prototype.handle_resize = function(fig, msg) {\n",
       "    var size = msg['size'];\n",
       "    if (size[0] != fig.canvas.width || size[1] != fig.canvas.height) {\n",
       "        fig._resize_canvas(size[0], size[1]);\n",
       "        fig.send_message(\"refresh\", {});\n",
       "    };\n",
       "}\n",
       "\n",
       "mpl.figure.prototype.handle_rubberband = function(fig, msg) {\n",
       "    var x0 = msg['x0'] / mpl.ratio;\n",
       "    var y0 = (fig.canvas.height - msg['y0']) / mpl.ratio;\n",
       "    var x1 = msg['x1'] / mpl.ratio;\n",
       "    var y1 = (fig.canvas.height - msg['y1']) / mpl.ratio;\n",
       "    x0 = Math.floor(x0) + 0.5;\n",
       "    y0 = Math.floor(y0) + 0.5;\n",
       "    x1 = Math.floor(x1) + 0.5;\n",
       "    y1 = Math.floor(y1) + 0.5;\n",
       "    var min_x = Math.min(x0, x1);\n",
       "    var min_y = Math.min(y0, y1);\n",
       "    var width = Math.abs(x1 - x0);\n",
       "    var height = Math.abs(y1 - y0);\n",
       "\n",
       "    fig.rubberband_context.clearRect(\n",
       "        0, 0, fig.canvas.width, fig.canvas.height);\n",
       "\n",
       "    fig.rubberband_context.strokeRect(min_x, min_y, width, height);\n",
       "}\n",
       "\n",
       "mpl.figure.prototype.handle_figure_label = function(fig, msg) {\n",
       "    // Updates the figure title.\n",
       "    fig.header.textContent = msg['label'];\n",
       "}\n",
       "\n",
       "mpl.figure.prototype.handle_cursor = function(fig, msg) {\n",
       "    var cursor = msg['cursor'];\n",
       "    switch(cursor)\n",
       "    {\n",
       "    case 0:\n",
       "        cursor = 'pointer';\n",
       "        break;\n",
       "    case 1:\n",
       "        cursor = 'default';\n",
       "        break;\n",
       "    case 2:\n",
       "        cursor = 'crosshair';\n",
       "        break;\n",
       "    case 3:\n",
       "        cursor = 'move';\n",
       "        break;\n",
       "    }\n",
       "    fig.rubberband_canvas.style.cursor = cursor;\n",
       "}\n",
       "\n",
       "mpl.figure.prototype.handle_message = function(fig, msg) {\n",
       "    fig.message.textContent = msg['message'];\n",
       "}\n",
       "\n",
       "mpl.figure.prototype.handle_draw = function(fig, msg) {\n",
       "    // Request the server to send over a new figure.\n",
       "    fig.send_draw_message();\n",
       "}\n",
       "\n",
       "mpl.figure.prototype.handle_image_mode = function(fig, msg) {\n",
       "    fig.image_mode = msg['mode'];\n",
       "}\n",
       "\n",
       "mpl.figure.prototype.updated_canvas_event = function() {\n",
       "    // Called whenever the canvas gets updated.\n",
       "    this.send_message(\"ack\", {});\n",
       "}\n",
       "\n",
       "// A function to construct a web socket function for onmessage handling.\n",
       "// Called in the figure constructor.\n",
       "mpl.figure.prototype._make_on_message_function = function(fig) {\n",
       "    return function socket_on_message(evt) {\n",
       "        if (evt.data instanceof Blob) {\n",
       "            /* FIXME: We get \"Resource interpreted as Image but\n",
       "             * transferred with MIME type text/plain:\" errors on\n",
       "             * Chrome.  But how to set the MIME type?  It doesn't seem\n",
       "             * to be part of the websocket stream */\n",
       "            evt.data.type = \"image/png\";\n",
       "\n",
       "            /* Free the memory for the previous frames */\n",
       "            if (fig.imageObj.src) {\n",
       "                (window.URL || window.webkitURL).revokeObjectURL(\n",
       "                    fig.imageObj.src);\n",
       "            }\n",
       "\n",
       "            fig.imageObj.src = (window.URL || window.webkitURL).createObjectURL(\n",
       "                evt.data);\n",
       "            fig.updated_canvas_event();\n",
       "            fig.waiting = false;\n",
       "            return;\n",
       "        }\n",
       "        else if (typeof evt.data === 'string' && evt.data.slice(0, 21) == \"data:image/png;base64\") {\n",
       "            fig.imageObj.src = evt.data;\n",
       "            fig.updated_canvas_event();\n",
       "            fig.waiting = false;\n",
       "            return;\n",
       "        }\n",
       "\n",
       "        var msg = JSON.parse(evt.data);\n",
       "        var msg_type = msg['type'];\n",
       "\n",
       "        // Call the  \"handle_{type}\" callback, which takes\n",
       "        // the figure and JSON message as its only arguments.\n",
       "        try {\n",
       "            var callback = fig[\"handle_\" + msg_type];\n",
       "        } catch (e) {\n",
       "            console.log(\"No handler for the '\" + msg_type + \"' message type: \", msg);\n",
       "            return;\n",
       "        }\n",
       "\n",
       "        if (callback) {\n",
       "            try {\n",
       "                // console.log(\"Handling '\" + msg_type + \"' message: \", msg);\n",
       "                callback(fig, msg);\n",
       "            } catch (e) {\n",
       "                console.log(\"Exception inside the 'handler_\" + msg_type + \"' callback:\", e, e.stack, msg);\n",
       "            }\n",
       "        }\n",
       "    };\n",
       "}\n",
       "\n",
       "// from http://stackoverflow.com/questions/1114465/getting-mouse-location-in-canvas\n",
       "mpl.findpos = function(e) {\n",
       "    //this section is from http://www.quirksmode.org/js/events_properties.html\n",
       "    var targ;\n",
       "    if (!e)\n",
       "        e = window.event;\n",
       "    if (e.target)\n",
       "        targ = e.target;\n",
       "    else if (e.srcElement)\n",
       "        targ = e.srcElement;\n",
       "    if (targ.nodeType == 3) // defeat Safari bug\n",
       "        targ = targ.parentNode;\n",
       "\n",
       "    // jQuery normalizes the pageX and pageY\n",
       "    // pageX,Y are the mouse positions relative to the document\n",
       "    // offset() returns the position of the element relative to the document\n",
       "    var x = e.pageX - $(targ).offset().left;\n",
       "    var y = e.pageY - $(targ).offset().top;\n",
       "\n",
       "    return {\"x\": x, \"y\": y};\n",
       "};\n",
       "\n",
       "/*\n",
       " * return a copy of an object with only non-object keys\n",
       " * we need this to avoid circular references\n",
       " * http://stackoverflow.com/a/24161582/3208463\n",
       " */\n",
       "function simpleKeys (original) {\n",
       "  return Object.keys(original).reduce(function (obj, key) {\n",
       "    if (typeof original[key] !== 'object')\n",
       "        obj[key] = original[key]\n",
       "    return obj;\n",
       "  }, {});\n",
       "}\n",
       "\n",
       "mpl.figure.prototype.mouse_event = function(event, name) {\n",
       "    var canvas_pos = mpl.findpos(event)\n",
       "\n",
       "    if (name === 'button_press')\n",
       "    {\n",
       "        this.canvas.focus();\n",
       "        this.canvas_div.focus();\n",
       "    }\n",
       "\n",
       "    var x = canvas_pos.x * mpl.ratio;\n",
       "    var y = canvas_pos.y * mpl.ratio;\n",
       "\n",
       "    this.send_message(name, {x: x, y: y, button: event.button,\n",
       "                             step: event.step,\n",
       "                             guiEvent: simpleKeys(event)});\n",
       "\n",
       "    /* This prevents the web browser from automatically changing to\n",
       "     * the text insertion cursor when the button is pressed.  We want\n",
       "     * to control all of the cursor setting manually through the\n",
       "     * 'cursor' event from matplotlib */\n",
       "    event.preventDefault();\n",
       "    return false;\n",
       "}\n",
       "\n",
       "mpl.figure.prototype._key_event_extra = function(event, name) {\n",
       "    // Handle any extra behaviour associated with a key event\n",
       "}\n",
       "\n",
       "mpl.figure.prototype.key_event = function(event, name) {\n",
       "\n",
       "    // Prevent repeat events\n",
       "    if (name == 'key_press')\n",
       "    {\n",
       "        if (event.which === this._key)\n",
       "            return;\n",
       "        else\n",
       "            this._key = event.which;\n",
       "    }\n",
       "    if (name == 'key_release')\n",
       "        this._key = null;\n",
       "\n",
       "    var value = '';\n",
       "    if (event.ctrlKey && event.which != 17)\n",
       "        value += \"ctrl+\";\n",
       "    if (event.altKey && event.which != 18)\n",
       "        value += \"alt+\";\n",
       "    if (event.shiftKey && event.which != 16)\n",
       "        value += \"shift+\";\n",
       "\n",
       "    value += 'k';\n",
       "    value += event.which.toString();\n",
       "\n",
       "    this._key_event_extra(event, name);\n",
       "\n",
       "    this.send_message(name, {key: value,\n",
       "                             guiEvent: simpleKeys(event)});\n",
       "    return false;\n",
       "}\n",
       "\n",
       "mpl.figure.prototype.toolbar_button_onclick = function(name) {\n",
       "    if (name == 'download') {\n",
       "        this.handle_save(this, null);\n",
       "    } else {\n",
       "        this.send_message(\"toolbar_button\", {name: name});\n",
       "    }\n",
       "};\n",
       "\n",
       "mpl.figure.prototype.toolbar_button_onmouseover = function(tooltip) {\n",
       "    this.message.textContent = tooltip;\n",
       "};\n",
       "mpl.toolbar_items = [[\"Home\", \"Reset original view\", \"fa fa-home icon-home\", \"home\"], [\"Back\", \"Back to  previous view\", \"fa fa-arrow-left icon-arrow-left\", \"back\"], [\"Forward\", \"Forward to next view\", \"fa fa-arrow-right icon-arrow-right\", \"forward\"], [\"\", \"\", \"\", \"\"], [\"Pan\", \"Pan axes with left mouse, zoom with right\", \"fa fa-arrows icon-move\", \"pan\"], [\"Zoom\", \"Zoom to rectangle\", \"fa fa-square-o icon-check-empty\", \"zoom\"], [\"\", \"\", \"\", \"\"], [\"Download\", \"Download plot\", \"fa fa-floppy-o icon-save\", \"download\"]];\n",
       "\n",
       "mpl.extensions = [\"eps\", \"pdf\", \"png\", \"ps\", \"raw\", \"svg\"];\n",
       "\n",
       "mpl.default_extension = \"png\";var comm_websocket_adapter = function(comm) {\n",
       "    // Create a \"websocket\"-like object which calls the given IPython comm\n",
       "    // object with the appropriate methods. Currently this is a non binary\n",
       "    // socket, so there is still some room for performance tuning.\n",
       "    var ws = {};\n",
       "\n",
       "    ws.close = function() {\n",
       "        comm.close()\n",
       "    };\n",
       "    ws.send = function(m) {\n",
       "        //console.log('sending', m);\n",
       "        comm.send(m);\n",
       "    };\n",
       "    // Register the callback with on_msg.\n",
       "    comm.on_msg(function(msg) {\n",
       "        //console.log('receiving', msg['content']['data'], msg);\n",
       "        // Pass the mpl event to the overridden (by mpl) onmessage function.\n",
       "        ws.onmessage(msg['content']['data'])\n",
       "    });\n",
       "    return ws;\n",
       "}\n",
       "\n",
       "mpl.mpl_figure_comm = function(comm, msg) {\n",
       "    // This is the function which gets called when the mpl process\n",
       "    // starts-up an IPython Comm through the \"matplotlib\" channel.\n",
       "\n",
       "    var id = msg.content.data.id;\n",
       "    // Get hold of the div created by the display call when the Comm\n",
       "    // socket was opened in Python.\n",
       "    var element = $(\"#\" + id);\n",
       "    var ws_proxy = comm_websocket_adapter(comm)\n",
       "\n",
       "    function ondownload(figure, format) {\n",
       "        window.open(figure.imageObj.src);\n",
       "    }\n",
       "\n",
       "    var fig = new mpl.figure(id, ws_proxy,\n",
       "                           ondownload,\n",
       "                           element.get(0));\n",
       "\n",
       "    // Call onopen now - mpl needs it, as it is assuming we've passed it a real\n",
       "    // web socket which is closed, not our websocket->open comm proxy.\n",
       "    ws_proxy.onopen();\n",
       "\n",
       "    fig.parent_element = element.get(0);\n",
       "    fig.cell_info = mpl.find_output_cell(\"<div id='\" + id + \"'></div>\");\n",
       "    if (!fig.cell_info) {\n",
       "        console.error(\"Failed to find cell for figure\", id, fig);\n",
       "        return;\n",
       "    }\n",
       "\n",
       "    var output_index = fig.cell_info[2]\n",
       "    var cell = fig.cell_info[0];\n",
       "\n",
       "};\n",
       "\n",
       "mpl.figure.prototype.handle_close = function(fig, msg) {\n",
       "    var width = fig.canvas.width/mpl.ratio\n",
       "    fig.root.unbind('remove')\n",
       "\n",
       "    // Update the output cell to use the data from the current canvas.\n",
       "    fig.push_to_output();\n",
       "    var dataURL = fig.canvas.toDataURL();\n",
       "    // Re-enable the keyboard manager in IPython - without this line, in FF,\n",
       "    // the notebook keyboard shortcuts fail.\n",
       "    IPython.keyboard_manager.enable()\n",
       "    $(fig.parent_element).html('<img src=\"' + dataURL + '\" width=\"' + width + '\">');\n",
       "    fig.close_ws(fig, msg);\n",
       "}\n",
       "\n",
       "mpl.figure.prototype.close_ws = function(fig, msg){\n",
       "    fig.send_message('closing', msg);\n",
       "    // fig.ws.close()\n",
       "}\n",
       "\n",
       "mpl.figure.prototype.push_to_output = function(remove_interactive) {\n",
       "    // Turn the data on the canvas into data in the output cell.\n",
       "    var width = this.canvas.width/mpl.ratio\n",
       "    var dataURL = this.canvas.toDataURL();\n",
       "    this.cell_info[1]['text/html'] = '<img src=\"' + dataURL + '\" width=\"' + width + '\">';\n",
       "}\n",
       "\n",
       "mpl.figure.prototype.updated_canvas_event = function() {\n",
       "    // Tell IPython that the notebook contents must change.\n",
       "    IPython.notebook.set_dirty(true);\n",
       "    this.send_message(\"ack\", {});\n",
       "    var fig = this;\n",
       "    // Wait a second, then push the new image to the DOM so\n",
       "    // that it is saved nicely (might be nice to debounce this).\n",
       "    setTimeout(function () { fig.push_to_output() }, 1000);\n",
       "}\n",
       "\n",
       "mpl.figure.prototype._init_toolbar = function() {\n",
       "    var fig = this;\n",
       "\n",
       "    var nav_element = $('<div/>')\n",
       "    nav_element.attr('style', 'width: 100%');\n",
       "    this.root.append(nav_element);\n",
       "\n",
       "    // Define a callback function for later on.\n",
       "    function toolbar_event(event) {\n",
       "        return fig.toolbar_button_onclick(event['data']);\n",
       "    }\n",
       "    function toolbar_mouse_event(event) {\n",
       "        return fig.toolbar_button_onmouseover(event['data']);\n",
       "    }\n",
       "\n",
       "    for(var toolbar_ind in mpl.toolbar_items){\n",
       "        var name = mpl.toolbar_items[toolbar_ind][0];\n",
       "        var tooltip = mpl.toolbar_items[toolbar_ind][1];\n",
       "        var image = mpl.toolbar_items[toolbar_ind][2];\n",
       "        var method_name = mpl.toolbar_items[toolbar_ind][3];\n",
       "\n",
       "        if (!name) { continue; };\n",
       "\n",
       "        var button = $('<button class=\"btn btn-default\" href=\"#\" title=\"' + name + '\"><i class=\"fa ' + image + ' fa-lg\"></i></button>');\n",
       "        button.click(method_name, toolbar_event);\n",
       "        button.mouseover(tooltip, toolbar_mouse_event);\n",
       "        nav_element.append(button);\n",
       "    }\n",
       "\n",
       "    // Add the status bar.\n",
       "    var status_bar = $('<span class=\"mpl-message\" style=\"text-align:right; float: right;\"/>');\n",
       "    nav_element.append(status_bar);\n",
       "    this.message = status_bar[0];\n",
       "\n",
       "    // Add the close button to the window.\n",
       "    var buttongrp = $('<div class=\"btn-group inline pull-right\"></div>');\n",
       "    var button = $('<button class=\"btn btn-mini btn-primary\" href=\"#\" title=\"Stop Interaction\"><i class=\"fa fa-power-off icon-remove icon-large\"></i></button>');\n",
       "    button.click(function (evt) { fig.handle_close(fig, {}); } );\n",
       "    button.mouseover('Stop Interaction', toolbar_mouse_event);\n",
       "    buttongrp.append(button);\n",
       "    var titlebar = this.root.find($('.ui-dialog-titlebar'));\n",
       "    titlebar.prepend(buttongrp);\n",
       "}\n",
       "\n",
       "mpl.figure.prototype._root_extra_style = function(el){\n",
       "    var fig = this\n",
       "    el.on(\"remove\", function(){\n",
       "\tfig.close_ws(fig, {});\n",
       "    });\n",
       "}\n",
       "\n",
       "mpl.figure.prototype._canvas_extra_style = function(el){\n",
       "    // this is important to make the div 'focusable\n",
       "    el.attr('tabindex', 0)\n",
       "    // reach out to IPython and tell the keyboard manager to turn it's self\n",
       "    // off when our div gets focus\n",
       "\n",
       "    // location in version 3\n",
       "    if (IPython.notebook.keyboard_manager) {\n",
       "        IPython.notebook.keyboard_manager.register_events(el);\n",
       "    }\n",
       "    else {\n",
       "        // location in version 2\n",
       "        IPython.keyboard_manager.register_events(el);\n",
       "    }\n",
       "\n",
       "}\n",
       "\n",
       "mpl.figure.prototype._key_event_extra = function(event, name) {\n",
       "    var manager = IPython.notebook.keyboard_manager;\n",
       "    if (!manager)\n",
       "        manager = IPython.keyboard_manager;\n",
       "\n",
       "    // Check for shift+enter\n",
       "    if (event.shiftKey && event.which == 13) {\n",
       "        this.canvas_div.blur();\n",
       "        event.shiftKey = false;\n",
       "        // Send a \"J\" for go to next cell\n",
       "        event.which = 74;\n",
       "        event.keyCode = 74;\n",
       "        manager.command_mode();\n",
       "        manager.handle_keydown(event);\n",
       "    }\n",
       "}\n",
       "\n",
       "mpl.figure.prototype.handle_save = function(fig, msg) {\n",
       "    fig.ondownload(fig, null);\n",
       "}\n",
       "\n",
       "\n",
       "mpl.find_output_cell = function(html_output) {\n",
       "    // Return the cell and output element which can be found *uniquely* in the notebook.\n",
       "    // Note - this is a bit hacky, but it is done because the \"notebook_saving.Notebook\"\n",
       "    // IPython event is triggered only after the cells have been serialised, which for\n",
       "    // our purposes (turning an active figure into a static one), is too late.\n",
       "    var cells = IPython.notebook.get_cells();\n",
       "    var ncells = cells.length;\n",
       "    for (var i=0; i<ncells; i++) {\n",
       "        var cell = cells[i];\n",
       "        if (cell.cell_type === 'code'){\n",
       "            for (var j=0; j<cell.output_area.outputs.length; j++) {\n",
       "                var data = cell.output_area.outputs[j];\n",
       "                if (data.data) {\n",
       "                    // IPython >= 3 moved mimebundle to data attribute of output\n",
       "                    data = data.data;\n",
       "                }\n",
       "                if (data['text/html'] == html_output) {\n",
       "                    return [cell, data, j];\n",
       "                }\n",
       "            }\n",
       "        }\n",
       "    }\n",
       "}\n",
       "\n",
       "// Register the function which deals with the matplotlib target/channel.\n",
       "// The kernel may be null if the page has been refreshed.\n",
       "if (IPython.notebook.kernel != null) {\n",
       "    IPython.notebook.kernel.comm_manager.register_target('matplotlib', mpl.mpl_figure_comm);\n",
       "}\n"
      ],
      "text/plain": [
       "<IPython.core.display.Javascript object>"
      ]
     },
     "metadata": {},
     "output_type": "display_data"
    },
    {
     "data": {
      "text/html": [
       "<img src=\"data:image/png;base64,iVBORw0KGgoAAAANSUhEUgAAAoAAAAHgCAYAAAA10dzkAAAgAElEQVR4nO3cb4xd9X3n8cNaHhMb13+EA3FgXKJ2o0YkVVZmsMkuEXKbqIGahQWiqF1oE2EZnKWpEsAEsY7ULUEbalUbml1VNEbRWkbFkTeosCsaQ2CbGMJIBmPjDGxAdBpssqsyUxC2VcbffQAeMHjOufaM53znd14v6fPAd+7c+ek+uPetGd9TBQAAnVK1fQAAAKaXAAQA6BgBCADQMQIQAKBjBCAAQMcIQACAjhGAAAAdIwABADpGAAIAdIwABADoGAEIANAxAhAAoGMEIABAxwhAAICOEYAAAB0jAAEAOkYAAgB0jAAEAOgYAQgA0DECEACgYwQgAEDHCEAAgI4RgAAAHSMAAQA6RgACAHSMAAQA6BgBCADQMQIQAKBjBCAAQMcIQACAjhGAAAAdIwABADpGAAIAdIwABADoGAEIANAxAhAAoGMEIABAxwhAAICOEYAAAB0jAAEAOkYAAgB0jAAEAOgYAQgA0DECEACgYwQgAEDHCEAAgI4RgAAAHSMAAQA6RgACAHSMAAQA6BgBCADQMQIQAKBjBCAAQMcIQACAjhGAAAAdIwABADpGAJLOXXfdFcuWLYs5c+bEwMBAPPHEEz1939jYWAwPD8fIyEiMjo6amaXZyMhIDA8Px9jY2El+BYXeCEBSuffee6Ovry+++93vxp49e+Laa6+NhQsXxiuvvNL4vcPDw1FVlZlZ2g0PD0/DKyk0E4CkMjAwEOvWrRv/99jYWCxdujS++c1vNn7vyMhIVFUVp1ZVfMDMLNFOrd4KwJGRkZP5Ego9E4CkcejQoZg1a1Zs27btqNuvvvrqWL169fvuf/DgwaP+xHLkN4AfqKqYa2aWaB+o3grA0dHR6XpJhVoCkDR+8YtfRFVV8ZOf/OSo22+88cYYGBh43/03bNhwzD+xCEAzyzYBSDYCkDQmCsCvfe1rcf7557/v/n4DaGYzZQKQbAQgaRzvn4Dfa3R0VACaWcoJQLIRgKQyMDAQX/7yl8f/PTY2Fh/+8Id7+hCIADSzrBOAZCMASeXIZWDuueeeePbZZ2PNmjWxcOHC2L9/f+P3CkAzyzoBSDYCkHS+/e1vR39/f/T19cXAwEA8/vjjPX2fADSzrBOAZCMAKYYANLOsE4BkIwAphgA0s6wTgGQjACmGADSzrBOAZCMAKYYANLOsE4BkIwAphgA0s6wTgGQjACmGADSzrBOAZCMAKYYANLOsE4BkIwAphgA0s6wTgGQjACmGADSzrBOAZCMAKYYANLOsE4BkIwAphgA0s6wTgGQjACmGADSzrBOAZCMAKYYANLOsE4BkIwAphgA0s6wTgGQjACmGADSzrBOAZCMAKYYANLOsE4BkIwAphgA0s6wTgGQjACmGADSzrBOAZCMAKYYANLOsE4BkIwAphgA0s6wTgGQjACnGkQBcVFWx2GKBmZ3Q5k9iApCZQgBSDAEoAM2mYgKQLhCAFEMACkCzqZgApAsEIMUQgALQbComAOkCAUgxBKAANJuKCUC6QABSDAEoAM2mYgKQLhCAFEMACkCzqZgApAsEIMU4EoC/UVVxrplN2z6WcB+t2a817KyaLWnYRGF4WiUAyUUAUgwBaNbO2o49AQjHTwBSDAFo1s7ajj0BCMdPAFIMAWjWztqOPQEIx08AUgwBaNbO2o49AQjHTwBSDAFo1s7ajj0BCMdPAFIMAWjWztqOPQEIx08AUowjAfjHVRXrE+0msyncV2fYvjKJ3dCwdTVbU7MvNOzTNftIwya6tuCvVAKQXAQgxRCA1oW1HXQCUABSBgFIMQSgdWFtB50AFICUQQBSDAFoXVjbQScABSBlEIAUQwBaF9Z20AlAAUgZBCDFEIDWhbUddAJQAFIGAUgxBKB1YW0HnQAUgJRBAFIMAWhdWNtBJwAFIGUQgBTjSACOVFUcttq9aZPeoYR74yTu9RPcaMP+sWavNOwfara7ZtsaVhelyxu2eIItqgQguQhAiiEABaAAFIACEHojACmGABSAAlAACkDojQCkGAJQAApAASgAoTcCkGIIQAEoAAWgAITeCECKIQAFoAAUgAIQeiMAKYYAFIACUAAKQOiNAKQYRwJw9HtVxNYp3l8Xti0zbJtb2vdO0jZNYn81if3lJPZfa/YXNfvzhv3nmv1Jw26s2Rdqdnr97q0m3mcaJgCZKaq2DwBTRQAex9oOOgEoAAUgtKpq+wAwVQTgcaztoBOAAlAAQquqtg8AU0UAHsfaDjoBKAAFILSqavsAMFUE4HGs7aATgAJQAEKrqrYPAFNFAB7H2g46ASgABSC0qmr7ADBVBOBxrO2gE4ACUABCq6q2DwBTRQAex9oOOgEoAAUgtKpq+wAwVcYDcPTfRsSV07zLEu53W9jvnKT99iR20UnahZPYBQ0bOMH9q4Z9omYfa9i/rFl/zT7YsLkT71BVv5dr9lDNfq9+g9XEW90wAchMIQAphgAUgAJQAApA6I0ApBgCUAAKQAEoAKE3ApBiCEABKAAFoACE3ghAiiEABaAAFIACEHojACmGABSAAlAACkDojQCkGAJQAApAASgAoTcCkGnx6KOPxiWXXBIf+tCHoqqq2LZt21FfP3z4cNx2221x5plnxqmnnhqrVq2K55577rh+xjsBuCsiXjzGnm9pe0/SnpnEdp6kPXmStmMS+9+T2CM1+2HD/tck9jc1+x81u7dh/71mdzfsv9Xszpp9o2F/XLMvNKwmaOvi8Kv121VNvEsatmCC/YoAJBkByLR48MEH49Zbb43vf//7xwzAO+64IxYsWBDbtm2Lp59+OlavXh3nnHNOHDhwoOefIQAFoAAUgAIQeiMAmXbvDcDDhw/HmWeeGd/61rfGbxsZGYk5c+bEli1ben5cASgABaAAFIDQGwHItHtvAP785z+Pqqpi586dR93vwgsvjBtuuGHCxzl48GCMjo6Ob3h4WAAKwGNMAApAAQjvJQCZdu8NwB//+MdRVVW8/PLLR93vyiuvjKuuumrCx9mwYUNUb7+ovnsCUAAKQAEoAKGeAGTa9RqAV1xxRXz+85+f8HH8BlAACkABKADhxAhApt1U/Qn4vfwfQAEoAAWgAITeCECm3UQfArnzzjvHbxsdHZ3Eh0BOxgvsP5+kHZjEXpvEXp3E/m/N9k1iw5PYizU7WfE+mcieTPA+UrOmKK0Ly60Nq4vHuji8o2E31qzp+ps11yZ8tpp4f1C/v6sm3mcaJgCZKQQg0+K1116LnTt3xs6dO6Oqqti4cWPs3LkzXnrppYh46zIwCxcujB/84Aexa9euuPTSSydxGRgBKADfPQEoAAUgvJcAZFo88sgjx/zAxjXXXBMR71wI+owzzog5c+bEqlWrYmho6Lh+hgAUgAJQAApA6I0ApBgCUAAKQAEoAKE3ApBiCEABKAAFoACE3ghAiiEABaAAFIACEHojACmGABSAAlAACkDojQCkGAJQAApAASgAoTcCkGK8E4BPxsy5sPJkQqBpTRc5nmiPNKwpMk704sh1cdK0uosjN4XNiV44+Z6G1V1U+a6G/XnN6mLqPzXstprVXZD5jyPi2prVXaz5txtWczHn+JX6/UM18b5Xs0/Wb3M18c5v2PwJdpoAJBkBSDEEoAAUgAJQAEJvBCDFEIACUAAKQAEIvRGAFEMACkABKAAFIPRGAFIMASgABaAAFIDQGwFIMQSgABSAAlAAQm8EIMUQgAJQAApAAQi9EYAU450AvCPq30An2p01a7qW2Ym+KX+jYXVv2E27pWZ1115rWl0k/IeGXXeCq4uPayPiD2v27xtWFy9116D73Yb9Ts2aoujCmg3UrC6mPhG1182LpQ2rCbHD1cQbbdgLNdvRsE01+4OJd6iq35/U7NyGCUBmCgFIMQSgABSAAlAAQm8EIMUQgAJQAApAAQi9EYAUQwAKQAEoAAUg9EYAUgwBKAAFoAAUgNAbAUgxBKAAFIACUABCbwQgxRCAAlAACkABCL0RgBRDAApAASgABSD0RgBSjHcC8KMR8bETWN2b40ca1l+zujfVD05iixtWdxHduZNYX83+Rf3qQuGfa3aoYW/U7LWG1cXJP9bslYa9XLOXGlYXRUM1e7phgzX7u4b9sGb312xzw/5LzW5t2L+r2dKJ90hVvy/V7CMNmzvBPiAASaZq+wAwVQSgABSADROAAhDeVrV9AJgqAlAACsCGCUABCG+r2j4ATBUBKAAFYMMEoACEt1VtHwCmigAUgAKwYQJQAMLbqrYPAFNFAApAAdgwASgA4W1V2weAqSIABaAAbJgAFIDwtqrtA8BUGQ/Ax6uI3cdY05vjzprVvXEOVhFP1KzpWmZ1q3tDfrRhj9Ss7s38oYb9z0nsb2pWFxFbG/bXNdvSsLo4+V7N6q5Bt6mK+Mua/UXD6qLoz2r2pw37Rs3WN+wrNVtTs6sa9pma/WbDTpt4e6uJ9+cN+0zNljZMADJTVG0fAKaKAKwEoAAUgAIQelK1fQCYKgKwEoACUAAKQOhJ1fYBYKoIwEoACkABKAChJ1XbB4CpIgArASgABaAAhJ5UbR8ApooArASgABSAAhB6UrV9AJgqArASgAJQAApA6EnV9gFgqowH4G09vBEe75vjbQ1rul7ZRGt6072xZl9tWN0b9g01W9ewtTWrC4E1VcSXTnBXN+z3avaFhtXFSd115lY37OKa1UXPZ6qI36rZhTUbaNgna/YbDTunZmfUbG793qgm3ksN+7ua/WXN6q7z96Wqik/WbHHDBCAzRdX2AWCqCMBKAApAASgAoSdV2weAqSIAKwEoAAWgAISeVG0fAKaKAKwEoAAUgAIQelK1fQCYKgKwEoACUAAKQOhJ1fYBYKoIwEoACkABKAChJ1XbB4CpIgArASgABaAAhJ5UbR8ApooArASgABSAAhB6UrV9AJgq4wH4b6qIi46xujfOC6uIf12zlQ2re9NdXrO6N+SmNV0k99ya1b3Rf7RhvzaJ1UXEspqd1bClNauLkzOqiMU1W1CzmosQx2lVxJyaza7f4WriHarZ6w37fzXb17D/U7PdNftpwx6q2b0N+7Oa3VCz32rYR2q2oGECkJmiavsAMFUEYCUABaAAFIDQk6rtA8BUEYCVABSAAlAAQk+qtg8AU0UAVgJQAApAAQg9qdo+AEwVAVgJQAEoAAUg9KRq+wAwVQRgJQAFoAAUgNCTqu0DwFQRgJUAFIACUABCT6q2DwBT5UgAPjfBG9g/NKzuemMvTmJ1b5xDDdtbs7o33abtqtnOhg1OYnUhsKNmddd7a9pjDXukZttrVhcuD1VVPFCz+xu2rWZ/XbOmYPpezf6qYX9Rs7oQ+9OG3Vqzuoi7oari92pWF3jnNuyMms1vmABkphCAFEMACkABKAAFIPRGAFIMASgABaAAFIDQGwFIMQSgABSAAlAAQm8EIMUQgAJQAApAAQi9EYAUQwAKQAEoAAUg9EYAUgwBKAAFoAAUgNAbAUgxBKAAFIACUABCbwQgxTgSgLf18KZzrP1Jzb4xif3HSazuzXH9JHbTJPbVSewrJ7imEKjbuoZdV7M1k9iXavaHDbu6ZnXR84WGXVWzKxq2umaX1KwuxH6rquLTNTu/Yb9Zs7qLOS9p2IkEXtMEINkIQIohAAWgABSAAhB6IwAphgAUgAJQAApA6I0ApBgCUAAKQAEoAKE3ApBiCEABKAAFoACE3ghAiiEABaAAFIACEHojACmGABSAAlAACkDojQBkWtx+++2xfPnyOO2002LJkiVx6aWXxs9+9rOj7nPgwIG4/vrrY/HixTFv3ry4/PLLY//+/T3/jCMB+MmqiuUnsE+2sLo3sJO5puugnax9rIV99CTt107i6uJlMls2iZ1Vs6WTWN0195pCbXHNFtTsRK/lN5kJQLIRgEyLz372s7Fp06bYvXt3PPXUU/G5z30u+vv74/XXXx+/z9q1a+Pss8+O7du3x+DgYKxYsSIuuOCCnn+GABSAAlAACkDojQCkFb/85S+jqqp49NFHIyJiZGQkZs+eHffdd9/4ffbu3RtVVcWOHTt6ekwBKAAFoAAUgNAbAUgrnn/++aiqKp555pmIiNi+fXtUVRWvvvrqUffr7++PjRs3HvMxDh48GKOjo+MbHh4WgD1OAApAASgA6TYByLQbGxuLiy++OD71qU+N37Z58+bo6+t7333PO++8uOmmm475OBs2bIjq7RfVd08ACkABKAAFINQTgEy7tWvXxrJly2J4eHj8tokCcPny5XHzzTcf83H8BlAACkABKADhxAhAptW6devirLPOihdeeOGo20/kT8Dv5f8ACkABKAAFIPRGADItDh8+HOvWrYulS5fGc889976vH/kQyNatW8dvGxoaOqEPgZzWwwu82cneyYgIm7kTgGQjAJkW1113XSxYsCB+9KMfxb59+8b3xhtvjN9n7dq10d/fHw8//HAMDg7GypUrY+XKlT3/DAFomdZ2cFiuCUCyEYBMi2N9WKOqqti0adP4fY5cCHrRokUxd+7cuOyyy2Lfvn09/wwBaJnWdnBYrglAshGAFEMAWqa1HRyWawKQbAQgxRCAlmltB4flmgAkGwFIMQSgZVrbwWG5JgDJRgBSDAFomdZ2cFiuCUCyEYAUQwBaprUdHJZrApBsBCDFOBKAH0jwYm9m9u4JQLIRgBRDAJpZ1glAshGAFEMAmlnWCUCyEYAUQwCaWdYJQLIRgBRDAJpZ1glAshGAFEMAmlnWCUCyEYAUQwCaWdYJQLIRgBRDAJpZ1glAshGAFEMAmlnWCUCyEYAUQwCaWdYJQLIRgBRDAJpZ1glAshGAFEMAmlnWCUCyEYAUQwCaWdYJQLIRgBRDAJpZ1glAshGAFEMAmlnWCUCyEYAUQwCaWdYJQLIRgBRDAJpZ1glAshGAFEMAmlnWCUCyEYAUQwCaWdYJQLIRgBRDAJpZ1glAshGAFEMAmlnWCUCyEYAUQwCaWdYJQLIRgBRDAJpZ1glAshGAFEMAmlnWCUCyEYAUQwCaWdYJQLIRgBRDAJpZ1glAshGAFEMAmlnWCUCyEYAUQwCaWdYJQLIRgBRDAJpZ1glAshGAFEMAmlnWCUCyEYAUQwCaWdYJQLIRgBRDAJpZ1glAshGAFEMAmlnWCUCyEYAUQwCaWdYJQLIRgBRDAJpZ1glAshGAFEMAmlnWCUCyEYAUQwCaWdYJQLIRgBRDAJpZ1glAshGAFEMAmlnWCUCyEYAUQwCaWdYJQLIRgBRDAJpZ1glAshGAFEMAmlnWCUCyEYAUQwCaWdYJQLIRgBRDAJpZ1glAshGAFEMAmlnWCUCyEYAUQwCaWdYJQLIRgBRDAJpZ1glAshGAFEMAmlnWCUCyEYAUQwCaWdYJQLIRgBRDAJpZ1glAshGAFEMAmlnWCUCyEYAUQwCaWdYJQLIRgBRDAJpZ1glAshGAFEMAmlnWCUCyEYAUQwCaWdYJQLIRgBRDAJpZ1glAshGAFEMAmlnWCUCyEYAUQwCaWdYJQLIRgBRDAJpZ1glAshGATIvvfOc78fGPfzzmz58f8+fPjxUrVsSDDz44/vUDBw7E9ddfH4sXL4558+bF5ZdfHvv37z+unyEAzSzrBCDZCECmxf333x8PPPBADA0NxdDQUHz961+P2bNnx+7duyMiYu3atXH22WfH9u3bY3BwMFasWBEXXHDBcf0MAWhmWScAyUYA0ppFixbF3XffHSMjIzF79uy47777xr+2d+/eqKoqduzY0fPjCUAzyzoBSDYCkGn35ptvxpYtW6Kvry/27NkT27dvj6qq4tVXXz3qfv39/bFx48YJH+fgwYMxOjo6vuHhYQFoZiknAMlGADJtdu3aFfPmzYtZs2bFggUL4oEHHoiIiM2bN0dfX9/77n/eeefFTTfdNOHjbdiwIaq3X1TfPQFoZtkmAMlGADJtDh06FM8//3w8+eSTsX79+jj99NNjz549Ewbg8uXL4+abb57w8fwG0MxmygQg2QhAWrNq1apYs2bNCf8J+L38H0AzyzoBSDYCkNZcdNFFcc0114x/CGTr1q3jXxsaGvIhEDMrZgKQbAQg0+KWW26Jxx57LF588cXYtWtXrF+/Pk455ZR46KGHIuKty8D09/fHww8/HIODg7Fy5cpYuXLlcf0MAWhmWScAyUYAMi2++MUvxrJly6Kvry+WLFkSq1atGo+/iHcuBL1o0aKYO3duXHbZZbFv377j+hkC0MyyTgCSjQCkGALQzLJOAJKNAKQYAtDMsk4Ako0ApBgC0MyyTgCSjQCkGALQzLJOAJKNAKQYAtDMsk4Ako0ApBgC0MyyTgCSjQCkGALQzLJOAJKNAKQYAtDMsk4Ako0ApBgC0MyyTgCSjQCkGALQzLJOAJKNAKQYAtDMsk4Ako0ApBgC0MyyTgCSjQCkGALQzLJOAJKNAKQYAtDMsk4Ako0ApBgC0MyyTgCSjQCkGALQzLJOAJKNAKQYAtDMsk4Ako0ApBgC0MyyTgCSjQCkGALQzLJOAJKNAKQYAtDMsk4Ako0ApBgC0MyyTgCSjQCkGALQzLJOAJKNAKQYAtDMsk4Ako0ApBgC0MyyTgCSjQCkGALQzLJOAJKNAKQYAtDMsk4Ako0ApBgC0MyyTgCSjQCkGALQzLJOAJKNAKQYAtDMsk4Ako0ApBgC0MyyTgCSjQCkGALQzLJOAJKNAKQYAtDMsk4Ako0ApBgC0MyyTgCSjQCkGALQzLJOAJKNAKQYAtDMsk4Ako0ApBgC0MyyTgCSjQCkGALQzLJOAJKNAKQYAtDMsk4Ako0ApBgC0MyyTgCSjQCkGALQzLJOAJKNAKQYAtDMsk4Ako0ApBgC0MyyTgCSjQCkGALQzLJOAJKNAKQYAtDMsk4Ako0ApBgC0MyyTgCSjQCkGALQzLJOAJKNAKQYAtDMsk4Ako0ApBgC0MyyTgCSjQCkGALQzLJOAJKNAKQYAtDMsk4Ako0ApBgC0MyyTgCSjQCkGALQzLJOAJKNAKQYAtDMsk4Ako0ApBgC0MyyTgCSjQCkGALQzLJOAJKNAKQYAtDMsk4Ako0ApBgC0MyyTgCSjQCkGALQzLJOAJKNAKQYAtDMsk4Ako0ApBgC0MyyTgCSjQCkGALQzLJOAJKNAKQYAtDMsk4Ako0ApBgC0MyyTgCSjQCkFbfffntUVRV/9Ed/NH7bgQMH4vrrr4/FixfHvHnz4vLLL4/9+/f3/JgC0MyyTgCSjQBk2v30pz+NX/3VX41PfOITRwXg2rVr4+yzz47t27fH4OBgrFixIi644IKeH1cAmlnWCUCyEYBMq9deey1+/dd/Pf72b/82Pv3pT48H4MjISMyePTvuu+++8fvu3bs3qqqKHTt29PTYAtDMsk4Ako0AZFpdffXV8ZWvfCUi4qgA3L59e1RVFa+++upR9+/v74+NGzf29NgC0MyyTgCSjQBk2mzZsiXOPffcOHDgQEQcHYCbN2+Ovr6+933PeeedFzfddNMxH+/gwYMxOjo6vuHhYQFoZiknAMlGADIt/v7v/z4++MEPxlNPPTV+Wy8BuHz58rj55puP+ZgbNmyI6u0X1XdPAJpZtglAshGATItt27ZFVVUxa9as8VVVFaecckrMmjUrfvjDHx73n4D9BtDMZsoEINkIQKbFP/3TP8Uzzzxz1JYvXx6///u/H88888z4h0C2bt06/j1DQ0M+BGJmRUwAko0ApDXv/hNwxFuXgenv74+HH344BgcHY+XKlbFy5cqeH08AmlnWCUCyEYC05r0BeORC0IsWLYq5c+fGZZddFvv27ev58QSgmWWdACQbAUgxBKCZZZ0AJBsBSDEEoJllnQAkGwFIMQSgmWWdACQbAUgxBKCZZZ0AJBsBSDEEoJllnQAkGwFIMQSgmWWdACQbAUgxBKCZZZ0AJBsBSDEEoJllnQAkGwFIMQSgmWWdACQbAUgxBKCZZZ0AJBsBSDEEoJllnQAkGwFIMQSgmWWdACQbAUgxBKCZZZ0AJBsBSDEEoJllnQAkGwFIMQSgmWWdACQbAUgxBKCZZZ0AJBsBSDEEoJllnQAkGwFIMQSgmWWdACQbAUgxBKCZZZ0AJBsBSDEEoJllnQAkGwFIMQSgmWWdACQbAUgxBKCZZZ0AJBsBSDEEoJllnQAkGwFIMQSgmWWdACQbAUgxBKCZZZ0AJBsBSDEEoJllnQAkGwFIMQSgmWWdACQbAUgxBKCZZZ0AJBsBSDEEoJllnQAkGwFIMQSgmWWdACQbAUgxBKCZZZ0AJBsBSDEEoJllnQAkGwFIMQSgmWWdACQbAUgxBKCZZZ0AJBsBSDEEoJllnQAkGwFIMQSgmWWdACQbAUgxBKCZZZ0AJBsBSDEEoJllnQAkGwFIMQSgmWWdACQbAUgxBKCZZZ0AJBsBSDEEoJllnQAkGwFIMQSgmWWdACQbAUgxBKCZZZ0AJBsBSDEEoJllnQAkGwFIMQSgmWWdACQbAUgxBKCZZZ0AJBsBSDEEoJllnQAkGwFIMQSgmWWdACQbAUgxBKCZZZ0AJBsBSDEEoJllnQAkGwFIMQSgmWWdACQbAUgxBKCZZZ0AJBsBSDEEoJllnQAkGwFIMQSgmWWdACQbAUgxBKCZZZ0AJBsBSDEEoJllnQAkGwFIMQSgmWWdACQbAUgxBKCZZZ0AJBsBSDEEoJllnQAkGwFIMQSgmWWdACQbAUgxBKCZZZ0AJBsBSDEEoJllnQAkGwFIMQSgmWWdACQbAUgxBKCZZZ0AJBsBSDFGRkaiqqo49e0XWzOzLDu1eisAR0ZG2n6phIgQgBRkeHg4qrdfZM3MMm54eLjtl0qICAFIQcbGxmJ4eDhGRkZidHR0PAiHh4djdHTUJpjnyfPkeTr5GxkZieHh4RgbG2v7pRIiQgBSsNHRt/5P4Oio/3NTx/PUG89TbzxPMDMIQIrljag3nqfeeJ5643mCmUEAUixvRL3xPPXG89QbzymKLioAAAV7SURBVBPMDAKQYh08eDA2bNgQBw8ebPsoqXmeeuN56o3nCWYGAQgA0DECEACgYwQgAEDHCEAAgI4RgAAAHSMAKdJdd90Vy5Ytizlz5sTAwEA88cQTbR+pdY8++mhccskl8aEPfSiqqopt27Yd9fXDhw/HbbfdFmeeeWaceuqpsWrVqnjuuedaOm07br/99li+fHmcdtppsWTJkrj00kvjZz/72VH3OXDgQFx//fWxePHimDdvXlx++eWxf//+lk7cju985zvx8Y9/PObPnx/z58+PFStWxIMPPjj+dc8R5CcAKc69994bfX198d3vfjf27NkT1157bSxcuDBeeeWVto/WqgcffDBuvfXW+P73v3/MALzjjjtiwYIFsW3btnj66adj9erVcc4558SBAwdaOvH0++xnPxubNm2K3bt3x1NPPRWf+9znor+/P15//fXx+6xduzbOPvvs2L59ewwODsaKFSviggsuaPHU0+/++++PBx54IIaGhmJoaCi+/vWvx+zZs2P37t0R4TmCmUAAUpyBgYFYt27d+L/HxsZi6dKl8c1vfrPFU+Xy3gA8fPhwnHnmmfGtb31r/LaRkZGYM2dObNmypY0jpvDLX/4yqqqKRx99NCLeek5mz54d99133/h99u7dG1VVxY4dO9o6ZgqLFi2Ku+++23MEM4QApCiHDh2KWbNmve+3W1dffXWsXr26pVPl894A/PnPfx5VVcXOnTuPut+FF14YN9xww3QfL43nn38+qqqKZ555JiIitm/fHlVVxauvvnrU/fr7+2Pjxo1tHLF1b775ZmzZsiX6+vpiz549niOYIQQgRfnFL34RVVXFT37yk6Nuv/HGG2NgYKClU+Xz3gD88Y9/HFVVxcsvv3zU/a688sq46qqrpvt4KYyNjcXFF18cn/rUp8Zv27x5c/T19b3vvuedd17cdNNN03m81u3atSvmzZsXs2bNigULFsQDDzwQEZ4jmCkEIEWZKAC/9rWvxfnnn9/SqfLpNQCvuOKK+PznPz/dx0th7dq1sWzZshgeHh6/baK4Wb58edx8883TebzWHTp0KJ5//vl48sknY/369XH66afHnj17PEcwQwhAiuJPwL3xJ+B669ati7POOiteeOGFo273582JrVq1KtasWeM5ghlCAFKcgYGB+PKXvzz+77Gxsfjwhz/sQyDvMtGHQO68887x20ZHRzv3IZDDhw/HunXrYunSpce8BM6RDzhs3bp1/LahoSEfcIiIiy66KK655hrPEcwQApDiHLkMzD333BPPPvtsrFmzJhYuXNj565C99tprsXPnzti5c2dUVRUbN26MnTt3xksvvRQRb10GZuHChfGDH/wgdu3aFZdeemnnLgNz3XXXxYIFC+JHP/pR7Nu3b3xvvPHG+H3Wrl0b/f398fDDD8fg4GCsXLkyVq5c2eKpp98tt9wSjz32WLz44ouxa9euWL9+fZxyyinx0EMPRYTnCGYCAUiRvv3tb0d/f3/09fXFwMBAPP74420fqXWPPPJIVFX1vl1zzTUR8c6FoM8444yYM2dOrFq1KoaGhto99DQ71vNTVVVs2rRp/D5HLnK8aNGimDt3blx22WWxb9++9g7dgi9+8YuxbNmy6OvriyVLlsSqVavG4y/CcwQzgQAEAOgYAQgA0DECEACgYwQgAEDHCEAAgI4RgAAAHSMAAQA6RgACAHSMAAQA6BgBCADQMQIQAKBjBCAAQMcIQACAjhGAAAAdIwABADpGAAIAdIwABADoGAEIANAxAhAAoGMEIABAxwhAAICOEYAAAB0jAAEAOkYAAgB0jAAEAOgYAQgA0DECEACgYwQgAEDHCEAAgI4RgAAAHSMAAQA6RgACAHTM/wcjcFpXSq9eZAAAAABJRU5ErkJggg==\" width=\"640\">"
      ],
      "text/plain": [
       "<IPython.core.display.HTML object>"
      ]
     },
     "metadata": {},
     "output_type": "display_data"
    },
    {
     "data": {
      "text/plain": [
       "<matplotlib.image.AxesImage at 0x7f134b550a58>"
      ]
     },
     "execution_count": 182,
     "metadata": {},
     "output_type": "execute_result"
    }
   ],
   "source": [
    "plt.imshow(signal, cmap='hot', interpolation='nearest')"
   ]
  },
  {
   "cell_type": "code",
   "execution_count": 1,
   "metadata": {},
   "outputs": [
    {
     "ename": "NameError",
     "evalue": "name 'np' is not defined",
     "output_type": "error",
     "traceback": [
      "\u001b[0;31m---------------------------------------------------------------------------\u001b[0m",
      "\u001b[0;31mNameError\u001b[0m                                 Traceback (most recent call last)",
      "\u001b[0;32m<ipython-input-1-2d7193935b27>\u001b[0m in \u001b[0;36m<module>\u001b[0;34m()\u001b[0m\n\u001b[0;32m----> 1\u001b[0;31m \u001b[0mprint\u001b[0m\u001b[0;34m(\u001b[0m\u001b[0mnp\u001b[0m\u001b[0;34m.\u001b[0m\u001b[0mamax\u001b[0m\u001b[0;34m(\u001b[0m\u001b[0mnorm_soverb\u001b[0m\u001b[0;34m)\u001b[0m\u001b[0;34m)\u001b[0m\u001b[0;34m\u001b[0m\u001b[0m\n\u001b[0m",
      "\u001b[0;31mNameError\u001b[0m: name 'np' is not defined"
     ]
    }
   ],
   "source": [
    "print(np.amax(norm_soverb))"
   ]
  },
  {
   "cell_type": "code",
   "execution_count": 91,
   "metadata": {},
   "outputs": [],
   "source": [
    "ptbins = np.searchsorted(norm_soverb[:,3], 1.0)"
   ]
  },
  {
   "cell_type": "code",
   "execution_count": 93,
   "metadata": {},
   "outputs": [
    {
     "name": "stdout",
     "output_type": "stream",
     "text": [
      "(12, 39)\n"
     ]
    }
   ],
   "source": [
    "print(np.unravel_index(norm_soverb.argmax(), norm_soverb.shape))"
   ]
  },
  {
   "cell_type": "code",
   "execution_count": 94,
   "metadata": {},
   "outputs": [
    {
     "data": {
      "text/plain": [
       "<matplotlib.image.AxesImage at 0x7f134b929a90>"
      ]
     },
     "execution_count": 94,
     "metadata": {},
     "output_type": "execute_result"
    }
   ],
   "source": [
    "plt.imshow(sqrtbkg, cmap='hot', interpolation='nearest')"
   ]
  },
  {
   "cell_type": "code",
   "execution_count": 68,
   "metadata": {},
   "outputs": [],
   "source": [
    "htemp = z.project(\"process\")"
   ]
  },
  {
   "cell_type": "code",
   "execution_count": 69,
   "metadata": {},
   "outputs": [],
   "source": [
    "htemp.clear()"
   ]
  },
  {
   "cell_type": "code",
   "execution_count": 70,
   "metadata": {},
   "outputs": [],
   "source": [
    "htemp.label = '$S/\\sqrt{B}$'"
   ]
  },
  {
   "cell_type": "code",
   "execution_count": 71,
   "metadata": {},
   "outputs": [],
   "source": [
    "htemp._sumw = {():norm_soverb}"
   ]
  },
  {
   "cell_type": "code",
   "execution_count": 72,
   "metadata": {},
   "outputs": [
    {
     "data": {
      "application/javascript": [
       "/* Put everything inside the global mpl namespace */\n",
       "window.mpl = {};\n",
       "\n",
       "\n",
       "mpl.get_websocket_type = function() {\n",
       "    if (typeof(WebSocket) !== 'undefined') {\n",
       "        return WebSocket;\n",
       "    } else if (typeof(MozWebSocket) !== 'undefined') {\n",
       "        return MozWebSocket;\n",
       "    } else {\n",
       "        alert('Your browser does not have WebSocket support.' +\n",
       "              'Please try Chrome, Safari or Firefox ≥ 6. ' +\n",
       "              'Firefox 4 and 5 are also supported but you ' +\n",
       "              'have to enable WebSockets in about:config.');\n",
       "    };\n",
       "}\n",
       "\n",
       "mpl.figure = function(figure_id, websocket, ondownload, parent_element) {\n",
       "    this.id = figure_id;\n",
       "\n",
       "    this.ws = websocket;\n",
       "\n",
       "    this.supports_binary = (this.ws.binaryType != undefined);\n",
       "\n",
       "    if (!this.supports_binary) {\n",
       "        var warnings = document.getElementById(\"mpl-warnings\");\n",
       "        if (warnings) {\n",
       "            warnings.style.display = 'block';\n",
       "            warnings.textContent = (\n",
       "                \"This browser does not support binary websocket messages. \" +\n",
       "                    \"Performance may be slow.\");\n",
       "        }\n",
       "    }\n",
       "\n",
       "    this.imageObj = new Image();\n",
       "\n",
       "    this.context = undefined;\n",
       "    this.message = undefined;\n",
       "    this.canvas = undefined;\n",
       "    this.rubberband_canvas = undefined;\n",
       "    this.rubberband_context = undefined;\n",
       "    this.format_dropdown = undefined;\n",
       "\n",
       "    this.image_mode = 'full';\n",
       "\n",
       "    this.root = $('<div/>');\n",
       "    this._root_extra_style(this.root)\n",
       "    this.root.attr('style', 'display: inline-block');\n",
       "\n",
       "    $(parent_element).append(this.root);\n",
       "\n",
       "    this._init_header(this);\n",
       "    this._init_canvas(this);\n",
       "    this._init_toolbar(this);\n",
       "\n",
       "    var fig = this;\n",
       "\n",
       "    this.waiting = false;\n",
       "\n",
       "    this.ws.onopen =  function () {\n",
       "            fig.send_message(\"supports_binary\", {value: fig.supports_binary});\n",
       "            fig.send_message(\"send_image_mode\", {});\n",
       "            if (mpl.ratio != 1) {\n",
       "                fig.send_message(\"set_dpi_ratio\", {'dpi_ratio': mpl.ratio});\n",
       "            }\n",
       "            fig.send_message(\"refresh\", {});\n",
       "        }\n",
       "\n",
       "    this.imageObj.onload = function() {\n",
       "            if (fig.image_mode == 'full') {\n",
       "                // Full images could contain transparency (where diff images\n",
       "                // almost always do), so we need to clear the canvas so that\n",
       "                // there is no ghosting.\n",
       "                fig.context.clearRect(0, 0, fig.canvas.width, fig.canvas.height);\n",
       "            }\n",
       "            fig.context.drawImage(fig.imageObj, 0, 0);\n",
       "        };\n",
       "\n",
       "    this.imageObj.onunload = function() {\n",
       "        fig.ws.close();\n",
       "    }\n",
       "\n",
       "    this.ws.onmessage = this._make_on_message_function(this);\n",
       "\n",
       "    this.ondownload = ondownload;\n",
       "}\n",
       "\n",
       "mpl.figure.prototype._init_header = function() {\n",
       "    var titlebar = $(\n",
       "        '<div class=\"ui-dialog-titlebar ui-widget-header ui-corner-all ' +\n",
       "        'ui-helper-clearfix\"/>');\n",
       "    var titletext = $(\n",
       "        '<div class=\"ui-dialog-title\" style=\"width: 100%; ' +\n",
       "        'text-align: center; padding: 3px;\"/>');\n",
       "    titlebar.append(titletext)\n",
       "    this.root.append(titlebar);\n",
       "    this.header = titletext[0];\n",
       "}\n",
       "\n",
       "\n",
       "\n",
       "mpl.figure.prototype._canvas_extra_style = function(canvas_div) {\n",
       "\n",
       "}\n",
       "\n",
       "\n",
       "mpl.figure.prototype._root_extra_style = function(canvas_div) {\n",
       "\n",
       "}\n",
       "\n",
       "mpl.figure.prototype._init_canvas = function() {\n",
       "    var fig = this;\n",
       "\n",
       "    var canvas_div = $('<div/>');\n",
       "\n",
       "    canvas_div.attr('style', 'position: relative; clear: both; outline: 0');\n",
       "\n",
       "    function canvas_keyboard_event(event) {\n",
       "        return fig.key_event(event, event['data']);\n",
       "    }\n",
       "\n",
       "    canvas_div.keydown('key_press', canvas_keyboard_event);\n",
       "    canvas_div.keyup('key_release', canvas_keyboard_event);\n",
       "    this.canvas_div = canvas_div\n",
       "    this._canvas_extra_style(canvas_div)\n",
       "    this.root.append(canvas_div);\n",
       "\n",
       "    var canvas = $('<canvas/>');\n",
       "    canvas.addClass('mpl-canvas');\n",
       "    canvas.attr('style', \"left: 0; top: 0; z-index: 0; outline: 0\")\n",
       "\n",
       "    this.canvas = canvas[0];\n",
       "    this.context = canvas[0].getContext(\"2d\");\n",
       "\n",
       "    var backingStore = this.context.backingStorePixelRatio ||\n",
       "\tthis.context.webkitBackingStorePixelRatio ||\n",
       "\tthis.context.mozBackingStorePixelRatio ||\n",
       "\tthis.context.msBackingStorePixelRatio ||\n",
       "\tthis.context.oBackingStorePixelRatio ||\n",
       "\tthis.context.backingStorePixelRatio || 1;\n",
       "\n",
       "    mpl.ratio = (window.devicePixelRatio || 1) / backingStore;\n",
       "\n",
       "    var rubberband = $('<canvas/>');\n",
       "    rubberband.attr('style', \"position: absolute; left: 0; top: 0; z-index: 1;\")\n",
       "\n",
       "    var pass_mouse_events = true;\n",
       "\n",
       "    canvas_div.resizable({\n",
       "        start: function(event, ui) {\n",
       "            pass_mouse_events = false;\n",
       "        },\n",
       "        resize: function(event, ui) {\n",
       "            fig.request_resize(ui.size.width, ui.size.height);\n",
       "        },\n",
       "        stop: function(event, ui) {\n",
       "            pass_mouse_events = true;\n",
       "            fig.request_resize(ui.size.width, ui.size.height);\n",
       "        },\n",
       "    });\n",
       "\n",
       "    function mouse_event_fn(event) {\n",
       "        if (pass_mouse_events)\n",
       "            return fig.mouse_event(event, event['data']);\n",
       "    }\n",
       "\n",
       "    rubberband.mousedown('button_press', mouse_event_fn);\n",
       "    rubberband.mouseup('button_release', mouse_event_fn);\n",
       "    // Throttle sequential mouse events to 1 every 20ms.\n",
       "    rubberband.mousemove('motion_notify', mouse_event_fn);\n",
       "\n",
       "    rubberband.mouseenter('figure_enter', mouse_event_fn);\n",
       "    rubberband.mouseleave('figure_leave', mouse_event_fn);\n",
       "\n",
       "    canvas_div.on(\"wheel\", function (event) {\n",
       "        event = event.originalEvent;\n",
       "        event['data'] = 'scroll'\n",
       "        if (event.deltaY < 0) {\n",
       "            event.step = 1;\n",
       "        } else {\n",
       "            event.step = -1;\n",
       "        }\n",
       "        mouse_event_fn(event);\n",
       "    });\n",
       "\n",
       "    canvas_div.append(canvas);\n",
       "    canvas_div.append(rubberband);\n",
       "\n",
       "    this.rubberband = rubberband;\n",
       "    this.rubberband_canvas = rubberband[0];\n",
       "    this.rubberband_context = rubberband[0].getContext(\"2d\");\n",
       "    this.rubberband_context.strokeStyle = \"#000000\";\n",
       "\n",
       "    this._resize_canvas = function(width, height) {\n",
       "        // Keep the size of the canvas, canvas container, and rubber band\n",
       "        // canvas in synch.\n",
       "        canvas_div.css('width', width)\n",
       "        canvas_div.css('height', height)\n",
       "\n",
       "        canvas.attr('width', width * mpl.ratio);\n",
       "        canvas.attr('height', height * mpl.ratio);\n",
       "        canvas.attr('style', 'width: ' + width + 'px; height: ' + height + 'px;');\n",
       "\n",
       "        rubberband.attr('width', width);\n",
       "        rubberband.attr('height', height);\n",
       "    }\n",
       "\n",
       "    // Set the figure to an initial 600x600px, this will subsequently be updated\n",
       "    // upon first draw.\n",
       "    this._resize_canvas(600, 600);\n",
       "\n",
       "    // Disable right mouse context menu.\n",
       "    $(this.rubberband_canvas).bind(\"contextmenu\",function(e){\n",
       "        return false;\n",
       "    });\n",
       "\n",
       "    function set_focus () {\n",
       "        canvas.focus();\n",
       "        canvas_div.focus();\n",
       "    }\n",
       "\n",
       "    window.setTimeout(set_focus, 100);\n",
       "}\n",
       "\n",
       "mpl.figure.prototype._init_toolbar = function() {\n",
       "    var fig = this;\n",
       "\n",
       "    var nav_element = $('<div/>')\n",
       "    nav_element.attr('style', 'width: 100%');\n",
       "    this.root.append(nav_element);\n",
       "\n",
       "    // Define a callback function for later on.\n",
       "    function toolbar_event(event) {\n",
       "        return fig.toolbar_button_onclick(event['data']);\n",
       "    }\n",
       "    function toolbar_mouse_event(event) {\n",
       "        return fig.toolbar_button_onmouseover(event['data']);\n",
       "    }\n",
       "\n",
       "    for(var toolbar_ind in mpl.toolbar_items) {\n",
       "        var name = mpl.toolbar_items[toolbar_ind][0];\n",
       "        var tooltip = mpl.toolbar_items[toolbar_ind][1];\n",
       "        var image = mpl.toolbar_items[toolbar_ind][2];\n",
       "        var method_name = mpl.toolbar_items[toolbar_ind][3];\n",
       "\n",
       "        if (!name) {\n",
       "            // put a spacer in here.\n",
       "            continue;\n",
       "        }\n",
       "        var button = $('<button/>');\n",
       "        button.addClass('ui-button ui-widget ui-state-default ui-corner-all ' +\n",
       "                        'ui-button-icon-only');\n",
       "        button.attr('role', 'button');\n",
       "        button.attr('aria-disabled', 'false');\n",
       "        button.click(method_name, toolbar_event);\n",
       "        button.mouseover(tooltip, toolbar_mouse_event);\n",
       "\n",
       "        var icon_img = $('<span/>');\n",
       "        icon_img.addClass('ui-button-icon-primary ui-icon');\n",
       "        icon_img.addClass(image);\n",
       "        icon_img.addClass('ui-corner-all');\n",
       "\n",
       "        var tooltip_span = $('<span/>');\n",
       "        tooltip_span.addClass('ui-button-text');\n",
       "        tooltip_span.html(tooltip);\n",
       "\n",
       "        button.append(icon_img);\n",
       "        button.append(tooltip_span);\n",
       "\n",
       "        nav_element.append(button);\n",
       "    }\n",
       "\n",
       "    var fmt_picker_span = $('<span/>');\n",
       "\n",
       "    var fmt_picker = $('<select/>');\n",
       "    fmt_picker.addClass('mpl-toolbar-option ui-widget ui-widget-content');\n",
       "    fmt_picker_span.append(fmt_picker);\n",
       "    nav_element.append(fmt_picker_span);\n",
       "    this.format_dropdown = fmt_picker[0];\n",
       "\n",
       "    for (var ind in mpl.extensions) {\n",
       "        var fmt = mpl.extensions[ind];\n",
       "        var option = $(\n",
       "            '<option/>', {selected: fmt === mpl.default_extension}).html(fmt);\n",
       "        fmt_picker.append(option)\n",
       "    }\n",
       "\n",
       "    // Add hover states to the ui-buttons\n",
       "    $( \".ui-button\" ).hover(\n",
       "        function() { $(this).addClass(\"ui-state-hover\");},\n",
       "        function() { $(this).removeClass(\"ui-state-hover\");}\n",
       "    );\n",
       "\n",
       "    var status_bar = $('<span class=\"mpl-message\"/>');\n",
       "    nav_element.append(status_bar);\n",
       "    this.message = status_bar[0];\n",
       "}\n",
       "\n",
       "mpl.figure.prototype.request_resize = function(x_pixels, y_pixels) {\n",
       "    // Request matplotlib to resize the figure. Matplotlib will then trigger a resize in the client,\n",
       "    // which will in turn request a refresh of the image.\n",
       "    this.send_message('resize', {'width': x_pixels, 'height': y_pixels});\n",
       "}\n",
       "\n",
       "mpl.figure.prototype.send_message = function(type, properties) {\n",
       "    properties['type'] = type;\n",
       "    properties['figure_id'] = this.id;\n",
       "    this.ws.send(JSON.stringify(properties));\n",
       "}\n",
       "\n",
       "mpl.figure.prototype.send_draw_message = function() {\n",
       "    if (!this.waiting) {\n",
       "        this.waiting = true;\n",
       "        this.ws.send(JSON.stringify({type: \"draw\", figure_id: this.id}));\n",
       "    }\n",
       "}\n",
       "\n",
       "\n",
       "mpl.figure.prototype.handle_save = function(fig, msg) {\n",
       "    var format_dropdown = fig.format_dropdown;\n",
       "    var format = format_dropdown.options[format_dropdown.selectedIndex].value;\n",
       "    fig.ondownload(fig, format);\n",
       "}\n",
       "\n",
       "\n",
       "mpl.figure.prototype.handle_resize = function(fig, msg) {\n",
       "    var size = msg['size'];\n",
       "    if (size[0] != fig.canvas.width || size[1] != fig.canvas.height) {\n",
       "        fig._resize_canvas(size[0], size[1]);\n",
       "        fig.send_message(\"refresh\", {});\n",
       "    };\n",
       "}\n",
       "\n",
       "mpl.figure.prototype.handle_rubberband = function(fig, msg) {\n",
       "    var x0 = msg['x0'] / mpl.ratio;\n",
       "    var y0 = (fig.canvas.height - msg['y0']) / mpl.ratio;\n",
       "    var x1 = msg['x1'] / mpl.ratio;\n",
       "    var y1 = (fig.canvas.height - msg['y1']) / mpl.ratio;\n",
       "    x0 = Math.floor(x0) + 0.5;\n",
       "    y0 = Math.floor(y0) + 0.5;\n",
       "    x1 = Math.floor(x1) + 0.5;\n",
       "    y1 = Math.floor(y1) + 0.5;\n",
       "    var min_x = Math.min(x0, x1);\n",
       "    var min_y = Math.min(y0, y1);\n",
       "    var width = Math.abs(x1 - x0);\n",
       "    var height = Math.abs(y1 - y0);\n",
       "\n",
       "    fig.rubberband_context.clearRect(\n",
       "        0, 0, fig.canvas.width, fig.canvas.height);\n",
       "\n",
       "    fig.rubberband_context.strokeRect(min_x, min_y, width, height);\n",
       "}\n",
       "\n",
       "mpl.figure.prototype.handle_figure_label = function(fig, msg) {\n",
       "    // Updates the figure title.\n",
       "    fig.header.textContent = msg['label'];\n",
       "}\n",
       "\n",
       "mpl.figure.prototype.handle_cursor = function(fig, msg) {\n",
       "    var cursor = msg['cursor'];\n",
       "    switch(cursor)\n",
       "    {\n",
       "    case 0:\n",
       "        cursor = 'pointer';\n",
       "        break;\n",
       "    case 1:\n",
       "        cursor = 'default';\n",
       "        break;\n",
       "    case 2:\n",
       "        cursor = 'crosshair';\n",
       "        break;\n",
       "    case 3:\n",
       "        cursor = 'move';\n",
       "        break;\n",
       "    }\n",
       "    fig.rubberband_canvas.style.cursor = cursor;\n",
       "}\n",
       "\n",
       "mpl.figure.prototype.handle_message = function(fig, msg) {\n",
       "    fig.message.textContent = msg['message'];\n",
       "}\n",
       "\n",
       "mpl.figure.prototype.handle_draw = function(fig, msg) {\n",
       "    // Request the server to send over a new figure.\n",
       "    fig.send_draw_message();\n",
       "}\n",
       "\n",
       "mpl.figure.prototype.handle_image_mode = function(fig, msg) {\n",
       "    fig.image_mode = msg['mode'];\n",
       "}\n",
       "\n",
       "mpl.figure.prototype.updated_canvas_event = function() {\n",
       "    // Called whenever the canvas gets updated.\n",
       "    this.send_message(\"ack\", {});\n",
       "}\n",
       "\n",
       "// A function to construct a web socket function for onmessage handling.\n",
       "// Called in the figure constructor.\n",
       "mpl.figure.prototype._make_on_message_function = function(fig) {\n",
       "    return function socket_on_message(evt) {\n",
       "        if (evt.data instanceof Blob) {\n",
       "            /* FIXME: We get \"Resource interpreted as Image but\n",
       "             * transferred with MIME type text/plain:\" errors on\n",
       "             * Chrome.  But how to set the MIME type?  It doesn't seem\n",
       "             * to be part of the websocket stream */\n",
       "            evt.data.type = \"image/png\";\n",
       "\n",
       "            /* Free the memory for the previous frames */\n",
       "            if (fig.imageObj.src) {\n",
       "                (window.URL || window.webkitURL).revokeObjectURL(\n",
       "                    fig.imageObj.src);\n",
       "            }\n",
       "\n",
       "            fig.imageObj.src = (window.URL || window.webkitURL).createObjectURL(\n",
       "                evt.data);\n",
       "            fig.updated_canvas_event();\n",
       "            fig.waiting = false;\n",
       "            return;\n",
       "        }\n",
       "        else if (typeof evt.data === 'string' && evt.data.slice(0, 21) == \"data:image/png;base64\") {\n",
       "            fig.imageObj.src = evt.data;\n",
       "            fig.updated_canvas_event();\n",
       "            fig.waiting = false;\n",
       "            return;\n",
       "        }\n",
       "\n",
       "        var msg = JSON.parse(evt.data);\n",
       "        var msg_type = msg['type'];\n",
       "\n",
       "        // Call the  \"handle_{type}\" callback, which takes\n",
       "        // the figure and JSON message as its only arguments.\n",
       "        try {\n",
       "            var callback = fig[\"handle_\" + msg_type];\n",
       "        } catch (e) {\n",
       "            console.log(\"No handler for the '\" + msg_type + \"' message type: \", msg);\n",
       "            return;\n",
       "        }\n",
       "\n",
       "        if (callback) {\n",
       "            try {\n",
       "                // console.log(\"Handling '\" + msg_type + \"' message: \", msg);\n",
       "                callback(fig, msg);\n",
       "            } catch (e) {\n",
       "                console.log(\"Exception inside the 'handler_\" + msg_type + \"' callback:\", e, e.stack, msg);\n",
       "            }\n",
       "        }\n",
       "    };\n",
       "}\n",
       "\n",
       "// from http://stackoverflow.com/questions/1114465/getting-mouse-location-in-canvas\n",
       "mpl.findpos = function(e) {\n",
       "    //this section is from http://www.quirksmode.org/js/events_properties.html\n",
       "    var targ;\n",
       "    if (!e)\n",
       "        e = window.event;\n",
       "    if (e.target)\n",
       "        targ = e.target;\n",
       "    else if (e.srcElement)\n",
       "        targ = e.srcElement;\n",
       "    if (targ.nodeType == 3) // defeat Safari bug\n",
       "        targ = targ.parentNode;\n",
       "\n",
       "    // jQuery normalizes the pageX and pageY\n",
       "    // pageX,Y are the mouse positions relative to the document\n",
       "    // offset() returns the position of the element relative to the document\n",
       "    var x = e.pageX - $(targ).offset().left;\n",
       "    var y = e.pageY - $(targ).offset().top;\n",
       "\n",
       "    return {\"x\": x, \"y\": y};\n",
       "};\n",
       "\n",
       "/*\n",
       " * return a copy of an object with only non-object keys\n",
       " * we need this to avoid circular references\n",
       " * http://stackoverflow.com/a/24161582/3208463\n",
       " */\n",
       "function simpleKeys (original) {\n",
       "  return Object.keys(original).reduce(function (obj, key) {\n",
       "    if (typeof original[key] !== 'object')\n",
       "        obj[key] = original[key]\n",
       "    return obj;\n",
       "  }, {});\n",
       "}\n",
       "\n",
       "mpl.figure.prototype.mouse_event = function(event, name) {\n",
       "    var canvas_pos = mpl.findpos(event)\n",
       "\n",
       "    if (name === 'button_press')\n",
       "    {\n",
       "        this.canvas.focus();\n",
       "        this.canvas_div.focus();\n",
       "    }\n",
       "\n",
       "    var x = canvas_pos.x * mpl.ratio;\n",
       "    var y = canvas_pos.y * mpl.ratio;\n",
       "\n",
       "    this.send_message(name, {x: x, y: y, button: event.button,\n",
       "                             step: event.step,\n",
       "                             guiEvent: simpleKeys(event)});\n",
       "\n",
       "    /* This prevents the web browser from automatically changing to\n",
       "     * the text insertion cursor when the button is pressed.  We want\n",
       "     * to control all of the cursor setting manually through the\n",
       "     * 'cursor' event from matplotlib */\n",
       "    event.preventDefault();\n",
       "    return false;\n",
       "}\n",
       "\n",
       "mpl.figure.prototype._key_event_extra = function(event, name) {\n",
       "    // Handle any extra behaviour associated with a key event\n",
       "}\n",
       "\n",
       "mpl.figure.prototype.key_event = function(event, name) {\n",
       "\n",
       "    // Prevent repeat events\n",
       "    if (name == 'key_press')\n",
       "    {\n",
       "        if (event.which === this._key)\n",
       "            return;\n",
       "        else\n",
       "            this._key = event.which;\n",
       "    }\n",
       "    if (name == 'key_release')\n",
       "        this._key = null;\n",
       "\n",
       "    var value = '';\n",
       "    if (event.ctrlKey && event.which != 17)\n",
       "        value += \"ctrl+\";\n",
       "    if (event.altKey && event.which != 18)\n",
       "        value += \"alt+\";\n",
       "    if (event.shiftKey && event.which != 16)\n",
       "        value += \"shift+\";\n",
       "\n",
       "    value += 'k';\n",
       "    value += event.which.toString();\n",
       "\n",
       "    this._key_event_extra(event, name);\n",
       "\n",
       "    this.send_message(name, {key: value,\n",
       "                             guiEvent: simpleKeys(event)});\n",
       "    return false;\n",
       "}\n",
       "\n",
       "mpl.figure.prototype.toolbar_button_onclick = function(name) {\n",
       "    if (name == 'download') {\n",
       "        this.handle_save(this, null);\n",
       "    } else {\n",
       "        this.send_message(\"toolbar_button\", {name: name});\n",
       "    }\n",
       "};\n",
       "\n",
       "mpl.figure.prototype.toolbar_button_onmouseover = function(tooltip) {\n",
       "    this.message.textContent = tooltip;\n",
       "};\n",
       "mpl.toolbar_items = [[\"Home\", \"Reset original view\", \"fa fa-home icon-home\", \"home\"], [\"Back\", \"Back to  previous view\", \"fa fa-arrow-left icon-arrow-left\", \"back\"], [\"Forward\", \"Forward to next view\", \"fa fa-arrow-right icon-arrow-right\", \"forward\"], [\"\", \"\", \"\", \"\"], [\"Pan\", \"Pan axes with left mouse, zoom with right\", \"fa fa-arrows icon-move\", \"pan\"], [\"Zoom\", \"Zoom to rectangle\", \"fa fa-square-o icon-check-empty\", \"zoom\"], [\"\", \"\", \"\", \"\"], [\"Download\", \"Download plot\", \"fa fa-floppy-o icon-save\", \"download\"]];\n",
       "\n",
       "mpl.extensions = [\"eps\", \"pdf\", \"png\", \"ps\", \"raw\", \"svg\"];\n",
       "\n",
       "mpl.default_extension = \"png\";var comm_websocket_adapter = function(comm) {\n",
       "    // Create a \"websocket\"-like object which calls the given IPython comm\n",
       "    // object with the appropriate methods. Currently this is a non binary\n",
       "    // socket, so there is still some room for performance tuning.\n",
       "    var ws = {};\n",
       "\n",
       "    ws.close = function() {\n",
       "        comm.close()\n",
       "    };\n",
       "    ws.send = function(m) {\n",
       "        //console.log('sending', m);\n",
       "        comm.send(m);\n",
       "    };\n",
       "    // Register the callback with on_msg.\n",
       "    comm.on_msg(function(msg) {\n",
       "        //console.log('receiving', msg['content']['data'], msg);\n",
       "        // Pass the mpl event to the overridden (by mpl) onmessage function.\n",
       "        ws.onmessage(msg['content']['data'])\n",
       "    });\n",
       "    return ws;\n",
       "}\n",
       "\n",
       "mpl.mpl_figure_comm = function(comm, msg) {\n",
       "    // This is the function which gets called when the mpl process\n",
       "    // starts-up an IPython Comm through the \"matplotlib\" channel.\n",
       "\n",
       "    var id = msg.content.data.id;\n",
       "    // Get hold of the div created by the display call when the Comm\n",
       "    // socket was opened in Python.\n",
       "    var element = $(\"#\" + id);\n",
       "    var ws_proxy = comm_websocket_adapter(comm)\n",
       "\n",
       "    function ondownload(figure, format) {\n",
       "        window.open(figure.imageObj.src);\n",
       "    }\n",
       "\n",
       "    var fig = new mpl.figure(id, ws_proxy,\n",
       "                           ondownload,\n",
       "                           element.get(0));\n",
       "\n",
       "    // Call onopen now - mpl needs it, as it is assuming we've passed it a real\n",
       "    // web socket which is closed, not our websocket->open comm proxy.\n",
       "    ws_proxy.onopen();\n",
       "\n",
       "    fig.parent_element = element.get(0);\n",
       "    fig.cell_info = mpl.find_output_cell(\"<div id='\" + id + \"'></div>\");\n",
       "    if (!fig.cell_info) {\n",
       "        console.error(\"Failed to find cell for figure\", id, fig);\n",
       "        return;\n",
       "    }\n",
       "\n",
       "    var output_index = fig.cell_info[2]\n",
       "    var cell = fig.cell_info[0];\n",
       "\n",
       "};\n",
       "\n",
       "mpl.figure.prototype.handle_close = function(fig, msg) {\n",
       "    var width = fig.canvas.width/mpl.ratio\n",
       "    fig.root.unbind('remove')\n",
       "\n",
       "    // Update the output cell to use the data from the current canvas.\n",
       "    fig.push_to_output();\n",
       "    var dataURL = fig.canvas.toDataURL();\n",
       "    // Re-enable the keyboard manager in IPython - without this line, in FF,\n",
       "    // the notebook keyboard shortcuts fail.\n",
       "    IPython.keyboard_manager.enable()\n",
       "    $(fig.parent_element).html('<img src=\"' + dataURL + '\" width=\"' + width + '\">');\n",
       "    fig.close_ws(fig, msg);\n",
       "}\n",
       "\n",
       "mpl.figure.prototype.close_ws = function(fig, msg){\n",
       "    fig.send_message('closing', msg);\n",
       "    // fig.ws.close()\n",
       "}\n",
       "\n",
       "mpl.figure.prototype.push_to_output = function(remove_interactive) {\n",
       "    // Turn the data on the canvas into data in the output cell.\n",
       "    var width = this.canvas.width/mpl.ratio\n",
       "    var dataURL = this.canvas.toDataURL();\n",
       "    this.cell_info[1]['text/html'] = '<img src=\"' + dataURL + '\" width=\"' + width + '\">';\n",
       "}\n",
       "\n",
       "mpl.figure.prototype.updated_canvas_event = function() {\n",
       "    // Tell IPython that the notebook contents must change.\n",
       "    IPython.notebook.set_dirty(true);\n",
       "    this.send_message(\"ack\", {});\n",
       "    var fig = this;\n",
       "    // Wait a second, then push the new image to the DOM so\n",
       "    // that it is saved nicely (might be nice to debounce this).\n",
       "    setTimeout(function () { fig.push_to_output() }, 1000);\n",
       "}\n",
       "\n",
       "mpl.figure.prototype._init_toolbar = function() {\n",
       "    var fig = this;\n",
       "\n",
       "    var nav_element = $('<div/>')\n",
       "    nav_element.attr('style', 'width: 100%');\n",
       "    this.root.append(nav_element);\n",
       "\n",
       "    // Define a callback function for later on.\n",
       "    function toolbar_event(event) {\n",
       "        return fig.toolbar_button_onclick(event['data']);\n",
       "    }\n",
       "    function toolbar_mouse_event(event) {\n",
       "        return fig.toolbar_button_onmouseover(event['data']);\n",
       "    }\n",
       "\n",
       "    for(var toolbar_ind in mpl.toolbar_items){\n",
       "        var name = mpl.toolbar_items[toolbar_ind][0];\n",
       "        var tooltip = mpl.toolbar_items[toolbar_ind][1];\n",
       "        var image = mpl.toolbar_items[toolbar_ind][2];\n",
       "        var method_name = mpl.toolbar_items[toolbar_ind][3];\n",
       "\n",
       "        if (!name) { continue; };\n",
       "\n",
       "        var button = $('<button class=\"btn btn-default\" href=\"#\" title=\"' + name + '\"><i class=\"fa ' + image + ' fa-lg\"></i></button>');\n",
       "        button.click(method_name, toolbar_event);\n",
       "        button.mouseover(tooltip, toolbar_mouse_event);\n",
       "        nav_element.append(button);\n",
       "    }\n",
       "\n",
       "    // Add the status bar.\n",
       "    var status_bar = $('<span class=\"mpl-message\" style=\"text-align:right; float: right;\"/>');\n",
       "    nav_element.append(status_bar);\n",
       "    this.message = status_bar[0];\n",
       "\n",
       "    // Add the close button to the window.\n",
       "    var buttongrp = $('<div class=\"btn-group inline pull-right\"></div>');\n",
       "    var button = $('<button class=\"btn btn-mini btn-primary\" href=\"#\" title=\"Stop Interaction\"><i class=\"fa fa-power-off icon-remove icon-large\"></i></button>');\n",
       "    button.click(function (evt) { fig.handle_close(fig, {}); } );\n",
       "    button.mouseover('Stop Interaction', toolbar_mouse_event);\n",
       "    buttongrp.append(button);\n",
       "    var titlebar = this.root.find($('.ui-dialog-titlebar'));\n",
       "    titlebar.prepend(buttongrp);\n",
       "}\n",
       "\n",
       "mpl.figure.prototype._root_extra_style = function(el){\n",
       "    var fig = this\n",
       "    el.on(\"remove\", function(){\n",
       "\tfig.close_ws(fig, {});\n",
       "    });\n",
       "}\n",
       "\n",
       "mpl.figure.prototype._canvas_extra_style = function(el){\n",
       "    // this is important to make the div 'focusable\n",
       "    el.attr('tabindex', 0)\n",
       "    // reach out to IPython and tell the keyboard manager to turn it's self\n",
       "    // off when our div gets focus\n",
       "\n",
       "    // location in version 3\n",
       "    if (IPython.notebook.keyboard_manager) {\n",
       "        IPython.notebook.keyboard_manager.register_events(el);\n",
       "    }\n",
       "    else {\n",
       "        // location in version 2\n",
       "        IPython.keyboard_manager.register_events(el);\n",
       "    }\n",
       "\n",
       "}\n",
       "\n",
       "mpl.figure.prototype._key_event_extra = function(event, name) {\n",
       "    var manager = IPython.notebook.keyboard_manager;\n",
       "    if (!manager)\n",
       "        manager = IPython.keyboard_manager;\n",
       "\n",
       "    // Check for shift+enter\n",
       "    if (event.shiftKey && event.which == 13) {\n",
       "        this.canvas_div.blur();\n",
       "        event.shiftKey = false;\n",
       "        // Send a \"J\" for go to next cell\n",
       "        event.which = 74;\n",
       "        event.keyCode = 74;\n",
       "        manager.command_mode();\n",
       "        manager.handle_keydown(event);\n",
       "    }\n",
       "}\n",
       "\n",
       "mpl.figure.prototype.handle_save = function(fig, msg) {\n",
       "    fig.ondownload(fig, null);\n",
       "}\n",
       "\n",
       "\n",
       "mpl.find_output_cell = function(html_output) {\n",
       "    // Return the cell and output element which can be found *uniquely* in the notebook.\n",
       "    // Note - this is a bit hacky, but it is done because the \"notebook_saving.Notebook\"\n",
       "    // IPython event is triggered only after the cells have been serialised, which for\n",
       "    // our purposes (turning an active figure into a static one), is too late.\n",
       "    var cells = IPython.notebook.get_cells();\n",
       "    var ncells = cells.length;\n",
       "    for (var i=0; i<ncells; i++) {\n",
       "        var cell = cells[i];\n",
       "        if (cell.cell_type === 'code'){\n",
       "            for (var j=0; j<cell.output_area.outputs.length; j++) {\n",
       "                var data = cell.output_area.outputs[j];\n",
       "                if (data.data) {\n",
       "                    // IPython >= 3 moved mimebundle to data attribute of output\n",
       "                    data = data.data;\n",
       "                }\n",
       "                if (data['text/html'] == html_output) {\n",
       "                    return [cell, data, j];\n",
       "                }\n",
       "            }\n",
       "        }\n",
       "    }\n",
       "}\n",
       "\n",
       "// Register the function which deals with the matplotlib target/channel.\n",
       "// The kernel may be null if the page has been refreshed.\n",
       "if (IPython.notebook.kernel != null) {\n",
       "    IPython.notebook.kernel.comm_manager.register_target('matplotlib', mpl.mpl_figure_comm);\n",
       "}\n"
      ],
      "text/plain": [
       "<IPython.core.display.Javascript object>"
      ]
     },
     "metadata": {},
     "output_type": "display_data"
    },
    {
     "data": {
      "text/html": [
       "<img src=\"data:image/png;base64,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\" width=\"640\">"
      ],
      "text/plain": [
       "<IPython.core.display.HTML object>"
      ]
     },
     "metadata": {},
     "output_type": "display_data"
    }
   ],
   "source": [
    "fig, ax, _ = plot.plot2d(htemp, xaxis=\"AK8Puppijet0_deepdoubleb\", xoverflow='over', patch_opts={})"
   ]
  },
  {
   "cell_type": "code",
   "execution_count": 73,
   "metadata": {},
   "outputs": [],
   "source": [
    "fig.savefig(\"plots/reoptimize.pdf\")\n"
   ]
  },
  {
   "cell_type": "code",
   "execution_count": 78,
   "metadata": {},
   "outputs": [
    {
     "data": {
      "text/plain": [
       "<Hist (AK8Puppijet0_pt,AK8Puppijet0_N2sdb1,jetrho) instance at 0x7f3df963d4a8>"
      ]
     },
     "execution_count": 78,
     "metadata": {},
     "output_type": "execute_result"
    }
   ],
   "source": [
    "x.sum(process,\"AK8Puppijet0_deepdoubleb\")"
   ]
  },
  {
   "cell_type": "code",
   "execution_count": 35,
   "metadata": {},
   "outputs": [],
   "source": [
    "x_QCD = x"
   ]
  },
  {
   "cell_type": "code",
   "execution_count": 36,
   "metadata": {},
   "outputs": [],
   "source": [
    "x_Hbb = x2"
   ]
  },
  {
   "cell_type": "code",
   "execution_count": 37,
   "metadata": {},
   "outputs": [
    {
     "name": "stdout",
     "output_type": "stream",
     "text": [
      "<Hist (process,AK8Puppijet0_pt,AK8Puppijet0_N2sdb1,jetrho,AK8Puppijet0_deepdoubleb) instance at 0x7fd02e8a7dd8>\n"
     ]
    }
   ],
   "source": [
    "print(x_QCD)"
   ]
  },
  {
   "cell_type": "code",
   "execution_count": 38,
   "metadata": {},
   "outputs": [
    {
     "name": "stdout",
     "output_type": "stream",
     "text": [
      "<Hist (process,AK8Puppijet0_pt,AK8Puppijet0_N2sdb1,jetrho,AK8Puppijet0_deepdoubleb) instance at 0x7fd02ec235f8>\n"
     ]
    }
   ],
   "source": [
    "print(x_Hbb)"
   ]
  },
  {
   "cell_type": "code",
   "execution_count": 61,
   "metadata": {},
   "outputs": [],
   "source": [
    "y_QCD = x_QCD.sum(process,\"AK8Puppijet0_deepdoubleb\")\n",
    "y_HBB = x_Hbb.sum(process,\"AK8Puppijet0_deepdoubleb\")"
   ]
  },
  {
   "cell_type": "code",
   "execution_count": 62,
   "metadata": {},
   "outputs": [
    {
     "name": "stdout",
     "output_type": "stream",
     "text": [
      "<Hist (AK8Puppijet0_pt,AK8Puppijet0_N2sdb1,jetrho) instance at 0x7fd02e8a7390>\n",
      "<Hist (AK8Puppijet0_pt,AK8Puppijet0_N2sdb1,jetrho) instance at 0x7fd02e8a75c0>\n"
     ]
    }
   ],
   "source": [
    "print(y_QCD)\n",
    "print(y_HBB)"
   ]
  },
  {
   "cell_type": "code",
   "execution_count": 63,
   "metadata": {},
   "outputs": [],
   "source": [
    "val_QCD = y_QCD.values(overflow='allnan')\n",
    "val_HBB = y_HBB.values(overflow='allnan')"
   ]
  },
  {
   "cell_type": "code",
   "execution_count": 42,
   "metadata": {},
   "outputs": [
    {
     "data": {
      "text/plain": [
       "array([[[0.00000000e+00, 0.00000000e+00, 0.00000000e+00, ...,\n",
       "         0.00000000e+00, 0.00000000e+00, 0.00000000e+00],\n",
       "        [8.30228188e+05, 8.86049461e+00, 5.29477406e+00, ...,\n",
       "         0.00000000e+00, 0.00000000e+00, 8.29022408e+00],\n",
       "        [8.70685062e+05, 1.80087166e+01, 1.39421892e+01, ...,\n",
       "         5.71461737e-01, 2.85730863e+00, 8.29022408e+00],\n",
       "        ...,\n",
       "        [1.43737440e+07, 1.99104734e+05, 1.99758125e+05, ...,\n",
       "         3.11592438e+05, 1.42756288e+06, 8.29022408e+00],\n",
       "        [1.43737440e+07, 1.99104734e+05, 1.99758125e+05, ...,\n",
       "         3.11592438e+05, 1.42756288e+06, 8.29022408e+00],\n",
       "        [1.45734230e+07, 1.99104734e+05, 1.99758125e+05, ...,\n",
       "         3.11592438e+05, 1.42756288e+06, 8.86378984e+04]],\n",
       "\n",
       "       [[0.00000000e+00, 0.00000000e+00, 0.00000000e+00, ...,\n",
       "         0.00000000e+00, 0.00000000e+00, 0.00000000e+00],\n",
       "        [1.49011279e+04, 0.00000000e+00, 0.00000000e+00, ...,\n",
       "         0.00000000e+00, 0.00000000e+00, 2.15112865e-01],\n",
       "        [1.56618057e+04, 1.43268317e-01, 1.43268317e-01, ...,\n",
       "         0.00000000e+00, 0.00000000e+00, 2.15112865e-01],\n",
       "        ...,\n",
       "        [2.13752203e+05, 2.24353784e+03, 2.29191284e+03, ...,\n",
       "         3.31471631e+03, 1.33259561e+04, 2.15112865e-01],\n",
       "        [2.13752203e+05, 2.24353784e+03, 2.29191284e+03, ...,\n",
       "         3.31471631e+03, 1.33259561e+04, 2.15112865e-01],\n",
       "        [2.17537969e+05, 2.24353784e+03, 2.29191284e+03, ...,\n",
       "         3.31471631e+03, 1.33259561e+04, 1.70255835e+03]],\n",
       "\n",
       "       [[0.00000000e+00, 0.00000000e+00, 0.00000000e+00, ...,\n",
       "         0.00000000e+00, 0.00000000e+00, 0.00000000e+00],\n",
       "        [1.32554375e+04, 0.00000000e+00, 5.71461737e-01, ...,\n",
       "         0.00000000e+00, 0.00000000e+00, 2.86536634e-01],\n",
       "        [1.39404492e+04, 7.18445480e-02, 7.14730024e-01, ...,\n",
       "         0.00000000e+00, 7.18445480e-02, 2.86536634e-01],\n",
       "        ...,\n",
       "        [1.88153188e+05, 1.93439209e+03, 2.01670691e+03, ...,\n",
       "         2.82306909e+03, 1.12879482e+04, 2.86536634e-01],\n",
       "        [1.88153188e+05, 1.93439209e+03, 2.01670691e+03, ...,\n",
       "         2.82306909e+03, 1.12879482e+04, 2.86536634e-01],\n",
       "        [1.91478047e+05, 1.93439209e+03, 2.01670691e+03, ...,\n",
       "         2.82306909e+03, 1.12879482e+04, 1.53088306e+03]],\n",
       "\n",
       "       ...,\n",
       "\n",
       "       [[0.00000000e+00, 0.00000000e+00, 0.00000000e+00, ...,\n",
       "         0.00000000e+00, 0.00000000e+00, 0.00000000e+00],\n",
       "        [9.93872528e+01, 0.00000000e+00, 0.00000000e+00, ...,\n",
       "         0.00000000e+00, 0.00000000e+00, 0.00000000e+00],\n",
       "        [1.06193871e+02, 0.00000000e+00, 0.00000000e+00, ...,\n",
       "         1.07604163e-02, 0.00000000e+00, 0.00000000e+00],\n",
       "        ...,\n",
       "        [1.20411792e+03, 1.16816301e+01, 1.12323942e+01, ...,\n",
       "         7.44895792e+00, 2.94109745e+01, 0.00000000e+00],\n",
       "        [1.20411792e+03, 1.16816301e+01, 1.12323942e+01, ...,\n",
       "         7.44895792e+00, 2.94109745e+01, 0.00000000e+00],\n",
       "        [1.22998425e+03, 1.16816301e+01, 1.12323942e+01, ...,\n",
       "         7.44895792e+00, 2.94109745e+01, 1.29377718e+01]],\n",
       "\n",
       "       [[0.00000000e+00, 0.00000000e+00, 0.00000000e+00, ...,\n",
       "         0.00000000e+00, 0.00000000e+00, 0.00000000e+00],\n",
       "        [1.70535339e+03, 6.73891697e-03, 0.00000000e+00, ...,\n",
       "         0.00000000e+00, 0.00000000e+00, 1.05105259e-01],\n",
       "        [1.84045654e+03, 1.34778339e-02, 0.00000000e+00, ...,\n",
       "         6.73891697e-03, 1.07604163e-02, 1.18583091e-01],\n",
       "        ...,\n",
       "        [2.05003594e+04, 1.85073837e+02, 1.83509369e+02, ...,\n",
       "         1.00538139e+02, 3.98096375e+02, 6.10524058e-01],\n",
       "        [2.05003594e+04, 1.85073837e+02, 1.83509369e+02, ...,\n",
       "         1.00538139e+02, 3.98096375e+02, 6.10524058e-01],\n",
       "        [2.09994668e+04, 1.85073837e+02, 1.83509369e+02, ...,\n",
       "         1.00538139e+02, 3.98096375e+02, 2.20067093e+02]],\n",
       "\n",
       "       [[0.00000000e+00, 0.00000000e+00, 0.00000000e+00, ...,\n",
       "         0.00000000e+00, 0.00000000e+00, 0.00000000e+00],\n",
       "        [0.00000000e+00, 0.00000000e+00, 0.00000000e+00, ...,\n",
       "         0.00000000e+00, 0.00000000e+00, 0.00000000e+00],\n",
       "        [0.00000000e+00, 0.00000000e+00, 0.00000000e+00, ...,\n",
       "         0.00000000e+00, 0.00000000e+00, 0.00000000e+00],\n",
       "        ...,\n",
       "        [0.00000000e+00, 0.00000000e+00, 0.00000000e+00, ...,\n",
       "         0.00000000e+00, 0.00000000e+00, 0.00000000e+00],\n",
       "        [0.00000000e+00, 0.00000000e+00, 0.00000000e+00, ...,\n",
       "         0.00000000e+00, 0.00000000e+00, 0.00000000e+00],\n",
       "        [0.00000000e+00, 0.00000000e+00, 0.00000000e+00, ...,\n",
       "         0.00000000e+00, 0.00000000e+00, 0.00000000e+00]]], dtype=float32)"
      ]
     },
     "execution_count": 42,
     "metadata": {},
     "output_type": "execute_result"
    }
   ],
   "source": [
    "np.cumsum(val_QCD[()], axis=1)"
   ]
  },
  {
   "cell_type": "code",
   "execution_count": 3,
   "metadata": {},
   "outputs": [
    {
     "ename": "NameError",
     "evalue": "name 'a' is not defined",
     "output_type": "error",
     "traceback": [
      "\u001b[0;31m---------------------------------------------------------------------------\u001b[0m",
      "\u001b[0;31mNameError\u001b[0m                                 Traceback (most recent call last)",
      "\u001b[0;32m<ipython-input-3-bca0e2660b9f>\u001b[0m in \u001b[0;36m<module>\u001b[0;34m()\u001b[0m\n\u001b[0;32m----> 1\u001b[0;31m \u001b[0mprint\u001b[0m\u001b[0;34m(\u001b[0m\u001b[0ma\u001b[0m\u001b[0;34m)\u001b[0m\u001b[0;34m\u001b[0m\u001b[0m\n\u001b[0m",
      "\u001b[0;31mNameError\u001b[0m: name 'a' is not defined"
     ]
    }
   ],
   "source": [
    "print(a)"
   ]
  },
  {
   "cell_type": "code",
   "execution_count": 1,
   "metadata": {},
   "outputs": [
    {
     "ename": "NameError",
     "evalue": "name 'numpy' is not defined",
     "output_type": "error",
     "traceback": [
      "\u001b[0;31m---------------------------------------------------------------------------\u001b[0m",
      "\u001b[0;31mNameError\u001b[0m                                 Traceback (most recent call last)",
      "\u001b[0;32m<ipython-input-1-3ee319d35da5>\u001b[0m in \u001b[0;36m<module>\u001b[0;34m()\u001b[0m\n\u001b[0;32m----> 1\u001b[0;31m \u001b[0mnumpy\u001b[0m\u001b[0;34m.\u001b[0m\u001b[0mcumsum\u001b[0m\u001b[0;34m(\u001b[0m\u001b[0ma\u001b[0m\u001b[0;34m)\u001b[0m\u001b[0;34m\u001b[0m\u001b[0m\n\u001b[0m",
      "\u001b[0;31mNameError\u001b[0m: name 'numpy' is not defined"
     ]
    }
   ],
   "source": [
    "numpy.cumsum(a)"
   ]
  },
  {
   "cell_type": "code",
   "execution_count": 5,
   "metadata": {},
   "outputs": [
    {
     "data": {
      "text/plain": [
       "array([ 7,  6,  9, 10,  8, 12, 22, 23, 28])"
      ]
     },
     "execution_count": 5,
     "metadata": {},
     "output_type": "execute_result"
    }
   ],
   "source": [
    "np.cumsum(a)"
   ]
  },
  {
   "cell_type": "code",
   "execution_count": 6,
   "metadata": {},
   "outputs": [
    {
     "data": {
      "text/plain": [
       "array([[ 7, -1,  3],\n",
       "       [ 8, -3,  7],\n",
       "       [18, -2, 12]])"
      ]
     },
     "execution_count": 6,
     "metadata": {},
     "output_type": "execute_result"
    }
   ],
   "source": [
    "np.cumsum(a,axis=0)"
   ]
  },
  {
   "cell_type": "code",
   "execution_count": 7,
   "metadata": {},
   "outputs": [
    {
     "data": {
      "text/plain": [
       "array([[ 7,  6,  9],\n",
       "       [ 1, -1,  3],\n",
       "       [10, 11, 16]])"
      ]
     },
     "execution_count": 7,
     "metadata": {},
     "output_type": "execute_result"
    }
   ],
   "source": [
    "np.cumsum(a,axis=1)"
   ]
  },
  {
   "cell_type": "code",
   "execution_count": 8,
   "metadata": {},
   "outputs": [],
   "source": [
    "testing = np.cumsum(a,axis=1)"
   ]
  },
  {
   "cell_type": "code",
   "execution_count": 9,
   "metadata": {},
   "outputs": [
    {
     "name": "stdout",
     "output_type": "stream",
     "text": [
      "[[ 7  6  9]\n",
      " [ 1 -1  3]\n",
      " [10 11 16]]\n"
     ]
    }
   ],
   "source": [
    "print(testing)"
   ]
  },
  {
   "cell_type": "code",
   "execution_count": 10,
   "metadata": {},
   "outputs": [
    {
     "data": {
      "text/plain": [
       "array([[ 7,  6,  9],\n",
       "       [ 1, -1,  3]])"
      ]
     },
     "execution_count": 10,
     "metadata": {},
     "output_type": "execute_result"
    }
   ],
   "source": [
    "testing[:-1]"
   ]
  },
  {
   "cell_type": "code",
   "execution_count": 11,
   "metadata": {},
   "outputs": [
    {
     "data": {
      "text/plain": [
       "array([ 9,  3, 16])"
      ]
     },
     "execution_count": 11,
     "metadata": {},
     "output_type": "execute_result"
    }
   ],
   "source": [
    "testing[:,-1]"
   ]
  },
  {
   "cell_type": "code",
   "execution_count": 12,
   "metadata": {},
   "outputs": [
    {
     "data": {
      "text/plain": [
       "array([[ 0.77777778,  2.        ,  0.5625    ],\n",
       "       [ 0.11111111, -0.33333333,  0.1875    ],\n",
       "       [ 1.11111111,  3.66666667,  1.        ]])"
      ]
     },
     "execution_count": 12,
     "metadata": {},
     "output_type": "execute_result"
    }
   ],
   "source": [
    "testing/testing[:,-1]"
   ]
  },
  {
   "cell_type": "code",
   "execution_count": 13,
   "metadata": {},
   "outputs": [
    {
     "data": {
      "text/plain": [
       "array([[[ 7,  6,  9],\n",
       "        [ 1, -1,  3],\n",
       "        [10, 11, 16]]])"
      ]
     },
     "execution_count": 13,
     "metadata": {},
     "output_type": "execute_result"
    }
   ],
   "source": [
    "testing[np.newaxis,:]"
   ]
  },
  {
   "cell_type": "code",
   "execution_count": 14,
   "metadata": {},
   "outputs": [],
   "source": [
    "testing2 = testing[:,-1]"
   ]
  },
  {
   "cell_type": "code",
   "execution_count": 15,
   "metadata": {},
   "outputs": [
    {
     "name": "stdout",
     "output_type": "stream",
     "text": [
      "[ 9  3 16]\n"
     ]
    }
   ],
   "source": [
    "print(testing2)"
   ]
  },
  {
   "cell_type": "code",
   "execution_count": 16,
   "metadata": {},
   "outputs": [
    {
     "data": {
      "text/plain": [
       "array([[ 9,  3, 16]])"
      ]
     },
     "execution_count": 16,
     "metadata": {},
     "output_type": "execute_result"
    }
   ],
   "source": [
    "testing2[np.newaxis,:]"
   ]
  },
  {
   "cell_type": "code",
   "execution_count": 17,
   "metadata": {},
   "outputs": [],
   "source": [
    "testing3 = testing2[np.newaxis,:]"
   ]
  },
  {
   "cell_type": "code",
   "execution_count": 18,
   "metadata": {},
   "outputs": [
    {
     "name": "stdout",
     "output_type": "stream",
     "text": [
      "[[ 9  3 16]]\n"
     ]
    }
   ],
   "source": [
    "print(testing3)"
   ]
  },
  {
   "cell_type": "code",
   "execution_count": 19,
   "metadata": {},
   "outputs": [
    {
     "data": {
      "text/plain": [
       "array([[ 0.77777778,  2.        ,  0.5625    ],\n",
       "       [ 0.11111111, -0.33333333,  0.1875    ],\n",
       "       [ 1.11111111,  3.66666667,  1.        ]])"
      ]
     },
     "execution_count": 19,
     "metadata": {},
     "output_type": "execute_result"
    }
   ],
   "source": [
    "testing/testing3"
   ]
  },
  {
   "cell_type": "code",
   "execution_count": 20,
   "metadata": {},
   "outputs": [],
   "source": [
    "testing4 = testing2[:,np.newaxis]"
   ]
  },
  {
   "cell_type": "code",
   "execution_count": 21,
   "metadata": {},
   "outputs": [
    {
     "name": "stdout",
     "output_type": "stream",
     "text": [
      "[[ 9]\n",
      " [ 3]\n",
      " [16]]\n"
     ]
    }
   ],
   "source": [
    "print(testing4)"
   ]
  },
  {
   "cell_type": "code",
   "execution_count": 22,
   "metadata": {},
   "outputs": [
    {
     "data": {
      "text/plain": [
       "array([[ 0.77777778,  0.66666667,  1.        ],\n",
       "       [ 0.33333333, -0.33333333,  1.        ],\n",
       "       [ 0.625     ,  0.6875    ,  1.        ]])"
      ]
     },
     "execution_count": 22,
     "metadata": {},
     "output_type": "execute_result"
    }
   ],
   "source": [
    "testing/testing4"
   ]
  },
  {
   "cell_type": "code",
   "execution_count": 43,
   "metadata": {},
   "outputs": [
    {
     "data": {
      "text/plain": [
       "array([[[0.00000000e+00, 0.00000000e+00, 0.00000000e+00, ...,\n",
       "         0.00000000e+00, 0.00000000e+00, 0.00000000e+00],\n",
       "        [8.30228188e+05, 8.86049461e+00, 5.29477406e+00, ...,\n",
       "         0.00000000e+00, 0.00000000e+00, 8.29022408e+00],\n",
       "        [8.70685062e+05, 1.80087166e+01, 1.39421892e+01, ...,\n",
       "         5.71461737e-01, 2.85730863e+00, 8.29022408e+00],\n",
       "        ...,\n",
       "        [1.43737440e+07, 1.99104734e+05, 1.99758125e+05, ...,\n",
       "         3.11592438e+05, 1.42756288e+06, 8.29022408e+00],\n",
       "        [1.43737440e+07, 1.99104734e+05, 1.99758125e+05, ...,\n",
       "         3.11592438e+05, 1.42756288e+06, 8.29022408e+00],\n",
       "        [1.45734230e+07, 1.99104734e+05, 1.99758125e+05, ...,\n",
       "         3.11592438e+05, 1.42756288e+06, 8.86378984e+04]],\n",
       "\n",
       "       [[0.00000000e+00, 0.00000000e+00, 0.00000000e+00, ...,\n",
       "         0.00000000e+00, 0.00000000e+00, 0.00000000e+00],\n",
       "        [1.49011279e+04, 0.00000000e+00, 0.00000000e+00, ...,\n",
       "         0.00000000e+00, 0.00000000e+00, 2.15112865e-01],\n",
       "        [1.56618057e+04, 1.43268317e-01, 1.43268317e-01, ...,\n",
       "         0.00000000e+00, 0.00000000e+00, 2.15112865e-01],\n",
       "        ...,\n",
       "        [2.13752203e+05, 2.24353784e+03, 2.29191284e+03, ...,\n",
       "         3.31471631e+03, 1.33259561e+04, 2.15112865e-01],\n",
       "        [2.13752203e+05, 2.24353784e+03, 2.29191284e+03, ...,\n",
       "         3.31471631e+03, 1.33259561e+04, 2.15112865e-01],\n",
       "        [2.17537969e+05, 2.24353784e+03, 2.29191284e+03, ...,\n",
       "         3.31471631e+03, 1.33259561e+04, 1.70255835e+03]],\n",
       "\n",
       "       [[0.00000000e+00, 0.00000000e+00, 0.00000000e+00, ...,\n",
       "         0.00000000e+00, 0.00000000e+00, 0.00000000e+00],\n",
       "        [1.32554375e+04, 0.00000000e+00, 5.71461737e-01, ...,\n",
       "         0.00000000e+00, 0.00000000e+00, 2.86536634e-01],\n",
       "        [1.39404492e+04, 7.18445480e-02, 7.14730024e-01, ...,\n",
       "         0.00000000e+00, 7.18445480e-02, 2.86536634e-01],\n",
       "        ...,\n",
       "        [1.88153188e+05, 1.93439209e+03, 2.01670691e+03, ...,\n",
       "         2.82306909e+03, 1.12879482e+04, 2.86536634e-01],\n",
       "        [1.88153188e+05, 1.93439209e+03, 2.01670691e+03, ...,\n",
       "         2.82306909e+03, 1.12879482e+04, 2.86536634e-01],\n",
       "        [1.91478047e+05, 1.93439209e+03, 2.01670691e+03, ...,\n",
       "         2.82306909e+03, 1.12879482e+04, 1.53088306e+03]],\n",
       "\n",
       "       ...,\n",
       "\n",
       "       [[0.00000000e+00, 0.00000000e+00, 0.00000000e+00, ...,\n",
       "         0.00000000e+00, 0.00000000e+00, 0.00000000e+00],\n",
       "        [9.93872528e+01, 0.00000000e+00, 0.00000000e+00, ...,\n",
       "         0.00000000e+00, 0.00000000e+00, 0.00000000e+00],\n",
       "        [1.06193871e+02, 0.00000000e+00, 0.00000000e+00, ...,\n",
       "         1.07604163e-02, 0.00000000e+00, 0.00000000e+00],\n",
       "        ...,\n",
       "        [1.20411792e+03, 1.16816301e+01, 1.12323942e+01, ...,\n",
       "         7.44895792e+00, 2.94109745e+01, 0.00000000e+00],\n",
       "        [1.20411792e+03, 1.16816301e+01, 1.12323942e+01, ...,\n",
       "         7.44895792e+00, 2.94109745e+01, 0.00000000e+00],\n",
       "        [1.22998425e+03, 1.16816301e+01, 1.12323942e+01, ...,\n",
       "         7.44895792e+00, 2.94109745e+01, 1.29377718e+01]],\n",
       "\n",
       "       [[0.00000000e+00, 0.00000000e+00, 0.00000000e+00, ...,\n",
       "         0.00000000e+00, 0.00000000e+00, 0.00000000e+00],\n",
       "        [1.70535339e+03, 6.73891697e-03, 0.00000000e+00, ...,\n",
       "         0.00000000e+00, 0.00000000e+00, 1.05105259e-01],\n",
       "        [1.84045654e+03, 1.34778339e-02, 0.00000000e+00, ...,\n",
       "         6.73891697e-03, 1.07604163e-02, 1.18583091e-01],\n",
       "        ...,\n",
       "        [2.05003594e+04, 1.85073837e+02, 1.83509369e+02, ...,\n",
       "         1.00538139e+02, 3.98096375e+02, 6.10524058e-01],\n",
       "        [2.05003594e+04, 1.85073837e+02, 1.83509369e+02, ...,\n",
       "         1.00538139e+02, 3.98096375e+02, 6.10524058e-01],\n",
       "        [2.09994668e+04, 1.85073837e+02, 1.83509369e+02, ...,\n",
       "         1.00538139e+02, 3.98096375e+02, 2.20067093e+02]],\n",
       "\n",
       "       [[0.00000000e+00, 0.00000000e+00, 0.00000000e+00, ...,\n",
       "         0.00000000e+00, 0.00000000e+00, 0.00000000e+00],\n",
       "        [0.00000000e+00, 0.00000000e+00, 0.00000000e+00, ...,\n",
       "         0.00000000e+00, 0.00000000e+00, 0.00000000e+00],\n",
       "        [0.00000000e+00, 0.00000000e+00, 0.00000000e+00, ...,\n",
       "         0.00000000e+00, 0.00000000e+00, 0.00000000e+00],\n",
       "        ...,\n",
       "        [0.00000000e+00, 0.00000000e+00, 0.00000000e+00, ...,\n",
       "         0.00000000e+00, 0.00000000e+00, 0.00000000e+00],\n",
       "        [0.00000000e+00, 0.00000000e+00, 0.00000000e+00, ...,\n",
       "         0.00000000e+00, 0.00000000e+00, 0.00000000e+00],\n",
       "        [0.00000000e+00, 0.00000000e+00, 0.00000000e+00, ...,\n",
       "         0.00000000e+00, 0.00000000e+00, 0.00000000e+00]]], dtype=float32)"
      ]
     },
     "execution_count": 43,
     "metadata": {},
     "output_type": "execute_result"
    }
   ],
   "source": [
    "np.cumsum(val_QCD[()], axis=1)"
   ]
  },
  {
   "cell_type": "code",
   "execution_count": 64,
   "metadata": {},
   "outputs": [],
   "source": [
    "qcd_maxval_temp = np.cumsum(val_QCD[()], axis=1)\n",
    "hbb_maxval_temp = np.cumsum(val_HBB[()], axis=1)"
   ]
  },
  {
   "cell_type": "code",
   "execution_count": 65,
   "metadata": {},
   "outputs": [
    {
     "name": "stdout",
     "output_type": "stream",
     "text": [
      "[[[0.00000000e+00 0.00000000e+00 0.00000000e+00 ... 0.00000000e+00\n",
      "   0.00000000e+00 0.00000000e+00]\n",
      "  [1.08430600e+00 0.00000000e+00 0.00000000e+00 ... 0.00000000e+00\n",
      "   0.00000000e+00 0.00000000e+00]\n",
      "  [1.17924583e+00 2.66984971e-05 0.00000000e+00 ... 0.00000000e+00\n",
      "   5.33969942e-05 0.00000000e+00]\n",
      "  ...\n",
      "  [3.91827126e+01 3.51672620e-01 3.56958896e-01 ... 4.63646078e+00\n",
      "   2.64535122e+01 0.00000000e+00]\n",
      "  [3.91827126e+01 3.51672620e-01 3.56958896e-01 ... 4.63646078e+00\n",
      "   2.64535122e+01 0.00000000e+00]\n",
      "  [3.94907074e+01 3.51672620e-01 3.56958896e-01 ... 4.63646078e+00\n",
      "   2.64535122e+01 1.95406303e-01]]\n",
      "\n",
      " [[0.00000000e+00 0.00000000e+00 0.00000000e+00 ... 0.00000000e+00\n",
      "   0.00000000e+00 0.00000000e+00]\n",
      "  [2.20796578e-02 0.00000000e+00 0.00000000e+00 ... 0.00000000e+00\n",
      "   0.00000000e+00 0.00000000e+00]\n",
      "  [2.39485521e-02 0.00000000e+00 0.00000000e+00 ... 0.00000000e+00\n",
      "   0.00000000e+00 0.00000000e+00]\n",
      "  ...\n",
      "  [6.04961276e-01 4.67223721e-03 4.51204553e-03 ... 1.28579944e-01\n",
      "   1.60511360e-01 0.00000000e+00]\n",
      "  [6.04961276e-01 4.67223721e-03 4.51204553e-03 ... 1.28579944e-01\n",
      "   1.60511360e-01 0.00000000e+00]\n",
      "  [6.09953880e-01 4.67223721e-03 4.51204553e-03 ... 1.28579944e-01\n",
      "   1.60511360e-01 4.16496536e-03]]\n",
      "\n",
      " [[0.00000000e+00 0.00000000e+00 0.00000000e+00 ... 0.00000000e+00\n",
      "   0.00000000e+00 0.00000000e+00]\n",
      "  [1.92763153e-02 0.00000000e+00 0.00000000e+00 ... 0.00000000e+00\n",
      "   0.00000000e+00 0.00000000e+00]\n",
      "  [2.11986080e-02 0.00000000e+00 0.00000000e+00 ... 0.00000000e+00\n",
      "   0.00000000e+00 0.00000000e+00]\n",
      "  ...\n",
      "  [5.33355892e-01 3.81788518e-03 4.35185572e-03 ... 7.82532915e-02\n",
      "   1.05432376e-01 0.00000000e+00]\n",
      "  [5.33355892e-01 3.81788518e-03 4.35185572e-03 ... 7.82532915e-02\n",
      "   1.05432376e-01 0.00000000e+00]\n",
      "  [5.38241744e-01 3.81788518e-03 4.35185572e-03 ... 7.82532915e-02\n",
      "   1.05432376e-01 3.84458364e-03]]\n",
      "\n",
      " ...\n",
      "\n",
      " [[0.00000000e+00 0.00000000e+00 0.00000000e+00 ... 0.00000000e+00\n",
      "   0.00000000e+00 0.00000000e+00]\n",
      "  [4.80572926e-04 0.00000000e+00 0.00000000e+00 ... 0.00000000e+00\n",
      "   0.00000000e+00 0.00000000e+00]\n",
      "  [5.33969898e-04 0.00000000e+00 0.00000000e+00 ... 0.00000000e+00\n",
      "   0.00000000e+00 0.00000000e+00]\n",
      "  ...\n",
      "  [6.72802143e-03 2.66984971e-05 8.00954876e-05 ... 2.66984971e-05\n",
      "   2.66984978e-04 0.00000000e+00]\n",
      "  [6.72802143e-03 2.66984971e-05 8.00954876e-05 ... 2.66984971e-05\n",
      "   2.66984978e-04 0.00000000e+00]\n",
      "  [6.80811703e-03 2.66984971e-05 8.00954876e-05 ... 2.66984971e-05\n",
      "   2.66984978e-04 5.33969942e-05]]\n",
      "\n",
      " [[0.00000000e+00 0.00000000e+00 0.00000000e+00 ... 0.00000000e+00\n",
      "   0.00000000e+00 0.00000000e+00]\n",
      "  [8.22313689e-03 0.00000000e+00 0.00000000e+00 ... 0.00000000e+00\n",
      "   0.00000000e+00 0.00000000e+00]\n",
      "  [9.58476029e-03 0.00000000e+00 0.00000000e+00 ... 0.00000000e+00\n",
      "   0.00000000e+00 0.00000000e+00]\n",
      "  ...\n",
      "  [1.28633350e-01 1.76210084e-03 1.73540227e-03 ... 1.04124122e-03\n",
      "   5.01931785e-03 0.00000000e+00]\n",
      "  [1.28633350e-01 1.76210084e-03 1.73540227e-03 ... 1.04124122e-03\n",
      "   5.01931785e-03 0.00000000e+00]\n",
      "  [1.30742535e-01 1.76210084e-03 1.73540227e-03 ... 1.04124122e-03\n",
      "   5.01931785e-03 1.17473386e-03]]\n",
      "\n",
      " [[0.00000000e+00 0.00000000e+00 0.00000000e+00 ... 0.00000000e+00\n",
      "   0.00000000e+00 0.00000000e+00]\n",
      "  [0.00000000e+00 0.00000000e+00 0.00000000e+00 ... 0.00000000e+00\n",
      "   0.00000000e+00 0.00000000e+00]\n",
      "  [0.00000000e+00 0.00000000e+00 0.00000000e+00 ... 0.00000000e+00\n",
      "   0.00000000e+00 0.00000000e+00]\n",
      "  ...\n",
      "  [0.00000000e+00 0.00000000e+00 0.00000000e+00 ... 0.00000000e+00\n",
      "   0.00000000e+00 0.00000000e+00]\n",
      "  [0.00000000e+00 0.00000000e+00 0.00000000e+00 ... 0.00000000e+00\n",
      "   0.00000000e+00 0.00000000e+00]\n",
      "  [0.00000000e+00 0.00000000e+00 0.00000000e+00 ... 0.00000000e+00\n",
      "   0.00000000e+00 0.00000000e+00]]]\n"
     ]
    }
   ],
   "source": [
    "print(hbb_maxval_temp)"
   ]
  },
  {
   "cell_type": "code",
   "execution_count": 46,
   "metadata": {},
   "outputs": [
    {
     "data": {
      "text/plain": [
       "array([[1.4573423e+07, 1.9910473e+05, 1.9975812e+05, ..., 3.1159244e+05,\n",
       "        1.4275629e+06, 8.8637898e+04],\n",
       "       [2.1753797e+05, 2.2435378e+03, 2.2919128e+03, ..., 3.3147163e+03,\n",
       "        1.3325956e+04, 1.7025583e+03],\n",
       "       [1.9147805e+05, 1.9343921e+03, 2.0167069e+03, ..., 2.8230691e+03,\n",
       "        1.1287948e+04, 1.5308831e+03],\n",
       "       ...,\n",
       "       [1.2299843e+03, 1.1681630e+01, 1.1232394e+01, ..., 7.4489579e+00,\n",
       "        2.9410975e+01, 1.2937772e+01],\n",
       "       [2.0999467e+04, 1.8507384e+02, 1.8350937e+02, ..., 1.0053814e+02,\n",
       "        3.9809637e+02, 2.2006709e+02],\n",
       "       [0.0000000e+00, 0.0000000e+00, 0.0000000e+00, ..., 0.0000000e+00,\n",
       "        0.0000000e+00, 0.0000000e+00]], dtype=float32)"
      ]
     },
     "execution_count": 46,
     "metadata": {},
     "output_type": "execute_result"
    }
   ],
   "source": [
    "qcd_maxval_temp[:,-1,:]"
   ]
  },
  {
   "cell_type": "code",
   "execution_count": 66,
   "metadata": {},
   "outputs": [],
   "source": [
    "qcd_maxval = qcd_maxval_temp[:,-1,:]\n",
    "hbb_maxval = hbb_maxval_temp[:,-1,:]"
   ]
  },
  {
   "cell_type": "code",
   "execution_count": 71,
   "metadata": {},
   "outputs": [],
   "source": [
    "norma = qcd_maxval_temp / np.maximum(1,qcd_maxval[:,np.newaxis,:])\n",
    "norma2 = hbb_maxval_temp / np.maximum(1,hbb_maxval[:,np.newaxis,:])"
   ]
  },
  {
   "cell_type": "code",
   "execution_count": 73,
   "metadata": {},
   "outputs": [
    {
     "name": "stdout",
     "output_type": "stream",
     "text": [
      "<Hist (AK8Puppijet0_pt,AK8Puppijet0_N2sdb1,jetrho) instance at 0x7fd02e8a75c0>\n",
      "[[[0.00000000e+00 0.00000000e+00 0.00000000e+00 ... 0.00000000e+00\n",
      "   0.00000000e+00 0.00000000e+00]\n",
      "  [2.74572447e-02 0.00000000e+00 0.00000000e+00 ... 0.00000000e+00\n",
      "   0.00000000e+00 0.00000000e+00]\n",
      "  [2.98613496e-02 2.66984971e-05 0.00000000e+00 ... 0.00000000e+00\n",
      "   2.01852185e-06 0.00000000e+00]\n",
      "  ...\n",
      "  [9.92200851e-01 3.51672620e-01 3.56958896e-01 ... 1.00000000e+00\n",
      "   1.00000000e+00 0.00000000e+00]\n",
      "  [9.92200851e-01 3.51672620e-01 3.56958896e-01 ... 1.00000000e+00\n",
      "   1.00000000e+00 0.00000000e+00]\n",
      "  [1.00000000e+00 3.51672620e-01 3.56958896e-01 ... 1.00000000e+00\n",
      "   1.00000000e+00 1.95406303e-01]]\n",
      "\n",
      " [[0.00000000e+00 0.00000000e+00 0.00000000e+00 ... 0.00000000e+00\n",
      "   0.00000000e+00 0.00000000e+00]\n",
      "  [2.20796578e-02 0.00000000e+00 0.00000000e+00 ... 0.00000000e+00\n",
      "   0.00000000e+00 0.00000000e+00]\n",
      "  [2.39485521e-02 0.00000000e+00 0.00000000e+00 ... 0.00000000e+00\n",
      "   0.00000000e+00 0.00000000e+00]\n",
      "  ...\n",
      "  [6.04961276e-01 4.67223721e-03 4.51204553e-03 ... 1.28579944e-01\n",
      "   1.60511360e-01 0.00000000e+00]\n",
      "  [6.04961276e-01 4.67223721e-03 4.51204553e-03 ... 1.28579944e-01\n",
      "   1.60511360e-01 0.00000000e+00]\n",
      "  [6.09953880e-01 4.67223721e-03 4.51204553e-03 ... 1.28579944e-01\n",
      "   1.60511360e-01 4.16496536e-03]]\n",
      "\n",
      " [[0.00000000e+00 0.00000000e+00 0.00000000e+00 ... 0.00000000e+00\n",
      "   0.00000000e+00 0.00000000e+00]\n",
      "  [1.92763153e-02 0.00000000e+00 0.00000000e+00 ... 0.00000000e+00\n",
      "   0.00000000e+00 0.00000000e+00]\n",
      "  [2.11986080e-02 0.00000000e+00 0.00000000e+00 ... 0.00000000e+00\n",
      "   0.00000000e+00 0.00000000e+00]\n",
      "  ...\n",
      "  [5.33355892e-01 3.81788518e-03 4.35185572e-03 ... 7.82532915e-02\n",
      "   1.05432376e-01 0.00000000e+00]\n",
      "  [5.33355892e-01 3.81788518e-03 4.35185572e-03 ... 7.82532915e-02\n",
      "   1.05432376e-01 0.00000000e+00]\n",
      "  [5.38241744e-01 3.81788518e-03 4.35185572e-03 ... 7.82532915e-02\n",
      "   1.05432376e-01 3.84458364e-03]]\n",
      "\n",
      " ...\n",
      "\n",
      " [[0.00000000e+00 0.00000000e+00 0.00000000e+00 ... 0.00000000e+00\n",
      "   0.00000000e+00 0.00000000e+00]\n",
      "  [4.80572926e-04 0.00000000e+00 0.00000000e+00 ... 0.00000000e+00\n",
      "   0.00000000e+00 0.00000000e+00]\n",
      "  [5.33969898e-04 0.00000000e+00 0.00000000e+00 ... 0.00000000e+00\n",
      "   0.00000000e+00 0.00000000e+00]\n",
      "  ...\n",
      "  [6.72802143e-03 2.66984971e-05 8.00954876e-05 ... 2.66984971e-05\n",
      "   2.66984978e-04 0.00000000e+00]\n",
      "  [6.72802143e-03 2.66984971e-05 8.00954876e-05 ... 2.66984971e-05\n",
      "   2.66984978e-04 0.00000000e+00]\n",
      "  [6.80811703e-03 2.66984971e-05 8.00954876e-05 ... 2.66984971e-05\n",
      "   2.66984978e-04 5.33969942e-05]]\n",
      "\n",
      " [[0.00000000e+00 0.00000000e+00 0.00000000e+00 ... 0.00000000e+00\n",
      "   0.00000000e+00 0.00000000e+00]\n",
      "  [8.22313689e-03 0.00000000e+00 0.00000000e+00 ... 0.00000000e+00\n",
      "   0.00000000e+00 0.00000000e+00]\n",
      "  [9.58476029e-03 0.00000000e+00 0.00000000e+00 ... 0.00000000e+00\n",
      "   0.00000000e+00 0.00000000e+00]\n",
      "  ...\n",
      "  [1.28633350e-01 1.76210084e-03 1.73540227e-03 ... 1.04124122e-03\n",
      "   5.01931785e-03 0.00000000e+00]\n",
      "  [1.28633350e-01 1.76210084e-03 1.73540227e-03 ... 1.04124122e-03\n",
      "   5.01931785e-03 0.00000000e+00]\n",
      "  [1.30742535e-01 1.76210084e-03 1.73540227e-03 ... 1.04124122e-03\n",
      "   5.01931785e-03 1.17473386e-03]]\n",
      "\n",
      " [[0.00000000e+00 0.00000000e+00 0.00000000e+00 ... 0.00000000e+00\n",
      "   0.00000000e+00 0.00000000e+00]\n",
      "  [0.00000000e+00 0.00000000e+00 0.00000000e+00 ... 0.00000000e+00\n",
      "   0.00000000e+00 0.00000000e+00]\n",
      "  [0.00000000e+00 0.00000000e+00 0.00000000e+00 ... 0.00000000e+00\n",
      "   0.00000000e+00 0.00000000e+00]\n",
      "  ...\n",
      "  [0.00000000e+00 0.00000000e+00 0.00000000e+00 ... 0.00000000e+00\n",
      "   0.00000000e+00 0.00000000e+00]\n",
      "  [0.00000000e+00 0.00000000e+00 0.00000000e+00 ... 0.00000000e+00\n",
      "   0.00000000e+00 0.00000000e+00]\n",
      "  [0.00000000e+00 0.00000000e+00 0.00000000e+00 ... 0.00000000e+00\n",
      "   0.00000000e+00 0.00000000e+00]]]\n"
     ]
    }
   ],
   "source": [
    "print(y_HBB)\n",
    "print(norma2)"
   ]
  },
  {
   "cell_type": "code",
   "execution_count": 75,
   "metadata": {},
   "outputs": [],
   "source": [
    "hist_y_QCD = y_QCD\n",
    "hist_y_HBB = y_HBB"
   ]
  },
  {
   "cell_type": "code",
   "execution_count": 76,
   "metadata": {},
   "outputs": [
    {
     "name": "stdout",
     "output_type": "stream",
     "text": [
      "<Hist (AK8Puppijet0_pt,AK8Puppijet0_N2sdb1,jetrho) instance at 0x7fd02e8a75c0>\n",
      "<Hist (AK8Puppijet0_pt,AK8Puppijet0_N2sdb1,jetrho) instance at 0x7fd02e8a7390>\n"
     ]
    }
   ],
   "source": [
    "print(hist_y_HBB)\n",
    "print(hist_y_QCD)"
   ]
  },
  {
   "cell_type": "code",
   "execution_count": 78,
   "metadata": {},
   "outputs": [],
   "source": [
    "hist_y_QCD.clear()\n",
    "hist_y_HBB.clear()"
   ]
  },
  {
   "cell_type": "code",
   "execution_count": 79,
   "metadata": {},
   "outputs": [],
   "source": [
    "hist_y_HBB._sumw = {():norma}\n",
    "hist_y_QCD._sumw = {():norma}"
   ]
  },
  {
   "cell_type": "code",
   "execution_count": 84,
   "metadata": {},
   "outputs": [],
   "source": [
    "with gzip.open(\"n2quantile_QCD.pkl.gz\", \"wb\") as fout:\n",
    "    pickle.dump(hist_y_QCD, fout, protocol=2)  # for python2 compatibility\n"
   ]
  },
  {
   "cell_type": "code",
   "execution_count": 85,
   "metadata": {},
   "outputs": [],
   "source": [
    "with gzip.open(\"n2quantile_HBB.pkl.gz\", \"wb\") as fout:\n",
    "    pickle.dump(hist_y_HBB, fout, protocol=2)"
   ]
  },
  {
   "cell_type": "code",
   "execution_count": null,
   "metadata": {},
   "outputs": [],
   "source": []
  }
 ],
 "metadata": {
  "kernelspec": {
   "display_name": "Python 3",
   "language": "python",
   "name": "python3"
  },
  "language_info": {
   "codemirror_mode": {
    "name": "ipython",
    "version": 3
   },
   "file_extension": ".py",
   "mimetype": "text/x-python",
   "name": "python",
   "nbconvert_exporter": "python",
   "pygments_lexer": "ipython3",
   "version": "3.6.5"
  }
 },
 "nbformat": 4,
 "nbformat_minor": 2
}
