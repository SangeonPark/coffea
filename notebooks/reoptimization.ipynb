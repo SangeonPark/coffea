{
 "cells": [
  {
   "cell_type": "code",
   "execution_count": 110,
   "metadata": {},
   "outputs": [],
   "source": [
    "from __future__ import print_function, division\n",
    "from collections import defaultdict, OrderedDict\n",
    "import gzip\n",
    "import pickle\n",
    "import json\n",
    "\n",
    "import uproot\n",
    "%matplotlib nbagg\n",
    "import matplotlib.pyplot as plt\n",
    "import numpy as np\n",
    "\n",
    "from fnal_column_analysis_tools import hist, lookup_tools\n",
    "from fnal_column_analysis_tools.hist import plot\n"
   ]
  },
  {
   "cell_type": "code",
   "execution_count": 5,
   "metadata": {},
   "outputs": [],
   "source": [
    "with gzip.open(\"hists_reoptimization.pkl.gz\") as fin:\n",
    "    hists = pickle.load(fin)"
   ]
  },
  {
   "cell_type": "code",
   "execution_count": 6,
   "metadata": {},
   "outputs": [
    {
     "name": "stderr",
     "output_type": "stream",
     "text": [
      "/uscms/home/separk/nobackup/coffea/fnal-column-analysis-tools/fnal_column_analysis_tools/hist/hist_tools.py:478: RuntimeWarning: Allocating a large (>10M bin) histogram!\n",
      "  warnings.warn(\"Allocating a large (>10M bin) histogram!\", RuntimeWarning)\n"
     ]
    }
   ],
   "source": [
    "process = hist.Cat(\"process\", \"Process\", sorting='placement')\n",
    "process_cats = (\"dataset\", \"AK8Puppijet0_isHadronicV\")\n",
    "process_map = OrderedDict()\n",
    "#process_map[\"QCD\"] = (\"QCD*\", slice(None))\n",
    "#process_map[\"QCDinV\"] = (\"Z*\", 0)\n",
    "process_map[\"Hcc\"] = (\"GluGluHToCC\", 2)\n",
    "process_map[\"Hbb\"] = (\"GluGluHToBB\", 3)\n",
    "process_map[\"Zqq\"] = (\"ZJetsToQQ_HT*\", 1)\n",
    "process_map[\"Zcc\"] = (\"ZJetsToQQ_HT*\", 2)\n",
    "process_map[\"Zbb\"] = (\"ZJetsToQQ_HT*\", 3)\n",
    "process_map[\"Wqq\"] = (\"WJetsToQQ_HT*\", 1)\n",
    "process_map[\"Wcs\"] = (\"WJetsToQQ_HT*\", 2)\n",
    "process_map[\"Top\"] = (\"TTTo*\", slice(None))\n",
    "process_map[\"QCD\"] = (\"QCD*\", slice(None))\n",
    "\n",
    "\n",
    "for key in hists.keys():\n",
    "    hists[key] = hists[key].group(process, process_cats, process_map)"
   ]
  },
  {
   "cell_type": "code",
   "execution_count": null,
   "metadata": {},
   "outputs": [],
   "source": []
  },
  {
   "cell_type": "code",
   "execution_count": 7,
   "metadata": {},
   "outputs": [],
   "source": [
    "x = hists['hjetpt']\n"
   ]
  },
  {
   "cell_type": "code",
   "execution_count": 8,
   "metadata": {},
   "outputs": [
    {
     "name": "stdout",
     "output_type": "stream",
     "text": [
      "<Hist (process,AK8Puppijet0_pt,jetrho,AK8Puppijet0_N2sdb1,AK8Puppijet0_deepdoubleb) instance at 0x7fd7cc8c2e10>\n"
     ]
    }
   ],
   "source": [
    "print(x)"
   ]
  },
  {
   "cell_type": "code",
   "execution_count": 9,
   "metadata": {},
   "outputs": [],
   "source": [
    "y = x.project(\"AK8Puppijet0_pt\", slice(450,None), overflow='over')\n"
   ]
  },
  {
   "cell_type": "code",
   "execution_count": 10,
   "metadata": {},
   "outputs": [
    {
     "name": "stdout",
     "output_type": "stream",
     "text": [
      "<Hist (process,jetrho,AK8Puppijet0_N2sdb1,AK8Puppijet0_deepdoubleb) instance at 0x7fd7cfa4a780>\n"
     ]
    }
   ],
   "source": [
    "print(y)\n"
   ]
  },
  {
   "cell_type": "code",
   "execution_count": 11,
   "metadata": {},
   "outputs": [],
   "source": [
    "z = y.sum(\"jetrho\")\n"
   ]
  },
  {
   "cell_type": "code",
   "execution_count": 12,
   "metadata": {
    "scrolled": true
   },
   "outputs": [
    {
     "name": "stdout",
     "output_type": "stream",
     "text": [
      "<Hist (process,AK8Puppijet0_N2sdb1,AK8Puppijet0_deepdoubleb) instance at 0x7fd7cc5446d8>\n"
     ]
    }
   ],
   "source": [
    "print(z)\n"
   ]
  },
  {
   "cell_type": "code",
   "execution_count": 13,
   "metadata": {},
   "outputs": [
    {
     "name": "stdout",
     "output_type": "stream",
     "text": [
      "{('Hbb',): array([0.04442631, 0.07195245, 0.06914911, 0.06730691, 0.06455697,\n",
      "       0.06463706, 0.06162014, 0.06348903, 0.06407639, 0.06442347,\n",
      "       0.06423658, 0.06546471, 0.06762729, 0.07187236, 0.07350096,\n",
      "       0.07803971, 0.08084305, 0.08554198, 0.09125546, 0.09857085,\n",
      "       0.10564595, 0.11277445, 0.12513585, 0.13872539, 0.14988536,\n",
      "       0.17025632, 0.19094765, 0.22093005, 0.2635676 , 0.31645733,\n",
      "       0.39553824, 0.5126912 , 0.7031317 , 1.0772578 , 1.846468  ,\n",
      "       3.082342  , 3.8553698 , 3.0644534 , 1.3659753 , 0.19006659],\n",
      "      dtype=float32), ('QCD',): array([3.4228500e+05, 1.6998853e+05, 8.3768609e+04, 5.0899090e+04,\n",
      "       3.4842562e+04, 2.5458727e+04, 1.9737492e+04, 1.5889106e+04,\n",
      "       1.3120262e+04, 1.1095387e+04, 9.5109697e+03, 8.3882676e+03,\n",
      "       7.4811465e+03, 6.6900308e+03, 6.0560703e+03, 5.5225425e+03,\n",
      "       5.1057188e+03, 4.8127920e+03, 4.4787036e+03, 4.2658105e+03,\n",
      "       4.0768223e+03, 3.8814348e+03, 3.8003665e+03, 3.6455513e+03,\n",
      "       3.6307871e+03, 3.6130911e+03, 3.5520081e+03, 3.5816829e+03,\n",
      "       3.5929619e+03, 3.6987493e+03, 3.7275552e+03, 3.8998284e+03,\n",
      "       4.0792646e+03, 4.2716445e+03, 4.3970098e+03, 4.0602231e+03,\n",
      "       2.9825571e+03, 1.5690505e+03, 5.1539722e+02, 7.0690361e+01],\n",
      "      dtype=float32)}\n"
     ]
    }
   ],
   "source": [
    "print(z.sum(\"AK8Puppijet0_N2sdb1\").values())\n"
   ]
  },
  {
   "cell_type": "code",
   "execution_count": 14,
   "metadata": {},
   "outputs": [],
   "source": [
    "def multidim_cumsum(a):\n",
    "    out = a[...,::-1].cumsum(1)[...,::-1]\n",
    "    for i in range(2,a.ndim+1):\n",
    "        np.cumsum(out, axis=-i, out=out)\n",
    "    return out"
   ]
  },
  {
   "cell_type": "code",
   "execution_count": 15,
   "metadata": {},
   "outputs": [],
   "source": [
    "a = np.array([[7, -1, 3], [1, -2, 4], [10, 1, 5]])"
   ]
  },
  {
   "cell_type": "code",
   "execution_count": 16,
   "metadata": {},
   "outputs": [
    {
     "name": "stdout",
     "output_type": "stream",
     "text": [
      "[[ 7 -1  3]\n",
      " [ 1 -2  4]\n",
      " [10  1  5]]\n"
     ]
    }
   ],
   "source": [
    "print(a)"
   ]
  },
  {
   "cell_type": "code",
   "execution_count": 17,
   "metadata": {},
   "outputs": [
    {
     "data": {
      "text/plain": [
       "array([[ 9,  2,  3],\n",
       "       [12,  4,  7],\n",
       "       [28, 10, 12]])"
      ]
     },
     "execution_count": 17,
     "metadata": {},
     "output_type": "execute_result"
    }
   ],
   "source": [
    "multidim_cumsum(a)"
   ]
  },
  {
   "cell_type": "code",
   "execution_count": 18,
   "metadata": {},
   "outputs": [],
   "source": [
    "k = z.sum(\"AK8Puppijet0_N2sdb1\").values()"
   ]
  },
  {
   "cell_type": "code",
   "execution_count": 19,
   "metadata": {},
   "outputs": [
    {
     "name": "stdout",
     "output_type": "stream",
     "text": [
      "{('Hbb',): array([0.04442631, 0.07195245, 0.06914911, 0.06730691, 0.06455697,\n",
      "       0.06463706, 0.06162014, 0.06348903, 0.06407639, 0.06442347,\n",
      "       0.06423658, 0.06546471, 0.06762729, 0.07187236, 0.07350096,\n",
      "       0.07803971, 0.08084305, 0.08554198, 0.09125546, 0.09857085,\n",
      "       0.10564595, 0.11277445, 0.12513585, 0.13872539, 0.14988536,\n",
      "       0.17025632, 0.19094765, 0.22093005, 0.2635676 , 0.31645733,\n",
      "       0.39553824, 0.5126912 , 0.7031317 , 1.0772578 , 1.846468  ,\n",
      "       3.082342  , 3.8553698 , 3.0644534 , 1.3659753 , 0.19006659],\n",
      "      dtype=float32), ('QCD',): array([3.4228500e+05, 1.6998853e+05, 8.3768609e+04, 5.0899090e+04,\n",
      "       3.4842562e+04, 2.5458727e+04, 1.9737492e+04, 1.5889106e+04,\n",
      "       1.3120262e+04, 1.1095387e+04, 9.5109697e+03, 8.3882676e+03,\n",
      "       7.4811465e+03, 6.6900308e+03, 6.0560703e+03, 5.5225425e+03,\n",
      "       5.1057188e+03, 4.8127920e+03, 4.4787036e+03, 4.2658105e+03,\n",
      "       4.0768223e+03, 3.8814348e+03, 3.8003665e+03, 3.6455513e+03,\n",
      "       3.6307871e+03, 3.6130911e+03, 3.5520081e+03, 3.5816829e+03,\n",
      "       3.5929619e+03, 3.6987493e+03, 3.7275552e+03, 3.8998284e+03,\n",
      "       4.0792646e+03, 4.2716445e+03, 4.3970098e+03, 4.0602231e+03,\n",
      "       2.9825571e+03, 1.5690505e+03, 5.1539722e+02, 7.0690361e+01],\n",
      "      dtype=float32)}\n"
     ]
    }
   ],
   "source": [
    "print(k)"
   ]
  },
  {
   "cell_type": "code",
   "execution_count": 20,
   "metadata": {},
   "outputs": [
    {
     "data": {
      "text/plain": [
       "array([3.4228500e+05, 1.6998853e+05, 8.3768609e+04, 5.0899090e+04,\n",
       "       3.4842562e+04, 2.5458727e+04, 1.9737492e+04, 1.5889106e+04,\n",
       "       1.3120262e+04, 1.1095387e+04, 9.5109697e+03, 8.3882676e+03,\n",
       "       7.4811465e+03, 6.6900308e+03, 6.0560703e+03, 5.5225425e+03,\n",
       "       5.1057188e+03, 4.8127920e+03, 4.4787036e+03, 4.2658105e+03,\n",
       "       4.0768223e+03, 3.8814348e+03, 3.8003665e+03, 3.6455513e+03,\n",
       "       3.6307871e+03, 3.6130911e+03, 3.5520081e+03, 3.5816829e+03,\n",
       "       3.5929619e+03, 3.6987493e+03, 3.7275552e+03, 3.8998284e+03,\n",
       "       4.0792646e+03, 4.2716445e+03, 4.3970098e+03, 4.0602231e+03,\n",
       "       2.9825571e+03, 1.5690505e+03, 5.1539722e+02, 7.0690361e+01],\n",
       "      dtype=float32)"
      ]
     },
     "execution_count": 20,
     "metadata": {},
     "output_type": "execute_result"
    }
   ],
   "source": [
    "k[('QCD',)]"
   ]
  },
  {
   "cell_type": "code",
   "execution_count": 21,
   "metadata": {},
   "outputs": [
    {
     "ename": "AxisError",
     "evalue": "axis 1 is out of bounds for array of dimension 1",
     "output_type": "error",
     "traceback": [
      "\u001b[0;31m---------------------------------------------------------------------------\u001b[0m",
      "\u001b[0;31mAxisError\u001b[0m                                 Traceback (most recent call last)",
      "\u001b[0;32m<ipython-input-21-210ca1c94982>\u001b[0m in \u001b[0;36m<module>\u001b[0;34m()\u001b[0m\n\u001b[0;32m----> 1\u001b[0;31m \u001b[0mmultidim_cumsum\u001b[0m\u001b[0;34m(\u001b[0m\u001b[0mk\u001b[0m\u001b[0;34m[\u001b[0m\u001b[0;34m(\u001b[0m\u001b[0;34m'QCD'\u001b[0m\u001b[0;34m,\u001b[0m\u001b[0;34m)\u001b[0m\u001b[0;34m]\u001b[0m\u001b[0;34m)\u001b[0m\u001b[0;34m\u001b[0m\u001b[0m\n\u001b[0m",
      "\u001b[0;32m<ipython-input-14-4e5f972ab4cf>\u001b[0m in \u001b[0;36mmultidim_cumsum\u001b[0;34m(a)\u001b[0m\n\u001b[1;32m      1\u001b[0m \u001b[0;32mdef\u001b[0m \u001b[0mmultidim_cumsum\u001b[0m\u001b[0;34m(\u001b[0m\u001b[0ma\u001b[0m\u001b[0;34m)\u001b[0m\u001b[0;34m:\u001b[0m\u001b[0;34m\u001b[0m\u001b[0m\n\u001b[0;32m----> 2\u001b[0;31m     \u001b[0mout\u001b[0m \u001b[0;34m=\u001b[0m \u001b[0ma\u001b[0m\u001b[0;34m[\u001b[0m\u001b[0;34m...\u001b[0m\u001b[0;34m,\u001b[0m\u001b[0;34m:\u001b[0m\u001b[0;34m:\u001b[0m\u001b[0;34m-\u001b[0m\u001b[0;36m1\u001b[0m\u001b[0;34m]\u001b[0m\u001b[0;34m.\u001b[0m\u001b[0mcumsum\u001b[0m\u001b[0;34m(\u001b[0m\u001b[0;36m1\u001b[0m\u001b[0;34m)\u001b[0m\u001b[0;34m[\u001b[0m\u001b[0;34m...\u001b[0m\u001b[0;34m,\u001b[0m\u001b[0;34m:\u001b[0m\u001b[0;34m:\u001b[0m\u001b[0;34m-\u001b[0m\u001b[0;36m1\u001b[0m\u001b[0;34m]\u001b[0m\u001b[0;34m\u001b[0m\u001b[0m\n\u001b[0m\u001b[1;32m      3\u001b[0m     \u001b[0;32mfor\u001b[0m \u001b[0mi\u001b[0m \u001b[0;32min\u001b[0m \u001b[0mrange\u001b[0m\u001b[0;34m(\u001b[0m\u001b[0;36m2\u001b[0m\u001b[0;34m,\u001b[0m\u001b[0ma\u001b[0m\u001b[0;34m.\u001b[0m\u001b[0mndim\u001b[0m\u001b[0;34m+\u001b[0m\u001b[0;36m1\u001b[0m\u001b[0;34m)\u001b[0m\u001b[0;34m:\u001b[0m\u001b[0;34m\u001b[0m\u001b[0m\n\u001b[1;32m      4\u001b[0m         \u001b[0mnp\u001b[0m\u001b[0;34m.\u001b[0m\u001b[0mcumsum\u001b[0m\u001b[0;34m(\u001b[0m\u001b[0mout\u001b[0m\u001b[0;34m,\u001b[0m \u001b[0maxis\u001b[0m\u001b[0;34m=\u001b[0m\u001b[0;34m-\u001b[0m\u001b[0mi\u001b[0m\u001b[0;34m,\u001b[0m \u001b[0mout\u001b[0m\u001b[0;34m=\u001b[0m\u001b[0mout\u001b[0m\u001b[0;34m)\u001b[0m\u001b[0;34m\u001b[0m\u001b[0m\n\u001b[1;32m      5\u001b[0m     \u001b[0;32mreturn\u001b[0m \u001b[0mout\u001b[0m\u001b[0;34m\u001b[0m\u001b[0m\n",
      "\u001b[0;31mAxisError\u001b[0m: axis 1 is out of bounds for array of dimension 1"
     ]
    }
   ],
   "source": [
    "multidim_cumsum(k[('QCD',)])"
   ]
  },
  {
   "cell_type": "code",
   "execution_count": 22,
   "metadata": {},
   "outputs": [],
   "source": [
    "t = z.values(overflow='allnan')\n"
   ]
  },
  {
   "cell_type": "code",
   "execution_count": null,
   "metadata": {},
   "outputs": [],
   "source": []
  },
  {
   "cell_type": "code",
   "execution_count": 23,
   "metadata": {},
   "outputs": [
    {
     "name": "stdout",
     "output_type": "stream",
     "text": [
      "{('Hbb',): array([[0., 0., 0., ..., 0., 0., 0.],\n",
      "       [0., 0., 0., ..., 0., 0., 0.],\n",
      "       [0., 0., 0., ..., 0., 0., 0.],\n",
      "       ...,\n",
      "       [0., 0., 0., ..., 0., 0., 0.],\n",
      "       [0., 0., 0., ..., 0., 0., 0.],\n",
      "       [0., 0., 0., ..., 0., 0., 0.]], dtype=float32), ('QCD',): array([[0.        , 0.        , 0.        , ..., 0.        , 0.        ,\n",
      "        0.        ],\n",
      "       [0.        , 0.        , 0.01347783, ..., 0.        , 0.        ,\n",
      "        0.        ],\n",
      "       [0.        , 0.1526023 , 0.4287994 , ..., 0.07184455, 0.        ,\n",
      "        0.        ],\n",
      "       ...,\n",
      "       [0.        , 0.        , 0.        , ..., 0.        , 0.        ,\n",
      "        0.        ],\n",
      "       [0.        , 0.        , 0.        , ..., 0.        , 0.        ,\n",
      "        0.        ],\n",
      "       [0.        , 0.        , 0.        , ..., 0.        , 0.        ,\n",
      "        0.        ]], dtype=float32)}\n"
     ]
    }
   ],
   "source": [
    "print(t)"
   ]
  },
  {
   "cell_type": "code",
   "execution_count": 24,
   "metadata": {},
   "outputs": [
    {
     "ename": "KeyError",
     "evalue": "()",
     "output_type": "error",
     "traceback": [
      "\u001b[0;31m---------------------------------------------------------------------------\u001b[0m",
      "\u001b[0;31mKeyError\u001b[0m                                  Traceback (most recent call last)",
      "\u001b[0;32m<ipython-input-24-109576d05b87>\u001b[0m in \u001b[0;36m<module>\u001b[0;34m()\u001b[0m\n\u001b[0;32m----> 1\u001b[0;31m \u001b[0mmultidim_cumsum\u001b[0m\u001b[0;34m(\u001b[0m\u001b[0mt\u001b[0m\u001b[0;34m[\u001b[0m\u001b[0;34m(\u001b[0m\u001b[0;34m)\u001b[0m\u001b[0;34m]\u001b[0m\u001b[0;34m)\u001b[0m\u001b[0;34m\u001b[0m\u001b[0m\n\u001b[0m",
      "\u001b[0;31mKeyError\u001b[0m: ()"
     ]
    }
   ],
   "source": [
    "multidim_cumsum(t[()])"
   ]
  },
  {
   "cell_type": "code",
   "execution_count": 25,
   "metadata": {},
   "outputs": [],
   "source": [
    "background = multidim_cumsum(t[('QCD',)])"
   ]
  },
  {
   "cell_type": "code",
   "execution_count": 26,
   "metadata": {},
   "outputs": [
    {
     "name": "stdout",
     "output_type": "stream",
     "text": [
      "[[0.0000000e+00 0.0000000e+00 0.0000000e+00 ... 0.0000000e+00\n",
      "  0.0000000e+00 0.0000000e+00]\n",
      " [2.5156641e+00 2.5156641e+00 2.5156641e+00 ... 0.0000000e+00\n",
      "  0.0000000e+00 0.0000000e+00]\n",
      " [1.4566739e+01 1.4566739e+01 1.4414137e+01 ... 7.1844548e-02\n",
      "  0.0000000e+00 0.0000000e+00]\n",
      " ...\n",
      " [8.9606531e+05 8.9606531e+05 5.5378031e+05 ... 9.2514381e+01\n",
      "  2.1824034e+01 2.1824034e+01]\n",
      " [8.9606531e+05 8.9606531e+05 5.5378031e+05 ... 9.2514381e+01\n",
      "  2.1824034e+01 2.1824034e+01]\n",
      " [8.9606531e+05 8.9606531e+05 5.5378031e+05 ... 9.2514381e+01\n",
      "  2.1824034e+01 2.1824034e+01]]\n"
     ]
    }
   ],
   "source": [
    "print(background)"
   ]
  },
  {
   "cell_type": "code",
   "execution_count": 27,
   "metadata": {},
   "outputs": [],
   "source": [
    "signal = multidim_cumsum(t[('Hbb',)])"
   ]
  },
  {
   "cell_type": "code",
   "execution_count": 28,
   "metadata": {},
   "outputs": [
    {
     "name": "stdout",
     "output_type": "stream",
     "text": [
      "[[0.0000000e+00 0.0000000e+00 0.0000000e+00 ... 0.0000000e+00\n",
      "  0.0000000e+00 0.0000000e+00]\n",
      " [0.0000000e+00 0.0000000e+00 0.0000000e+00 ... 0.0000000e+00\n",
      "  0.0000000e+00 0.0000000e+00]\n",
      " [8.0095488e-05 8.0095488e-05 8.0095488e-05 ... 0.0000000e+00\n",
      "  0.0000000e+00 0.0000000e+00]\n",
      " ...\n",
      " [1.9300478e+01 1.9300478e+01 1.9256054e+01 ... 1.9033356e-01\n",
      "  2.6698498e-04 2.6698498e-04]\n",
      " [1.9300478e+01 1.9300478e+01 1.9256054e+01 ... 1.9033356e-01\n",
      "  2.6698498e-04 2.6698498e-04]\n",
      " [1.9300478e+01 1.9300478e+01 1.9256054e+01 ... 1.9033356e-01\n",
      "  2.6698498e-04 2.6698498e-04]]\n"
     ]
    }
   ],
   "source": [
    "print(signal)"
   ]
  },
  {
   "cell_type": "code",
   "execution_count": 29,
   "metadata": {},
   "outputs": [
    {
     "name": "stdout",
     "output_type": "stream",
     "text": [
      "[[ 7 -1  3]\n",
      " [ 1 -2  4]\n",
      " [10  1  5]]\n"
     ]
    }
   ],
   "source": [
    "print(a)"
   ]
  },
  {
   "cell_type": "code",
   "execution_count": 30,
   "metadata": {},
   "outputs": [],
   "source": [
    "aa = multidim_cumsum(a)"
   ]
  },
  {
   "cell_type": "code",
   "execution_count": 31,
   "metadata": {},
   "outputs": [
    {
     "name": "stdout",
     "output_type": "stream",
     "text": [
      "[[ 9  2  3]\n",
      " [12  4  7]\n",
      " [28 10 12]]\n"
     ]
    }
   ],
   "source": [
    "print(aa)"
   ]
  },
  {
   "cell_type": "code",
   "execution_count": 32,
   "metadata": {},
   "outputs": [
    {
     "name": "stdout",
     "output_type": "stream",
     "text": [
      "[[3.         1.41421356 1.73205081]\n",
      " [3.46410162 2.         2.64575131]\n",
      " [5.29150262 3.16227766 3.46410162]]\n"
     ]
    }
   ],
   "source": [
    "print(np.sqrt(aa))"
   ]
  },
  {
   "cell_type": "code",
   "execution_count": 33,
   "metadata": {},
   "outputs": [],
   "source": [
    "sqrtbkg = np.sqrt(background)"
   ]
  },
  {
   "cell_type": "code",
   "execution_count": 34,
   "metadata": {},
   "outputs": [
    {
     "name": "stdout",
     "output_type": "stream",
     "text": [
      "[[0.0000000e+00 0.0000000e+00 0.0000000e+00 ... 0.0000000e+00\n",
      "  0.0000000e+00 0.0000000e+00]\n",
      " [1.5860845e+00 1.5860845e+00 1.5860845e+00 ... 0.0000000e+00\n",
      "  0.0000000e+00 0.0000000e+00]\n",
      " [3.8166397e+00 3.8166397e+00 3.7965953e+00 ... 2.6803833e-01\n",
      "  0.0000000e+00 0.0000000e+00]\n",
      " ...\n",
      " [9.4660724e+02 9.4660724e+02 7.4416418e+02 ... 9.6184397e+00\n",
      "  4.6716199e+00 4.6716199e+00]\n",
      " [9.4660724e+02 9.4660724e+02 7.4416418e+02 ... 9.6184397e+00\n",
      "  4.6716199e+00 4.6716199e+00]\n",
      " [9.4660724e+02 9.4660724e+02 7.4416418e+02 ... 9.6184397e+00\n",
      "  4.6716199e+00 4.6716199e+00]]\n"
     ]
    }
   ],
   "source": [
    "print(sqrtbkg)"
   ]
  },
  {
   "cell_type": "code",
   "execution_count": 35,
   "metadata": {},
   "outputs": [
    {
     "name": "stdout",
     "output_type": "stream",
     "text": [
      "[[ 9  2  3]\n",
      " [12  4  7]\n",
      " [28 10 12]]\n"
     ]
    }
   ],
   "source": [
    "print(aa)"
   ]
  },
  {
   "cell_type": "code",
   "execution_count": 36,
   "metadata": {},
   "outputs": [
    {
     "name": "stdout",
     "output_type": "stream",
     "text": [
      "[[10  3  4]\n",
      " [13  5  8]\n",
      " [29 11 13]]\n"
     ]
    }
   ],
   "source": [
    "print(aa+1)"
   ]
  },
  {
   "cell_type": "code",
   "execution_count": 37,
   "metadata": {},
   "outputs": [
    {
     "name": "stdout",
     "output_type": "stream",
     "text": [
      "[[1.11111111 1.5        1.33333333]\n",
      " [1.08333333 1.25       1.14285714]\n",
      " [1.03571429 1.1        1.08333333]]\n"
     ]
    }
   ],
   "source": [
    "print((aa+1)/aa)"
   ]
  },
  {
   "cell_type": "code",
   "execution_count": 38,
   "metadata": {},
   "outputs": [],
   "source": [
    "soverb = signal/(sqrtbkg+1)"
   ]
  },
  {
   "cell_type": "code",
   "execution_count": 39,
   "metadata": {},
   "outputs": [
    {
     "name": "stdout",
     "output_type": "stream",
     "text": [
      "[[0.0000000e+00 0.0000000e+00 0.0000000e+00 ... 0.0000000e+00\n",
      "  0.0000000e+00 0.0000000e+00]\n",
      " [0.0000000e+00 0.0000000e+00 0.0000000e+00 ... 0.0000000e+00\n",
      "  0.0000000e+00 0.0000000e+00]\n",
      " [1.6628914e-05 1.6628914e-05 1.6698403e-05 ... 0.0000000e+00\n",
      "  0.0000000e+00 0.0000000e+00]\n",
      " ...\n",
      " [2.0367593e-02 2.0367593e-02 2.5841357e-02 ... 1.7924814e-02\n",
      "  4.7073849e-05 4.7073849e-05]\n",
      " [2.0367593e-02 2.0367593e-02 2.5841357e-02 ... 1.7924814e-02\n",
      "  4.7073849e-05 4.7073849e-05]\n",
      " [2.0367593e-02 2.0367593e-02 2.5841357e-02 ... 1.7924814e-02\n",
      "  4.7073849e-05 4.7073849e-05]]\n"
     ]
    }
   ],
   "source": [
    "print(soverb)"
   ]
  },
  {
   "cell_type": "code",
   "execution_count": 40,
   "metadata": {},
   "outputs": [
    {
     "name": "stdout",
     "output_type": "stream",
     "text": [
      "28\n"
     ]
    }
   ],
   "source": [
    "print(np.amax(aa))"
   ]
  },
  {
   "cell_type": "code",
   "execution_count": 41,
   "metadata": {},
   "outputs": [
    {
     "name": "stdout",
     "output_type": "stream",
     "text": [
      "0.1288894\n"
     ]
    }
   ],
   "source": [
    "print(np.amax(soverb))"
   ]
  },
  {
   "cell_type": "code",
   "execution_count": 42,
   "metadata": {},
   "outputs": [
    {
     "name": "stdout",
     "output_type": "stream",
     "text": [
      "6\n"
     ]
    }
   ],
   "source": [
    "print(np.argmax(aa))"
   ]
  },
  {
   "cell_type": "code",
   "execution_count": 43,
   "metadata": {},
   "outputs": [
    {
     "ename": "SyntaxError",
     "evalue": "invalid syntax (<ipython-input-43-5256b4a29449>, line 1)",
     "output_type": "error",
     "traceback": [
      "\u001b[0;36m  File \u001b[0;32m\"<ipython-input-43-5256b4a29449>\"\u001b[0;36m, line \u001b[0;32m1\u001b[0m\n\u001b[0;31m    print(aa.8)\u001b[0m\n\u001b[0m             ^\u001b[0m\n\u001b[0;31mSyntaxError\u001b[0m\u001b[0;31m:\u001b[0m invalid syntax\n"
     ]
    }
   ],
   "source": [
    "print(aa.8)"
   ]
  },
  {
   "cell_type": "code",
   "execution_count": 69,
   "metadata": {},
   "outputs": [
    {
     "name": "stdout",
     "output_type": "stream",
     "text": [
      "[[0.125 0.25  0.25 ]\n",
      " [0.25  0.5   0.625]\n",
      " [0.375 0.75  1.   ]]\n"
     ]
    }
   ],
   "source": [
    "print(aa/8)"
   ]
  },
  {
   "cell_type": "code",
   "execution_count": 70,
   "metadata": {},
   "outputs": [
    {
     "name": "stdout",
     "output_type": "stream",
     "text": [
      "[[0.125 0.25  0.25 ]\n",
      " [0.25  0.5   0.625]\n",
      " [0.375 0.75  1.   ]]\n"
     ]
    }
   ],
   "source": [
    "print(aa/np.amax(aa))"
   ]
  },
  {
   "cell_type": "code",
   "execution_count": 71,
   "metadata": {},
   "outputs": [
    {
     "name": "stdout",
     "output_type": "stream",
     "text": [
      "[[0.125 0.25  0.25 ]\n",
      " [0.25  0.5   0.625]\n",
      " [0.375 0.75  1.   ]]\n"
     ]
    }
   ],
   "source": [
    "print(aa/np.argmax(aa))"
   ]
  },
  {
   "cell_type": "code",
   "execution_count": 44,
   "metadata": {},
   "outputs": [
    {
     "name": "stdout",
     "output_type": "stream",
     "text": [
      "[[0.0000000e+00 0.0000000e+00 0.0000000e+00 ... 0.0000000e+00\n",
      "  0.0000000e+00 0.0000000e+00]\n",
      " [0.0000000e+00 0.0000000e+00 0.0000000e+00 ... 0.0000000e+00\n",
      "  0.0000000e+00 0.0000000e+00]\n",
      " [1.2901693e-04 1.2901693e-04 1.2955607e-04 ... 0.0000000e+00\n",
      "  0.0000000e+00 0.0000000e+00]\n",
      " ...\n",
      " [1.5802380e-01 1.5802380e-01 2.0049250e-01 ... 1.3907129e-01\n",
      "  3.6522670e-04 3.6522670e-04]\n",
      " [1.5802380e-01 1.5802380e-01 2.0049250e-01 ... 1.3907129e-01\n",
      "  3.6522670e-04 3.6522670e-04]\n",
      " [1.5802380e-01 1.5802380e-01 2.0049250e-01 ... 1.3907129e-01\n",
      "  3.6522670e-04 3.6522670e-04]]\n"
     ]
    }
   ],
   "source": [
    "print(soverb/np.amax(soverb))"
   ]
  },
  {
   "cell_type": "code",
   "execution_count": 45,
   "metadata": {},
   "outputs": [],
   "source": [
    "norm_soverb = soverb/np.amax(soverb)"
   ]
  },
  {
   "cell_type": "code",
   "execution_count": 46,
   "metadata": {},
   "outputs": [
    {
     "name": "stdout",
     "output_type": "stream",
     "text": [
      "[[0.0000000e+00 0.0000000e+00 0.0000000e+00 ... 0.0000000e+00\n",
      "  0.0000000e+00 0.0000000e+00]\n",
      " [0.0000000e+00 0.0000000e+00 0.0000000e+00 ... 0.0000000e+00\n",
      "  0.0000000e+00 0.0000000e+00]\n",
      " [1.2901693e-04 1.2901693e-04 1.2955607e-04 ... 0.0000000e+00\n",
      "  0.0000000e+00 0.0000000e+00]\n",
      " ...\n",
      " [1.5802380e-01 1.5802380e-01 2.0049250e-01 ... 1.3907129e-01\n",
      "  3.6522670e-04 3.6522670e-04]\n",
      " [1.5802380e-01 1.5802380e-01 2.0049250e-01 ... 1.3907129e-01\n",
      "  3.6522670e-04 3.6522670e-04]\n",
      " [1.5802380e-01 1.5802380e-01 2.0049250e-01 ... 1.3907129e-01\n",
      "  3.6522670e-04 3.6522670e-04]]\n"
     ]
    }
   ],
   "source": [
    "print(norm_soverb)"
   ]
  },
  {
   "cell_type": "code",
   "execution_count": 47,
   "metadata": {},
   "outputs": [
    {
     "name": "stdout",
     "output_type": "stream",
     "text": [
      "638\n"
     ]
    }
   ],
   "source": [
    "print(np.argmax(soverb))"
   ]
  },
  {
   "cell_type": "code",
   "execution_count": 59,
   "metadata": {},
   "outputs": [
    {
     "data": {
      "application/javascript": [
       "/* Put everything inside the global mpl namespace */\n",
       "window.mpl = {};\n",
       "\n",
       "\n",
       "mpl.get_websocket_type = function() {\n",
       "    if (typeof(WebSocket) !== 'undefined') {\n",
       "        return WebSocket;\n",
       "    } else if (typeof(MozWebSocket) !== 'undefined') {\n",
       "        return MozWebSocket;\n",
       "    } else {\n",
       "        alert('Your browser does not have WebSocket support.' +\n",
       "              'Please try Chrome, Safari or Firefox ≥ 6. ' +\n",
       "              'Firefox 4 and 5 are also supported but you ' +\n",
       "              'have to enable WebSockets in about:config.');\n",
       "    };\n",
       "}\n",
       "\n",
       "mpl.figure = function(figure_id, websocket, ondownload, parent_element) {\n",
       "    this.id = figure_id;\n",
       "\n",
       "    this.ws = websocket;\n",
       "\n",
       "    this.supports_binary = (this.ws.binaryType != undefined);\n",
       "\n",
       "    if (!this.supports_binary) {\n",
       "        var warnings = document.getElementById(\"mpl-warnings\");\n",
       "        if (warnings) {\n",
       "            warnings.style.display = 'block';\n",
       "            warnings.textContent = (\n",
       "                \"This browser does not support binary websocket messages. \" +\n",
       "                    \"Performance may be slow.\");\n",
       "        }\n",
       "    }\n",
       "\n",
       "    this.imageObj = new Image();\n",
       "\n",
       "    this.context = undefined;\n",
       "    this.message = undefined;\n",
       "    this.canvas = undefined;\n",
       "    this.rubberband_canvas = undefined;\n",
       "    this.rubberband_context = undefined;\n",
       "    this.format_dropdown = undefined;\n",
       "\n",
       "    this.image_mode = 'full';\n",
       "\n",
       "    this.root = $('<div/>');\n",
       "    this._root_extra_style(this.root)\n",
       "    this.root.attr('style', 'display: inline-block');\n",
       "\n",
       "    $(parent_element).append(this.root);\n",
       "\n",
       "    this._init_header(this);\n",
       "    this._init_canvas(this);\n",
       "    this._init_toolbar(this);\n",
       "\n",
       "    var fig = this;\n",
       "\n",
       "    this.waiting = false;\n",
       "\n",
       "    this.ws.onopen =  function () {\n",
       "            fig.send_message(\"supports_binary\", {value: fig.supports_binary});\n",
       "            fig.send_message(\"send_image_mode\", {});\n",
       "            if (mpl.ratio != 1) {\n",
       "                fig.send_message(\"set_dpi_ratio\", {'dpi_ratio': mpl.ratio});\n",
       "            }\n",
       "            fig.send_message(\"refresh\", {});\n",
       "        }\n",
       "\n",
       "    this.imageObj.onload = function() {\n",
       "            if (fig.image_mode == 'full') {\n",
       "                // Full images could contain transparency (where diff images\n",
       "                // almost always do), so we need to clear the canvas so that\n",
       "                // there is no ghosting.\n",
       "                fig.context.clearRect(0, 0, fig.canvas.width, fig.canvas.height);\n",
       "            }\n",
       "            fig.context.drawImage(fig.imageObj, 0, 0);\n",
       "        };\n",
       "\n",
       "    this.imageObj.onunload = function() {\n",
       "        fig.ws.close();\n",
       "    }\n",
       "\n",
       "    this.ws.onmessage = this._make_on_message_function(this);\n",
       "\n",
       "    this.ondownload = ondownload;\n",
       "}\n",
       "\n",
       "mpl.figure.prototype._init_header = function() {\n",
       "    var titlebar = $(\n",
       "        '<div class=\"ui-dialog-titlebar ui-widget-header ui-corner-all ' +\n",
       "        'ui-helper-clearfix\"/>');\n",
       "    var titletext = $(\n",
       "        '<div class=\"ui-dialog-title\" style=\"width: 100%; ' +\n",
       "        'text-align: center; padding: 3px;\"/>');\n",
       "    titlebar.append(titletext)\n",
       "    this.root.append(titlebar);\n",
       "    this.header = titletext[0];\n",
       "}\n",
       "\n",
       "\n",
       "\n",
       "mpl.figure.prototype._canvas_extra_style = function(canvas_div) {\n",
       "\n",
       "}\n",
       "\n",
       "\n",
       "mpl.figure.prototype._root_extra_style = function(canvas_div) {\n",
       "\n",
       "}\n",
       "\n",
       "mpl.figure.prototype._init_canvas = function() {\n",
       "    var fig = this;\n",
       "\n",
       "    var canvas_div = $('<div/>');\n",
       "\n",
       "    canvas_div.attr('style', 'position: relative; clear: both; outline: 0');\n",
       "\n",
       "    function canvas_keyboard_event(event) {\n",
       "        return fig.key_event(event, event['data']);\n",
       "    }\n",
       "\n",
       "    canvas_div.keydown('key_press', canvas_keyboard_event);\n",
       "    canvas_div.keyup('key_release', canvas_keyboard_event);\n",
       "    this.canvas_div = canvas_div\n",
       "    this._canvas_extra_style(canvas_div)\n",
       "    this.root.append(canvas_div);\n",
       "\n",
       "    var canvas = $('<canvas/>');\n",
       "    canvas.addClass('mpl-canvas');\n",
       "    canvas.attr('style', \"left: 0; top: 0; z-index: 0; outline: 0\")\n",
       "\n",
       "    this.canvas = canvas[0];\n",
       "    this.context = canvas[0].getContext(\"2d\");\n",
       "\n",
       "    var backingStore = this.context.backingStorePixelRatio ||\n",
       "\tthis.context.webkitBackingStorePixelRatio ||\n",
       "\tthis.context.mozBackingStorePixelRatio ||\n",
       "\tthis.context.msBackingStorePixelRatio ||\n",
       "\tthis.context.oBackingStorePixelRatio ||\n",
       "\tthis.context.backingStorePixelRatio || 1;\n",
       "\n",
       "    mpl.ratio = (window.devicePixelRatio || 1) / backingStore;\n",
       "\n",
       "    var rubberband = $('<canvas/>');\n",
       "    rubberband.attr('style', \"position: absolute; left: 0; top: 0; z-index: 1;\")\n",
       "\n",
       "    var pass_mouse_events = true;\n",
       "\n",
       "    canvas_div.resizable({\n",
       "        start: function(event, ui) {\n",
       "            pass_mouse_events = false;\n",
       "        },\n",
       "        resize: function(event, ui) {\n",
       "            fig.request_resize(ui.size.width, ui.size.height);\n",
       "        },\n",
       "        stop: function(event, ui) {\n",
       "            pass_mouse_events = true;\n",
       "            fig.request_resize(ui.size.width, ui.size.height);\n",
       "        },\n",
       "    });\n",
       "\n",
       "    function mouse_event_fn(event) {\n",
       "        if (pass_mouse_events)\n",
       "            return fig.mouse_event(event, event['data']);\n",
       "    }\n",
       "\n",
       "    rubberband.mousedown('button_press', mouse_event_fn);\n",
       "    rubberband.mouseup('button_release', mouse_event_fn);\n",
       "    // Throttle sequential mouse events to 1 every 20ms.\n",
       "    rubberband.mousemove('motion_notify', mouse_event_fn);\n",
       "\n",
       "    rubberband.mouseenter('figure_enter', mouse_event_fn);\n",
       "    rubberband.mouseleave('figure_leave', mouse_event_fn);\n",
       "\n",
       "    canvas_div.on(\"wheel\", function (event) {\n",
       "        event = event.originalEvent;\n",
       "        event['data'] = 'scroll'\n",
       "        if (event.deltaY < 0) {\n",
       "            event.step = 1;\n",
       "        } else {\n",
       "            event.step = -1;\n",
       "        }\n",
       "        mouse_event_fn(event);\n",
       "    });\n",
       "\n",
       "    canvas_div.append(canvas);\n",
       "    canvas_div.append(rubberband);\n",
       "\n",
       "    this.rubberband = rubberband;\n",
       "    this.rubberband_canvas = rubberband[0];\n",
       "    this.rubberband_context = rubberband[0].getContext(\"2d\");\n",
       "    this.rubberband_context.strokeStyle = \"#000000\";\n",
       "\n",
       "    this._resize_canvas = function(width, height) {\n",
       "        // Keep the size of the canvas, canvas container, and rubber band\n",
       "        // canvas in synch.\n",
       "        canvas_div.css('width', width)\n",
       "        canvas_div.css('height', height)\n",
       "\n",
       "        canvas.attr('width', width * mpl.ratio);\n",
       "        canvas.attr('height', height * mpl.ratio);\n",
       "        canvas.attr('style', 'width: ' + width + 'px; height: ' + height + 'px;');\n",
       "\n",
       "        rubberband.attr('width', width);\n",
       "        rubberband.attr('height', height);\n",
       "    }\n",
       "\n",
       "    // Set the figure to an initial 600x600px, this will subsequently be updated\n",
       "    // upon first draw.\n",
       "    this._resize_canvas(600, 600);\n",
       "\n",
       "    // Disable right mouse context menu.\n",
       "    $(this.rubberband_canvas).bind(\"contextmenu\",function(e){\n",
       "        return false;\n",
       "    });\n",
       "\n",
       "    function set_focus () {\n",
       "        canvas.focus();\n",
       "        canvas_div.focus();\n",
       "    }\n",
       "\n",
       "    window.setTimeout(set_focus, 100);\n",
       "}\n",
       "\n",
       "mpl.figure.prototype._init_toolbar = function() {\n",
       "    var fig = this;\n",
       "\n",
       "    var nav_element = $('<div/>')\n",
       "    nav_element.attr('style', 'width: 100%');\n",
       "    this.root.append(nav_element);\n",
       "\n",
       "    // Define a callback function for later on.\n",
       "    function toolbar_event(event) {\n",
       "        return fig.toolbar_button_onclick(event['data']);\n",
       "    }\n",
       "    function toolbar_mouse_event(event) {\n",
       "        return fig.toolbar_button_onmouseover(event['data']);\n",
       "    }\n",
       "\n",
       "    for(var toolbar_ind in mpl.toolbar_items) {\n",
       "        var name = mpl.toolbar_items[toolbar_ind][0];\n",
       "        var tooltip = mpl.toolbar_items[toolbar_ind][1];\n",
       "        var image = mpl.toolbar_items[toolbar_ind][2];\n",
       "        var method_name = mpl.toolbar_items[toolbar_ind][3];\n",
       "\n",
       "        if (!name) {\n",
       "            // put a spacer in here.\n",
       "            continue;\n",
       "        }\n",
       "        var button = $('<button/>');\n",
       "        button.addClass('ui-button ui-widget ui-state-default ui-corner-all ' +\n",
       "                        'ui-button-icon-only');\n",
       "        button.attr('role', 'button');\n",
       "        button.attr('aria-disabled', 'false');\n",
       "        button.click(method_name, toolbar_event);\n",
       "        button.mouseover(tooltip, toolbar_mouse_event);\n",
       "\n",
       "        var icon_img = $('<span/>');\n",
       "        icon_img.addClass('ui-button-icon-primary ui-icon');\n",
       "        icon_img.addClass(image);\n",
       "        icon_img.addClass('ui-corner-all');\n",
       "\n",
       "        var tooltip_span = $('<span/>');\n",
       "        tooltip_span.addClass('ui-button-text');\n",
       "        tooltip_span.html(tooltip);\n",
       "\n",
       "        button.append(icon_img);\n",
       "        button.append(tooltip_span);\n",
       "\n",
       "        nav_element.append(button);\n",
       "    }\n",
       "\n",
       "    var fmt_picker_span = $('<span/>');\n",
       "\n",
       "    var fmt_picker = $('<select/>');\n",
       "    fmt_picker.addClass('mpl-toolbar-option ui-widget ui-widget-content');\n",
       "    fmt_picker_span.append(fmt_picker);\n",
       "    nav_element.append(fmt_picker_span);\n",
       "    this.format_dropdown = fmt_picker[0];\n",
       "\n",
       "    for (var ind in mpl.extensions) {\n",
       "        var fmt = mpl.extensions[ind];\n",
       "        var option = $(\n",
       "            '<option/>', {selected: fmt === mpl.default_extension}).html(fmt);\n",
       "        fmt_picker.append(option)\n",
       "    }\n",
       "\n",
       "    // Add hover states to the ui-buttons\n",
       "    $( \".ui-button\" ).hover(\n",
       "        function() { $(this).addClass(\"ui-state-hover\");},\n",
       "        function() { $(this).removeClass(\"ui-state-hover\");}\n",
       "    );\n",
       "\n",
       "    var status_bar = $('<span class=\"mpl-message\"/>');\n",
       "    nav_element.append(status_bar);\n",
       "    this.message = status_bar[0];\n",
       "}\n",
       "\n",
       "mpl.figure.prototype.request_resize = function(x_pixels, y_pixels) {\n",
       "    // Request matplotlib to resize the figure. Matplotlib will then trigger a resize in the client,\n",
       "    // which will in turn request a refresh of the image.\n",
       "    this.send_message('resize', {'width': x_pixels, 'height': y_pixels});\n",
       "}\n",
       "\n",
       "mpl.figure.prototype.send_message = function(type, properties) {\n",
       "    properties['type'] = type;\n",
       "    properties['figure_id'] = this.id;\n",
       "    this.ws.send(JSON.stringify(properties));\n",
       "}\n",
       "\n",
       "mpl.figure.prototype.send_draw_message = function() {\n",
       "    if (!this.waiting) {\n",
       "        this.waiting = true;\n",
       "        this.ws.send(JSON.stringify({type: \"draw\", figure_id: this.id}));\n",
       "    }\n",
       "}\n",
       "\n",
       "\n",
       "mpl.figure.prototype.handle_save = function(fig, msg) {\n",
       "    var format_dropdown = fig.format_dropdown;\n",
       "    var format = format_dropdown.options[format_dropdown.selectedIndex].value;\n",
       "    fig.ondownload(fig, format);\n",
       "}\n",
       "\n",
       "\n",
       "mpl.figure.prototype.handle_resize = function(fig, msg) {\n",
       "    var size = msg['size'];\n",
       "    if (size[0] != fig.canvas.width || size[1] != fig.canvas.height) {\n",
       "        fig._resize_canvas(size[0], size[1]);\n",
       "        fig.send_message(\"refresh\", {});\n",
       "    };\n",
       "}\n",
       "\n",
       "mpl.figure.prototype.handle_rubberband = function(fig, msg) {\n",
       "    var x0 = msg['x0'] / mpl.ratio;\n",
       "    var y0 = (fig.canvas.height - msg['y0']) / mpl.ratio;\n",
       "    var x1 = msg['x1'] / mpl.ratio;\n",
       "    var y1 = (fig.canvas.height - msg['y1']) / mpl.ratio;\n",
       "    x0 = Math.floor(x0) + 0.5;\n",
       "    y0 = Math.floor(y0) + 0.5;\n",
       "    x1 = Math.floor(x1) + 0.5;\n",
       "    y1 = Math.floor(y1) + 0.5;\n",
       "    var min_x = Math.min(x0, x1);\n",
       "    var min_y = Math.min(y0, y1);\n",
       "    var width = Math.abs(x1 - x0);\n",
       "    var height = Math.abs(y1 - y0);\n",
       "\n",
       "    fig.rubberband_context.clearRect(\n",
       "        0, 0, fig.canvas.width, fig.canvas.height);\n",
       "\n",
       "    fig.rubberband_context.strokeRect(min_x, min_y, width, height);\n",
       "}\n",
       "\n",
       "mpl.figure.prototype.handle_figure_label = function(fig, msg) {\n",
       "    // Updates the figure title.\n",
       "    fig.header.textContent = msg['label'];\n",
       "}\n",
       "\n",
       "mpl.figure.prototype.handle_cursor = function(fig, msg) {\n",
       "    var cursor = msg['cursor'];\n",
       "    switch(cursor)\n",
       "    {\n",
       "    case 0:\n",
       "        cursor = 'pointer';\n",
       "        break;\n",
       "    case 1:\n",
       "        cursor = 'default';\n",
       "        break;\n",
       "    case 2:\n",
       "        cursor = 'crosshair';\n",
       "        break;\n",
       "    case 3:\n",
       "        cursor = 'move';\n",
       "        break;\n",
       "    }\n",
       "    fig.rubberband_canvas.style.cursor = cursor;\n",
       "}\n",
       "\n",
       "mpl.figure.prototype.handle_message = function(fig, msg) {\n",
       "    fig.message.textContent = msg['message'];\n",
       "}\n",
       "\n",
       "mpl.figure.prototype.handle_draw = function(fig, msg) {\n",
       "    // Request the server to send over a new figure.\n",
       "    fig.send_draw_message();\n",
       "}\n",
       "\n",
       "mpl.figure.prototype.handle_image_mode = function(fig, msg) {\n",
       "    fig.image_mode = msg['mode'];\n",
       "}\n",
       "\n",
       "mpl.figure.prototype.updated_canvas_event = function() {\n",
       "    // Called whenever the canvas gets updated.\n",
       "    this.send_message(\"ack\", {});\n",
       "}\n",
       "\n",
       "// A function to construct a web socket function for onmessage handling.\n",
       "// Called in the figure constructor.\n",
       "mpl.figure.prototype._make_on_message_function = function(fig) {\n",
       "    return function socket_on_message(evt) {\n",
       "        if (evt.data instanceof Blob) {\n",
       "            /* FIXME: We get \"Resource interpreted as Image but\n",
       "             * transferred with MIME type text/plain:\" errors on\n",
       "             * Chrome.  But how to set the MIME type?  It doesn't seem\n",
       "             * to be part of the websocket stream */\n",
       "            evt.data.type = \"image/png\";\n",
       "\n",
       "            /* Free the memory for the previous frames */\n",
       "            if (fig.imageObj.src) {\n",
       "                (window.URL || window.webkitURL).revokeObjectURL(\n",
       "                    fig.imageObj.src);\n",
       "            }\n",
       "\n",
       "            fig.imageObj.src = (window.URL || window.webkitURL).createObjectURL(\n",
       "                evt.data);\n",
       "            fig.updated_canvas_event();\n",
       "            fig.waiting = false;\n",
       "            return;\n",
       "        }\n",
       "        else if (typeof evt.data === 'string' && evt.data.slice(0, 21) == \"data:image/png;base64\") {\n",
       "            fig.imageObj.src = evt.data;\n",
       "            fig.updated_canvas_event();\n",
       "            fig.waiting = false;\n",
       "            return;\n",
       "        }\n",
       "\n",
       "        var msg = JSON.parse(evt.data);\n",
       "        var msg_type = msg['type'];\n",
       "\n",
       "        // Call the  \"handle_{type}\" callback, which takes\n",
       "        // the figure and JSON message as its only arguments.\n",
       "        try {\n",
       "            var callback = fig[\"handle_\" + msg_type];\n",
       "        } catch (e) {\n",
       "            console.log(\"No handler for the '\" + msg_type + \"' message type: \", msg);\n",
       "            return;\n",
       "        }\n",
       "\n",
       "        if (callback) {\n",
       "            try {\n",
       "                // console.log(\"Handling '\" + msg_type + \"' message: \", msg);\n",
       "                callback(fig, msg);\n",
       "            } catch (e) {\n",
       "                console.log(\"Exception inside the 'handler_\" + msg_type + \"' callback:\", e, e.stack, msg);\n",
       "            }\n",
       "        }\n",
       "    };\n",
       "}\n",
       "\n",
       "// from http://stackoverflow.com/questions/1114465/getting-mouse-location-in-canvas\n",
       "mpl.findpos = function(e) {\n",
       "    //this section is from http://www.quirksmode.org/js/events_properties.html\n",
       "    var targ;\n",
       "    if (!e)\n",
       "        e = window.event;\n",
       "    if (e.target)\n",
       "        targ = e.target;\n",
       "    else if (e.srcElement)\n",
       "        targ = e.srcElement;\n",
       "    if (targ.nodeType == 3) // defeat Safari bug\n",
       "        targ = targ.parentNode;\n",
       "\n",
       "    // jQuery normalizes the pageX and pageY\n",
       "    // pageX,Y are the mouse positions relative to the document\n",
       "    // offset() returns the position of the element relative to the document\n",
       "    var x = e.pageX - $(targ).offset().left;\n",
       "    var y = e.pageY - $(targ).offset().top;\n",
       "\n",
       "    return {\"x\": x, \"y\": y};\n",
       "};\n",
       "\n",
       "/*\n",
       " * return a copy of an object with only non-object keys\n",
       " * we need this to avoid circular references\n",
       " * http://stackoverflow.com/a/24161582/3208463\n",
       " */\n",
       "function simpleKeys (original) {\n",
       "  return Object.keys(original).reduce(function (obj, key) {\n",
       "    if (typeof original[key] !== 'object')\n",
       "        obj[key] = original[key]\n",
       "    return obj;\n",
       "  }, {});\n",
       "}\n",
       "\n",
       "mpl.figure.prototype.mouse_event = function(event, name) {\n",
       "    var canvas_pos = mpl.findpos(event)\n",
       "\n",
       "    if (name === 'button_press')\n",
       "    {\n",
       "        this.canvas.focus();\n",
       "        this.canvas_div.focus();\n",
       "    }\n",
       "\n",
       "    var x = canvas_pos.x * mpl.ratio;\n",
       "    var y = canvas_pos.y * mpl.ratio;\n",
       "\n",
       "    this.send_message(name, {x: x, y: y, button: event.button,\n",
       "                             step: event.step,\n",
       "                             guiEvent: simpleKeys(event)});\n",
       "\n",
       "    /* This prevents the web browser from automatically changing to\n",
       "     * the text insertion cursor when the button is pressed.  We want\n",
       "     * to control all of the cursor setting manually through the\n",
       "     * 'cursor' event from matplotlib */\n",
       "    event.preventDefault();\n",
       "    return false;\n",
       "}\n",
       "\n",
       "mpl.figure.prototype._key_event_extra = function(event, name) {\n",
       "    // Handle any extra behaviour associated with a key event\n",
       "}\n",
       "\n",
       "mpl.figure.prototype.key_event = function(event, name) {\n",
       "\n",
       "    // Prevent repeat events\n",
       "    if (name == 'key_press')\n",
       "    {\n",
       "        if (event.which === this._key)\n",
       "            return;\n",
       "        else\n",
       "            this._key = event.which;\n",
       "    }\n",
       "    if (name == 'key_release')\n",
       "        this._key = null;\n",
       "\n",
       "    var value = '';\n",
       "    if (event.ctrlKey && event.which != 17)\n",
       "        value += \"ctrl+\";\n",
       "    if (event.altKey && event.which != 18)\n",
       "        value += \"alt+\";\n",
       "    if (event.shiftKey && event.which != 16)\n",
       "        value += \"shift+\";\n",
       "\n",
       "    value += 'k';\n",
       "    value += event.which.toString();\n",
       "\n",
       "    this._key_event_extra(event, name);\n",
       "\n",
       "    this.send_message(name, {key: value,\n",
       "                             guiEvent: simpleKeys(event)});\n",
       "    return false;\n",
       "}\n",
       "\n",
       "mpl.figure.prototype.toolbar_button_onclick = function(name) {\n",
       "    if (name == 'download') {\n",
       "        this.handle_save(this, null);\n",
       "    } else {\n",
       "        this.send_message(\"toolbar_button\", {name: name});\n",
       "    }\n",
       "};\n",
       "\n",
       "mpl.figure.prototype.toolbar_button_onmouseover = function(tooltip) {\n",
       "    this.message.textContent = tooltip;\n",
       "};\n",
       "mpl.toolbar_items = [[\"Home\", \"Reset original view\", \"fa fa-home icon-home\", \"home\"], [\"Back\", \"Back to  previous view\", \"fa fa-arrow-left icon-arrow-left\", \"back\"], [\"Forward\", \"Forward to next view\", \"fa fa-arrow-right icon-arrow-right\", \"forward\"], [\"\", \"\", \"\", \"\"], [\"Pan\", \"Pan axes with left mouse, zoom with right\", \"fa fa-arrows icon-move\", \"pan\"], [\"Zoom\", \"Zoom to rectangle\", \"fa fa-square-o icon-check-empty\", \"zoom\"], [\"\", \"\", \"\", \"\"], [\"Download\", \"Download plot\", \"fa fa-floppy-o icon-save\", \"download\"]];\n",
       "\n",
       "mpl.extensions = [\"eps\", \"pdf\", \"png\", \"ps\", \"raw\", \"svg\"];\n",
       "\n",
       "mpl.default_extension = \"png\";var comm_websocket_adapter = function(comm) {\n",
       "    // Create a \"websocket\"-like object which calls the given IPython comm\n",
       "    // object with the appropriate methods. Currently this is a non binary\n",
       "    // socket, so there is still some room for performance tuning.\n",
       "    var ws = {};\n",
       "\n",
       "    ws.close = function() {\n",
       "        comm.close()\n",
       "    };\n",
       "    ws.send = function(m) {\n",
       "        //console.log('sending', m);\n",
       "        comm.send(m);\n",
       "    };\n",
       "    // Register the callback with on_msg.\n",
       "    comm.on_msg(function(msg) {\n",
       "        //console.log('receiving', msg['content']['data'], msg);\n",
       "        // Pass the mpl event to the overridden (by mpl) onmessage function.\n",
       "        ws.onmessage(msg['content']['data'])\n",
       "    });\n",
       "    return ws;\n",
       "}\n",
       "\n",
       "mpl.mpl_figure_comm = function(comm, msg) {\n",
       "    // This is the function which gets called when the mpl process\n",
       "    // starts-up an IPython Comm through the \"matplotlib\" channel.\n",
       "\n",
       "    var id = msg.content.data.id;\n",
       "    // Get hold of the div created by the display call when the Comm\n",
       "    // socket was opened in Python.\n",
       "    var element = $(\"#\" + id);\n",
       "    var ws_proxy = comm_websocket_adapter(comm)\n",
       "\n",
       "    function ondownload(figure, format) {\n",
       "        window.open(figure.imageObj.src);\n",
       "    }\n",
       "\n",
       "    var fig = new mpl.figure(id, ws_proxy,\n",
       "                           ondownload,\n",
       "                           element.get(0));\n",
       "\n",
       "    // Call onopen now - mpl needs it, as it is assuming we've passed it a real\n",
       "    // web socket which is closed, not our websocket->open comm proxy.\n",
       "    ws_proxy.onopen();\n",
       "\n",
       "    fig.parent_element = element.get(0);\n",
       "    fig.cell_info = mpl.find_output_cell(\"<div id='\" + id + \"'></div>\");\n",
       "    if (!fig.cell_info) {\n",
       "        console.error(\"Failed to find cell for figure\", id, fig);\n",
       "        return;\n",
       "    }\n",
       "\n",
       "    var output_index = fig.cell_info[2]\n",
       "    var cell = fig.cell_info[0];\n",
       "\n",
       "};\n",
       "\n",
       "mpl.figure.prototype.handle_close = function(fig, msg) {\n",
       "    var width = fig.canvas.width/mpl.ratio\n",
       "    fig.root.unbind('remove')\n",
       "\n",
       "    // Update the output cell to use the data from the current canvas.\n",
       "    fig.push_to_output();\n",
       "    var dataURL = fig.canvas.toDataURL();\n",
       "    // Re-enable the keyboard manager in IPython - without this line, in FF,\n",
       "    // the notebook keyboard shortcuts fail.\n",
       "    IPython.keyboard_manager.enable()\n",
       "    $(fig.parent_element).html('<img src=\"' + dataURL + '\" width=\"' + width + '\">');\n",
       "    fig.close_ws(fig, msg);\n",
       "}\n",
       "\n",
       "mpl.figure.prototype.close_ws = function(fig, msg){\n",
       "    fig.send_message('closing', msg);\n",
       "    // fig.ws.close()\n",
       "}\n",
       "\n",
       "mpl.figure.prototype.push_to_output = function(remove_interactive) {\n",
       "    // Turn the data on the canvas into data in the output cell.\n",
       "    var width = this.canvas.width/mpl.ratio\n",
       "    var dataURL = this.canvas.toDataURL();\n",
       "    this.cell_info[1]['text/html'] = '<img src=\"' + dataURL + '\" width=\"' + width + '\">';\n",
       "}\n",
       "\n",
       "mpl.figure.prototype.updated_canvas_event = function() {\n",
       "    // Tell IPython that the notebook contents must change.\n",
       "    IPython.notebook.set_dirty(true);\n",
       "    this.send_message(\"ack\", {});\n",
       "    var fig = this;\n",
       "    // Wait a second, then push the new image to the DOM so\n",
       "    // that it is saved nicely (might be nice to debounce this).\n",
       "    setTimeout(function () { fig.push_to_output() }, 1000);\n",
       "}\n",
       "\n",
       "mpl.figure.prototype._init_toolbar = function() {\n",
       "    var fig = this;\n",
       "\n",
       "    var nav_element = $('<div/>')\n",
       "    nav_element.attr('style', 'width: 100%');\n",
       "    this.root.append(nav_element);\n",
       "\n",
       "    // Define a callback function for later on.\n",
       "    function toolbar_event(event) {\n",
       "        return fig.toolbar_button_onclick(event['data']);\n",
       "    }\n",
       "    function toolbar_mouse_event(event) {\n",
       "        return fig.toolbar_button_onmouseover(event['data']);\n",
       "    }\n",
       "\n",
       "    for(var toolbar_ind in mpl.toolbar_items){\n",
       "        var name = mpl.toolbar_items[toolbar_ind][0];\n",
       "        var tooltip = mpl.toolbar_items[toolbar_ind][1];\n",
       "        var image = mpl.toolbar_items[toolbar_ind][2];\n",
       "        var method_name = mpl.toolbar_items[toolbar_ind][3];\n",
       "\n",
       "        if (!name) { continue; };\n",
       "\n",
       "        var button = $('<button class=\"btn btn-default\" href=\"#\" title=\"' + name + '\"><i class=\"fa ' + image + ' fa-lg\"></i></button>');\n",
       "        button.click(method_name, toolbar_event);\n",
       "        button.mouseover(tooltip, toolbar_mouse_event);\n",
       "        nav_element.append(button);\n",
       "    }\n",
       "\n",
       "    // Add the status bar.\n",
       "    var status_bar = $('<span class=\"mpl-message\" style=\"text-align:right; float: right;\"/>');\n",
       "    nav_element.append(status_bar);\n",
       "    this.message = status_bar[0];\n",
       "\n",
       "    // Add the close button to the window.\n",
       "    var buttongrp = $('<div class=\"btn-group inline pull-right\"></div>');\n",
       "    var button = $('<button class=\"btn btn-mini btn-primary\" href=\"#\" title=\"Stop Interaction\"><i class=\"fa fa-power-off icon-remove icon-large\"></i></button>');\n",
       "    button.click(function (evt) { fig.handle_close(fig, {}); } );\n",
       "    button.mouseover('Stop Interaction', toolbar_mouse_event);\n",
       "    buttongrp.append(button);\n",
       "    var titlebar = this.root.find($('.ui-dialog-titlebar'));\n",
       "    titlebar.prepend(buttongrp);\n",
       "}\n",
       "\n",
       "mpl.figure.prototype._root_extra_style = function(el){\n",
       "    var fig = this\n",
       "    el.on(\"remove\", function(){\n",
       "\tfig.close_ws(fig, {});\n",
       "    });\n",
       "}\n",
       "\n",
       "mpl.figure.prototype._canvas_extra_style = function(el){\n",
       "    // this is important to make the div 'focusable\n",
       "    el.attr('tabindex', 0)\n",
       "    // reach out to IPython and tell the keyboard manager to turn it's self\n",
       "    // off when our div gets focus\n",
       "\n",
       "    // location in version 3\n",
       "    if (IPython.notebook.keyboard_manager) {\n",
       "        IPython.notebook.keyboard_manager.register_events(el);\n",
       "    }\n",
       "    else {\n",
       "        // location in version 2\n",
       "        IPython.keyboard_manager.register_events(el);\n",
       "    }\n",
       "\n",
       "}\n",
       "\n",
       "mpl.figure.prototype._key_event_extra = function(event, name) {\n",
       "    var manager = IPython.notebook.keyboard_manager;\n",
       "    if (!manager)\n",
       "        manager = IPython.keyboard_manager;\n",
       "\n",
       "    // Check for shift+enter\n",
       "    if (event.shiftKey && event.which == 13) {\n",
       "        this.canvas_div.blur();\n",
       "        event.shiftKey = false;\n",
       "        // Send a \"J\" for go to next cell\n",
       "        event.which = 74;\n",
       "        event.keyCode = 74;\n",
       "        manager.command_mode();\n",
       "        manager.handle_keydown(event);\n",
       "    }\n",
       "}\n",
       "\n",
       "mpl.figure.prototype.handle_save = function(fig, msg) {\n",
       "    fig.ondownload(fig, null);\n",
       "}\n",
       "\n",
       "\n",
       "mpl.find_output_cell = function(html_output) {\n",
       "    // Return the cell and output element which can be found *uniquely* in the notebook.\n",
       "    // Note - this is a bit hacky, but it is done because the \"notebook_saving.Notebook\"\n",
       "    // IPython event is triggered only after the cells have been serialised, which for\n",
       "    // our purposes (turning an active figure into a static one), is too late.\n",
       "    var cells = IPython.notebook.get_cells();\n",
       "    var ncells = cells.length;\n",
       "    for (var i=0; i<ncells; i++) {\n",
       "        var cell = cells[i];\n",
       "        if (cell.cell_type === 'code'){\n",
       "            for (var j=0; j<cell.output_area.outputs.length; j++) {\n",
       "                var data = cell.output_area.outputs[j];\n",
       "                if (data.data) {\n",
       "                    // IPython >= 3 moved mimebundle to data attribute of output\n",
       "                    data = data.data;\n",
       "                }\n",
       "                if (data['text/html'] == html_output) {\n",
       "                    return [cell, data, j];\n",
       "                }\n",
       "            }\n",
       "        }\n",
       "    }\n",
       "}\n",
       "\n",
       "// Register the function which deals with the matplotlib target/channel.\n",
       "// The kernel may be null if the page has been refreshed.\n",
       "if (IPython.notebook.kernel != null) {\n",
       "    IPython.notebook.kernel.comm_manager.register_target('matplotlib', mpl.mpl_figure_comm);\n",
       "}\n"
      ],
      "text/plain": [
       "<IPython.core.display.Javascript object>"
      ]
     },
     "metadata": {},
     "output_type": "display_data"
    },
    {
     "data": {
      "text/html": [
       "<img src=\"data:image/png;base64,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\" width=\"640\">"
      ],
      "text/plain": [
       "<IPython.core.display.HTML object>"
      ]
     },
     "metadata": {},
     "output_type": "display_data"
    },
    {
     "data": {
      "text/plain": [
       "<matplotlib.image.AxesImage at 0x7fb0651cb860>"
      ]
     },
     "execution_count": 59,
     "metadata": {},
     "output_type": "execute_result"
    }
   ],
   "source": [
    "plt.imshow(signal, cmap='hot', interpolation='nearest')"
   ]
  },
  {
   "cell_type": "code",
   "execution_count": 1,
   "metadata": {},
   "outputs": [
    {
     "ename": "NameError",
     "evalue": "name 'np' is not defined",
     "output_type": "error",
     "traceback": [
      "\u001b[0;31m---------------------------------------------------------------------------\u001b[0m",
      "\u001b[0;31mNameError\u001b[0m                                 Traceback (most recent call last)",
      "\u001b[0;32m<ipython-input-1-2d7193935b27>\u001b[0m in \u001b[0;36m<module>\u001b[0;34m()\u001b[0m\n\u001b[0;32m----> 1\u001b[0;31m \u001b[0mprint\u001b[0m\u001b[0;34m(\u001b[0m\u001b[0mnp\u001b[0m\u001b[0;34m.\u001b[0m\u001b[0mamax\u001b[0m\u001b[0;34m(\u001b[0m\u001b[0mnorm_soverb\u001b[0m\u001b[0;34m)\u001b[0m\u001b[0;34m)\u001b[0m\u001b[0;34m\u001b[0m\u001b[0m\n\u001b[0m",
      "\u001b[0;31mNameError\u001b[0m: name 'np' is not defined"
     ]
    }
   ],
   "source": [
    "print(np.amax(norm_soverb))"
   ]
  },
  {
   "cell_type": "code",
   "execution_count": 91,
   "metadata": {},
   "outputs": [],
   "source": [
    "ptbins = np.searchsorted(norm_soverb[:,3], 1.0)"
   ]
  },
  {
   "cell_type": "code",
   "execution_count": 93,
   "metadata": {},
   "outputs": [
    {
     "name": "stdout",
     "output_type": "stream",
     "text": [
      "(12, 39)\n"
     ]
    }
   ],
   "source": [
    "print(np.unravel_index(norm_soverb.argmax(), norm_soverb.shape))"
   ]
  },
  {
   "cell_type": "code",
   "execution_count": 94,
   "metadata": {},
   "outputs": [
    {
     "data": {
      "text/plain": [
       "<matplotlib.image.AxesImage at 0x7f134b929a90>"
      ]
     },
     "execution_count": 94,
     "metadata": {},
     "output_type": "execute_result"
    }
   ],
   "source": [
    "plt.imshow(sqrtbkg, cmap='hot', interpolation='nearest')"
   ]
  },
  {
   "cell_type": "code",
   "execution_count": 48,
   "metadata": {},
   "outputs": [],
   "source": [
    "htemp = z.project(\"process\")"
   ]
  },
  {
   "cell_type": "code",
   "execution_count": 49,
   "metadata": {},
   "outputs": [],
   "source": [
    "htemp.clear()"
   ]
  },
  {
   "cell_type": "code",
   "execution_count": 50,
   "metadata": {},
   "outputs": [],
   "source": [
    "htemp.label = '$S/\\sqrt{B}$'"
   ]
  },
  {
   "cell_type": "code",
   "execution_count": 51,
   "metadata": {},
   "outputs": [],
   "source": [
    "htemp._sumw = {():norm_soverb}"
   ]
  },
  {
   "cell_type": "code",
   "execution_count": 52,
   "metadata": {},
   "outputs": [
    {
     "data": {
      "application/javascript": [
       "/* Put everything inside the global mpl namespace */\n",
       "window.mpl = {};\n",
       "\n",
       "\n",
       "mpl.get_websocket_type = function() {\n",
       "    if (typeof(WebSocket) !== 'undefined') {\n",
       "        return WebSocket;\n",
       "    } else if (typeof(MozWebSocket) !== 'undefined') {\n",
       "        return MozWebSocket;\n",
       "    } else {\n",
       "        alert('Your browser does not have WebSocket support.' +\n",
       "              'Please try Chrome, Safari or Firefox ≥ 6. ' +\n",
       "              'Firefox 4 and 5 are also supported but you ' +\n",
       "              'have to enable WebSockets in about:config.');\n",
       "    };\n",
       "}\n",
       "\n",
       "mpl.figure = function(figure_id, websocket, ondownload, parent_element) {\n",
       "    this.id = figure_id;\n",
       "\n",
       "    this.ws = websocket;\n",
       "\n",
       "    this.supports_binary = (this.ws.binaryType != undefined);\n",
       "\n",
       "    if (!this.supports_binary) {\n",
       "        var warnings = document.getElementById(\"mpl-warnings\");\n",
       "        if (warnings) {\n",
       "            warnings.style.display = 'block';\n",
       "            warnings.textContent = (\n",
       "                \"This browser does not support binary websocket messages. \" +\n",
       "                    \"Performance may be slow.\");\n",
       "        }\n",
       "    }\n",
       "\n",
       "    this.imageObj = new Image();\n",
       "\n",
       "    this.context = undefined;\n",
       "    this.message = undefined;\n",
       "    this.canvas = undefined;\n",
       "    this.rubberband_canvas = undefined;\n",
       "    this.rubberband_context = undefined;\n",
       "    this.format_dropdown = undefined;\n",
       "\n",
       "    this.image_mode = 'full';\n",
       "\n",
       "    this.root = $('<div/>');\n",
       "    this._root_extra_style(this.root)\n",
       "    this.root.attr('style', 'display: inline-block');\n",
       "\n",
       "    $(parent_element).append(this.root);\n",
       "\n",
       "    this._init_header(this);\n",
       "    this._init_canvas(this);\n",
       "    this._init_toolbar(this);\n",
       "\n",
       "    var fig = this;\n",
       "\n",
       "    this.waiting = false;\n",
       "\n",
       "    this.ws.onopen =  function () {\n",
       "            fig.send_message(\"supports_binary\", {value: fig.supports_binary});\n",
       "            fig.send_message(\"send_image_mode\", {});\n",
       "            if (mpl.ratio != 1) {\n",
       "                fig.send_message(\"set_dpi_ratio\", {'dpi_ratio': mpl.ratio});\n",
       "            }\n",
       "            fig.send_message(\"refresh\", {});\n",
       "        }\n",
       "\n",
       "    this.imageObj.onload = function() {\n",
       "            if (fig.image_mode == 'full') {\n",
       "                // Full images could contain transparency (where diff images\n",
       "                // almost always do), so we need to clear the canvas so that\n",
       "                // there is no ghosting.\n",
       "                fig.context.clearRect(0, 0, fig.canvas.width, fig.canvas.height);\n",
       "            }\n",
       "            fig.context.drawImage(fig.imageObj, 0, 0);\n",
       "        };\n",
       "\n",
       "    this.imageObj.onunload = function() {\n",
       "        fig.ws.close();\n",
       "    }\n",
       "\n",
       "    this.ws.onmessage = this._make_on_message_function(this);\n",
       "\n",
       "    this.ondownload = ondownload;\n",
       "}\n",
       "\n",
       "mpl.figure.prototype._init_header = function() {\n",
       "    var titlebar = $(\n",
       "        '<div class=\"ui-dialog-titlebar ui-widget-header ui-corner-all ' +\n",
       "        'ui-helper-clearfix\"/>');\n",
       "    var titletext = $(\n",
       "        '<div class=\"ui-dialog-title\" style=\"width: 100%; ' +\n",
       "        'text-align: center; padding: 3px;\"/>');\n",
       "    titlebar.append(titletext)\n",
       "    this.root.append(titlebar);\n",
       "    this.header = titletext[0];\n",
       "}\n",
       "\n",
       "\n",
       "\n",
       "mpl.figure.prototype._canvas_extra_style = function(canvas_div) {\n",
       "\n",
       "}\n",
       "\n",
       "\n",
       "mpl.figure.prototype._root_extra_style = function(canvas_div) {\n",
       "\n",
       "}\n",
       "\n",
       "mpl.figure.prototype._init_canvas = function() {\n",
       "    var fig = this;\n",
       "\n",
       "    var canvas_div = $('<div/>');\n",
       "\n",
       "    canvas_div.attr('style', 'position: relative; clear: both; outline: 0');\n",
       "\n",
       "    function canvas_keyboard_event(event) {\n",
       "        return fig.key_event(event, event['data']);\n",
       "    }\n",
       "\n",
       "    canvas_div.keydown('key_press', canvas_keyboard_event);\n",
       "    canvas_div.keyup('key_release', canvas_keyboard_event);\n",
       "    this.canvas_div = canvas_div\n",
       "    this._canvas_extra_style(canvas_div)\n",
       "    this.root.append(canvas_div);\n",
       "\n",
       "    var canvas = $('<canvas/>');\n",
       "    canvas.addClass('mpl-canvas');\n",
       "    canvas.attr('style', \"left: 0; top: 0; z-index: 0; outline: 0\")\n",
       "\n",
       "    this.canvas = canvas[0];\n",
       "    this.context = canvas[0].getContext(\"2d\");\n",
       "\n",
       "    var backingStore = this.context.backingStorePixelRatio ||\n",
       "\tthis.context.webkitBackingStorePixelRatio ||\n",
       "\tthis.context.mozBackingStorePixelRatio ||\n",
       "\tthis.context.msBackingStorePixelRatio ||\n",
       "\tthis.context.oBackingStorePixelRatio ||\n",
       "\tthis.context.backingStorePixelRatio || 1;\n",
       "\n",
       "    mpl.ratio = (window.devicePixelRatio || 1) / backingStore;\n",
       "\n",
       "    var rubberband = $('<canvas/>');\n",
       "    rubberband.attr('style', \"position: absolute; left: 0; top: 0; z-index: 1;\")\n",
       "\n",
       "    var pass_mouse_events = true;\n",
       "\n",
       "    canvas_div.resizable({\n",
       "        start: function(event, ui) {\n",
       "            pass_mouse_events = false;\n",
       "        },\n",
       "        resize: function(event, ui) {\n",
       "            fig.request_resize(ui.size.width, ui.size.height);\n",
       "        },\n",
       "        stop: function(event, ui) {\n",
       "            pass_mouse_events = true;\n",
       "            fig.request_resize(ui.size.width, ui.size.height);\n",
       "        },\n",
       "    });\n",
       "\n",
       "    function mouse_event_fn(event) {\n",
       "        if (pass_mouse_events)\n",
       "            return fig.mouse_event(event, event['data']);\n",
       "    }\n",
       "\n",
       "    rubberband.mousedown('button_press', mouse_event_fn);\n",
       "    rubberband.mouseup('button_release', mouse_event_fn);\n",
       "    // Throttle sequential mouse events to 1 every 20ms.\n",
       "    rubberband.mousemove('motion_notify', mouse_event_fn);\n",
       "\n",
       "    rubberband.mouseenter('figure_enter', mouse_event_fn);\n",
       "    rubberband.mouseleave('figure_leave', mouse_event_fn);\n",
       "\n",
       "    canvas_div.on(\"wheel\", function (event) {\n",
       "        event = event.originalEvent;\n",
       "        event['data'] = 'scroll'\n",
       "        if (event.deltaY < 0) {\n",
       "            event.step = 1;\n",
       "        } else {\n",
       "            event.step = -1;\n",
       "        }\n",
       "        mouse_event_fn(event);\n",
       "    });\n",
       "\n",
       "    canvas_div.append(canvas);\n",
       "    canvas_div.append(rubberband);\n",
       "\n",
       "    this.rubberband = rubberband;\n",
       "    this.rubberband_canvas = rubberband[0];\n",
       "    this.rubberband_context = rubberband[0].getContext(\"2d\");\n",
       "    this.rubberband_context.strokeStyle = \"#000000\";\n",
       "\n",
       "    this._resize_canvas = function(width, height) {\n",
       "        // Keep the size of the canvas, canvas container, and rubber band\n",
       "        // canvas in synch.\n",
       "        canvas_div.css('width', width)\n",
       "        canvas_div.css('height', height)\n",
       "\n",
       "        canvas.attr('width', width * mpl.ratio);\n",
       "        canvas.attr('height', height * mpl.ratio);\n",
       "        canvas.attr('style', 'width: ' + width + 'px; height: ' + height + 'px;');\n",
       "\n",
       "        rubberband.attr('width', width);\n",
       "        rubberband.attr('height', height);\n",
       "    }\n",
       "\n",
       "    // Set the figure to an initial 600x600px, this will subsequently be updated\n",
       "    // upon first draw.\n",
       "    this._resize_canvas(600, 600);\n",
       "\n",
       "    // Disable right mouse context menu.\n",
       "    $(this.rubberband_canvas).bind(\"contextmenu\",function(e){\n",
       "        return false;\n",
       "    });\n",
       "\n",
       "    function set_focus () {\n",
       "        canvas.focus();\n",
       "        canvas_div.focus();\n",
       "    }\n",
       "\n",
       "    window.setTimeout(set_focus, 100);\n",
       "}\n",
       "\n",
       "mpl.figure.prototype._init_toolbar = function() {\n",
       "    var fig = this;\n",
       "\n",
       "    var nav_element = $('<div/>')\n",
       "    nav_element.attr('style', 'width: 100%');\n",
       "    this.root.append(nav_element);\n",
       "\n",
       "    // Define a callback function for later on.\n",
       "    function toolbar_event(event) {\n",
       "        return fig.toolbar_button_onclick(event['data']);\n",
       "    }\n",
       "    function toolbar_mouse_event(event) {\n",
       "        return fig.toolbar_button_onmouseover(event['data']);\n",
       "    }\n",
       "\n",
       "    for(var toolbar_ind in mpl.toolbar_items) {\n",
       "        var name = mpl.toolbar_items[toolbar_ind][0];\n",
       "        var tooltip = mpl.toolbar_items[toolbar_ind][1];\n",
       "        var image = mpl.toolbar_items[toolbar_ind][2];\n",
       "        var method_name = mpl.toolbar_items[toolbar_ind][3];\n",
       "\n",
       "        if (!name) {\n",
       "            // put a spacer in here.\n",
       "            continue;\n",
       "        }\n",
       "        var button = $('<button/>');\n",
       "        button.addClass('ui-button ui-widget ui-state-default ui-corner-all ' +\n",
       "                        'ui-button-icon-only');\n",
       "        button.attr('role', 'button');\n",
       "        button.attr('aria-disabled', 'false');\n",
       "        button.click(method_name, toolbar_event);\n",
       "        button.mouseover(tooltip, toolbar_mouse_event);\n",
       "\n",
       "        var icon_img = $('<span/>');\n",
       "        icon_img.addClass('ui-button-icon-primary ui-icon');\n",
       "        icon_img.addClass(image);\n",
       "        icon_img.addClass('ui-corner-all');\n",
       "\n",
       "        var tooltip_span = $('<span/>');\n",
       "        tooltip_span.addClass('ui-button-text');\n",
       "        tooltip_span.html(tooltip);\n",
       "\n",
       "        button.append(icon_img);\n",
       "        button.append(tooltip_span);\n",
       "\n",
       "        nav_element.append(button);\n",
       "    }\n",
       "\n",
       "    var fmt_picker_span = $('<span/>');\n",
       "\n",
       "    var fmt_picker = $('<select/>');\n",
       "    fmt_picker.addClass('mpl-toolbar-option ui-widget ui-widget-content');\n",
       "    fmt_picker_span.append(fmt_picker);\n",
       "    nav_element.append(fmt_picker_span);\n",
       "    this.format_dropdown = fmt_picker[0];\n",
       "\n",
       "    for (var ind in mpl.extensions) {\n",
       "        var fmt = mpl.extensions[ind];\n",
       "        var option = $(\n",
       "            '<option/>', {selected: fmt === mpl.default_extension}).html(fmt);\n",
       "        fmt_picker.append(option)\n",
       "    }\n",
       "\n",
       "    // Add hover states to the ui-buttons\n",
       "    $( \".ui-button\" ).hover(\n",
       "        function() { $(this).addClass(\"ui-state-hover\");},\n",
       "        function() { $(this).removeClass(\"ui-state-hover\");}\n",
       "    );\n",
       "\n",
       "    var status_bar = $('<span class=\"mpl-message\"/>');\n",
       "    nav_element.append(status_bar);\n",
       "    this.message = status_bar[0];\n",
       "}\n",
       "\n",
       "mpl.figure.prototype.request_resize = function(x_pixels, y_pixels) {\n",
       "    // Request matplotlib to resize the figure. Matplotlib will then trigger a resize in the client,\n",
       "    // which will in turn request a refresh of the image.\n",
       "    this.send_message('resize', {'width': x_pixels, 'height': y_pixels});\n",
       "}\n",
       "\n",
       "mpl.figure.prototype.send_message = function(type, properties) {\n",
       "    properties['type'] = type;\n",
       "    properties['figure_id'] = this.id;\n",
       "    this.ws.send(JSON.stringify(properties));\n",
       "}\n",
       "\n",
       "mpl.figure.prototype.send_draw_message = function() {\n",
       "    if (!this.waiting) {\n",
       "        this.waiting = true;\n",
       "        this.ws.send(JSON.stringify({type: \"draw\", figure_id: this.id}));\n",
       "    }\n",
       "}\n",
       "\n",
       "\n",
       "mpl.figure.prototype.handle_save = function(fig, msg) {\n",
       "    var format_dropdown = fig.format_dropdown;\n",
       "    var format = format_dropdown.options[format_dropdown.selectedIndex].value;\n",
       "    fig.ondownload(fig, format);\n",
       "}\n",
       "\n",
       "\n",
       "mpl.figure.prototype.handle_resize = function(fig, msg) {\n",
       "    var size = msg['size'];\n",
       "    if (size[0] != fig.canvas.width || size[1] != fig.canvas.height) {\n",
       "        fig._resize_canvas(size[0], size[1]);\n",
       "        fig.send_message(\"refresh\", {});\n",
       "    };\n",
       "}\n",
       "\n",
       "mpl.figure.prototype.handle_rubberband = function(fig, msg) {\n",
       "    var x0 = msg['x0'] / mpl.ratio;\n",
       "    var y0 = (fig.canvas.height - msg['y0']) / mpl.ratio;\n",
       "    var x1 = msg['x1'] / mpl.ratio;\n",
       "    var y1 = (fig.canvas.height - msg['y1']) / mpl.ratio;\n",
       "    x0 = Math.floor(x0) + 0.5;\n",
       "    y0 = Math.floor(y0) + 0.5;\n",
       "    x1 = Math.floor(x1) + 0.5;\n",
       "    y1 = Math.floor(y1) + 0.5;\n",
       "    var min_x = Math.min(x0, x1);\n",
       "    var min_y = Math.min(y0, y1);\n",
       "    var width = Math.abs(x1 - x0);\n",
       "    var height = Math.abs(y1 - y0);\n",
       "\n",
       "    fig.rubberband_context.clearRect(\n",
       "        0, 0, fig.canvas.width, fig.canvas.height);\n",
       "\n",
       "    fig.rubberband_context.strokeRect(min_x, min_y, width, height);\n",
       "}\n",
       "\n",
       "mpl.figure.prototype.handle_figure_label = function(fig, msg) {\n",
       "    // Updates the figure title.\n",
       "    fig.header.textContent = msg['label'];\n",
       "}\n",
       "\n",
       "mpl.figure.prototype.handle_cursor = function(fig, msg) {\n",
       "    var cursor = msg['cursor'];\n",
       "    switch(cursor)\n",
       "    {\n",
       "    case 0:\n",
       "        cursor = 'pointer';\n",
       "        break;\n",
       "    case 1:\n",
       "        cursor = 'default';\n",
       "        break;\n",
       "    case 2:\n",
       "        cursor = 'crosshair';\n",
       "        break;\n",
       "    case 3:\n",
       "        cursor = 'move';\n",
       "        break;\n",
       "    }\n",
       "    fig.rubberband_canvas.style.cursor = cursor;\n",
       "}\n",
       "\n",
       "mpl.figure.prototype.handle_message = function(fig, msg) {\n",
       "    fig.message.textContent = msg['message'];\n",
       "}\n",
       "\n",
       "mpl.figure.prototype.handle_draw = function(fig, msg) {\n",
       "    // Request the server to send over a new figure.\n",
       "    fig.send_draw_message();\n",
       "}\n",
       "\n",
       "mpl.figure.prototype.handle_image_mode = function(fig, msg) {\n",
       "    fig.image_mode = msg['mode'];\n",
       "}\n",
       "\n",
       "mpl.figure.prototype.updated_canvas_event = function() {\n",
       "    // Called whenever the canvas gets updated.\n",
       "    this.send_message(\"ack\", {});\n",
       "}\n",
       "\n",
       "// A function to construct a web socket function for onmessage handling.\n",
       "// Called in the figure constructor.\n",
       "mpl.figure.prototype._make_on_message_function = function(fig) {\n",
       "    return function socket_on_message(evt) {\n",
       "        if (evt.data instanceof Blob) {\n",
       "            /* FIXME: We get \"Resource interpreted as Image but\n",
       "             * transferred with MIME type text/plain:\" errors on\n",
       "             * Chrome.  But how to set the MIME type?  It doesn't seem\n",
       "             * to be part of the websocket stream */\n",
       "            evt.data.type = \"image/png\";\n",
       "\n",
       "            /* Free the memory for the previous frames */\n",
       "            if (fig.imageObj.src) {\n",
       "                (window.URL || window.webkitURL).revokeObjectURL(\n",
       "                    fig.imageObj.src);\n",
       "            }\n",
       "\n",
       "            fig.imageObj.src = (window.URL || window.webkitURL).createObjectURL(\n",
       "                evt.data);\n",
       "            fig.updated_canvas_event();\n",
       "            fig.waiting = false;\n",
       "            return;\n",
       "        }\n",
       "        else if (typeof evt.data === 'string' && evt.data.slice(0, 21) == \"data:image/png;base64\") {\n",
       "            fig.imageObj.src = evt.data;\n",
       "            fig.updated_canvas_event();\n",
       "            fig.waiting = false;\n",
       "            return;\n",
       "        }\n",
       "\n",
       "        var msg = JSON.parse(evt.data);\n",
       "        var msg_type = msg['type'];\n",
       "\n",
       "        // Call the  \"handle_{type}\" callback, which takes\n",
       "        // the figure and JSON message as its only arguments.\n",
       "        try {\n",
       "            var callback = fig[\"handle_\" + msg_type];\n",
       "        } catch (e) {\n",
       "            console.log(\"No handler for the '\" + msg_type + \"' message type: \", msg);\n",
       "            return;\n",
       "        }\n",
       "\n",
       "        if (callback) {\n",
       "            try {\n",
       "                // console.log(\"Handling '\" + msg_type + \"' message: \", msg);\n",
       "                callback(fig, msg);\n",
       "            } catch (e) {\n",
       "                console.log(\"Exception inside the 'handler_\" + msg_type + \"' callback:\", e, e.stack, msg);\n",
       "            }\n",
       "        }\n",
       "    };\n",
       "}\n",
       "\n",
       "// from http://stackoverflow.com/questions/1114465/getting-mouse-location-in-canvas\n",
       "mpl.findpos = function(e) {\n",
       "    //this section is from http://www.quirksmode.org/js/events_properties.html\n",
       "    var targ;\n",
       "    if (!e)\n",
       "        e = window.event;\n",
       "    if (e.target)\n",
       "        targ = e.target;\n",
       "    else if (e.srcElement)\n",
       "        targ = e.srcElement;\n",
       "    if (targ.nodeType == 3) // defeat Safari bug\n",
       "        targ = targ.parentNode;\n",
       "\n",
       "    // jQuery normalizes the pageX and pageY\n",
       "    // pageX,Y are the mouse positions relative to the document\n",
       "    // offset() returns the position of the element relative to the document\n",
       "    var x = e.pageX - $(targ).offset().left;\n",
       "    var y = e.pageY - $(targ).offset().top;\n",
       "\n",
       "    return {\"x\": x, \"y\": y};\n",
       "};\n",
       "\n",
       "/*\n",
       " * return a copy of an object with only non-object keys\n",
       " * we need this to avoid circular references\n",
       " * http://stackoverflow.com/a/24161582/3208463\n",
       " */\n",
       "function simpleKeys (original) {\n",
       "  return Object.keys(original).reduce(function (obj, key) {\n",
       "    if (typeof original[key] !== 'object')\n",
       "        obj[key] = original[key]\n",
       "    return obj;\n",
       "  }, {});\n",
       "}\n",
       "\n",
       "mpl.figure.prototype.mouse_event = function(event, name) {\n",
       "    var canvas_pos = mpl.findpos(event)\n",
       "\n",
       "    if (name === 'button_press')\n",
       "    {\n",
       "        this.canvas.focus();\n",
       "        this.canvas_div.focus();\n",
       "    }\n",
       "\n",
       "    var x = canvas_pos.x * mpl.ratio;\n",
       "    var y = canvas_pos.y * mpl.ratio;\n",
       "\n",
       "    this.send_message(name, {x: x, y: y, button: event.button,\n",
       "                             step: event.step,\n",
       "                             guiEvent: simpleKeys(event)});\n",
       "\n",
       "    /* This prevents the web browser from automatically changing to\n",
       "     * the text insertion cursor when the button is pressed.  We want\n",
       "     * to control all of the cursor setting manually through the\n",
       "     * 'cursor' event from matplotlib */\n",
       "    event.preventDefault();\n",
       "    return false;\n",
       "}\n",
       "\n",
       "mpl.figure.prototype._key_event_extra = function(event, name) {\n",
       "    // Handle any extra behaviour associated with a key event\n",
       "}\n",
       "\n",
       "mpl.figure.prototype.key_event = function(event, name) {\n",
       "\n",
       "    // Prevent repeat events\n",
       "    if (name == 'key_press')\n",
       "    {\n",
       "        if (event.which === this._key)\n",
       "            return;\n",
       "        else\n",
       "            this._key = event.which;\n",
       "    }\n",
       "    if (name == 'key_release')\n",
       "        this._key = null;\n",
       "\n",
       "    var value = '';\n",
       "    if (event.ctrlKey && event.which != 17)\n",
       "        value += \"ctrl+\";\n",
       "    if (event.altKey && event.which != 18)\n",
       "        value += \"alt+\";\n",
       "    if (event.shiftKey && event.which != 16)\n",
       "        value += \"shift+\";\n",
       "\n",
       "    value += 'k';\n",
       "    value += event.which.toString();\n",
       "\n",
       "    this._key_event_extra(event, name);\n",
       "\n",
       "    this.send_message(name, {key: value,\n",
       "                             guiEvent: simpleKeys(event)});\n",
       "    return false;\n",
       "}\n",
       "\n",
       "mpl.figure.prototype.toolbar_button_onclick = function(name) {\n",
       "    if (name == 'download') {\n",
       "        this.handle_save(this, null);\n",
       "    } else {\n",
       "        this.send_message(\"toolbar_button\", {name: name});\n",
       "    }\n",
       "};\n",
       "\n",
       "mpl.figure.prototype.toolbar_button_onmouseover = function(tooltip) {\n",
       "    this.message.textContent = tooltip;\n",
       "};\n",
       "mpl.toolbar_items = [[\"Home\", \"Reset original view\", \"fa fa-home icon-home\", \"home\"], [\"Back\", \"Back to  previous view\", \"fa fa-arrow-left icon-arrow-left\", \"back\"], [\"Forward\", \"Forward to next view\", \"fa fa-arrow-right icon-arrow-right\", \"forward\"], [\"\", \"\", \"\", \"\"], [\"Pan\", \"Pan axes with left mouse, zoom with right\", \"fa fa-arrows icon-move\", \"pan\"], [\"Zoom\", \"Zoom to rectangle\", \"fa fa-square-o icon-check-empty\", \"zoom\"], [\"\", \"\", \"\", \"\"], [\"Download\", \"Download plot\", \"fa fa-floppy-o icon-save\", \"download\"]];\n",
       "\n",
       "mpl.extensions = [\"eps\", \"pdf\", \"png\", \"ps\", \"raw\", \"svg\"];\n",
       "\n",
       "mpl.default_extension = \"png\";var comm_websocket_adapter = function(comm) {\n",
       "    // Create a \"websocket\"-like object which calls the given IPython comm\n",
       "    // object with the appropriate methods. Currently this is a non binary\n",
       "    // socket, so there is still some room for performance tuning.\n",
       "    var ws = {};\n",
       "\n",
       "    ws.close = function() {\n",
       "        comm.close()\n",
       "    };\n",
       "    ws.send = function(m) {\n",
       "        //console.log('sending', m);\n",
       "        comm.send(m);\n",
       "    };\n",
       "    // Register the callback with on_msg.\n",
       "    comm.on_msg(function(msg) {\n",
       "        //console.log('receiving', msg['content']['data'], msg);\n",
       "        // Pass the mpl event to the overridden (by mpl) onmessage function.\n",
       "        ws.onmessage(msg['content']['data'])\n",
       "    });\n",
       "    return ws;\n",
       "}\n",
       "\n",
       "mpl.mpl_figure_comm = function(comm, msg) {\n",
       "    // This is the function which gets called when the mpl process\n",
       "    // starts-up an IPython Comm through the \"matplotlib\" channel.\n",
       "\n",
       "    var id = msg.content.data.id;\n",
       "    // Get hold of the div created by the display call when the Comm\n",
       "    // socket was opened in Python.\n",
       "    var element = $(\"#\" + id);\n",
       "    var ws_proxy = comm_websocket_adapter(comm)\n",
       "\n",
       "    function ondownload(figure, format) {\n",
       "        window.open(figure.imageObj.src);\n",
       "    }\n",
       "\n",
       "    var fig = new mpl.figure(id, ws_proxy,\n",
       "                           ondownload,\n",
       "                           element.get(0));\n",
       "\n",
       "    // Call onopen now - mpl needs it, as it is assuming we've passed it a real\n",
       "    // web socket which is closed, not our websocket->open comm proxy.\n",
       "    ws_proxy.onopen();\n",
       "\n",
       "    fig.parent_element = element.get(0);\n",
       "    fig.cell_info = mpl.find_output_cell(\"<div id='\" + id + \"'></div>\");\n",
       "    if (!fig.cell_info) {\n",
       "        console.error(\"Failed to find cell for figure\", id, fig);\n",
       "        return;\n",
       "    }\n",
       "\n",
       "    var output_index = fig.cell_info[2]\n",
       "    var cell = fig.cell_info[0];\n",
       "\n",
       "};\n",
       "\n",
       "mpl.figure.prototype.handle_close = function(fig, msg) {\n",
       "    var width = fig.canvas.width/mpl.ratio\n",
       "    fig.root.unbind('remove')\n",
       "\n",
       "    // Update the output cell to use the data from the current canvas.\n",
       "    fig.push_to_output();\n",
       "    var dataURL = fig.canvas.toDataURL();\n",
       "    // Re-enable the keyboard manager in IPython - without this line, in FF,\n",
       "    // the notebook keyboard shortcuts fail.\n",
       "    IPython.keyboard_manager.enable()\n",
       "    $(fig.parent_element).html('<img src=\"' + dataURL + '\" width=\"' + width + '\">');\n",
       "    fig.close_ws(fig, msg);\n",
       "}\n",
       "\n",
       "mpl.figure.prototype.close_ws = function(fig, msg){\n",
       "    fig.send_message('closing', msg);\n",
       "    // fig.ws.close()\n",
       "}\n",
       "\n",
       "mpl.figure.prototype.push_to_output = function(remove_interactive) {\n",
       "    // Turn the data on the canvas into data in the output cell.\n",
       "    var width = this.canvas.width/mpl.ratio\n",
       "    var dataURL = this.canvas.toDataURL();\n",
       "    this.cell_info[1]['text/html'] = '<img src=\"' + dataURL + '\" width=\"' + width + '\">';\n",
       "}\n",
       "\n",
       "mpl.figure.prototype.updated_canvas_event = function() {\n",
       "    // Tell IPython that the notebook contents must change.\n",
       "    IPython.notebook.set_dirty(true);\n",
       "    this.send_message(\"ack\", {});\n",
       "    var fig = this;\n",
       "    // Wait a second, then push the new image to the DOM so\n",
       "    // that it is saved nicely (might be nice to debounce this).\n",
       "    setTimeout(function () { fig.push_to_output() }, 1000);\n",
       "}\n",
       "\n",
       "mpl.figure.prototype._init_toolbar = function() {\n",
       "    var fig = this;\n",
       "\n",
       "    var nav_element = $('<div/>')\n",
       "    nav_element.attr('style', 'width: 100%');\n",
       "    this.root.append(nav_element);\n",
       "\n",
       "    // Define a callback function for later on.\n",
       "    function toolbar_event(event) {\n",
       "        return fig.toolbar_button_onclick(event['data']);\n",
       "    }\n",
       "    function toolbar_mouse_event(event) {\n",
       "        return fig.toolbar_button_onmouseover(event['data']);\n",
       "    }\n",
       "\n",
       "    for(var toolbar_ind in mpl.toolbar_items){\n",
       "        var name = mpl.toolbar_items[toolbar_ind][0];\n",
       "        var tooltip = mpl.toolbar_items[toolbar_ind][1];\n",
       "        var image = mpl.toolbar_items[toolbar_ind][2];\n",
       "        var method_name = mpl.toolbar_items[toolbar_ind][3];\n",
       "\n",
       "        if (!name) { continue; };\n",
       "\n",
       "        var button = $('<button class=\"btn btn-default\" href=\"#\" title=\"' + name + '\"><i class=\"fa ' + image + ' fa-lg\"></i></button>');\n",
       "        button.click(method_name, toolbar_event);\n",
       "        button.mouseover(tooltip, toolbar_mouse_event);\n",
       "        nav_element.append(button);\n",
       "    }\n",
       "\n",
       "    // Add the status bar.\n",
       "    var status_bar = $('<span class=\"mpl-message\" style=\"text-align:right; float: right;\"/>');\n",
       "    nav_element.append(status_bar);\n",
       "    this.message = status_bar[0];\n",
       "\n",
       "    // Add the close button to the window.\n",
       "    var buttongrp = $('<div class=\"btn-group inline pull-right\"></div>');\n",
       "    var button = $('<button class=\"btn btn-mini btn-primary\" href=\"#\" title=\"Stop Interaction\"><i class=\"fa fa-power-off icon-remove icon-large\"></i></button>');\n",
       "    button.click(function (evt) { fig.handle_close(fig, {}); } );\n",
       "    button.mouseover('Stop Interaction', toolbar_mouse_event);\n",
       "    buttongrp.append(button);\n",
       "    var titlebar = this.root.find($('.ui-dialog-titlebar'));\n",
       "    titlebar.prepend(buttongrp);\n",
       "}\n",
       "\n",
       "mpl.figure.prototype._root_extra_style = function(el){\n",
       "    var fig = this\n",
       "    el.on(\"remove\", function(){\n",
       "\tfig.close_ws(fig, {});\n",
       "    });\n",
       "}\n",
       "\n",
       "mpl.figure.prototype._canvas_extra_style = function(el){\n",
       "    // this is important to make the div 'focusable\n",
       "    el.attr('tabindex', 0)\n",
       "    // reach out to IPython and tell the keyboard manager to turn it's self\n",
       "    // off when our div gets focus\n",
       "\n",
       "    // location in version 3\n",
       "    if (IPython.notebook.keyboard_manager) {\n",
       "        IPython.notebook.keyboard_manager.register_events(el);\n",
       "    }\n",
       "    else {\n",
       "        // location in version 2\n",
       "        IPython.keyboard_manager.register_events(el);\n",
       "    }\n",
       "\n",
       "}\n",
       "\n",
       "mpl.figure.prototype._key_event_extra = function(event, name) {\n",
       "    var manager = IPython.notebook.keyboard_manager;\n",
       "    if (!manager)\n",
       "        manager = IPython.keyboard_manager;\n",
       "\n",
       "    // Check for shift+enter\n",
       "    if (event.shiftKey && event.which == 13) {\n",
       "        this.canvas_div.blur();\n",
       "        event.shiftKey = false;\n",
       "        // Send a \"J\" for go to next cell\n",
       "        event.which = 74;\n",
       "        event.keyCode = 74;\n",
       "        manager.command_mode();\n",
       "        manager.handle_keydown(event);\n",
       "    }\n",
       "}\n",
       "\n",
       "mpl.figure.prototype.handle_save = function(fig, msg) {\n",
       "    fig.ondownload(fig, null);\n",
       "}\n",
       "\n",
       "\n",
       "mpl.find_output_cell = function(html_output) {\n",
       "    // Return the cell and output element which can be found *uniquely* in the notebook.\n",
       "    // Note - this is a bit hacky, but it is done because the \"notebook_saving.Notebook\"\n",
       "    // IPython event is triggered only after the cells have been serialised, which for\n",
       "    // our purposes (turning an active figure into a static one), is too late.\n",
       "    var cells = IPython.notebook.get_cells();\n",
       "    var ncells = cells.length;\n",
       "    for (var i=0; i<ncells; i++) {\n",
       "        var cell = cells[i];\n",
       "        if (cell.cell_type === 'code'){\n",
       "            for (var j=0; j<cell.output_area.outputs.length; j++) {\n",
       "                var data = cell.output_area.outputs[j];\n",
       "                if (data.data) {\n",
       "                    // IPython >= 3 moved mimebundle to data attribute of output\n",
       "                    data = data.data;\n",
       "                }\n",
       "                if (data['text/html'] == html_output) {\n",
       "                    return [cell, data, j];\n",
       "                }\n",
       "            }\n",
       "        }\n",
       "    }\n",
       "}\n",
       "\n",
       "// Register the function which deals with the matplotlib target/channel.\n",
       "// The kernel may be null if the page has been refreshed.\n",
       "if (IPython.notebook.kernel != null) {\n",
       "    IPython.notebook.kernel.comm_manager.register_target('matplotlib', mpl.mpl_figure_comm);\n",
       "}\n"
      ],
      "text/plain": [
       "<IPython.core.display.Javascript object>"
      ]
     },
     "metadata": {},
     "output_type": "display_data"
    },
    {
     "data": {
      "text/html": [
       "<img src=\"data:image/png;base64,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\" width=\"640\">"
      ],
      "text/plain": [
       "<IPython.core.display.HTML object>"
      ]
     },
     "metadata": {},
     "output_type": "display_data"
    }
   ],
   "source": [
    "fig, ax, _ = plot.plot2d(htemp, xaxis=\"AK8Puppijet0_deepdoubleb\", xoverflow='over', patch_opts={})"
   ]
  },
  {
   "cell_type": "code",
   "execution_count": 121,
   "metadata": {},
   "outputs": [],
   "source": [
    "fig.savefig(\"plots/reoptimize.pdf\")\n"
   ]
  },
  {
   "cell_type": "code",
   "execution_count": 66,
   "metadata": {},
   "outputs": [
    {
     "data": {
      "text/plain": [
       "<Hist (AK8Puppijet0_pt,jetrho,AK8Puppijet0_N2sdb1) instance at 0x7fb064d0f668>"
      ]
     },
     "execution_count": 66,
     "metadata": {},
     "output_type": "execute_result"
    }
   ],
   "source": []
  },
  {
   "cell_type": "code",
   "execution_count": 14,
   "metadata": {},
   "outputs": [],
   "source": []
  },
  {
   "cell_type": "code",
   "execution_count": 15,
   "metadata": {},
   "outputs": [],
   "source": []
  },
  {
   "cell_type": "code",
   "execution_count": 67,
   "metadata": {},
   "outputs": [
    {
     "name": "stdout",
     "output_type": "stream",
     "text": [
      "<Hist (process,AK8Puppijet0_pt,jetrho,AK8Puppijet0_N2sdb1,AK8Puppijet0_deepdoubleb) instance at 0x7fb09043fbe0>\n"
     ]
    }
   ],
   "source": [
    "print(x)"
   ]
  },
  {
   "cell_type": "code",
   "execution_count": 17,
   "metadata": {},
   "outputs": [
    {
     "name": "stdout",
     "output_type": "stream",
     "text": [
      "<Hist (process,AK8Puppijet0_pt,AK8Puppijet0_N2sdb1,jetrho,AK8Puppijet0_deepdoubleb) instance at 0x7fb09043fcc0>\n"
     ]
    }
   ],
   "source": [
    "print(x_Hbb)"
   ]
  },
  {
   "cell_type": "code",
   "execution_count": 54,
   "metadata": {},
   "outputs": [
    {
     "name": "stdout",
     "output_type": "stream",
     "text": [
      "<Hist (process,AK8Puppijet0_pt,jetrho,AK8Puppijet0_N2sdb1) instance at 0x7fd7cc0810b8>\n"
     ]
    }
   ],
   "source": [
    "histo = x.sum(\"AK8Puppijet0_deepdoubleb\")\n",
    "print(histo)"
   ]
  },
  {
   "cell_type": "code",
   "execution_count": 55,
   "metadata": {},
   "outputs": [
    {
     "name": "stdout",
     "output_type": "stream",
     "text": [
      "<Hist (AK8Puppijet0_pt,jetrho,AK8Puppijet0_N2sdb1) instance at 0x7fd7cc081198>\n"
     ]
    }
   ],
   "source": [
    "print(histo.sum(\"process\"))"
   ]
  },
  {
   "cell_type": "code",
   "execution_count": 56,
   "metadata": {},
   "outputs": [
    {
     "name": "stdout",
     "output_type": "stream",
     "text": [
      "[[[0.00000000e+00 8.30228188e+05 4.04568984e+04 ... 0.00000000e+00\n",
      "   0.00000000e+00 1.99678547e+05]\n",
      "  [0.00000000e+00 8.86049461e+00 9.14822292e+00 ... 0.00000000e+00\n",
      "   0.00000000e+00 0.00000000e+00]\n",
      "  [0.00000000e+00 5.29477406e+00 8.64741516e+00 ... 0.00000000e+00\n",
      "   0.00000000e+00 0.00000000e+00]\n",
      "  ...\n",
      "  [0.00000000e+00 0.00000000e+00 5.71461737e-01 ... 0.00000000e+00\n",
      "   0.00000000e+00 0.00000000e+00]\n",
      "  [0.00000000e+00 0.00000000e+00 2.85730863e+00 ... 0.00000000e+00\n",
      "   0.00000000e+00 0.00000000e+00]\n",
      "  [0.00000000e+00 8.29022408e+00 0.00000000e+00 ... 0.00000000e+00\n",
      "   0.00000000e+00 8.86296094e+04]]\n",
      "\n",
      " [[0.00000000e+00 1.49011279e+04 7.60677307e+02 ... 0.00000000e+00\n",
      "   0.00000000e+00 3.78577100e+03]\n",
      "  [0.00000000e+00 0.00000000e+00 1.43268317e-01 ... 0.00000000e+00\n",
      "   0.00000000e+00 0.00000000e+00]\n",
      "  [0.00000000e+00 0.00000000e+00 1.43268317e-01 ... 0.00000000e+00\n",
      "   0.00000000e+00 0.00000000e+00]\n",
      "  ...\n",
      "  [0.00000000e+00 0.00000000e+00 0.00000000e+00 ... 0.00000000e+00\n",
      "   0.00000000e+00 0.00000000e+00]\n",
      "  [0.00000000e+00 0.00000000e+00 0.00000000e+00 ... 0.00000000e+00\n",
      "   0.00000000e+00 0.00000000e+00]\n",
      "  [0.00000000e+00 2.15112865e-01 0.00000000e+00 ... 0.00000000e+00\n",
      "   0.00000000e+00 1.70234326e+03]]\n",
      "\n",
      " [[0.00000000e+00 1.32554375e+04 6.85011963e+02 ... 0.00000000e+00\n",
      "   0.00000000e+00 3.32485449e+03]\n",
      "  [0.00000000e+00 0.00000000e+00 7.18445480e-02 ... 0.00000000e+00\n",
      "   0.00000000e+00 0.00000000e+00]\n",
      "  [0.00000000e+00 5.71461737e-01 1.43268317e-01 ... 0.00000000e+00\n",
      "   0.00000000e+00 0.00000000e+00]\n",
      "  ...\n",
      "  [0.00000000e+00 0.00000000e+00 0.00000000e+00 ... 0.00000000e+00\n",
      "   0.00000000e+00 0.00000000e+00]\n",
      "  [0.00000000e+00 0.00000000e+00 7.18445480e-02 ... 0.00000000e+00\n",
      "   0.00000000e+00 0.00000000e+00]\n",
      "  [0.00000000e+00 2.86536634e-01 0.00000000e+00 ... 0.00000000e+00\n",
      "   0.00000000e+00 1.53059656e+03]]\n",
      "\n",
      " ...\n",
      "\n",
      " [[0.00000000e+00 9.93872528e+01 6.80661869e+00 ... 0.00000000e+00\n",
      "   0.00000000e+00 2.58663750e+01]\n",
      "  [0.00000000e+00 0.00000000e+00 0.00000000e+00 ... 0.00000000e+00\n",
      "   0.00000000e+00 0.00000000e+00]\n",
      "  [0.00000000e+00 0.00000000e+00 0.00000000e+00 ... 0.00000000e+00\n",
      "   0.00000000e+00 0.00000000e+00]\n",
      "  ...\n",
      "  [0.00000000e+00 0.00000000e+00 1.07604163e-02 ... 0.00000000e+00\n",
      "   0.00000000e+00 0.00000000e+00]\n",
      "  [0.00000000e+00 0.00000000e+00 0.00000000e+00 ... 0.00000000e+00\n",
      "   0.00000000e+00 0.00000000e+00]\n",
      "  [0.00000000e+00 0.00000000e+00 0.00000000e+00 ... 0.00000000e+00\n",
      "   0.00000000e+00 1.29377718e+01]]\n",
      "\n",
      " [[0.00000000e+00 1.70535339e+03 1.35103195e+02 ... 0.00000000e+00\n",
      "   0.00000000e+00 4.99107178e+02]\n",
      "  [0.00000000e+00 6.73891697e-03 6.73891697e-03 ... 0.00000000e+00\n",
      "   0.00000000e+00 0.00000000e+00]\n",
      "  [0.00000000e+00 0.00000000e+00 0.00000000e+00 ... 0.00000000e+00\n",
      "   0.00000000e+00 0.00000000e+00]\n",
      "  ...\n",
      "  [0.00000000e+00 0.00000000e+00 6.73891697e-03 ... 0.00000000e+00\n",
      "   0.00000000e+00 0.00000000e+00]\n",
      "  [0.00000000e+00 0.00000000e+00 1.07604163e-02 ... 0.00000000e+00\n",
      "   0.00000000e+00 0.00000000e+00]\n",
      "  [0.00000000e+00 1.05105259e-01 1.34778339e-02 ... 0.00000000e+00\n",
      "   0.00000000e+00 2.19456573e+02]]\n",
      "\n",
      " [[0.00000000e+00 0.00000000e+00 0.00000000e+00 ... 0.00000000e+00\n",
      "   0.00000000e+00 0.00000000e+00]\n",
      "  [0.00000000e+00 0.00000000e+00 0.00000000e+00 ... 0.00000000e+00\n",
      "   0.00000000e+00 0.00000000e+00]\n",
      "  [0.00000000e+00 0.00000000e+00 0.00000000e+00 ... 0.00000000e+00\n",
      "   0.00000000e+00 0.00000000e+00]\n",
      "  ...\n",
      "  [0.00000000e+00 0.00000000e+00 0.00000000e+00 ... 0.00000000e+00\n",
      "   0.00000000e+00 0.00000000e+00]\n",
      "  [0.00000000e+00 0.00000000e+00 0.00000000e+00 ... 0.00000000e+00\n",
      "   0.00000000e+00 0.00000000e+00]\n",
      "  [0.00000000e+00 0.00000000e+00 0.00000000e+00 ... 0.00000000e+00\n",
      "   0.00000000e+00 0.00000000e+00]]]\n",
      "[[[0.0000000e+00 1.0843060e+00 9.4939858e-02 ... 0.0000000e+00\n",
      "   0.0000000e+00 3.0799386e-01]\n",
      "  [0.0000000e+00 0.0000000e+00 2.6698497e-05 ... 0.0000000e+00\n",
      "   0.0000000e+00 0.0000000e+00]\n",
      "  [0.0000000e+00 0.0000000e+00 0.0000000e+00 ... 0.0000000e+00\n",
      "   0.0000000e+00 0.0000000e+00]\n",
      "  ...\n",
      "  [0.0000000e+00 0.0000000e+00 0.0000000e+00 ... 0.0000000e+00\n",
      "   0.0000000e+00 0.0000000e+00]\n",
      "  [0.0000000e+00 0.0000000e+00 5.3396994e-05 ... 0.0000000e+00\n",
      "   0.0000000e+00 0.0000000e+00]\n",
      "  [0.0000000e+00 0.0000000e+00 0.0000000e+00 ... 0.0000000e+00\n",
      "   0.0000000e+00 1.9540630e-01]]\n",
      "\n",
      " [[0.0000000e+00 2.2079658e-02 1.8688948e-03 ... 0.0000000e+00\n",
      "   0.0000000e+00 4.9926192e-03]\n",
      "  [0.0000000e+00 0.0000000e+00 0.0000000e+00 ... 0.0000000e+00\n",
      "   0.0000000e+00 0.0000000e+00]\n",
      "  [0.0000000e+00 0.0000000e+00 0.0000000e+00 ... 0.0000000e+00\n",
      "   0.0000000e+00 0.0000000e+00]\n",
      "  ...\n",
      "  [0.0000000e+00 0.0000000e+00 0.0000000e+00 ... 0.0000000e+00\n",
      "   0.0000000e+00 0.0000000e+00]\n",
      "  [0.0000000e+00 0.0000000e+00 0.0000000e+00 ... 0.0000000e+00\n",
      "   0.0000000e+00 0.0000000e+00]\n",
      "  [0.0000000e+00 0.0000000e+00 0.0000000e+00 ... 0.0000000e+00\n",
      "   0.0000000e+00 4.1649654e-03]]\n",
      "\n",
      " [[0.0000000e+00 1.9276315e-02 1.9222917e-03 ... 0.0000000e+00\n",
      "   0.0000000e+00 4.8858249e-03]\n",
      "  [0.0000000e+00 0.0000000e+00 0.0000000e+00 ... 0.0000000e+00\n",
      "   0.0000000e+00 0.0000000e+00]\n",
      "  [0.0000000e+00 0.0000000e+00 0.0000000e+00 ... 0.0000000e+00\n",
      "   0.0000000e+00 0.0000000e+00]\n",
      "  ...\n",
      "  [0.0000000e+00 0.0000000e+00 0.0000000e+00 ... 0.0000000e+00\n",
      "   0.0000000e+00 0.0000000e+00]\n",
      "  [0.0000000e+00 0.0000000e+00 0.0000000e+00 ... 0.0000000e+00\n",
      "   0.0000000e+00 0.0000000e+00]\n",
      "  [0.0000000e+00 0.0000000e+00 0.0000000e+00 ... 0.0000000e+00\n",
      "   0.0000000e+00 3.8445836e-03]]\n",
      "\n",
      " ...\n",
      "\n",
      " [[0.0000000e+00 4.8057293e-04 5.3396994e-05 ... 0.0000000e+00\n",
      "   0.0000000e+00 8.0095488e-05]\n",
      "  [0.0000000e+00 0.0000000e+00 0.0000000e+00 ... 0.0000000e+00\n",
      "   0.0000000e+00 0.0000000e+00]\n",
      "  [0.0000000e+00 0.0000000e+00 0.0000000e+00 ... 0.0000000e+00\n",
      "   0.0000000e+00 0.0000000e+00]\n",
      "  ...\n",
      "  [0.0000000e+00 0.0000000e+00 0.0000000e+00 ... 0.0000000e+00\n",
      "   0.0000000e+00 0.0000000e+00]\n",
      "  [0.0000000e+00 0.0000000e+00 0.0000000e+00 ... 0.0000000e+00\n",
      "   0.0000000e+00 0.0000000e+00]\n",
      "  [0.0000000e+00 0.0000000e+00 0.0000000e+00 ... 0.0000000e+00\n",
      "   0.0000000e+00 5.3396994e-05]]\n",
      "\n",
      " [[0.0000000e+00 8.2231369e-03 1.3616234e-03 ... 0.0000000e+00\n",
      "   0.0000000e+00 2.1091814e-03]\n",
      "  [0.0000000e+00 0.0000000e+00 0.0000000e+00 ... 0.0000000e+00\n",
      "   0.0000000e+00 0.0000000e+00]\n",
      "  [0.0000000e+00 0.0000000e+00 0.0000000e+00 ... 0.0000000e+00\n",
      "   0.0000000e+00 0.0000000e+00]\n",
      "  ...\n",
      "  [0.0000000e+00 0.0000000e+00 0.0000000e+00 ... 0.0000000e+00\n",
      "   0.0000000e+00 0.0000000e+00]\n",
      "  [0.0000000e+00 0.0000000e+00 0.0000000e+00 ... 0.0000000e+00\n",
      "   0.0000000e+00 0.0000000e+00]\n",
      "  [0.0000000e+00 0.0000000e+00 0.0000000e+00 ... 0.0000000e+00\n",
      "   0.0000000e+00 1.1747339e-03]]\n",
      "\n",
      " [[0.0000000e+00 0.0000000e+00 0.0000000e+00 ... 0.0000000e+00\n",
      "   0.0000000e+00 0.0000000e+00]\n",
      "  [0.0000000e+00 0.0000000e+00 0.0000000e+00 ... 0.0000000e+00\n",
      "   0.0000000e+00 0.0000000e+00]\n",
      "  [0.0000000e+00 0.0000000e+00 0.0000000e+00 ... 0.0000000e+00\n",
      "   0.0000000e+00 0.0000000e+00]\n",
      "  ...\n",
      "  [0.0000000e+00 0.0000000e+00 0.0000000e+00 ... 0.0000000e+00\n",
      "   0.0000000e+00 0.0000000e+00]\n",
      "  [0.0000000e+00 0.0000000e+00 0.0000000e+00 ... 0.0000000e+00\n",
      "   0.0000000e+00 0.0000000e+00]\n",
      "  [0.0000000e+00 0.0000000e+00 0.0000000e+00 ... 0.0000000e+00\n",
      "   0.0000000e+00 0.0000000e+00]]]\n"
     ]
    }
   ],
   "source": [
    "val_QCD = histo.values(overflow='allnan')[('QCD',)]\n",
    "val_HBB = histo.values(overflow='allnan')[('Hbb',)]\n",
    "print(val_QCD)\n",
    "print(val_HBB)"
   ]
  },
  {
   "cell_type": "code",
   "execution_count": 57,
   "metadata": {},
   "outputs": [
    {
     "data": {
      "text/plain": [
       "array([[[0.00000000e+00, 8.30228188e+05, 8.70685062e+05, ...,\n",
       "         1.43737440e+07, 1.43737440e+07, 1.45734230e+07],\n",
       "        [0.00000000e+00, 8.86049461e+00, 1.80087166e+01, ...,\n",
       "         1.99104734e+05, 1.99104734e+05, 1.99104734e+05],\n",
       "        [0.00000000e+00, 5.29477406e+00, 1.39421892e+01, ...,\n",
       "         1.99758125e+05, 1.99758125e+05, 1.99758125e+05],\n",
       "        ...,\n",
       "        [0.00000000e+00, 0.00000000e+00, 5.71461737e-01, ...,\n",
       "         3.11592438e+05, 3.11592438e+05, 3.11592438e+05],\n",
       "        [0.00000000e+00, 0.00000000e+00, 2.85730863e+00, ...,\n",
       "         1.42756288e+06, 1.42756288e+06, 1.42756288e+06],\n",
       "        [0.00000000e+00, 8.29022408e+00, 8.29022408e+00, ...,\n",
       "         8.29022408e+00, 8.29022408e+00, 8.86378984e+04]],\n",
       "\n",
       "       [[0.00000000e+00, 1.49011279e+04, 1.56618057e+04, ...,\n",
       "         2.13752203e+05, 2.13752203e+05, 2.17537969e+05],\n",
       "        [0.00000000e+00, 0.00000000e+00, 1.43268317e-01, ...,\n",
       "         2.24353784e+03, 2.24353784e+03, 2.24353784e+03],\n",
       "        [0.00000000e+00, 0.00000000e+00, 1.43268317e-01, ...,\n",
       "         2.29191284e+03, 2.29191284e+03, 2.29191284e+03],\n",
       "        ...,\n",
       "        [0.00000000e+00, 0.00000000e+00, 0.00000000e+00, ...,\n",
       "         3.31471631e+03, 3.31471631e+03, 3.31471631e+03],\n",
       "        [0.00000000e+00, 0.00000000e+00, 0.00000000e+00, ...,\n",
       "         1.33259561e+04, 1.33259561e+04, 1.33259561e+04],\n",
       "        [0.00000000e+00, 2.15112865e-01, 2.15112865e-01, ...,\n",
       "         2.15112865e-01, 2.15112865e-01, 1.70255835e+03]],\n",
       "\n",
       "       [[0.00000000e+00, 1.32554375e+04, 1.39404492e+04, ...,\n",
       "         1.88153188e+05, 1.88153188e+05, 1.91478047e+05],\n",
       "        [0.00000000e+00, 0.00000000e+00, 7.18445480e-02, ...,\n",
       "         1.93439209e+03, 1.93439209e+03, 1.93439209e+03],\n",
       "        [0.00000000e+00, 5.71461737e-01, 7.14730024e-01, ...,\n",
       "         2.01670691e+03, 2.01670691e+03, 2.01670691e+03],\n",
       "        ...,\n",
       "        [0.00000000e+00, 0.00000000e+00, 0.00000000e+00, ...,\n",
       "         2.82306909e+03, 2.82306909e+03, 2.82306909e+03],\n",
       "        [0.00000000e+00, 0.00000000e+00, 7.18445480e-02, ...,\n",
       "         1.12879482e+04, 1.12879482e+04, 1.12879482e+04],\n",
       "        [0.00000000e+00, 2.86536634e-01, 2.86536634e-01, ...,\n",
       "         2.86536634e-01, 2.86536634e-01, 1.53088306e+03]],\n",
       "\n",
       "       ...,\n",
       "\n",
       "       [[0.00000000e+00, 9.93872528e+01, 1.06193871e+02, ...,\n",
       "         1.20411792e+03, 1.20411792e+03, 1.22998425e+03],\n",
       "        [0.00000000e+00, 0.00000000e+00, 0.00000000e+00, ...,\n",
       "         1.16816301e+01, 1.16816301e+01, 1.16816301e+01],\n",
       "        [0.00000000e+00, 0.00000000e+00, 0.00000000e+00, ...,\n",
       "         1.12323942e+01, 1.12323942e+01, 1.12323942e+01],\n",
       "        ...,\n",
       "        [0.00000000e+00, 0.00000000e+00, 1.07604163e-02, ...,\n",
       "         7.44895792e+00, 7.44895792e+00, 7.44895792e+00],\n",
       "        [0.00000000e+00, 0.00000000e+00, 0.00000000e+00, ...,\n",
       "         2.94109745e+01, 2.94109745e+01, 2.94109745e+01],\n",
       "        [0.00000000e+00, 0.00000000e+00, 0.00000000e+00, ...,\n",
       "         0.00000000e+00, 0.00000000e+00, 1.29377718e+01]],\n",
       "\n",
       "       [[0.00000000e+00, 1.70535339e+03, 1.84045654e+03, ...,\n",
       "         2.05003594e+04, 2.05003594e+04, 2.09994668e+04],\n",
       "        [0.00000000e+00, 6.73891697e-03, 1.34778339e-02, ...,\n",
       "         1.85073837e+02, 1.85073837e+02, 1.85073837e+02],\n",
       "        [0.00000000e+00, 0.00000000e+00, 0.00000000e+00, ...,\n",
       "         1.83509369e+02, 1.83509369e+02, 1.83509369e+02],\n",
       "        ...,\n",
       "        [0.00000000e+00, 0.00000000e+00, 6.73891697e-03, ...,\n",
       "         1.00538139e+02, 1.00538139e+02, 1.00538139e+02],\n",
       "        [0.00000000e+00, 0.00000000e+00, 1.07604163e-02, ...,\n",
       "         3.98096375e+02, 3.98096375e+02, 3.98096375e+02],\n",
       "        [0.00000000e+00, 1.05105259e-01, 1.18583091e-01, ...,\n",
       "         6.10524058e-01, 6.10524058e-01, 2.20067093e+02]],\n",
       "\n",
       "       [[0.00000000e+00, 0.00000000e+00, 0.00000000e+00, ...,\n",
       "         0.00000000e+00, 0.00000000e+00, 0.00000000e+00],\n",
       "        [0.00000000e+00, 0.00000000e+00, 0.00000000e+00, ...,\n",
       "         0.00000000e+00, 0.00000000e+00, 0.00000000e+00],\n",
       "        [0.00000000e+00, 0.00000000e+00, 0.00000000e+00, ...,\n",
       "         0.00000000e+00, 0.00000000e+00, 0.00000000e+00],\n",
       "        ...,\n",
       "        [0.00000000e+00, 0.00000000e+00, 0.00000000e+00, ...,\n",
       "         0.00000000e+00, 0.00000000e+00, 0.00000000e+00],\n",
       "        [0.00000000e+00, 0.00000000e+00, 0.00000000e+00, ...,\n",
       "         0.00000000e+00, 0.00000000e+00, 0.00000000e+00],\n",
       "        [0.00000000e+00, 0.00000000e+00, 0.00000000e+00, ...,\n",
       "         0.00000000e+00, 0.00000000e+00, 0.00000000e+00]]], dtype=float32)"
      ]
     },
     "execution_count": 57,
     "metadata": {},
     "output_type": "execute_result"
    }
   ],
   "source": [
    "np.cumsum(val_QCD, axis=2)"
   ]
  },
  {
   "cell_type": "code",
   "execution_count": 58,
   "metadata": {},
   "outputs": [
    {
     "name": "stdout",
     "output_type": "stream",
     "text": [
      "[[ 7 -1  3]\n",
      " [ 1 -2  4]\n",
      " [10  1  5]]\n"
     ]
    }
   ],
   "source": [
    "print(a)"
   ]
  },
  {
   "cell_type": "code",
   "execution_count": 59,
   "metadata": {},
   "outputs": [
    {
     "ename": "NameError",
     "evalue": "name 'numpy' is not defined",
     "output_type": "error",
     "traceback": [
      "\u001b[0;31m---------------------------------------------------------------------------\u001b[0m",
      "\u001b[0;31mNameError\u001b[0m                                 Traceback (most recent call last)",
      "\u001b[0;32m<ipython-input-59-3ee319d35da5>\u001b[0m in \u001b[0;36m<module>\u001b[0;34m()\u001b[0m\n\u001b[0;32m----> 1\u001b[0;31m \u001b[0mnumpy\u001b[0m\u001b[0;34m.\u001b[0m\u001b[0mcumsum\u001b[0m\u001b[0;34m(\u001b[0m\u001b[0ma\u001b[0m\u001b[0;34m)\u001b[0m\u001b[0;34m\u001b[0m\u001b[0m\n\u001b[0m",
      "\u001b[0;31mNameError\u001b[0m: name 'numpy' is not defined"
     ]
    }
   ],
   "source": [
    "numpy.cumsum(a)"
   ]
  },
  {
   "cell_type": "code",
   "execution_count": 5,
   "metadata": {},
   "outputs": [
    {
     "data": {
      "text/plain": [
       "array([ 7,  6,  9, 10,  8, 12, 22, 23, 28])"
      ]
     },
     "execution_count": 5,
     "metadata": {},
     "output_type": "execute_result"
    }
   ],
   "source": [
    "np.cumsum(a)"
   ]
  },
  {
   "cell_type": "code",
   "execution_count": 60,
   "metadata": {},
   "outputs": [
    {
     "data": {
      "text/plain": [
       "array([[ 7, -1,  3],\n",
       "       [ 8, -3,  7],\n",
       "       [18, -2, 12]])"
      ]
     },
     "execution_count": 60,
     "metadata": {},
     "output_type": "execute_result"
    }
   ],
   "source": [
    "np.cumsum(a,axis=0)"
   ]
  },
  {
   "cell_type": "code",
   "execution_count": 61,
   "metadata": {},
   "outputs": [
    {
     "data": {
      "text/plain": [
       "array([[ 7,  6,  9],\n",
       "       [ 1, -1,  3],\n",
       "       [10, 11, 16]])"
      ]
     },
     "execution_count": 61,
     "metadata": {},
     "output_type": "execute_result"
    }
   ],
   "source": [
    "np.cumsum(a,axis=1)"
   ]
  },
  {
   "cell_type": "code",
   "execution_count": 8,
   "metadata": {},
   "outputs": [],
   "source": [
    "testing = np.cumsum(a,axis=1)"
   ]
  },
  {
   "cell_type": "code",
   "execution_count": 9,
   "metadata": {},
   "outputs": [
    {
     "name": "stdout",
     "output_type": "stream",
     "text": [
      "[[ 7  6  9]\n",
      " [ 1 -1  3]\n",
      " [10 11 16]]\n"
     ]
    }
   ],
   "source": [
    "print(testing)"
   ]
  },
  {
   "cell_type": "code",
   "execution_count": 10,
   "metadata": {},
   "outputs": [
    {
     "data": {
      "text/plain": [
       "array([[ 7,  6,  9],\n",
       "       [ 1, -1,  3]])"
      ]
     },
     "execution_count": 10,
     "metadata": {},
     "output_type": "execute_result"
    }
   ],
   "source": [
    "testing[:-1]"
   ]
  },
  {
   "cell_type": "code",
   "execution_count": 11,
   "metadata": {},
   "outputs": [
    {
     "data": {
      "text/plain": [
       "array([ 9,  3, 16])"
      ]
     },
     "execution_count": 11,
     "metadata": {},
     "output_type": "execute_result"
    }
   ],
   "source": [
    "testing[:,-1]"
   ]
  },
  {
   "cell_type": "code",
   "execution_count": 12,
   "metadata": {},
   "outputs": [
    {
     "data": {
      "text/plain": [
       "array([[ 0.77777778,  2.        ,  0.5625    ],\n",
       "       [ 0.11111111, -0.33333333,  0.1875    ],\n",
       "       [ 1.11111111,  3.66666667,  1.        ]])"
      ]
     },
     "execution_count": 12,
     "metadata": {},
     "output_type": "execute_result"
    }
   ],
   "source": [
    "testing/testing[:,-1]"
   ]
  },
  {
   "cell_type": "code",
   "execution_count": 13,
   "metadata": {},
   "outputs": [
    {
     "data": {
      "text/plain": [
       "array([[[ 7,  6,  9],\n",
       "        [ 1, -1,  3],\n",
       "        [10, 11, 16]]])"
      ]
     },
     "execution_count": 13,
     "metadata": {},
     "output_type": "execute_result"
    }
   ],
   "source": [
    "testing[np.newaxis,:]"
   ]
  },
  {
   "cell_type": "code",
   "execution_count": 14,
   "metadata": {},
   "outputs": [],
   "source": [
    "testing2 = testing[:,-1]"
   ]
  },
  {
   "cell_type": "code",
   "execution_count": 15,
   "metadata": {},
   "outputs": [
    {
     "name": "stdout",
     "output_type": "stream",
     "text": [
      "[ 9  3 16]\n"
     ]
    }
   ],
   "source": [
    "print(testing2)"
   ]
  },
  {
   "cell_type": "code",
   "execution_count": 16,
   "metadata": {},
   "outputs": [
    {
     "data": {
      "text/plain": [
       "array([[ 9,  3, 16]])"
      ]
     },
     "execution_count": 16,
     "metadata": {},
     "output_type": "execute_result"
    }
   ],
   "source": [
    "testing2[np.newaxis,:]"
   ]
  },
  {
   "cell_type": "code",
   "execution_count": 17,
   "metadata": {},
   "outputs": [],
   "source": [
    "testing3 = testing2[np.newaxis,:]"
   ]
  },
  {
   "cell_type": "code",
   "execution_count": 18,
   "metadata": {},
   "outputs": [
    {
     "name": "stdout",
     "output_type": "stream",
     "text": [
      "[[ 9  3 16]]\n"
     ]
    }
   ],
   "source": [
    "print(testing3)"
   ]
  },
  {
   "cell_type": "code",
   "execution_count": 19,
   "metadata": {},
   "outputs": [
    {
     "data": {
      "text/plain": [
       "array([[ 0.77777778,  2.        ,  0.5625    ],\n",
       "       [ 0.11111111, -0.33333333,  0.1875    ],\n",
       "       [ 1.11111111,  3.66666667,  1.        ]])"
      ]
     },
     "execution_count": 19,
     "metadata": {},
     "output_type": "execute_result"
    }
   ],
   "source": [
    "testing/testing3"
   ]
  },
  {
   "cell_type": "code",
   "execution_count": 20,
   "metadata": {},
   "outputs": [],
   "source": [
    "testing4 = testing2[:,np.newaxis]"
   ]
  },
  {
   "cell_type": "code",
   "execution_count": 21,
   "metadata": {},
   "outputs": [
    {
     "name": "stdout",
     "output_type": "stream",
     "text": [
      "[[ 9]\n",
      " [ 3]\n",
      " [16]]\n"
     ]
    }
   ],
   "source": [
    "print(testing4)"
   ]
  },
  {
   "cell_type": "code",
   "execution_count": 22,
   "metadata": {},
   "outputs": [
    {
     "data": {
      "text/plain": [
       "array([[ 0.77777778,  0.66666667,  1.        ],\n",
       "       [ 0.33333333, -0.33333333,  1.        ],\n",
       "       [ 0.625     ,  0.6875    ,  1.        ]])"
      ]
     },
     "execution_count": 22,
     "metadata": {},
     "output_type": "execute_result"
    }
   ],
   "source": [
    "testing/testing4"
   ]
  },
  {
   "cell_type": "code",
   "execution_count": 62,
   "metadata": {},
   "outputs": [
    {
     "data": {
      "text/plain": [
       "array([[[0.00000000e+00, 8.30228188e+05, 8.70685062e+05, ...,\n",
       "         1.43737440e+07, 1.43737440e+07, 1.45734230e+07],\n",
       "        [0.00000000e+00, 8.86049461e+00, 1.80087166e+01, ...,\n",
       "         1.99104734e+05, 1.99104734e+05, 1.99104734e+05],\n",
       "        [0.00000000e+00, 5.29477406e+00, 1.39421892e+01, ...,\n",
       "         1.99758125e+05, 1.99758125e+05, 1.99758125e+05],\n",
       "        ...,\n",
       "        [0.00000000e+00, 0.00000000e+00, 5.71461737e-01, ...,\n",
       "         3.11592438e+05, 3.11592438e+05, 3.11592438e+05],\n",
       "        [0.00000000e+00, 0.00000000e+00, 2.85730863e+00, ...,\n",
       "         1.42756288e+06, 1.42756288e+06, 1.42756288e+06],\n",
       "        [0.00000000e+00, 8.29022408e+00, 8.29022408e+00, ...,\n",
       "         8.29022408e+00, 8.29022408e+00, 8.86378984e+04]],\n",
       "\n",
       "       [[0.00000000e+00, 1.49011279e+04, 1.56618057e+04, ...,\n",
       "         2.13752203e+05, 2.13752203e+05, 2.17537969e+05],\n",
       "        [0.00000000e+00, 0.00000000e+00, 1.43268317e-01, ...,\n",
       "         2.24353784e+03, 2.24353784e+03, 2.24353784e+03],\n",
       "        [0.00000000e+00, 0.00000000e+00, 1.43268317e-01, ...,\n",
       "         2.29191284e+03, 2.29191284e+03, 2.29191284e+03],\n",
       "        ...,\n",
       "        [0.00000000e+00, 0.00000000e+00, 0.00000000e+00, ...,\n",
       "         3.31471631e+03, 3.31471631e+03, 3.31471631e+03],\n",
       "        [0.00000000e+00, 0.00000000e+00, 0.00000000e+00, ...,\n",
       "         1.33259561e+04, 1.33259561e+04, 1.33259561e+04],\n",
       "        [0.00000000e+00, 2.15112865e-01, 2.15112865e-01, ...,\n",
       "         2.15112865e-01, 2.15112865e-01, 1.70255835e+03]],\n",
       "\n",
       "       [[0.00000000e+00, 1.32554375e+04, 1.39404492e+04, ...,\n",
       "         1.88153188e+05, 1.88153188e+05, 1.91478047e+05],\n",
       "        [0.00000000e+00, 0.00000000e+00, 7.18445480e-02, ...,\n",
       "         1.93439209e+03, 1.93439209e+03, 1.93439209e+03],\n",
       "        [0.00000000e+00, 5.71461737e-01, 7.14730024e-01, ...,\n",
       "         2.01670691e+03, 2.01670691e+03, 2.01670691e+03],\n",
       "        ...,\n",
       "        [0.00000000e+00, 0.00000000e+00, 0.00000000e+00, ...,\n",
       "         2.82306909e+03, 2.82306909e+03, 2.82306909e+03],\n",
       "        [0.00000000e+00, 0.00000000e+00, 7.18445480e-02, ...,\n",
       "         1.12879482e+04, 1.12879482e+04, 1.12879482e+04],\n",
       "        [0.00000000e+00, 2.86536634e-01, 2.86536634e-01, ...,\n",
       "         2.86536634e-01, 2.86536634e-01, 1.53088306e+03]],\n",
       "\n",
       "       ...,\n",
       "\n",
       "       [[0.00000000e+00, 9.93872528e+01, 1.06193871e+02, ...,\n",
       "         1.20411792e+03, 1.20411792e+03, 1.22998425e+03],\n",
       "        [0.00000000e+00, 0.00000000e+00, 0.00000000e+00, ...,\n",
       "         1.16816301e+01, 1.16816301e+01, 1.16816301e+01],\n",
       "        [0.00000000e+00, 0.00000000e+00, 0.00000000e+00, ...,\n",
       "         1.12323942e+01, 1.12323942e+01, 1.12323942e+01],\n",
       "        ...,\n",
       "        [0.00000000e+00, 0.00000000e+00, 1.07604163e-02, ...,\n",
       "         7.44895792e+00, 7.44895792e+00, 7.44895792e+00],\n",
       "        [0.00000000e+00, 0.00000000e+00, 0.00000000e+00, ...,\n",
       "         2.94109745e+01, 2.94109745e+01, 2.94109745e+01],\n",
       "        [0.00000000e+00, 0.00000000e+00, 0.00000000e+00, ...,\n",
       "         0.00000000e+00, 0.00000000e+00, 1.29377718e+01]],\n",
       "\n",
       "       [[0.00000000e+00, 1.70535339e+03, 1.84045654e+03, ...,\n",
       "         2.05003594e+04, 2.05003594e+04, 2.09994668e+04],\n",
       "        [0.00000000e+00, 6.73891697e-03, 1.34778339e-02, ...,\n",
       "         1.85073837e+02, 1.85073837e+02, 1.85073837e+02],\n",
       "        [0.00000000e+00, 0.00000000e+00, 0.00000000e+00, ...,\n",
       "         1.83509369e+02, 1.83509369e+02, 1.83509369e+02],\n",
       "        ...,\n",
       "        [0.00000000e+00, 0.00000000e+00, 6.73891697e-03, ...,\n",
       "         1.00538139e+02, 1.00538139e+02, 1.00538139e+02],\n",
       "        [0.00000000e+00, 0.00000000e+00, 1.07604163e-02, ...,\n",
       "         3.98096375e+02, 3.98096375e+02, 3.98096375e+02],\n",
       "        [0.00000000e+00, 1.05105259e-01, 1.18583091e-01, ...,\n",
       "         6.10524058e-01, 6.10524058e-01, 2.20067093e+02]],\n",
       "\n",
       "       [[0.00000000e+00, 0.00000000e+00, 0.00000000e+00, ...,\n",
       "         0.00000000e+00, 0.00000000e+00, 0.00000000e+00],\n",
       "        [0.00000000e+00, 0.00000000e+00, 0.00000000e+00, ...,\n",
       "         0.00000000e+00, 0.00000000e+00, 0.00000000e+00],\n",
       "        [0.00000000e+00, 0.00000000e+00, 0.00000000e+00, ...,\n",
       "         0.00000000e+00, 0.00000000e+00, 0.00000000e+00],\n",
       "        ...,\n",
       "        [0.00000000e+00, 0.00000000e+00, 0.00000000e+00, ...,\n",
       "         0.00000000e+00, 0.00000000e+00, 0.00000000e+00],\n",
       "        [0.00000000e+00, 0.00000000e+00, 0.00000000e+00, ...,\n",
       "         0.00000000e+00, 0.00000000e+00, 0.00000000e+00],\n",
       "        [0.00000000e+00, 0.00000000e+00, 0.00000000e+00, ...,\n",
       "         0.00000000e+00, 0.00000000e+00, 0.00000000e+00]]], dtype=float32)"
      ]
     },
     "execution_count": 62,
     "metadata": {},
     "output_type": "execute_result"
    }
   ],
   "source": [
    "np.cumsum(val_QCD, axis=2)"
   ]
  },
  {
   "cell_type": "code",
   "execution_count": 63,
   "metadata": {},
   "outputs": [],
   "source": [
    "qcd_maxval_temp = np.cumsum(val_QCD, axis=2)\n",
    "hbb_maxval_temp = np.cumsum(val_HBB, axis=2)"
   ]
  },
  {
   "cell_type": "code",
   "execution_count": 64,
   "metadata": {},
   "outputs": [
    {
     "name": "stdout",
     "output_type": "stream",
     "text": [
      "[[[0.00000000e+00 1.08430600e+00 1.17924583e+00 ... 3.91827126e+01\n",
      "   3.91827126e+01 3.94907074e+01]\n",
      "  [0.00000000e+00 0.00000000e+00 2.66984971e-05 ... 3.51672620e-01\n",
      "   3.51672620e-01 3.51672620e-01]\n",
      "  [0.00000000e+00 0.00000000e+00 0.00000000e+00 ... 3.56958896e-01\n",
      "   3.56958896e-01 3.56958896e-01]\n",
      "  ...\n",
      "  [0.00000000e+00 0.00000000e+00 0.00000000e+00 ... 4.63646078e+00\n",
      "   4.63646078e+00 4.63646078e+00]\n",
      "  [0.00000000e+00 0.00000000e+00 5.33969942e-05 ... 2.64535122e+01\n",
      "   2.64535122e+01 2.64535122e+01]\n",
      "  [0.00000000e+00 0.00000000e+00 0.00000000e+00 ... 0.00000000e+00\n",
      "   0.00000000e+00 1.95406303e-01]]\n",
      "\n",
      " [[0.00000000e+00 2.20796578e-02 2.39485521e-02 ... 6.04961276e-01\n",
      "   6.04961276e-01 6.09953880e-01]\n",
      "  [0.00000000e+00 0.00000000e+00 0.00000000e+00 ... 4.67223721e-03\n",
      "   4.67223721e-03 4.67223721e-03]\n",
      "  [0.00000000e+00 0.00000000e+00 0.00000000e+00 ... 4.51204553e-03\n",
      "   4.51204553e-03 4.51204553e-03]\n",
      "  ...\n",
      "  [0.00000000e+00 0.00000000e+00 0.00000000e+00 ... 1.28579944e-01\n",
      "   1.28579944e-01 1.28579944e-01]\n",
      "  [0.00000000e+00 0.00000000e+00 0.00000000e+00 ... 1.60511360e-01\n",
      "   1.60511360e-01 1.60511360e-01]\n",
      "  [0.00000000e+00 0.00000000e+00 0.00000000e+00 ... 0.00000000e+00\n",
      "   0.00000000e+00 4.16496536e-03]]\n",
      "\n",
      " [[0.00000000e+00 1.92763153e-02 2.11986080e-02 ... 5.33355892e-01\n",
      "   5.33355892e-01 5.38241744e-01]\n",
      "  [0.00000000e+00 0.00000000e+00 0.00000000e+00 ... 3.81788518e-03\n",
      "   3.81788518e-03 3.81788518e-03]\n",
      "  [0.00000000e+00 0.00000000e+00 0.00000000e+00 ... 4.35185572e-03\n",
      "   4.35185572e-03 4.35185572e-03]\n",
      "  ...\n",
      "  [0.00000000e+00 0.00000000e+00 0.00000000e+00 ... 7.82532915e-02\n",
      "   7.82532915e-02 7.82532915e-02]\n",
      "  [0.00000000e+00 0.00000000e+00 0.00000000e+00 ... 1.05432376e-01\n",
      "   1.05432376e-01 1.05432376e-01]\n",
      "  [0.00000000e+00 0.00000000e+00 0.00000000e+00 ... 0.00000000e+00\n",
      "   0.00000000e+00 3.84458364e-03]]\n",
      "\n",
      " ...\n",
      "\n",
      " [[0.00000000e+00 4.80572926e-04 5.33969898e-04 ... 6.72802143e-03\n",
      "   6.72802143e-03 6.80811703e-03]\n",
      "  [0.00000000e+00 0.00000000e+00 0.00000000e+00 ... 2.66984971e-05\n",
      "   2.66984971e-05 2.66984971e-05]\n",
      "  [0.00000000e+00 0.00000000e+00 0.00000000e+00 ... 8.00954876e-05\n",
      "   8.00954876e-05 8.00954876e-05]\n",
      "  ...\n",
      "  [0.00000000e+00 0.00000000e+00 0.00000000e+00 ... 2.66984971e-05\n",
      "   2.66984971e-05 2.66984971e-05]\n",
      "  [0.00000000e+00 0.00000000e+00 0.00000000e+00 ... 2.66984978e-04\n",
      "   2.66984978e-04 2.66984978e-04]\n",
      "  [0.00000000e+00 0.00000000e+00 0.00000000e+00 ... 0.00000000e+00\n",
      "   0.00000000e+00 5.33969942e-05]]\n",
      "\n",
      " [[0.00000000e+00 8.22313689e-03 9.58476029e-03 ... 1.28633350e-01\n",
      "   1.28633350e-01 1.30742535e-01]\n",
      "  [0.00000000e+00 0.00000000e+00 0.00000000e+00 ... 1.76210084e-03\n",
      "   1.76210084e-03 1.76210084e-03]\n",
      "  [0.00000000e+00 0.00000000e+00 0.00000000e+00 ... 1.73540227e-03\n",
      "   1.73540227e-03 1.73540227e-03]\n",
      "  ...\n",
      "  [0.00000000e+00 0.00000000e+00 0.00000000e+00 ... 1.04124122e-03\n",
      "   1.04124122e-03 1.04124122e-03]\n",
      "  [0.00000000e+00 0.00000000e+00 0.00000000e+00 ... 5.01931785e-03\n",
      "   5.01931785e-03 5.01931785e-03]\n",
      "  [0.00000000e+00 0.00000000e+00 0.00000000e+00 ... 0.00000000e+00\n",
      "   0.00000000e+00 1.17473386e-03]]\n",
      "\n",
      " [[0.00000000e+00 0.00000000e+00 0.00000000e+00 ... 0.00000000e+00\n",
      "   0.00000000e+00 0.00000000e+00]\n",
      "  [0.00000000e+00 0.00000000e+00 0.00000000e+00 ... 0.00000000e+00\n",
      "   0.00000000e+00 0.00000000e+00]\n",
      "  [0.00000000e+00 0.00000000e+00 0.00000000e+00 ... 0.00000000e+00\n",
      "   0.00000000e+00 0.00000000e+00]\n",
      "  ...\n",
      "  [0.00000000e+00 0.00000000e+00 0.00000000e+00 ... 0.00000000e+00\n",
      "   0.00000000e+00 0.00000000e+00]\n",
      "  [0.00000000e+00 0.00000000e+00 0.00000000e+00 ... 0.00000000e+00\n",
      "   0.00000000e+00 0.00000000e+00]\n",
      "  [0.00000000e+00 0.00000000e+00 0.00000000e+00 ... 0.00000000e+00\n",
      "   0.00000000e+00 0.00000000e+00]]]\n"
     ]
    }
   ],
   "source": [
    "print(hbb_maxval_temp)"
   ]
  },
  {
   "cell_type": "code",
   "execution_count": 65,
   "metadata": {},
   "outputs": [
    {
     "data": {
      "text/plain": [
       "array([[1.4573423e+07, 1.9910473e+05, 1.9975812e+05, ..., 3.1159244e+05,\n",
       "        1.4275629e+06, 8.8637898e+04],\n",
       "       [2.1753797e+05, 2.2435378e+03, 2.2919128e+03, ..., 3.3147163e+03,\n",
       "        1.3325956e+04, 1.7025583e+03],\n",
       "       [1.9147805e+05, 1.9343921e+03, 2.0167069e+03, ..., 2.8230691e+03,\n",
       "        1.1287948e+04, 1.5308831e+03],\n",
       "       ...,\n",
       "       [1.2299843e+03, 1.1681630e+01, 1.1232394e+01, ..., 7.4489579e+00,\n",
       "        2.9410975e+01, 1.2937772e+01],\n",
       "       [2.0999467e+04, 1.8507384e+02, 1.8350937e+02, ..., 1.0053814e+02,\n",
       "        3.9809637e+02, 2.2006709e+02],\n",
       "       [0.0000000e+00, 0.0000000e+00, 0.0000000e+00, ..., 0.0000000e+00,\n",
       "        0.0000000e+00, 0.0000000e+00]], dtype=float32)"
      ]
     },
     "execution_count": 65,
     "metadata": {},
     "output_type": "execute_result"
    }
   ],
   "source": [
    "qcd_maxval_temp[:,:,-1]"
   ]
  },
  {
   "cell_type": "code",
   "execution_count": 66,
   "metadata": {},
   "outputs": [],
   "source": [
    "qcd_maxval = qcd_maxval_temp[:,:,-1]\n",
    "hbb_maxval = hbb_maxval_temp[:,:,-1]"
   ]
  },
  {
   "cell_type": "code",
   "execution_count": 67,
   "metadata": {},
   "outputs": [
    {
     "name": "stdout",
     "output_type": "stream",
     "text": [
      "[[[0.00000000e+00 2.74572447e-02 2.98613496e-02 ... 9.92200851e-01\n",
      "   9.92200851e-01 1.00000000e+00]\n",
      "  [0.00000000e+00 0.00000000e+00 2.66984971e-05 ... 3.51672620e-01\n",
      "   3.51672620e-01 3.51672620e-01]\n",
      "  [0.00000000e+00 0.00000000e+00 0.00000000e+00 ... 3.56958896e-01\n",
      "   3.56958896e-01 3.56958896e-01]\n",
      "  ...\n",
      "  [0.00000000e+00 0.00000000e+00 0.00000000e+00 ... 1.00000000e+00\n",
      "   1.00000000e+00 1.00000000e+00]\n",
      "  [0.00000000e+00 0.00000000e+00 2.01852185e-06 ... 1.00000000e+00\n",
      "   1.00000000e+00 1.00000000e+00]\n",
      "  [0.00000000e+00 0.00000000e+00 0.00000000e+00 ... 0.00000000e+00\n",
      "   0.00000000e+00 1.95406303e-01]]\n",
      "\n",
      " [[0.00000000e+00 2.20796578e-02 2.39485521e-02 ... 6.04961276e-01\n",
      "   6.04961276e-01 6.09953880e-01]\n",
      "  [0.00000000e+00 0.00000000e+00 0.00000000e+00 ... 4.67223721e-03\n",
      "   4.67223721e-03 4.67223721e-03]\n",
      "  [0.00000000e+00 0.00000000e+00 0.00000000e+00 ... 4.51204553e-03\n",
      "   4.51204553e-03 4.51204553e-03]\n",
      "  ...\n",
      "  [0.00000000e+00 0.00000000e+00 0.00000000e+00 ... 1.28579944e-01\n",
      "   1.28579944e-01 1.28579944e-01]\n",
      "  [0.00000000e+00 0.00000000e+00 0.00000000e+00 ... 1.60511360e-01\n",
      "   1.60511360e-01 1.60511360e-01]\n",
      "  [0.00000000e+00 0.00000000e+00 0.00000000e+00 ... 0.00000000e+00\n",
      "   0.00000000e+00 4.16496536e-03]]\n",
      "\n",
      " [[0.00000000e+00 1.92763153e-02 2.11986080e-02 ... 5.33355892e-01\n",
      "   5.33355892e-01 5.38241744e-01]\n",
      "  [0.00000000e+00 0.00000000e+00 0.00000000e+00 ... 3.81788518e-03\n",
      "   3.81788518e-03 3.81788518e-03]\n",
      "  [0.00000000e+00 0.00000000e+00 0.00000000e+00 ... 4.35185572e-03\n",
      "   4.35185572e-03 4.35185572e-03]\n",
      "  ...\n",
      "  [0.00000000e+00 0.00000000e+00 0.00000000e+00 ... 7.82532915e-02\n",
      "   7.82532915e-02 7.82532915e-02]\n",
      "  [0.00000000e+00 0.00000000e+00 0.00000000e+00 ... 1.05432376e-01\n",
      "   1.05432376e-01 1.05432376e-01]\n",
      "  [0.00000000e+00 0.00000000e+00 0.00000000e+00 ... 0.00000000e+00\n",
      "   0.00000000e+00 3.84458364e-03]]\n",
      "\n",
      " ...\n",
      "\n",
      " [[0.00000000e+00 4.80572926e-04 5.33969898e-04 ... 6.72802143e-03\n",
      "   6.72802143e-03 6.80811703e-03]\n",
      "  [0.00000000e+00 0.00000000e+00 0.00000000e+00 ... 2.66984971e-05\n",
      "   2.66984971e-05 2.66984971e-05]\n",
      "  [0.00000000e+00 0.00000000e+00 0.00000000e+00 ... 8.00954876e-05\n",
      "   8.00954876e-05 8.00954876e-05]\n",
      "  ...\n",
      "  [0.00000000e+00 0.00000000e+00 0.00000000e+00 ... 2.66984971e-05\n",
      "   2.66984971e-05 2.66984971e-05]\n",
      "  [0.00000000e+00 0.00000000e+00 0.00000000e+00 ... 2.66984978e-04\n",
      "   2.66984978e-04 2.66984978e-04]\n",
      "  [0.00000000e+00 0.00000000e+00 0.00000000e+00 ... 0.00000000e+00\n",
      "   0.00000000e+00 5.33969942e-05]]\n",
      "\n",
      " [[0.00000000e+00 8.22313689e-03 9.58476029e-03 ... 1.28633350e-01\n",
      "   1.28633350e-01 1.30742535e-01]\n",
      "  [0.00000000e+00 0.00000000e+00 0.00000000e+00 ... 1.76210084e-03\n",
      "   1.76210084e-03 1.76210084e-03]\n",
      "  [0.00000000e+00 0.00000000e+00 0.00000000e+00 ... 1.73540227e-03\n",
      "   1.73540227e-03 1.73540227e-03]\n",
      "  ...\n",
      "  [0.00000000e+00 0.00000000e+00 0.00000000e+00 ... 1.04124122e-03\n",
      "   1.04124122e-03 1.04124122e-03]\n",
      "  [0.00000000e+00 0.00000000e+00 0.00000000e+00 ... 5.01931785e-03\n",
      "   5.01931785e-03 5.01931785e-03]\n",
      "  [0.00000000e+00 0.00000000e+00 0.00000000e+00 ... 0.00000000e+00\n",
      "   0.00000000e+00 1.17473386e-03]]\n",
      "\n",
      " [[0.00000000e+00 0.00000000e+00 0.00000000e+00 ... 0.00000000e+00\n",
      "   0.00000000e+00 0.00000000e+00]\n",
      "  [0.00000000e+00 0.00000000e+00 0.00000000e+00 ... 0.00000000e+00\n",
      "   0.00000000e+00 0.00000000e+00]\n",
      "  [0.00000000e+00 0.00000000e+00 0.00000000e+00 ... 0.00000000e+00\n",
      "   0.00000000e+00 0.00000000e+00]\n",
      "  ...\n",
      "  [0.00000000e+00 0.00000000e+00 0.00000000e+00 ... 0.00000000e+00\n",
      "   0.00000000e+00 0.00000000e+00]\n",
      "  [0.00000000e+00 0.00000000e+00 0.00000000e+00 ... 0.00000000e+00\n",
      "   0.00000000e+00 0.00000000e+00]\n",
      "  [0.00000000e+00 0.00000000e+00 0.00000000e+00 ... 0.00000000e+00\n",
      "   0.00000000e+00 0.00000000e+00]]]\n"
     ]
    }
   ],
   "source": [
    "norma = qcd_maxval_temp / np.maximum(1,qcd_maxval[:,:,np.newaxis])\n",
    "norma2 = hbb_maxval_temp / np.maximum(1,hbb_maxval[:,:,np.newaxis])\n",
    "print(norma2)"
   ]
  },
  {
   "cell_type": "code",
   "execution_count": 75,
   "metadata": {},
   "outputs": [
    {
     "ename": "NameError",
     "evalue": "name 'y_HBB' is not defined",
     "output_type": "error",
     "traceback": [
      "\u001b[0;31m---------------------------------------------------------------------------\u001b[0m",
      "\u001b[0;31mNameError\u001b[0m                                 Traceback (most recent call last)",
      "\u001b[0;32m<ipython-input-75-b3c578f5a8b4>\u001b[0m in \u001b[0;36m<module>\u001b[0;34m()\u001b[0m\n\u001b[0;32m----> 1\u001b[0;31m \u001b[0mprint\u001b[0m\u001b[0;34m(\u001b[0m\u001b[0my_HBB\u001b[0m\u001b[0;34m)\u001b[0m\u001b[0;34m\u001b[0m\u001b[0m\n\u001b[0m\u001b[1;32m      2\u001b[0m \u001b[0mprint\u001b[0m\u001b[0;34m(\u001b[0m\u001b[0mnorma2\u001b[0m\u001b[0;34m)\u001b[0m\u001b[0;34m\u001b[0m\u001b[0m\n",
      "\u001b[0;31mNameError\u001b[0m: name 'y_HBB' is not defined"
     ]
    }
   ],
   "source": [
    "print(y_HBB)\n",
    "print(norma2)"
   ]
  },
  {
   "cell_type": "code",
   "execution_count": 125,
   "metadata": {},
   "outputs": [],
   "source": [
    "hist_y_QCD = histo.sum(\"process\")\n",
    "hist_y_HBB = histo.sum(\"process\")"
   ]
  },
  {
   "cell_type": "code",
   "execution_count": 126,
   "metadata": {},
   "outputs": [
    {
     "name": "stdout",
     "output_type": "stream",
     "text": [
      "<Hist (AK8Puppijet0_pt,jetrho,AK8Puppijet0_N2sdb1) instance at 0x7fd7cc0d10b8>\n",
      "<Hist (AK8Puppijet0_pt,jetrho,AK8Puppijet0_N2sdb1) instance at 0x7fd7cc0d1b00>\n"
     ]
    }
   ],
   "source": [
    "print(hist_y_HBB)\n",
    "print(hist_y_QCD)"
   ]
  },
  {
   "cell_type": "code",
   "execution_count": 127,
   "metadata": {},
   "outputs": [],
   "source": [
    "hist_y_QCD.clear()\n",
    "hist_y_HBB.clear()"
   ]
  },
  {
   "cell_type": "code",
   "execution_count": 128,
   "metadata": {},
   "outputs": [],
   "source": [
    "hist_y_QCD._sumw = {():norma}\n",
    "hist_y_HBB._sumw = {():norma2}\n"
   ]
  },
  {
   "cell_type": "code",
   "execution_count": 94,
   "metadata": {},
   "outputs": [],
   "source": [
    "with gzip.open(\"n2quantile_QCD.pkl.gz\", \"wb\") as fout:\n",
    "    pickle.dump(hist_y_QCD, fout, protocol=2)  # for python2 compatibility\n"
   ]
  },
  {
   "cell_type": "code",
   "execution_count": 95,
   "metadata": {},
   "outputs": [],
   "source": [
    "with gzip.open(\"n2quantile_HBB.pkl.gz\", \"wb\") as fout:\n",
    "    pickle.dump(hist_y_HBB, fout, protocol=2)"
   ]
  },
  {
   "cell_type": "code",
   "execution_count": 129,
   "metadata": {},
   "outputs": [
    {
     "name": "stdout",
     "output_type": "stream",
     "text": [
      "<Hist (AK8Puppijet0_pt,jetrho,AK8Puppijet0_N2sdb1) instance at 0x7fd7cc0d10b8>\n"
     ]
    }
   ],
   "source": [
    "print(hist_y_HBB)"
   ]
  },
  {
   "cell_type": "code",
   "execution_count": 130,
   "metadata": {},
   "outputs": [
    {
     "data": {
      "application/javascript": [
       "/* Put everything inside the global mpl namespace */\n",
       "window.mpl = {};\n",
       "\n",
       "\n",
       "mpl.get_websocket_type = function() {\n",
       "    if (typeof(WebSocket) !== 'undefined') {\n",
       "        return WebSocket;\n",
       "    } else if (typeof(MozWebSocket) !== 'undefined') {\n",
       "        return MozWebSocket;\n",
       "    } else {\n",
       "        alert('Your browser does not have WebSocket support.' +\n",
       "              'Please try Chrome, Safari or Firefox ≥ 6. ' +\n",
       "              'Firefox 4 and 5 are also supported but you ' +\n",
       "              'have to enable WebSockets in about:config.');\n",
       "    };\n",
       "}\n",
       "\n",
       "mpl.figure = function(figure_id, websocket, ondownload, parent_element) {\n",
       "    this.id = figure_id;\n",
       "\n",
       "    this.ws = websocket;\n",
       "\n",
       "    this.supports_binary = (this.ws.binaryType != undefined);\n",
       "\n",
       "    if (!this.supports_binary) {\n",
       "        var warnings = document.getElementById(\"mpl-warnings\");\n",
       "        if (warnings) {\n",
       "            warnings.style.display = 'block';\n",
       "            warnings.textContent = (\n",
       "                \"This browser does not support binary websocket messages. \" +\n",
       "                    \"Performance may be slow.\");\n",
       "        }\n",
       "    }\n",
       "\n",
       "    this.imageObj = new Image();\n",
       "\n",
       "    this.context = undefined;\n",
       "    this.message = undefined;\n",
       "    this.canvas = undefined;\n",
       "    this.rubberband_canvas = undefined;\n",
       "    this.rubberband_context = undefined;\n",
       "    this.format_dropdown = undefined;\n",
       "\n",
       "    this.image_mode = 'full';\n",
       "\n",
       "    this.root = $('<div/>');\n",
       "    this._root_extra_style(this.root)\n",
       "    this.root.attr('style', 'display: inline-block');\n",
       "\n",
       "    $(parent_element).append(this.root);\n",
       "\n",
       "    this._init_header(this);\n",
       "    this._init_canvas(this);\n",
       "    this._init_toolbar(this);\n",
       "\n",
       "    var fig = this;\n",
       "\n",
       "    this.waiting = false;\n",
       "\n",
       "    this.ws.onopen =  function () {\n",
       "            fig.send_message(\"supports_binary\", {value: fig.supports_binary});\n",
       "            fig.send_message(\"send_image_mode\", {});\n",
       "            if (mpl.ratio != 1) {\n",
       "                fig.send_message(\"set_dpi_ratio\", {'dpi_ratio': mpl.ratio});\n",
       "            }\n",
       "            fig.send_message(\"refresh\", {});\n",
       "        }\n",
       "\n",
       "    this.imageObj.onload = function() {\n",
       "            if (fig.image_mode == 'full') {\n",
       "                // Full images could contain transparency (where diff images\n",
       "                // almost always do), so we need to clear the canvas so that\n",
       "                // there is no ghosting.\n",
       "                fig.context.clearRect(0, 0, fig.canvas.width, fig.canvas.height);\n",
       "            }\n",
       "            fig.context.drawImage(fig.imageObj, 0, 0);\n",
       "        };\n",
       "\n",
       "    this.imageObj.onunload = function() {\n",
       "        fig.ws.close();\n",
       "    }\n",
       "\n",
       "    this.ws.onmessage = this._make_on_message_function(this);\n",
       "\n",
       "    this.ondownload = ondownload;\n",
       "}\n",
       "\n",
       "mpl.figure.prototype._init_header = function() {\n",
       "    var titlebar = $(\n",
       "        '<div class=\"ui-dialog-titlebar ui-widget-header ui-corner-all ' +\n",
       "        'ui-helper-clearfix\"/>');\n",
       "    var titletext = $(\n",
       "        '<div class=\"ui-dialog-title\" style=\"width: 100%; ' +\n",
       "        'text-align: center; padding: 3px;\"/>');\n",
       "    titlebar.append(titletext)\n",
       "    this.root.append(titlebar);\n",
       "    this.header = titletext[0];\n",
       "}\n",
       "\n",
       "\n",
       "\n",
       "mpl.figure.prototype._canvas_extra_style = function(canvas_div) {\n",
       "\n",
       "}\n",
       "\n",
       "\n",
       "mpl.figure.prototype._root_extra_style = function(canvas_div) {\n",
       "\n",
       "}\n",
       "\n",
       "mpl.figure.prototype._init_canvas = function() {\n",
       "    var fig = this;\n",
       "\n",
       "    var canvas_div = $('<div/>');\n",
       "\n",
       "    canvas_div.attr('style', 'position: relative; clear: both; outline: 0');\n",
       "\n",
       "    function canvas_keyboard_event(event) {\n",
       "        return fig.key_event(event, event['data']);\n",
       "    }\n",
       "\n",
       "    canvas_div.keydown('key_press', canvas_keyboard_event);\n",
       "    canvas_div.keyup('key_release', canvas_keyboard_event);\n",
       "    this.canvas_div = canvas_div\n",
       "    this._canvas_extra_style(canvas_div)\n",
       "    this.root.append(canvas_div);\n",
       "\n",
       "    var canvas = $('<canvas/>');\n",
       "    canvas.addClass('mpl-canvas');\n",
       "    canvas.attr('style', \"left: 0; top: 0; z-index: 0; outline: 0\")\n",
       "\n",
       "    this.canvas = canvas[0];\n",
       "    this.context = canvas[0].getContext(\"2d\");\n",
       "\n",
       "    var backingStore = this.context.backingStorePixelRatio ||\n",
       "\tthis.context.webkitBackingStorePixelRatio ||\n",
       "\tthis.context.mozBackingStorePixelRatio ||\n",
       "\tthis.context.msBackingStorePixelRatio ||\n",
       "\tthis.context.oBackingStorePixelRatio ||\n",
       "\tthis.context.backingStorePixelRatio || 1;\n",
       "\n",
       "    mpl.ratio = (window.devicePixelRatio || 1) / backingStore;\n",
       "\n",
       "    var rubberband = $('<canvas/>');\n",
       "    rubberband.attr('style', \"position: absolute; left: 0; top: 0; z-index: 1;\")\n",
       "\n",
       "    var pass_mouse_events = true;\n",
       "\n",
       "    canvas_div.resizable({\n",
       "        start: function(event, ui) {\n",
       "            pass_mouse_events = false;\n",
       "        },\n",
       "        resize: function(event, ui) {\n",
       "            fig.request_resize(ui.size.width, ui.size.height);\n",
       "        },\n",
       "        stop: function(event, ui) {\n",
       "            pass_mouse_events = true;\n",
       "            fig.request_resize(ui.size.width, ui.size.height);\n",
       "        },\n",
       "    });\n",
       "\n",
       "    function mouse_event_fn(event) {\n",
       "        if (pass_mouse_events)\n",
       "            return fig.mouse_event(event, event['data']);\n",
       "    }\n",
       "\n",
       "    rubberband.mousedown('button_press', mouse_event_fn);\n",
       "    rubberband.mouseup('button_release', mouse_event_fn);\n",
       "    // Throttle sequential mouse events to 1 every 20ms.\n",
       "    rubberband.mousemove('motion_notify', mouse_event_fn);\n",
       "\n",
       "    rubberband.mouseenter('figure_enter', mouse_event_fn);\n",
       "    rubberband.mouseleave('figure_leave', mouse_event_fn);\n",
       "\n",
       "    canvas_div.on(\"wheel\", function (event) {\n",
       "        event = event.originalEvent;\n",
       "        event['data'] = 'scroll'\n",
       "        if (event.deltaY < 0) {\n",
       "            event.step = 1;\n",
       "        } else {\n",
       "            event.step = -1;\n",
       "        }\n",
       "        mouse_event_fn(event);\n",
       "    });\n",
       "\n",
       "    canvas_div.append(canvas);\n",
       "    canvas_div.append(rubberband);\n",
       "\n",
       "    this.rubberband = rubberband;\n",
       "    this.rubberband_canvas = rubberband[0];\n",
       "    this.rubberband_context = rubberband[0].getContext(\"2d\");\n",
       "    this.rubberband_context.strokeStyle = \"#000000\";\n",
       "\n",
       "    this._resize_canvas = function(width, height) {\n",
       "        // Keep the size of the canvas, canvas container, and rubber band\n",
       "        // canvas in synch.\n",
       "        canvas_div.css('width', width)\n",
       "        canvas_div.css('height', height)\n",
       "\n",
       "        canvas.attr('width', width * mpl.ratio);\n",
       "        canvas.attr('height', height * mpl.ratio);\n",
       "        canvas.attr('style', 'width: ' + width + 'px; height: ' + height + 'px;');\n",
       "\n",
       "        rubberband.attr('width', width);\n",
       "        rubberband.attr('height', height);\n",
       "    }\n",
       "\n",
       "    // Set the figure to an initial 600x600px, this will subsequently be updated\n",
       "    // upon first draw.\n",
       "    this._resize_canvas(600, 600);\n",
       "\n",
       "    // Disable right mouse context menu.\n",
       "    $(this.rubberband_canvas).bind(\"contextmenu\",function(e){\n",
       "        return false;\n",
       "    });\n",
       "\n",
       "    function set_focus () {\n",
       "        canvas.focus();\n",
       "        canvas_div.focus();\n",
       "    }\n",
       "\n",
       "    window.setTimeout(set_focus, 100);\n",
       "}\n",
       "\n",
       "mpl.figure.prototype._init_toolbar = function() {\n",
       "    var fig = this;\n",
       "\n",
       "    var nav_element = $('<div/>')\n",
       "    nav_element.attr('style', 'width: 100%');\n",
       "    this.root.append(nav_element);\n",
       "\n",
       "    // Define a callback function for later on.\n",
       "    function toolbar_event(event) {\n",
       "        return fig.toolbar_button_onclick(event['data']);\n",
       "    }\n",
       "    function toolbar_mouse_event(event) {\n",
       "        return fig.toolbar_button_onmouseover(event['data']);\n",
       "    }\n",
       "\n",
       "    for(var toolbar_ind in mpl.toolbar_items) {\n",
       "        var name = mpl.toolbar_items[toolbar_ind][0];\n",
       "        var tooltip = mpl.toolbar_items[toolbar_ind][1];\n",
       "        var image = mpl.toolbar_items[toolbar_ind][2];\n",
       "        var method_name = mpl.toolbar_items[toolbar_ind][3];\n",
       "\n",
       "        if (!name) {\n",
       "            // put a spacer in here.\n",
       "            continue;\n",
       "        }\n",
       "        var button = $('<button/>');\n",
       "        button.addClass('ui-button ui-widget ui-state-default ui-corner-all ' +\n",
       "                        'ui-button-icon-only');\n",
       "        button.attr('role', 'button');\n",
       "        button.attr('aria-disabled', 'false');\n",
       "        button.click(method_name, toolbar_event);\n",
       "        button.mouseover(tooltip, toolbar_mouse_event);\n",
       "\n",
       "        var icon_img = $('<span/>');\n",
       "        icon_img.addClass('ui-button-icon-primary ui-icon');\n",
       "        icon_img.addClass(image);\n",
       "        icon_img.addClass('ui-corner-all');\n",
       "\n",
       "        var tooltip_span = $('<span/>');\n",
       "        tooltip_span.addClass('ui-button-text');\n",
       "        tooltip_span.html(tooltip);\n",
       "\n",
       "        button.append(icon_img);\n",
       "        button.append(tooltip_span);\n",
       "\n",
       "        nav_element.append(button);\n",
       "    }\n",
       "\n",
       "    var fmt_picker_span = $('<span/>');\n",
       "\n",
       "    var fmt_picker = $('<select/>');\n",
       "    fmt_picker.addClass('mpl-toolbar-option ui-widget ui-widget-content');\n",
       "    fmt_picker_span.append(fmt_picker);\n",
       "    nav_element.append(fmt_picker_span);\n",
       "    this.format_dropdown = fmt_picker[0];\n",
       "\n",
       "    for (var ind in mpl.extensions) {\n",
       "        var fmt = mpl.extensions[ind];\n",
       "        var option = $(\n",
       "            '<option/>', {selected: fmt === mpl.default_extension}).html(fmt);\n",
       "        fmt_picker.append(option)\n",
       "    }\n",
       "\n",
       "    // Add hover states to the ui-buttons\n",
       "    $( \".ui-button\" ).hover(\n",
       "        function() { $(this).addClass(\"ui-state-hover\");},\n",
       "        function() { $(this).removeClass(\"ui-state-hover\");}\n",
       "    );\n",
       "\n",
       "    var status_bar = $('<span class=\"mpl-message\"/>');\n",
       "    nav_element.append(status_bar);\n",
       "    this.message = status_bar[0];\n",
       "}\n",
       "\n",
       "mpl.figure.prototype.request_resize = function(x_pixels, y_pixels) {\n",
       "    // Request matplotlib to resize the figure. Matplotlib will then trigger a resize in the client,\n",
       "    // which will in turn request a refresh of the image.\n",
       "    this.send_message('resize', {'width': x_pixels, 'height': y_pixels});\n",
       "}\n",
       "\n",
       "mpl.figure.prototype.send_message = function(type, properties) {\n",
       "    properties['type'] = type;\n",
       "    properties['figure_id'] = this.id;\n",
       "    this.ws.send(JSON.stringify(properties));\n",
       "}\n",
       "\n",
       "mpl.figure.prototype.send_draw_message = function() {\n",
       "    if (!this.waiting) {\n",
       "        this.waiting = true;\n",
       "        this.ws.send(JSON.stringify({type: \"draw\", figure_id: this.id}));\n",
       "    }\n",
       "}\n",
       "\n",
       "\n",
       "mpl.figure.prototype.handle_save = function(fig, msg) {\n",
       "    var format_dropdown = fig.format_dropdown;\n",
       "    var format = format_dropdown.options[format_dropdown.selectedIndex].value;\n",
       "    fig.ondownload(fig, format);\n",
       "}\n",
       "\n",
       "\n",
       "mpl.figure.prototype.handle_resize = function(fig, msg) {\n",
       "    var size = msg['size'];\n",
       "    if (size[0] != fig.canvas.width || size[1] != fig.canvas.height) {\n",
       "        fig._resize_canvas(size[0], size[1]);\n",
       "        fig.send_message(\"refresh\", {});\n",
       "    };\n",
       "}\n",
       "\n",
       "mpl.figure.prototype.handle_rubberband = function(fig, msg) {\n",
       "    var x0 = msg['x0'] / mpl.ratio;\n",
       "    var y0 = (fig.canvas.height - msg['y0']) / mpl.ratio;\n",
       "    var x1 = msg['x1'] / mpl.ratio;\n",
       "    var y1 = (fig.canvas.height - msg['y1']) / mpl.ratio;\n",
       "    x0 = Math.floor(x0) + 0.5;\n",
       "    y0 = Math.floor(y0) + 0.5;\n",
       "    x1 = Math.floor(x1) + 0.5;\n",
       "    y1 = Math.floor(y1) + 0.5;\n",
       "    var min_x = Math.min(x0, x1);\n",
       "    var min_y = Math.min(y0, y1);\n",
       "    var width = Math.abs(x1 - x0);\n",
       "    var height = Math.abs(y1 - y0);\n",
       "\n",
       "    fig.rubberband_context.clearRect(\n",
       "        0, 0, fig.canvas.width, fig.canvas.height);\n",
       "\n",
       "    fig.rubberband_context.strokeRect(min_x, min_y, width, height);\n",
       "}\n",
       "\n",
       "mpl.figure.prototype.handle_figure_label = function(fig, msg) {\n",
       "    // Updates the figure title.\n",
       "    fig.header.textContent = msg['label'];\n",
       "}\n",
       "\n",
       "mpl.figure.prototype.handle_cursor = function(fig, msg) {\n",
       "    var cursor = msg['cursor'];\n",
       "    switch(cursor)\n",
       "    {\n",
       "    case 0:\n",
       "        cursor = 'pointer';\n",
       "        break;\n",
       "    case 1:\n",
       "        cursor = 'default';\n",
       "        break;\n",
       "    case 2:\n",
       "        cursor = 'crosshair';\n",
       "        break;\n",
       "    case 3:\n",
       "        cursor = 'move';\n",
       "        break;\n",
       "    }\n",
       "    fig.rubberband_canvas.style.cursor = cursor;\n",
       "}\n",
       "\n",
       "mpl.figure.prototype.handle_message = function(fig, msg) {\n",
       "    fig.message.textContent = msg['message'];\n",
       "}\n",
       "\n",
       "mpl.figure.prototype.handle_draw = function(fig, msg) {\n",
       "    // Request the server to send over a new figure.\n",
       "    fig.send_draw_message();\n",
       "}\n",
       "\n",
       "mpl.figure.prototype.handle_image_mode = function(fig, msg) {\n",
       "    fig.image_mode = msg['mode'];\n",
       "}\n",
       "\n",
       "mpl.figure.prototype.updated_canvas_event = function() {\n",
       "    // Called whenever the canvas gets updated.\n",
       "    this.send_message(\"ack\", {});\n",
       "}\n",
       "\n",
       "// A function to construct a web socket function for onmessage handling.\n",
       "// Called in the figure constructor.\n",
       "mpl.figure.prototype._make_on_message_function = function(fig) {\n",
       "    return function socket_on_message(evt) {\n",
       "        if (evt.data instanceof Blob) {\n",
       "            /* FIXME: We get \"Resource interpreted as Image but\n",
       "             * transferred with MIME type text/plain:\" errors on\n",
       "             * Chrome.  But how to set the MIME type?  It doesn't seem\n",
       "             * to be part of the websocket stream */\n",
       "            evt.data.type = \"image/png\";\n",
       "\n",
       "            /* Free the memory for the previous frames */\n",
       "            if (fig.imageObj.src) {\n",
       "                (window.URL || window.webkitURL).revokeObjectURL(\n",
       "                    fig.imageObj.src);\n",
       "            }\n",
       "\n",
       "            fig.imageObj.src = (window.URL || window.webkitURL).createObjectURL(\n",
       "                evt.data);\n",
       "            fig.updated_canvas_event();\n",
       "            fig.waiting = false;\n",
       "            return;\n",
       "        }\n",
       "        else if (typeof evt.data === 'string' && evt.data.slice(0, 21) == \"data:image/png;base64\") {\n",
       "            fig.imageObj.src = evt.data;\n",
       "            fig.updated_canvas_event();\n",
       "            fig.waiting = false;\n",
       "            return;\n",
       "        }\n",
       "\n",
       "        var msg = JSON.parse(evt.data);\n",
       "        var msg_type = msg['type'];\n",
       "\n",
       "        // Call the  \"handle_{type}\" callback, which takes\n",
       "        // the figure and JSON message as its only arguments.\n",
       "        try {\n",
       "            var callback = fig[\"handle_\" + msg_type];\n",
       "        } catch (e) {\n",
       "            console.log(\"No handler for the '\" + msg_type + \"' message type: \", msg);\n",
       "            return;\n",
       "        }\n",
       "\n",
       "        if (callback) {\n",
       "            try {\n",
       "                // console.log(\"Handling '\" + msg_type + \"' message: \", msg);\n",
       "                callback(fig, msg);\n",
       "            } catch (e) {\n",
       "                console.log(\"Exception inside the 'handler_\" + msg_type + \"' callback:\", e, e.stack, msg);\n",
       "            }\n",
       "        }\n",
       "    };\n",
       "}\n",
       "\n",
       "// from http://stackoverflow.com/questions/1114465/getting-mouse-location-in-canvas\n",
       "mpl.findpos = function(e) {\n",
       "    //this section is from http://www.quirksmode.org/js/events_properties.html\n",
       "    var targ;\n",
       "    if (!e)\n",
       "        e = window.event;\n",
       "    if (e.target)\n",
       "        targ = e.target;\n",
       "    else if (e.srcElement)\n",
       "        targ = e.srcElement;\n",
       "    if (targ.nodeType == 3) // defeat Safari bug\n",
       "        targ = targ.parentNode;\n",
       "\n",
       "    // jQuery normalizes the pageX and pageY\n",
       "    // pageX,Y are the mouse positions relative to the document\n",
       "    // offset() returns the position of the element relative to the document\n",
       "    var x = e.pageX - $(targ).offset().left;\n",
       "    var y = e.pageY - $(targ).offset().top;\n",
       "\n",
       "    return {\"x\": x, \"y\": y};\n",
       "};\n",
       "\n",
       "/*\n",
       " * return a copy of an object with only non-object keys\n",
       " * we need this to avoid circular references\n",
       " * http://stackoverflow.com/a/24161582/3208463\n",
       " */\n",
       "function simpleKeys (original) {\n",
       "  return Object.keys(original).reduce(function (obj, key) {\n",
       "    if (typeof original[key] !== 'object')\n",
       "        obj[key] = original[key]\n",
       "    return obj;\n",
       "  }, {});\n",
       "}\n",
       "\n",
       "mpl.figure.prototype.mouse_event = function(event, name) {\n",
       "    var canvas_pos = mpl.findpos(event)\n",
       "\n",
       "    if (name === 'button_press')\n",
       "    {\n",
       "        this.canvas.focus();\n",
       "        this.canvas_div.focus();\n",
       "    }\n",
       "\n",
       "    var x = canvas_pos.x * mpl.ratio;\n",
       "    var y = canvas_pos.y * mpl.ratio;\n",
       "\n",
       "    this.send_message(name, {x: x, y: y, button: event.button,\n",
       "                             step: event.step,\n",
       "                             guiEvent: simpleKeys(event)});\n",
       "\n",
       "    /* This prevents the web browser from automatically changing to\n",
       "     * the text insertion cursor when the button is pressed.  We want\n",
       "     * to control all of the cursor setting manually through the\n",
       "     * 'cursor' event from matplotlib */\n",
       "    event.preventDefault();\n",
       "    return false;\n",
       "}\n",
       "\n",
       "mpl.figure.prototype._key_event_extra = function(event, name) {\n",
       "    // Handle any extra behaviour associated with a key event\n",
       "}\n",
       "\n",
       "mpl.figure.prototype.key_event = function(event, name) {\n",
       "\n",
       "    // Prevent repeat events\n",
       "    if (name == 'key_press')\n",
       "    {\n",
       "        if (event.which === this._key)\n",
       "            return;\n",
       "        else\n",
       "            this._key = event.which;\n",
       "    }\n",
       "    if (name == 'key_release')\n",
       "        this._key = null;\n",
       "\n",
       "    var value = '';\n",
       "    if (event.ctrlKey && event.which != 17)\n",
       "        value += \"ctrl+\";\n",
       "    if (event.altKey && event.which != 18)\n",
       "        value += \"alt+\";\n",
       "    if (event.shiftKey && event.which != 16)\n",
       "        value += \"shift+\";\n",
       "\n",
       "    value += 'k';\n",
       "    value += event.which.toString();\n",
       "\n",
       "    this._key_event_extra(event, name);\n",
       "\n",
       "    this.send_message(name, {key: value,\n",
       "                             guiEvent: simpleKeys(event)});\n",
       "    return false;\n",
       "}\n",
       "\n",
       "mpl.figure.prototype.toolbar_button_onclick = function(name) {\n",
       "    if (name == 'download') {\n",
       "        this.handle_save(this, null);\n",
       "    } else {\n",
       "        this.send_message(\"toolbar_button\", {name: name});\n",
       "    }\n",
       "};\n",
       "\n",
       "mpl.figure.prototype.toolbar_button_onmouseover = function(tooltip) {\n",
       "    this.message.textContent = tooltip;\n",
       "};\n",
       "mpl.toolbar_items = [[\"Home\", \"Reset original view\", \"fa fa-home icon-home\", \"home\"], [\"Back\", \"Back to  previous view\", \"fa fa-arrow-left icon-arrow-left\", \"back\"], [\"Forward\", \"Forward to next view\", \"fa fa-arrow-right icon-arrow-right\", \"forward\"], [\"\", \"\", \"\", \"\"], [\"Pan\", \"Pan axes with left mouse, zoom with right\", \"fa fa-arrows icon-move\", \"pan\"], [\"Zoom\", \"Zoom to rectangle\", \"fa fa-square-o icon-check-empty\", \"zoom\"], [\"\", \"\", \"\", \"\"], [\"Download\", \"Download plot\", \"fa fa-floppy-o icon-save\", \"download\"]];\n",
       "\n",
       "mpl.extensions = [\"eps\", \"pdf\", \"png\", \"ps\", \"raw\", \"svg\"];\n",
       "\n",
       "mpl.default_extension = \"png\";var comm_websocket_adapter = function(comm) {\n",
       "    // Create a \"websocket\"-like object which calls the given IPython comm\n",
       "    // object with the appropriate methods. Currently this is a non binary\n",
       "    // socket, so there is still some room for performance tuning.\n",
       "    var ws = {};\n",
       "\n",
       "    ws.close = function() {\n",
       "        comm.close()\n",
       "    };\n",
       "    ws.send = function(m) {\n",
       "        //console.log('sending', m);\n",
       "        comm.send(m);\n",
       "    };\n",
       "    // Register the callback with on_msg.\n",
       "    comm.on_msg(function(msg) {\n",
       "        //console.log('receiving', msg['content']['data'], msg);\n",
       "        // Pass the mpl event to the overridden (by mpl) onmessage function.\n",
       "        ws.onmessage(msg['content']['data'])\n",
       "    });\n",
       "    return ws;\n",
       "}\n",
       "\n",
       "mpl.mpl_figure_comm = function(comm, msg) {\n",
       "    // This is the function which gets called when the mpl process\n",
       "    // starts-up an IPython Comm through the \"matplotlib\" channel.\n",
       "\n",
       "    var id = msg.content.data.id;\n",
       "    // Get hold of the div created by the display call when the Comm\n",
       "    // socket was opened in Python.\n",
       "    var element = $(\"#\" + id);\n",
       "    var ws_proxy = comm_websocket_adapter(comm)\n",
       "\n",
       "    function ondownload(figure, format) {\n",
       "        window.open(figure.imageObj.src);\n",
       "    }\n",
       "\n",
       "    var fig = new mpl.figure(id, ws_proxy,\n",
       "                           ondownload,\n",
       "                           element.get(0));\n",
       "\n",
       "    // Call onopen now - mpl needs it, as it is assuming we've passed it a real\n",
       "    // web socket which is closed, not our websocket->open comm proxy.\n",
       "    ws_proxy.onopen();\n",
       "\n",
       "    fig.parent_element = element.get(0);\n",
       "    fig.cell_info = mpl.find_output_cell(\"<div id='\" + id + \"'></div>\");\n",
       "    if (!fig.cell_info) {\n",
       "        console.error(\"Failed to find cell for figure\", id, fig);\n",
       "        return;\n",
       "    }\n",
       "\n",
       "    var output_index = fig.cell_info[2]\n",
       "    var cell = fig.cell_info[0];\n",
       "\n",
       "};\n",
       "\n",
       "mpl.figure.prototype.handle_close = function(fig, msg) {\n",
       "    var width = fig.canvas.width/mpl.ratio\n",
       "    fig.root.unbind('remove')\n",
       "\n",
       "    // Update the output cell to use the data from the current canvas.\n",
       "    fig.push_to_output();\n",
       "    var dataURL = fig.canvas.toDataURL();\n",
       "    // Re-enable the keyboard manager in IPython - without this line, in FF,\n",
       "    // the notebook keyboard shortcuts fail.\n",
       "    IPython.keyboard_manager.enable()\n",
       "    $(fig.parent_element).html('<img src=\"' + dataURL + '\" width=\"' + width + '\">');\n",
       "    fig.close_ws(fig, msg);\n",
       "}\n",
       "\n",
       "mpl.figure.prototype.close_ws = function(fig, msg){\n",
       "    fig.send_message('closing', msg);\n",
       "    // fig.ws.close()\n",
       "}\n",
       "\n",
       "mpl.figure.prototype.push_to_output = function(remove_interactive) {\n",
       "    // Turn the data on the canvas into data in the output cell.\n",
       "    var width = this.canvas.width/mpl.ratio\n",
       "    var dataURL = this.canvas.toDataURL();\n",
       "    this.cell_info[1]['text/html'] = '<img src=\"' + dataURL + '\" width=\"' + width + '\">';\n",
       "}\n",
       "\n",
       "mpl.figure.prototype.updated_canvas_event = function() {\n",
       "    // Tell IPython that the notebook contents must change.\n",
       "    IPython.notebook.set_dirty(true);\n",
       "    this.send_message(\"ack\", {});\n",
       "    var fig = this;\n",
       "    // Wait a second, then push the new image to the DOM so\n",
       "    // that it is saved nicely (might be nice to debounce this).\n",
       "    setTimeout(function () { fig.push_to_output() }, 1000);\n",
       "}\n",
       "\n",
       "mpl.figure.prototype._init_toolbar = function() {\n",
       "    var fig = this;\n",
       "\n",
       "    var nav_element = $('<div/>')\n",
       "    nav_element.attr('style', 'width: 100%');\n",
       "    this.root.append(nav_element);\n",
       "\n",
       "    // Define a callback function for later on.\n",
       "    function toolbar_event(event) {\n",
       "        return fig.toolbar_button_onclick(event['data']);\n",
       "    }\n",
       "    function toolbar_mouse_event(event) {\n",
       "        return fig.toolbar_button_onmouseover(event['data']);\n",
       "    }\n",
       "\n",
       "    for(var toolbar_ind in mpl.toolbar_items){\n",
       "        var name = mpl.toolbar_items[toolbar_ind][0];\n",
       "        var tooltip = mpl.toolbar_items[toolbar_ind][1];\n",
       "        var image = mpl.toolbar_items[toolbar_ind][2];\n",
       "        var method_name = mpl.toolbar_items[toolbar_ind][3];\n",
       "\n",
       "        if (!name) { continue; };\n",
       "\n",
       "        var button = $('<button class=\"btn btn-default\" href=\"#\" title=\"' + name + '\"><i class=\"fa ' + image + ' fa-lg\"></i></button>');\n",
       "        button.click(method_name, toolbar_event);\n",
       "        button.mouseover(tooltip, toolbar_mouse_event);\n",
       "        nav_element.append(button);\n",
       "    }\n",
       "\n",
       "    // Add the status bar.\n",
       "    var status_bar = $('<span class=\"mpl-message\" style=\"text-align:right; float: right;\"/>');\n",
       "    nav_element.append(status_bar);\n",
       "    this.message = status_bar[0];\n",
       "\n",
       "    // Add the close button to the window.\n",
       "    var buttongrp = $('<div class=\"btn-group inline pull-right\"></div>');\n",
       "    var button = $('<button class=\"btn btn-mini btn-primary\" href=\"#\" title=\"Stop Interaction\"><i class=\"fa fa-power-off icon-remove icon-large\"></i></button>');\n",
       "    button.click(function (evt) { fig.handle_close(fig, {}); } );\n",
       "    button.mouseover('Stop Interaction', toolbar_mouse_event);\n",
       "    buttongrp.append(button);\n",
       "    var titlebar = this.root.find($('.ui-dialog-titlebar'));\n",
       "    titlebar.prepend(buttongrp);\n",
       "}\n",
       "\n",
       "mpl.figure.prototype._root_extra_style = function(el){\n",
       "    var fig = this\n",
       "    el.on(\"remove\", function(){\n",
       "\tfig.close_ws(fig, {});\n",
       "    });\n",
       "}\n",
       "\n",
       "mpl.figure.prototype._canvas_extra_style = function(el){\n",
       "    // this is important to make the div 'focusable\n",
       "    el.attr('tabindex', 0)\n",
       "    // reach out to IPython and tell the keyboard manager to turn it's self\n",
       "    // off when our div gets focus\n",
       "\n",
       "    // location in version 3\n",
       "    if (IPython.notebook.keyboard_manager) {\n",
       "        IPython.notebook.keyboard_manager.register_events(el);\n",
       "    }\n",
       "    else {\n",
       "        // location in version 2\n",
       "        IPython.keyboard_manager.register_events(el);\n",
       "    }\n",
       "\n",
       "}\n",
       "\n",
       "mpl.figure.prototype._key_event_extra = function(event, name) {\n",
       "    var manager = IPython.notebook.keyboard_manager;\n",
       "    if (!manager)\n",
       "        manager = IPython.keyboard_manager;\n",
       "\n",
       "    // Check for shift+enter\n",
       "    if (event.shiftKey && event.which == 13) {\n",
       "        this.canvas_div.blur();\n",
       "        event.shiftKey = false;\n",
       "        // Send a \"J\" for go to next cell\n",
       "        event.which = 74;\n",
       "        event.keyCode = 74;\n",
       "        manager.command_mode();\n",
       "        manager.handle_keydown(event);\n",
       "    }\n",
       "}\n",
       "\n",
       "mpl.figure.prototype.handle_save = function(fig, msg) {\n",
       "    fig.ondownload(fig, null);\n",
       "}\n",
       "\n",
       "\n",
       "mpl.find_output_cell = function(html_output) {\n",
       "    // Return the cell and output element which can be found *uniquely* in the notebook.\n",
       "    // Note - this is a bit hacky, but it is done because the \"notebook_saving.Notebook\"\n",
       "    // IPython event is triggered only after the cells have been serialised, which for\n",
       "    // our purposes (turning an active figure into a static one), is too late.\n",
       "    var cells = IPython.notebook.get_cells();\n",
       "    var ncells = cells.length;\n",
       "    for (var i=0; i<ncells; i++) {\n",
       "        var cell = cells[i];\n",
       "        if (cell.cell_type === 'code'){\n",
       "            for (var j=0; j<cell.output_area.outputs.length; j++) {\n",
       "                var data = cell.output_area.outputs[j];\n",
       "                if (data.data) {\n",
       "                    // IPython >= 3 moved mimebundle to data attribute of output\n",
       "                    data = data.data;\n",
       "                }\n",
       "                if (data['text/html'] == html_output) {\n",
       "                    return [cell, data, j];\n",
       "                }\n",
       "            }\n",
       "        }\n",
       "    }\n",
       "}\n",
       "\n",
       "// Register the function which deals with the matplotlib target/channel.\n",
       "// The kernel may be null if the page has been refreshed.\n",
       "if (IPython.notebook.kernel != null) {\n",
       "    IPython.notebook.kernel.comm_manager.register_target('matplotlib', mpl.mpl_figure_comm);\n",
       "}\n"
      ],
      "text/plain": [
       "<IPython.core.display.Javascript object>"
      ]
     },
     "metadata": {},
     "output_type": "display_data"
    },
    {
     "data": {
      "text/html": [
       "<img src=\"data:image/png;base64,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\" width=\"640\">"
      ],
      "text/plain": [
       "<IPython.core.display.HTML object>"
      ]
     },
     "metadata": {},
     "output_type": "display_data"
    },
    {
     "ename": "ValueError",
     "evalue": "plot2d() can only support exactly two dimensions",
     "output_type": "error",
     "traceback": [
      "\u001b[0;31m---------------------------------------------------------------------------\u001b[0m",
      "\u001b[0;31mValueError\u001b[0m                                Traceback (most recent call last)",
      "\u001b[0;32m<ipython-input-130-dd429ddbb7e2>\u001b[0m in \u001b[0;36m<module>\u001b[0;34m()\u001b[0m\n\u001b[0;32m----> 1\u001b[0;31m \u001b[0mfig3\u001b[0m\u001b[0;34m,\u001b[0m \u001b[0max3\u001b[0m\u001b[0;34m,\u001b[0m \u001b[0m_\u001b[0m \u001b[0;34m=\u001b[0m \u001b[0mplot\u001b[0m\u001b[0;34m.\u001b[0m\u001b[0mplot2d\u001b[0m\u001b[0;34m(\u001b[0m\u001b[0mhist_y_HBB\u001b[0m\u001b[0;34m,\u001b[0m \u001b[0mxaxis\u001b[0m\u001b[0;34m=\u001b[0m\u001b[0;34m\"AK8Puppijet0_deepdoubleb\"\u001b[0m\u001b[0;34m,\u001b[0m \u001b[0mxoverflow\u001b[0m\u001b[0;34m=\u001b[0m\u001b[0;34m'over'\u001b[0m\u001b[0;34m,\u001b[0m \u001b[0mpatch_opts\u001b[0m\u001b[0;34m=\u001b[0m\u001b[0;34m{\u001b[0m\u001b[0;34m}\u001b[0m\u001b[0;34m)\u001b[0m\u001b[0;34m\u001b[0m\u001b[0m\n\u001b[0m",
      "\u001b[0;32m~/nobackup/coffea/fnal-column-analysis-tools/fnal_column_analysis_tools/hist/plot.py\u001b[0m in \u001b[0;36mplot2d\u001b[0;34m(hist, xaxis, ax, clear, xoverflow, yoverflow, patch_opts, density, binwnorm)\u001b[0m\n\u001b[1;32m    233\u001b[0m         \u001b[0mfig\u001b[0m \u001b[0;34m=\u001b[0m \u001b[0max\u001b[0m\u001b[0;34m.\u001b[0m\u001b[0mfigure\u001b[0m\u001b[0;34m\u001b[0m\u001b[0m\n\u001b[1;32m    234\u001b[0m     \u001b[0;32mif\u001b[0m \u001b[0mhist\u001b[0m\u001b[0;34m.\u001b[0m\u001b[0mdim\u001b[0m\u001b[0;34m(\u001b[0m\u001b[0;34m)\u001b[0m \u001b[0;34m!=\u001b[0m \u001b[0;36m2\u001b[0m\u001b[0;34m:\u001b[0m\u001b[0;34m\u001b[0m\u001b[0m\n\u001b[0;32m--> 235\u001b[0;31m         \u001b[0;32mraise\u001b[0m \u001b[0mValueError\u001b[0m\u001b[0;34m(\u001b[0m\u001b[0;34m\"plot2d() can only support exactly two dimensions\"\u001b[0m\u001b[0;34m)\u001b[0m\u001b[0;34m\u001b[0m\u001b[0m\n\u001b[0m\u001b[1;32m    236\u001b[0m     \u001b[0;32mif\u001b[0m \u001b[0mdensity\u001b[0m \u001b[0;32mand\u001b[0m \u001b[0mbinwnorm\u001b[0m \u001b[0;32mis\u001b[0m \u001b[0;32mnot\u001b[0m \u001b[0;32mNone\u001b[0m\u001b[0;34m:\u001b[0m\u001b[0;34m\u001b[0m\u001b[0m\n\u001b[1;32m    237\u001b[0m         \u001b[0;32mraise\u001b[0m \u001b[0mValueError\u001b[0m\u001b[0;34m(\u001b[0m\u001b[0;34m\"Cannot use density and binwnorm at the same time!\"\u001b[0m\u001b[0;34m)\u001b[0m\u001b[0;34m\u001b[0m\u001b[0m\n",
      "\u001b[0;31mValueError\u001b[0m: plot2d() can only support exactly two dimensions"
     ]
    }
   ],
   "source": [
    "fig3, ax3, _ = plot.plot2d(hist_y_HBB, xaxis=\"AK8Puppijet0_deepdoubleb\", xoverflow='over', patch_opts={})"
   ]
  },
  {
   "cell_type": "code",
   "execution_count": 79,
   "metadata": {},
   "outputs": [
    {
     "name": "stdout",
     "output_type": "stream",
     "text": [
      "(array([ 400.,  410.,  420.,  430.,  440.,  450.,  460.,  470.,  480.,\n",
      "        490.,  500.,  510.,  520.,  530.,  540.,  550.,  560.,  570.,\n",
      "        580.,  590.,  600.,  610.,  620.,  630.,  640.,  650.,  660.,\n",
      "        670.,  680.,  690.,  700.,  710.,  720.,  730.,  740.,  750.,\n",
      "        760.,  770.,  780.,  790.,  800.,  810.,  820.,  830.,  840.,\n",
      "        850.,  860.,  870.,  880.,  890.,  900.,  910.,  920.,  930.,\n",
      "        940.,  950.,  960.,  970.,  980.,  990., 1000.]), array([-6.   , -5.925, -5.85 , -5.775, -5.7  , -5.625, -5.55 , -5.475,\n",
      "       -5.4  , -5.325, -5.25 , -5.175, -5.1  , -5.025, -4.95 , -4.875,\n",
      "       -4.8  , -4.725, -4.65 , -4.575, -4.5  , -4.425, -4.35 , -4.275,\n",
      "       -4.2  , -4.125, -4.05 , -3.975, -3.9  , -3.825, -3.75 , -3.675,\n",
      "       -3.6  , -3.525, -3.45 , -3.375, -3.3  , -3.225, -3.15 , -3.075,\n",
      "       -3.   , -2.925, -2.85 , -2.775, -2.7  , -2.625, -2.55 , -2.475,\n",
      "       -2.4  , -2.325, -2.25 , -2.175, -2.1  ]), array([0.  , 0.02, 0.04, 0.06, 0.08, 0.1 , 0.12, 0.14, 0.16, 0.18, 0.2 ,\n",
      "       0.22, 0.24, 0.26, 0.28, 0.3 , 0.32, 0.34, 0.36, 0.38, 0.4 , 0.42,\n",
      "       0.44, 0.46, 0.48, 0.5 , 0.52, 0.54, 0.56, 0.58, 0.6 , 0.62, 0.64,\n",
      "       0.66, 0.68, 0.7 , 0.72, 0.74, 0.76, 0.78, 0.8 , 0.82, 0.84, 0.86,\n",
      "       0.88, 0.9 , 0.92, 0.94, 0.96, 0.98, 1.  ]))\n"
     ]
    }
   ],
   "source": [
    "print(bins)"
   ]
  },
  {
   "cell_type": "code",
   "execution_count": 80,
   "metadata": {},
   "outputs": [],
   "source": [
    "bins = bins[::-1]"
   ]
  },
  {
   "cell_type": "code",
   "execution_count": 81,
   "metadata": {},
   "outputs": [
    {
     "name": "stdout",
     "output_type": "stream",
     "text": [
      "(array([0.  , 0.02, 0.04, 0.06, 0.08, 0.1 , 0.12, 0.14, 0.16, 0.18, 0.2 ,\n",
      "       0.22, 0.24, 0.26, 0.28, 0.3 , 0.32, 0.34, 0.36, 0.38, 0.4 , 0.42,\n",
      "       0.44, 0.46, 0.48, 0.5 , 0.52, 0.54, 0.56, 0.58, 0.6 , 0.62, 0.64,\n",
      "       0.66, 0.68, 0.7 , 0.72, 0.74, 0.76, 0.78, 0.8 , 0.82, 0.84, 0.86,\n",
      "       0.88, 0.9 , 0.92, 0.94, 0.96, 0.98, 1.  ]), array([-6.   , -5.925, -5.85 , -5.775, -5.7  , -5.625, -5.55 , -5.475,\n",
      "       -5.4  , -5.325, -5.25 , -5.175, -5.1  , -5.025, -4.95 , -4.875,\n",
      "       -4.8  , -4.725, -4.65 , -4.575, -4.5  , -4.425, -4.35 , -4.275,\n",
      "       -4.2  , -4.125, -4.05 , -3.975, -3.9  , -3.825, -3.75 , -3.675,\n",
      "       -3.6  , -3.525, -3.45 , -3.375, -3.3  , -3.225, -3.15 , -3.075,\n",
      "       -3.   , -2.925, -2.85 , -2.775, -2.7  , -2.625, -2.55 , -2.475,\n",
      "       -2.4  , -2.325, -2.25 , -2.175, -2.1  ]), array([ 400.,  410.,  420.,  430.,  440.,  450.,  460.,  470.,  480.,\n",
      "        490.,  500.,  510.,  520.,  530.,  540.,  550.,  560.,  570.,\n",
      "        580.,  590.,  600.,  610.,  620.,  630.,  640.,  650.,  660.,\n",
      "        670.,  680.,  690.,  700.,  710.,  720.,  730.,  740.,  750.,\n",
      "        760.,  770.,  780.,  790.,  800.,  810.,  820.,  830.,  840.,\n",
      "        850.,  860.,  870.,  880.,  890.,  900.,  910.,  920.,  930.,\n",
      "        940.,  950.,  960.,  970.,  980.,  990., 1000.]))\n"
     ]
    }
   ],
   "source": [
    "print(bins)"
   ]
  },
  {
   "cell_type": "code",
   "execution_count": 82,
   "metadata": {},
   "outputs": [],
   "source": [
    "bins = bins[::-1]"
   ]
  },
  {
   "cell_type": "code",
   "execution_count": 83,
   "metadata": {},
   "outputs": [
    {
     "name": "stdout",
     "output_type": "stream",
     "text": [
      "(array([ 400.,  410.,  420.,  430.,  440.,  450.,  460.,  470.,  480.,\n",
      "        490.,  500.,  510.,  520.,  530.,  540.,  550.,  560.,  570.,\n",
      "        580.,  590.,  600.,  610.,  620.,  630.,  640.,  650.,  660.,\n",
      "        670.,  680.,  690.,  700.,  710.,  720.,  730.,  740.,  750.,\n",
      "        760.,  770.,  780.,  790.,  800.,  810.,  820.,  830.,  840.,\n",
      "        850.,  860.,  870.,  880.,  890.,  900.,  910.,  920.,  930.,\n",
      "        940.,  950.,  960.,  970.,  980.,  990., 1000.]), array([-6.   , -5.925, -5.85 , -5.775, -5.7  , -5.625, -5.55 , -5.475,\n",
      "       -5.4  , -5.325, -5.25 , -5.175, -5.1  , -5.025, -4.95 , -4.875,\n",
      "       -4.8  , -4.725, -4.65 , -4.575, -4.5  , -4.425, -4.35 , -4.275,\n",
      "       -4.2  , -4.125, -4.05 , -3.975, -3.9  , -3.825, -3.75 , -3.675,\n",
      "       -3.6  , -3.525, -3.45 , -3.375, -3.3  , -3.225, -3.15 , -3.075,\n",
      "       -3.   , -2.925, -2.85 , -2.775, -2.7  , -2.625, -2.55 , -2.475,\n",
      "       -2.4  , -2.325, -2.25 , -2.175, -2.1  ]), array([0.  , 0.02, 0.04, 0.06, 0.08, 0.1 , 0.12, 0.14, 0.16, 0.18, 0.2 ,\n",
      "       0.22, 0.24, 0.26, 0.28, 0.3 , 0.32, 0.34, 0.36, 0.38, 0.4 , 0.42,\n",
      "       0.44, 0.46, 0.48, 0.5 , 0.52, 0.54, 0.56, 0.58, 0.6 , 0.62, 0.64,\n",
      "       0.66, 0.68, 0.7 , 0.72, 0.74, 0.76, 0.78, 0.8 , 0.82, 0.84, 0.86,\n",
      "       0.88, 0.9 , 0.92, 0.94, 0.96, 0.98, 1.  ]))\n"
     ]
    }
   ],
   "source": [
    "print(bins)"
   ]
  },
  {
   "cell_type": "code",
   "execution_count": 84,
   "metadata": {},
   "outputs": [
    {
     "ename": "TypeError",
     "evalue": "tuple indices must be integers or slices, not tuple",
     "output_type": "error",
     "traceback": [
      "\u001b[0;31m---------------------------------------------------------------------------\u001b[0m",
      "\u001b[0;31mTypeError\u001b[0m                                 Traceback (most recent call last)",
      "\u001b[0;32m<ipython-input-84-8c6654424762>\u001b[0m in \u001b[0;36m<module>\u001b[0;34m()\u001b[0m\n\u001b[0;32m----> 1\u001b[0;31m \u001b[0mbins\u001b[0m \u001b[0;34m=\u001b[0m \u001b[0mbins\u001b[0m\u001b[0;34m[\u001b[0m\u001b[0;34m:\u001b[0m\u001b[0;34m,\u001b[0m\u001b[0;34m:\u001b[0m\u001b[0;34m,\u001b[0m\u001b[0;34m:\u001b[0m\u001b[0;34m:\u001b[0m\u001b[0;34m-\u001b[0m\u001b[0;36m1\u001b[0m\u001b[0;34m]\u001b[0m\u001b[0;34m\u001b[0m\u001b[0m\n\u001b[0m",
      "\u001b[0;31mTypeError\u001b[0m: tuple indices must be integers or slices, not tuple"
     ]
    }
   ],
   "source": [
    "bins = bins[:,:,::-1]"
   ]
  },
  {
   "cell_type": "code",
   "execution_count": 85,
   "metadata": {},
   "outputs": [
    {
     "ename": "ValueError",
     "evalue": "axis=1 is invalid for the 1-dimensional input array",
     "output_type": "error",
     "traceback": [
      "\u001b[0;31m---------------------------------------------------------------------------\u001b[0m",
      "\u001b[0;31mIndexError\u001b[0m                                Traceback (most recent call last)",
      "\u001b[0;32m/cvmfs/sft.cern.ch/lcg/views/LCG_94python3/x86_64-slc6-gcc62-opt/lib/python3.6/site-packages/numpy/lib/function_base.py\u001b[0m in \u001b[0;36mflip\u001b[0;34m(m, axis)\u001b[0m\n\u001b[1;32m    205\u001b[0m     \u001b[0;32mtry\u001b[0m\u001b[0;34m:\u001b[0m\u001b[0;34m\u001b[0m\u001b[0m\n\u001b[0;32m--> 206\u001b[0;31m         \u001b[0mindexer\u001b[0m\u001b[0;34m[\u001b[0m\u001b[0maxis\u001b[0m\u001b[0;34m]\u001b[0m \u001b[0;34m=\u001b[0m \u001b[0mslice\u001b[0m\u001b[0;34m(\u001b[0m\u001b[0;32mNone\u001b[0m\u001b[0;34m,\u001b[0m \u001b[0;32mNone\u001b[0m\u001b[0;34m,\u001b[0m \u001b[0;34m-\u001b[0m\u001b[0;36m1\u001b[0m\u001b[0;34m)\u001b[0m\u001b[0;34m\u001b[0m\u001b[0m\n\u001b[0m\u001b[1;32m    207\u001b[0m     \u001b[0;32mexcept\u001b[0m \u001b[0mIndexError\u001b[0m\u001b[0;34m:\u001b[0m\u001b[0;34m\u001b[0m\u001b[0m\n",
      "\u001b[0;31mIndexError\u001b[0m: list assignment index out of range",
      "\nDuring handling of the above exception, another exception occurred:\n",
      "\u001b[0;31mValueError\u001b[0m                                Traceback (most recent call last)",
      "\u001b[0;32m<ipython-input-85-cb0914baa349>\u001b[0m in \u001b[0;36m<module>\u001b[0;34m()\u001b[0m\n\u001b[0;32m----> 1\u001b[0;31m \u001b[0mnp\u001b[0m\u001b[0;34m.\u001b[0m\u001b[0mflip\u001b[0m\u001b[0;34m(\u001b[0m\u001b[0mbins\u001b[0m\u001b[0;34m,\u001b[0m\u001b[0;36m1\u001b[0m\u001b[0;34m)\u001b[0m\u001b[0;34m\u001b[0m\u001b[0m\n\u001b[0m",
      "\u001b[0;32m/cvmfs/sft.cern.ch/lcg/views/LCG_94python3/x86_64-slc6-gcc62-opt/lib/python3.6/site-packages/numpy/lib/function_base.py\u001b[0m in \u001b[0;36mflip\u001b[0;34m(m, axis)\u001b[0m\n\u001b[1;32m    207\u001b[0m     \u001b[0;32mexcept\u001b[0m \u001b[0mIndexError\u001b[0m\u001b[0;34m:\u001b[0m\u001b[0;34m\u001b[0m\u001b[0m\n\u001b[1;32m    208\u001b[0m         raise ValueError(\"axis=%i is invalid for the %i-dimensional input array\"\n\u001b[0;32m--> 209\u001b[0;31m                          % (axis, m.ndim))\n\u001b[0m\u001b[1;32m    210\u001b[0m     \u001b[0;32mreturn\u001b[0m \u001b[0mm\u001b[0m\u001b[0;34m[\u001b[0m\u001b[0mtuple\u001b[0m\u001b[0;34m(\u001b[0m\u001b[0mindexer\u001b[0m\u001b[0;34m)\u001b[0m\u001b[0;34m]\u001b[0m\u001b[0;34m\u001b[0m\u001b[0m\n\u001b[1;32m    211\u001b[0m \u001b[0;34m\u001b[0m\u001b[0m\n",
      "\u001b[0;31mValueError\u001b[0m: axis=1 is invalid for the 1-dimensional input array"
     ]
    }
   ],
   "source": [
    "np.flip(bins,1)"
   ]
  },
  {
   "cell_type": "code",
   "execution_count": 86,
   "metadata": {},
   "outputs": [
    {
     "data": {
      "text/plain": [
       "array([array([0.  , 0.02, 0.04, 0.06, 0.08, 0.1 , 0.12, 0.14, 0.16, 0.18, 0.2 ,\n",
       "       0.22, 0.24, 0.26, 0.28, 0.3 , 0.32, 0.34, 0.36, 0.38, 0.4 , 0.42,\n",
       "       0.44, 0.46, 0.48, 0.5 , 0.52, 0.54, 0.56, 0.58, 0.6 , 0.62, 0.64,\n",
       "       0.66, 0.68, 0.7 , 0.72, 0.74, 0.76, 0.78, 0.8 , 0.82, 0.84, 0.86,\n",
       "       0.88, 0.9 , 0.92, 0.94, 0.96, 0.98, 1.  ]),\n",
       "       array([-6.   , -5.925, -5.85 , -5.775, -5.7  , -5.625, -5.55 , -5.475,\n",
       "       -5.4  , -5.325, -5.25 , -5.175, -5.1  , -5.025, -4.95 , -4.875,\n",
       "       -4.8  , -4.725, -4.65 , -4.575, -4.5  , -4.425, -4.35 , -4.275,\n",
       "       -4.2  , -4.125, -4.05 , -3.975, -3.9  , -3.825, -3.75 , -3.675,\n",
       "       -3.6  , -3.525, -3.45 , -3.375, -3.3  , -3.225, -3.15 , -3.075,\n",
       "       -3.   , -2.925, -2.85 , -2.775, -2.7  , -2.625, -2.55 , -2.475,\n",
       "       -2.4  , -2.325, -2.25 , -2.175, -2.1  ]),\n",
       "       array([ 400.,  410.,  420.,  430.,  440.,  450.,  460.,  470.,  480.,\n",
       "        490.,  500.,  510.,  520.,  530.,  540.,  550.,  560.,  570.,\n",
       "        580.,  590.,  600.,  610.,  620.,  630.,  640.,  650.,  660.,\n",
       "        670.,  680.,  690.,  700.,  710.,  720.,  730.,  740.,  750.,\n",
       "        760.,  770.,  780.,  790.,  800.,  810.,  820.,  830.,  840.,\n",
       "        850.,  860.,  870.,  880.,  890.,  900.,  910.,  920.,  930.,\n",
       "        940.,  950.,  960.,  970.,  980.,  990., 1000.])], dtype=object)"
      ]
     },
     "execution_count": 86,
     "metadata": {},
     "output_type": "execute_result"
    }
   ],
   "source": [
    "np.flip(bins,0)"
   ]
  },
  {
   "cell_type": "code",
   "execution_count": 87,
   "metadata": {},
   "outputs": [
    {
     "ename": "ValueError",
     "evalue": "axis=1 is invalid for the 1-dimensional input array",
     "output_type": "error",
     "traceback": [
      "\u001b[0;31m---------------------------------------------------------------------------\u001b[0m",
      "\u001b[0;31mIndexError\u001b[0m                                Traceback (most recent call last)",
      "\u001b[0;32m/cvmfs/sft.cern.ch/lcg/views/LCG_94python3/x86_64-slc6-gcc62-opt/lib/python3.6/site-packages/numpy/lib/function_base.py\u001b[0m in \u001b[0;36mflip\u001b[0;34m(m, axis)\u001b[0m\n\u001b[1;32m    205\u001b[0m     \u001b[0;32mtry\u001b[0m\u001b[0;34m:\u001b[0m\u001b[0;34m\u001b[0m\u001b[0m\n\u001b[0;32m--> 206\u001b[0;31m         \u001b[0mindexer\u001b[0m\u001b[0;34m[\u001b[0m\u001b[0maxis\u001b[0m\u001b[0;34m]\u001b[0m \u001b[0;34m=\u001b[0m \u001b[0mslice\u001b[0m\u001b[0;34m(\u001b[0m\u001b[0;32mNone\u001b[0m\u001b[0;34m,\u001b[0m \u001b[0;32mNone\u001b[0m\u001b[0;34m,\u001b[0m \u001b[0;34m-\u001b[0m\u001b[0;36m1\u001b[0m\u001b[0;34m)\u001b[0m\u001b[0;34m\u001b[0m\u001b[0m\n\u001b[0m\u001b[1;32m    207\u001b[0m     \u001b[0;32mexcept\u001b[0m \u001b[0mIndexError\u001b[0m\u001b[0;34m:\u001b[0m\u001b[0;34m\u001b[0m\u001b[0m\n",
      "\u001b[0;31mIndexError\u001b[0m: list assignment index out of range",
      "\nDuring handling of the above exception, another exception occurred:\n",
      "\u001b[0;31mValueError\u001b[0m                                Traceback (most recent call last)",
      "\u001b[0;32m<ipython-input-87-cb0914baa349>\u001b[0m in \u001b[0;36m<module>\u001b[0;34m()\u001b[0m\n\u001b[0;32m----> 1\u001b[0;31m \u001b[0mnp\u001b[0m\u001b[0;34m.\u001b[0m\u001b[0mflip\u001b[0m\u001b[0;34m(\u001b[0m\u001b[0mbins\u001b[0m\u001b[0;34m,\u001b[0m\u001b[0;36m1\u001b[0m\u001b[0;34m)\u001b[0m\u001b[0;34m\u001b[0m\u001b[0m\n\u001b[0m",
      "\u001b[0;32m/cvmfs/sft.cern.ch/lcg/views/LCG_94python3/x86_64-slc6-gcc62-opt/lib/python3.6/site-packages/numpy/lib/function_base.py\u001b[0m in \u001b[0;36mflip\u001b[0;34m(m, axis)\u001b[0m\n\u001b[1;32m    207\u001b[0m     \u001b[0;32mexcept\u001b[0m \u001b[0mIndexError\u001b[0m\u001b[0;34m:\u001b[0m\u001b[0;34m\u001b[0m\u001b[0m\n\u001b[1;32m    208\u001b[0m         raise ValueError(\"axis=%i is invalid for the %i-dimensional input array\"\n\u001b[0;32m--> 209\u001b[0;31m                          % (axis, m.ndim))\n\u001b[0m\u001b[1;32m    210\u001b[0m     \u001b[0;32mreturn\u001b[0m \u001b[0mm\u001b[0m\u001b[0;34m[\u001b[0m\u001b[0mtuple\u001b[0m\u001b[0;34m(\u001b[0m\u001b[0mindexer\u001b[0m\u001b[0;34m)\u001b[0m\u001b[0;34m]\u001b[0m\u001b[0;34m\u001b[0m\u001b[0m\n\u001b[1;32m    211\u001b[0m \u001b[0;34m\u001b[0m\u001b[0m\n",
      "\u001b[0;31mValueError\u001b[0m: axis=1 is invalid for the 1-dimensional input array"
     ]
    }
   ],
   "source": [
    "np.flip(bins,1)"
   ]
  },
  {
   "cell_type": "code",
   "execution_count": 88,
   "metadata": {},
   "outputs": [
    {
     "name": "stdout",
     "output_type": "stream",
     "text": [
      "(array([ 400.,  410.,  420.,  430.,  440.,  450.,  460.,  470.,  480.,\n",
      "        490.,  500.,  510.,  520.,  530.,  540.,  550.,  560.,  570.,\n",
      "        580.,  590.,  600.,  610.,  620.,  630.,  640.,  650.,  660.,\n",
      "        670.,  680.,  690.,  700.,  710.,  720.,  730.,  740.,  750.,\n",
      "        760.,  770.,  780.,  790.,  800.,  810.,  820.,  830.,  840.,\n",
      "        850.,  860.,  870.,  880.,  890.,  900.,  910.,  920.,  930.,\n",
      "        940.,  950.,  960.,  970.,  980.,  990., 1000.]), array([-6.   , -5.925, -5.85 , -5.775, -5.7  , -5.625, -5.55 , -5.475,\n",
      "       -5.4  , -5.325, -5.25 , -5.175, -5.1  , -5.025, -4.95 , -4.875,\n",
      "       -4.8  , -4.725, -4.65 , -4.575, -4.5  , -4.425, -4.35 , -4.275,\n",
      "       -4.2  , -4.125, -4.05 , -3.975, -3.9  , -3.825, -3.75 , -3.675,\n",
      "       -3.6  , -3.525, -3.45 , -3.375, -3.3  , -3.225, -3.15 , -3.075,\n",
      "       -3.   , -2.925, -2.85 , -2.775, -2.7  , -2.625, -2.55 , -2.475,\n",
      "       -2.4  , -2.325, -2.25 , -2.175, -2.1  ]), array([0.  , 0.02, 0.04, 0.06, 0.08, 0.1 , 0.12, 0.14, 0.16, 0.18, 0.2 ,\n",
      "       0.22, 0.24, 0.26, 0.28, 0.3 , 0.32, 0.34, 0.36, 0.38, 0.4 , 0.42,\n",
      "       0.44, 0.46, 0.48, 0.5 , 0.52, 0.54, 0.56, 0.58, 0.6 , 0.62, 0.64,\n",
      "       0.66, 0.68, 0.7 , 0.72, 0.74, 0.76, 0.78, 0.8 , 0.82, 0.84, 0.86,\n",
      "       0.88, 0.9 , 0.92, 0.94, 0.96, 0.98, 1.  ]))\n"
     ]
    }
   ],
   "source": [
    "print(bins)"
   ]
  },
  {
   "cell_type": "code",
   "execution_count": 89,
   "metadata": {},
   "outputs": [],
   "source": [
    "bins = tuple(ax.edges() for ax in hist_y_HBB.axes())"
   ]
  },
  {
   "cell_type": "code",
   "execution_count": 90,
   "metadata": {},
   "outputs": [
    {
     "name": "stdout",
     "output_type": "stream",
     "text": [
      "(<Bin (name=AK8Puppijet0_pt) instance at 0x7fd7cc8b2438>, <Bin (name=jetrho) instance at 0x7fd7cc8be278>, <Bin (name=AK8Puppijet0_N2sdb1) instance at 0x7fd7cc8beef0>)\n"
     ]
    }
   ],
   "source": [
    "print(hist_y_HBB.axes())"
   ]
  },
  {
   "cell_type": "code",
   "execution_count": 91,
   "metadata": {},
   "outputs": [
    {
     "name": "stdout",
     "output_type": "stream",
     "text": [
      "<Bin (name=AK8Puppijet0_N2sdb1) instance at 0x7fd7cc8beef0>\n"
     ]
    }
   ],
   "source": [
    "print(hist_y_HBB.axes()[2])"
   ]
  },
  {
   "cell_type": "code",
   "execution_count": 92,
   "metadata": {},
   "outputs": [
    {
     "ename": "IndexError",
     "evalue": "tuple index out of range",
     "output_type": "error",
     "traceback": [
      "\u001b[0;31m---------------------------------------------------------------------------\u001b[0m",
      "\u001b[0;31mIndexError\u001b[0m                                Traceback (most recent call last)",
      "\u001b[0;32m<ipython-input-92-b4972fdd2047>\u001b[0m in \u001b[0;36m<module>\u001b[0;34m()\u001b[0m\n\u001b[0;32m----> 1\u001b[0;31m \u001b[0mbins\u001b[0m\u001b[0;34m[\u001b[0m\u001b[0;36m3\u001b[0m\u001b[0;34m]\u001b[0m\u001b[0;34m\u001b[0m\u001b[0m\n\u001b[0m",
      "\u001b[0;31mIndexError\u001b[0m: tuple index out of range"
     ]
    }
   ],
   "source": [
    "bins[3]"
   ]
  },
  {
   "cell_type": "code",
   "execution_count": 93,
   "metadata": {},
   "outputs": [
    {
     "name": "stdout",
     "output_type": "stream",
     "text": [
      "[0.   0.02 0.04 0.06 0.08 0.1  0.12 0.14 0.16 0.18 0.2  0.22 0.24 0.26\n",
      " 0.28 0.3  0.32 0.34 0.36 0.38 0.4  0.42 0.44 0.46 0.48 0.5  0.52 0.54\n",
      " 0.56 0.58 0.6  0.62 0.64 0.66 0.68 0.7  0.72 0.74 0.76 0.78 0.8  0.82\n",
      " 0.84 0.86 0.88 0.9  0.92 0.94 0.96 0.98 1.  ]\n"
     ]
    }
   ],
   "source": [
    "print(bins[2])"
   ]
  },
  {
   "cell_type": "code",
   "execution_count": 94,
   "metadata": {},
   "outputs": [
    {
     "ename": "TypeError",
     "evalue": "'tuple' object does not support item assignment",
     "output_type": "error",
     "traceback": [
      "\u001b[0;31m---------------------------------------------------------------------------\u001b[0m",
      "\u001b[0;31mTypeError\u001b[0m                                 Traceback (most recent call last)",
      "\u001b[0;32m<ipython-input-94-5d6175e4cf93>\u001b[0m in \u001b[0;36m<module>\u001b[0;34m()\u001b[0m\n\u001b[0;32m----> 1\u001b[0;31m \u001b[0mbins\u001b[0m\u001b[0;34m[\u001b[0m\u001b[0;36m2\u001b[0m\u001b[0;34m]\u001b[0m \u001b[0;34m=\u001b[0m \u001b[0mbins\u001b[0m\u001b[0;34m[\u001b[0m\u001b[0;36m2\u001b[0m\u001b[0;34m]\u001b[0m\u001b[0;34m[\u001b[0m\u001b[0;34m:\u001b[0m\u001b[0;34m:\u001b[0m\u001b[0;34m-\u001b[0m\u001b[0;36m1\u001b[0m\u001b[0;34m]\u001b[0m\u001b[0;34m\u001b[0m\u001b[0m\n\u001b[0m",
      "\u001b[0;31mTypeError\u001b[0m: 'tuple' object does not support item assignment"
     ]
    }
   ],
   "source": [
    "bins[2] = bins[2][::-1]"
   ]
  },
  {
   "cell_type": "code",
   "execution_count": 95,
   "metadata": {},
   "outputs": [],
   "source": [
    "aaa = bins[2]"
   ]
  },
  {
   "cell_type": "code",
   "execution_count": 96,
   "metadata": {},
   "outputs": [
    {
     "name": "stdout",
     "output_type": "stream",
     "text": [
      "[0.   0.02 0.04 0.06 0.08 0.1  0.12 0.14 0.16 0.18 0.2  0.22 0.24 0.26\n",
      " 0.28 0.3  0.32 0.34 0.36 0.38 0.4  0.42 0.44 0.46 0.48 0.5  0.52 0.54\n",
      " 0.56 0.58 0.6  0.62 0.64 0.66 0.68 0.7  0.72 0.74 0.76 0.78 0.8  0.82\n",
      " 0.84 0.86 0.88 0.9  0.92 0.94 0.96 0.98 1.  ]\n"
     ]
    }
   ],
   "source": [
    "print(aaa)"
   ]
  },
  {
   "cell_type": "code",
   "execution_count": 97,
   "metadata": {},
   "outputs": [],
   "source": [
    "aaa = aaa[::-1]"
   ]
  },
  {
   "cell_type": "code",
   "execution_count": 98,
   "metadata": {},
   "outputs": [
    {
     "name": "stdout",
     "output_type": "stream",
     "text": [
      "[1.   0.98 0.96 0.94 0.92 0.9  0.88 0.86 0.84 0.82 0.8  0.78 0.76 0.74\n",
      " 0.72 0.7  0.68 0.66 0.64 0.62 0.6  0.58 0.56 0.54 0.52 0.5  0.48 0.46\n",
      " 0.44 0.42 0.4  0.38 0.36 0.34 0.32 0.3  0.28 0.26 0.24 0.22 0.2  0.18\n",
      " 0.16 0.14 0.12 0.1  0.08 0.06 0.04 0.02 0.  ]\n"
     ]
    }
   ],
   "source": [
    "print(aaa)"
   ]
  },
  {
   "cell_type": "code",
   "execution_count": 99,
   "metadata": {},
   "outputs": [
    {
     "ename": "TypeError",
     "evalue": "'tuple' object does not support item assignment",
     "output_type": "error",
     "traceback": [
      "\u001b[0;31m---------------------------------------------------------------------------\u001b[0m",
      "\u001b[0;31mTypeError\u001b[0m                                 Traceback (most recent call last)",
      "\u001b[0;32m<ipython-input-99-230174a31268>\u001b[0m in \u001b[0;36m<module>\u001b[0;34m()\u001b[0m\n\u001b[0;32m----> 1\u001b[0;31m \u001b[0mbins\u001b[0m\u001b[0;34m[\u001b[0m\u001b[0;36m2\u001b[0m\u001b[0;34m]\u001b[0m \u001b[0;34m=\u001b[0m \u001b[0maaa\u001b[0m\u001b[0;34m\u001b[0m\u001b[0m\n\u001b[0m",
      "\u001b[0;31mTypeError\u001b[0m: 'tuple' object does not support item assignment"
     ]
    }
   ],
   "source": [
    "bins[2] = aaa"
   ]
  },
  {
   "cell_type": "code",
   "execution_count": 100,
   "metadata": {},
   "outputs": [
    {
     "name": "stdout",
     "output_type": "stream",
     "text": [
      "(array([ 400.,  410.,  420.,  430.,  440.,  450.,  460.,  470.,  480.,\n",
      "        490.,  500.,  510.,  520.,  530.,  540.,  550.,  560.,  570.,\n",
      "        580.,  590.,  600.,  610.,  620.,  630.,  640.,  650.,  660.,\n",
      "        670.,  680.,  690.,  700.,  710.,  720.,  730.,  740.,  750.,\n",
      "        760.,  770.,  780.,  790.,  800.,  810.,  820.,  830.,  840.,\n",
      "        850.,  860.,  870.,  880.,  890.,  900.,  910.,  920.,  930.,\n",
      "        940.,  950.,  960.,  970.,  980.,  990., 1000.]), array([-6.   , -5.925, -5.85 , -5.775, -5.7  , -5.625, -5.55 , -5.475,\n",
      "       -5.4  , -5.325, -5.25 , -5.175, -5.1  , -5.025, -4.95 , -4.875,\n",
      "       -4.8  , -4.725, -4.65 , -4.575, -4.5  , -4.425, -4.35 , -4.275,\n",
      "       -4.2  , -4.125, -4.05 , -3.975, -3.9  , -3.825, -3.75 , -3.675,\n",
      "       -3.6  , -3.525, -3.45 , -3.375, -3.3  , -3.225, -3.15 , -3.075,\n",
      "       -3.   , -2.925, -2.85 , -2.775, -2.7  , -2.625, -2.55 , -2.475,\n",
      "       -2.4  , -2.325, -2.25 , -2.175, -2.1  ]), array([0.  , 0.02, 0.04, 0.06, 0.08, 0.1 , 0.12, 0.14, 0.16, 0.18, 0.2 ,\n",
      "       0.22, 0.24, 0.26, 0.28, 0.3 , 0.32, 0.34, 0.36, 0.38, 0.4 , 0.42,\n",
      "       0.44, 0.46, 0.48, 0.5 , 0.52, 0.54, 0.56, 0.58, 0.6 , 0.62, 0.64,\n",
      "       0.66, 0.68, 0.7 , 0.72, 0.74, 0.76, 0.78, 0.8 , 0.82, 0.84, 0.86,\n",
      "       0.88, 0.9 , 0.92, 0.94, 0.96, 0.98, 1.  ]))\n"
     ]
    }
   ],
   "source": [
    "print(bins)"
   ]
  },
  {
   "cell_type": "code",
   "execution_count": 101,
   "metadata": {},
   "outputs": [],
   "source": [
    "bins_list = list(bins)"
   ]
  },
  {
   "cell_type": "code",
   "execution_count": 102,
   "metadata": {},
   "outputs": [
    {
     "ename": "TypeError",
     "evalue": "'type' object does not support item assignment",
     "output_type": "error",
     "traceback": [
      "\u001b[0;31m---------------------------------------------------------------------------\u001b[0m",
      "\u001b[0;31mTypeError\u001b[0m                                 Traceback (most recent call last)",
      "\u001b[0;32m<ipython-input-102-edbaa2d1393b>\u001b[0m in \u001b[0;36m<module>\u001b[0;34m()\u001b[0m\n\u001b[0;32m----> 1\u001b[0;31m \u001b[0mlist\u001b[0m\u001b[0;34m[\u001b[0m\u001b[0;36m2\u001b[0m\u001b[0;34m]\u001b[0m \u001b[0;34m=\u001b[0m \u001b[0maaa\u001b[0m\u001b[0;34m\u001b[0m\u001b[0m\n\u001b[0m",
      "\u001b[0;31mTypeError\u001b[0m: 'type' object does not support item assignment"
     ]
    }
   ],
   "source": [
    "list[2] = aaa"
   ]
  },
  {
   "cell_type": "code",
   "execution_count": 103,
   "metadata": {},
   "outputs": [
    {
     "name": "stdout",
     "output_type": "stream",
     "text": [
      "[1.   0.98 0.96 0.94 0.92 0.9  0.88 0.86 0.84 0.82 0.8  0.78 0.76 0.74\n",
      " 0.72 0.7  0.68 0.66 0.64 0.62 0.6  0.58 0.56 0.54 0.52 0.5  0.48 0.46\n",
      " 0.44 0.42 0.4  0.38 0.36 0.34 0.32 0.3  0.28 0.26 0.24 0.22 0.2  0.18\n",
      " 0.16 0.14 0.12 0.1  0.08 0.06 0.04 0.02 0.  ]\n"
     ]
    }
   ],
   "source": [
    "print(aaa)"
   ]
  },
  {
   "cell_type": "code",
   "execution_count": 104,
   "metadata": {},
   "outputs": [],
   "source": [
    "bins_list[2] =aaa"
   ]
  },
  {
   "cell_type": "code",
   "execution_count": 105,
   "metadata": {},
   "outputs": [
    {
     "name": "stdout",
     "output_type": "stream",
     "text": [
      "[array([ 400.,  410.,  420.,  430.,  440.,  450.,  460.,  470.,  480.,\n",
      "        490.,  500.,  510.,  520.,  530.,  540.,  550.,  560.,  570.,\n",
      "        580.,  590.,  600.,  610.,  620.,  630.,  640.,  650.,  660.,\n",
      "        670.,  680.,  690.,  700.,  710.,  720.,  730.,  740.,  750.,\n",
      "        760.,  770.,  780.,  790.,  800.,  810.,  820.,  830.,  840.,\n",
      "        850.,  860.,  870.,  880.,  890.,  900.,  910.,  920.,  930.,\n",
      "        940.,  950.,  960.,  970.,  980.,  990., 1000.]), array([-6.   , -5.925, -5.85 , -5.775, -5.7  , -5.625, -5.55 , -5.475,\n",
      "       -5.4  , -5.325, -5.25 , -5.175, -5.1  , -5.025, -4.95 , -4.875,\n",
      "       -4.8  , -4.725, -4.65 , -4.575, -4.5  , -4.425, -4.35 , -4.275,\n",
      "       -4.2  , -4.125, -4.05 , -3.975, -3.9  , -3.825, -3.75 , -3.675,\n",
      "       -3.6  , -3.525, -3.45 , -3.375, -3.3  , -3.225, -3.15 , -3.075,\n",
      "       -3.   , -2.925, -2.85 , -2.775, -2.7  , -2.625, -2.55 , -2.475,\n",
      "       -2.4  , -2.325, -2.25 , -2.175, -2.1  ]), array([1.  , 0.98, 0.96, 0.94, 0.92, 0.9 , 0.88, 0.86, 0.84, 0.82, 0.8 ,\n",
      "       0.78, 0.76, 0.74, 0.72, 0.7 , 0.68, 0.66, 0.64, 0.62, 0.6 , 0.58,\n",
      "       0.56, 0.54, 0.52, 0.5 , 0.48, 0.46, 0.44, 0.42, 0.4 , 0.38, 0.36,\n",
      "       0.34, 0.32, 0.3 , 0.28, 0.26, 0.24, 0.22, 0.2 , 0.18, 0.16, 0.14,\n",
      "       0.12, 0.1 , 0.08, 0.06, 0.04, 0.02, 0.  ])]\n"
     ]
    }
   ],
   "source": [
    "print(bins_list)"
   ]
  },
  {
   "cell_type": "code",
   "execution_count": 106,
   "metadata": {},
   "outputs": [],
   "source": [
    "bins = tuple(bins_list)"
   ]
  },
  {
   "cell_type": "code",
   "execution_count": 107,
   "metadata": {},
   "outputs": [
    {
     "name": "stdout",
     "output_type": "stream",
     "text": [
      "(array([ 400.,  410.,  420.,  430.,  440.,  450.,  460.,  470.,  480.,\n",
      "        490.,  500.,  510.,  520.,  530.,  540.,  550.,  560.,  570.,\n",
      "        580.,  590.,  600.,  610.,  620.,  630.,  640.,  650.,  660.,\n",
      "        670.,  680.,  690.,  700.,  710.,  720.,  730.,  740.,  750.,\n",
      "        760.,  770.,  780.,  790.,  800.,  810.,  820.,  830.,  840.,\n",
      "        850.,  860.,  870.,  880.,  890.,  900.,  910.,  920.,  930.,\n",
      "        940.,  950.,  960.,  970.,  980.,  990., 1000.]), array([-6.   , -5.925, -5.85 , -5.775, -5.7  , -5.625, -5.55 , -5.475,\n",
      "       -5.4  , -5.325, -5.25 , -5.175, -5.1  , -5.025, -4.95 , -4.875,\n",
      "       -4.8  , -4.725, -4.65 , -4.575, -4.5  , -4.425, -4.35 , -4.275,\n",
      "       -4.2  , -4.125, -4.05 , -3.975, -3.9  , -3.825, -3.75 , -3.675,\n",
      "       -3.6  , -3.525, -3.45 , -3.375, -3.3  , -3.225, -3.15 , -3.075,\n",
      "       -3.   , -2.925, -2.85 , -2.775, -2.7  , -2.625, -2.55 , -2.475,\n",
      "       -2.4  , -2.325, -2.25 , -2.175, -2.1  ]), array([1.  , 0.98, 0.96, 0.94, 0.92, 0.9 , 0.88, 0.86, 0.84, 0.82, 0.8 ,\n",
      "       0.78, 0.76, 0.74, 0.72, 0.7 , 0.68, 0.66, 0.64, 0.62, 0.6 , 0.58,\n",
      "       0.56, 0.54, 0.52, 0.5 , 0.48, 0.46, 0.44, 0.42, 0.4 , 0.38, 0.36,\n",
      "       0.34, 0.32, 0.3 , 0.28, 0.26, 0.24, 0.22, 0.2 , 0.18, 0.16, 0.14,\n",
      "       0.12, 0.1 , 0.08, 0.06, 0.04, 0.02, 0.  ]))\n"
     ]
    }
   ],
   "source": [
    "print(bins)"
   ]
  },
  {
   "cell_type": "code",
   "execution_count": 108,
   "metadata": {},
   "outputs": [],
   "source": [
    "n2q_array = hist_y_HBB.values()[()]\n"
   ]
  },
  {
   "cell_type": "code",
   "execution_count": 109,
   "metadata": {},
   "outputs": [
    {
     "name": "stdout",
     "output_type": "stream",
     "text": [
      "[[[0.0000000e+00 0.0000000e+00 0.0000000e+00 ... 4.6722372e-03\n",
      "   4.6722372e-03 4.6722372e-03]\n",
      "  [0.0000000e+00 0.0000000e+00 0.0000000e+00 ... 4.5120455e-03\n",
      "   4.5120455e-03 4.5120455e-03]\n",
      "  [0.0000000e+00 0.0000000e+00 0.0000000e+00 ... 4.3518553e-03\n",
      "   4.3518553e-03 4.3518553e-03]\n",
      "  ...\n",
      "  [0.0000000e+00 0.0000000e+00 0.0000000e+00 ... 2.9840910e-01\n",
      "   2.9840910e-01 2.9840910e-01]\n",
      "  [0.0000000e+00 0.0000000e+00 0.0000000e+00 ... 2.1980873e-01\n",
      "   2.1980873e-01 2.1980873e-01]\n",
      "  [0.0000000e+00 0.0000000e+00 0.0000000e+00 ... 1.2857994e-01\n",
      "   1.2857994e-01 1.2857994e-01]]\n",
      "\n",
      " [[0.0000000e+00 0.0000000e+00 0.0000000e+00 ... 3.8178852e-03\n",
      "   3.8178852e-03 3.8178852e-03]\n",
      "  [0.0000000e+00 0.0000000e+00 0.0000000e+00 ... 4.3518557e-03\n",
      "   4.3518557e-03 4.3518557e-03]\n",
      "  [0.0000000e+00 0.0000000e+00 0.0000000e+00 ... 4.2183623e-03\n",
      "   4.2183623e-03 4.2183623e-03]\n",
      "  ...\n",
      "  [0.0000000e+00 0.0000000e+00 2.6698497e-05 ... 2.2920662e-01\n",
      "   2.2920662e-01 2.2920662e-01]\n",
      "  [0.0000000e+00 0.0000000e+00 0.0000000e+00 ... 1.5036593e-01\n",
      "   1.5036593e-01 1.5036593e-01]\n",
      "  [0.0000000e+00 0.0000000e+00 0.0000000e+00 ... 7.8253292e-02\n",
      "   7.8253292e-02 7.8253292e-02]]\n",
      "\n",
      " [[0.0000000e+00 0.0000000e+00 0.0000000e+00 ... 3.7911867e-03\n",
      "   3.7911867e-03 3.7911867e-03]\n",
      "  [0.0000000e+00 0.0000000e+00 0.0000000e+00 ... 2.9902314e-03\n",
      "   2.9902314e-03 2.9902314e-03]\n",
      "  [0.0000000e+00 0.0000000e+00 0.0000000e+00 ... 3.5242015e-03\n",
      "   3.5242015e-03 3.5242015e-03]\n",
      "  ...\n",
      "  [0.0000000e+00 0.0000000e+00 0.0000000e+00 ... 1.6448945e-01\n",
      "   1.6448945e-01 1.6448945e-01]\n",
      "  [0.0000000e+00 0.0000000e+00 0.0000000e+00 ... 9.7396113e-02\n",
      "   9.7396113e-02 9.7396113e-02]\n",
      "  [0.0000000e+00 0.0000000e+00 0.0000000e+00 ... 4.8164088e-02\n",
      "   4.8164088e-02 4.8164088e-02]]\n",
      "\n",
      " ...\n",
      "\n",
      " [[0.0000000e+00 0.0000000e+00 0.0000000e+00 ... 2.6698497e-05\n",
      "   2.6698497e-05 2.6698497e-05]\n",
      "  [0.0000000e+00 0.0000000e+00 0.0000000e+00 ... 5.3396994e-05\n",
      "   5.3396994e-05 5.3396994e-05]\n",
      "  [0.0000000e+00 0.0000000e+00 0.0000000e+00 ... 1.6019098e-04\n",
      "   1.6019098e-04 1.6019098e-04]\n",
      "  ...\n",
      "  [0.0000000e+00 0.0000000e+00 0.0000000e+00 ... 8.0095488e-05\n",
      "   8.0095488e-05 8.0095488e-05]\n",
      "  [0.0000000e+00 0.0000000e+00 0.0000000e+00 ... 1.6019098e-04\n",
      "   1.6019098e-04 1.6019098e-04]\n",
      "  [0.0000000e+00 0.0000000e+00 0.0000000e+00 ... 5.3396994e-05\n",
      "   5.3396994e-05 5.3396994e-05]]\n",
      "\n",
      " [[0.0000000e+00 0.0000000e+00 0.0000000e+00 ... 2.6698497e-05\n",
      "   2.6698497e-05 2.6698497e-05]\n",
      "  [0.0000000e+00 0.0000000e+00 0.0000000e+00 ... 0.0000000e+00\n",
      "   0.0000000e+00 0.0000000e+00]\n",
      "  [0.0000000e+00 0.0000000e+00 0.0000000e+00 ... 8.0095488e-05\n",
      "   8.0095488e-05 8.0095488e-05]\n",
      "  ...\n",
      "  [0.0000000e+00 0.0000000e+00 0.0000000e+00 ... 8.0095488e-05\n",
      "   8.0095488e-05 8.0095488e-05]\n",
      "  [0.0000000e+00 0.0000000e+00 0.0000000e+00 ... 8.0095488e-05\n",
      "   8.0095488e-05 8.0095488e-05]\n",
      "  [0.0000000e+00 0.0000000e+00 0.0000000e+00 ... 5.3396994e-05\n",
      "   5.3396994e-05 5.3396994e-05]]\n",
      "\n",
      " [[0.0000000e+00 0.0000000e+00 0.0000000e+00 ... 2.6698497e-05\n",
      "   2.6698497e-05 2.6698497e-05]\n",
      "  [0.0000000e+00 0.0000000e+00 0.0000000e+00 ... 8.0095488e-05\n",
      "   8.0095488e-05 8.0095488e-05]\n",
      "  [0.0000000e+00 0.0000000e+00 0.0000000e+00 ... 1.0679399e-04\n",
      "   1.0679399e-04 1.0679399e-04]\n",
      "  ...\n",
      "  [0.0000000e+00 0.0000000e+00 0.0000000e+00 ... 2.6698497e-05\n",
      "   2.6698497e-05 2.6698497e-05]\n",
      "  [0.0000000e+00 0.0000000e+00 0.0000000e+00 ... 0.0000000e+00\n",
      "   0.0000000e+00 0.0000000e+00]\n",
      "  [0.0000000e+00 0.0000000e+00 0.0000000e+00 ... 2.6698497e-05\n",
      "   2.6698497e-05 2.6698497e-05]]]\n"
     ]
    }
   ],
   "source": [
    "print(n2q_array)"
   ]
  },
  {
   "cell_type": "code",
   "execution_count": 111,
   "metadata": {},
   "outputs": [],
   "source": [
    "bins = tuple(ax.edges() for ax in hist_y_HBB.axes())\n"
   ]
  },
  {
   "cell_type": "code",
   "execution_count": 112,
   "metadata": {},
   "outputs": [
    {
     "name": "stdout",
     "output_type": "stream",
     "text": [
      "(array([ 400.,  410.,  420.,  430.,  440.,  450.,  460.,  470.,  480.,\n",
      "        490.,  500.,  510.,  520.,  530.,  540.,  550.,  560.,  570.,\n",
      "        580.,  590.,  600.,  610.,  620.,  630.,  640.,  650.,  660.,\n",
      "        670.,  680.,  690.,  700.,  710.,  720.,  730.,  740.,  750.,\n",
      "        760.,  770.,  780.,  790.,  800.,  810.,  820.,  830.,  840.,\n",
      "        850.,  860.,  870.,  880.,  890.,  900.,  910.,  920.,  930.,\n",
      "        940.,  950.,  960.,  970.,  980.,  990., 1000.]), array([-6.   , -5.925, -5.85 , -5.775, -5.7  , -5.625, -5.55 , -5.475,\n",
      "       -5.4  , -5.325, -5.25 , -5.175, -5.1  , -5.025, -4.95 , -4.875,\n",
      "       -4.8  , -4.725, -4.65 , -4.575, -4.5  , -4.425, -4.35 , -4.275,\n",
      "       -4.2  , -4.125, -4.05 , -3.975, -3.9  , -3.825, -3.75 , -3.675,\n",
      "       -3.6  , -3.525, -3.45 , -3.375, -3.3  , -3.225, -3.15 , -3.075,\n",
      "       -3.   , -2.925, -2.85 , -2.775, -2.7  , -2.625, -2.55 , -2.475,\n",
      "       -2.4  , -2.325, -2.25 , -2.175, -2.1  ]), array([0.  , 0.02, 0.04, 0.06, 0.08, 0.1 , 0.12, 0.14, 0.16, 0.18, 0.2 ,\n",
      "       0.22, 0.24, 0.26, 0.28, 0.3 , 0.32, 0.34, 0.36, 0.38, 0.4 , 0.42,\n",
      "       0.44, 0.46, 0.48, 0.5 , 0.52, 0.54, 0.56, 0.58, 0.6 , 0.62, 0.64,\n",
      "       0.66, 0.68, 0.7 , 0.72, 0.74, 0.76, 0.78, 0.8 , 0.82, 0.84, 0.86,\n",
      "       0.88, 0.9 , 0.92, 0.94, 0.96, 0.98, 1.  ]))\n"
     ]
    }
   ],
   "source": [
    "print(bins)"
   ]
  },
  {
   "cell_type": "code",
   "execution_count": 113,
   "metadata": {},
   "outputs": [
    {
     "ename": "NameError",
     "evalue": "name 'evaluator' is not defined",
     "output_type": "error",
     "traceback": [
      "\u001b[0;31m---------------------------------------------------------------------------\u001b[0m",
      "\u001b[0;31mNameError\u001b[0m                                 Traceback (most recent call last)",
      "\u001b[0;32m<ipython-input-113-1db42b89a8a7>\u001b[0m in \u001b[0;36m<module>\u001b[0;34m()\u001b[0m\n\u001b[0;32m----> 1\u001b[0;31m \u001b[0mevaluator\u001b[0m\u001b[0;34m.\u001b[0m\u001b[0m_functions\u001b[0m\u001b[0;34m[\u001b[0m\u001b[0;34m'N2quantile'\u001b[0m\u001b[0;34m]\u001b[0m \u001b[0;34m=\u001b[0m \u001b[0mlookup_tools\u001b[0m\u001b[0;34m.\u001b[0m\u001b[0mdense_lookup\u001b[0m\u001b[0;34m.\u001b[0m\u001b[0mdense_lookup\u001b[0m\u001b[0;34m(\u001b[0m\u001b[0mn2q_array\u001b[0m\u001b[0;34m,\u001b[0m \u001b[0mbins\u001b[0m\u001b[0;34m)\u001b[0m\u001b[0;34m\u001b[0m\u001b[0m\n\u001b[0m",
      "\u001b[0;31mNameError\u001b[0m: name 'evaluator' is not defined"
     ]
    }
   ],
   "source": [
    "evaluator._functions['N2quantile'] = lookup_tools.dense_lookup.dense_lookup(n2q_array, bins)"
   ]
  },
  {
   "cell_type": "code",
   "execution_count": 114,
   "metadata": {},
   "outputs": [],
   "source": [
    "extractor = lookup_tools.extractor()\n",
    "extractor.add_weight_sets([\"* * correction_files/n2ddt_transform_2017MC.root\"])\n",
    "extractor.finalize()\n",
    "evaluator = extractor.make_evaluator()"
   ]
  },
  {
   "cell_type": "code",
   "execution_count": 115,
   "metadata": {},
   "outputs": [],
   "source": [
    "evaluator._functions['N2quantile'] = lookup_tools.dense_lookup.dense_lookup(n2q_array, bins)"
   ]
  },
  {
   "cell_type": "code",
   "execution_count": 116,
   "metadata": {},
   "outputs": [
    {
     "name": "stdout",
     "output_type": "stream",
     "text": [
      "3 dimensional histogram with axes:\n",
      "\t1: [ 400.  410.  420.  430.  440.  450.  460.  470.  480.  490.  500.  510.\n",
      "  520.  530.  540.  550.  560.  570.  580.  590.  600.  610.  620.  630.\n",
      "  640.  650.  660.  670.  680.  690.  700.  710.  720.  730.  740.  750.\n",
      "  760.  770.  780.  790.  800.  810.  820.  830.  840.  850.  860.  870.\n",
      "  880.  890.  900.  910.  920.  930.  940.  950.  960.  970.  980.  990.\n",
      " 1000.]\n",
      "\t2: [-6.    -5.925 -5.85  -5.775 -5.7   -5.625 -5.55  -5.475 -5.4   -5.325\n",
      " -5.25  -5.175 -5.1   -5.025 -4.95  -4.875 -4.8   -4.725 -4.65  -4.575\n",
      " -4.5   -4.425 -4.35  -4.275 -4.2   -4.125 -4.05  -3.975 -3.9   -3.825\n",
      " -3.75  -3.675 -3.6   -3.525 -3.45  -3.375 -3.3   -3.225 -3.15  -3.075\n",
      " -3.    -2.925 -2.85  -2.775 -2.7   -2.625 -2.55  -2.475 -2.4   -2.325\n",
      " -2.25  -2.175 -2.1  ]\n",
      "\t3: [0.   0.02 0.04 0.06 0.08 0.1  0.12 0.14 0.16 0.18 0.2  0.22 0.24 0.26\n",
      " 0.28 0.3  0.32 0.34 0.36 0.38 0.4  0.42 0.44 0.46 0.48 0.5  0.52 0.54\n",
      " 0.56 0.58 0.6  0.62 0.64 0.66 0.68 0.7  0.72 0.74 0.76 0.78 0.8  0.82\n",
      " 0.84 0.86 0.88 0.9  0.92 0.94 0.96 0.98 1.  ]\n",
      "\n"
     ]
    }
   ],
   "source": [
    "print(evaluator[\"N2quantile\"])"
   ]
  },
  {
   "cell_type": "code",
   "execution_count": 117,
   "metadata": {},
   "outputs": [
    {
     "data": {
      "text/plain": [
       "3 dimensional histogram with axes:\n",
       "\t1: [ 400.  410.  420.  430.  440.  450.  460.  470.  480.  490.  500.  510.\n",
       "  520.  530.  540.  550.  560.  570.  580.  590.  600.  610.  620.  630.\n",
       "  640.  650.  660.  670.  680.  690.  700.  710.  720.  730.  740.  750.\n",
       "  760.  770.  780.  790.  800.  810.  820.  830.  840.  850.  860.  870.\n",
       "  880.  890.  900.  910.  920.  930.  940.  950.  960.  970.  980.  990.\n",
       " 1000.]\n",
       "\t2: [-6.    -5.925 -5.85  -5.775 -5.7   -5.625 -5.55  -5.475 -5.4   -5.325\n",
       " -5.25  -5.175 -5.1   -5.025 -4.95  -4.875 -4.8   -4.725 -4.65  -4.575\n",
       " -4.5   -4.425 -4.35  -4.275 -4.2   -4.125 -4.05  -3.975 -3.9   -3.825\n",
       " -3.75  -3.675 -3.6   -3.525 -3.45  -3.375 -3.3   -3.225 -3.15  -3.075\n",
       " -3.    -2.925 -2.85  -2.775 -2.7   -2.625 -2.55  -2.475 -2.4   -2.325\n",
       " -2.25  -2.175 -2.1  ]\n",
       "\t3: [0.   0.02 0.04 0.06 0.08 0.1  0.12 0.14 0.16 0.18 0.2  0.22 0.24 0.26\n",
       " 0.28 0.3  0.32 0.34 0.36 0.38 0.4  0.42 0.44 0.46 0.48 0.5  0.52 0.54\n",
       " 0.56 0.58 0.6  0.62 0.64 0.66 0.68 0.7  0.72 0.74 0.76 0.78 0.8  0.82\n",
       " 0.84 0.86 0.88 0.9  0.92 0.94 0.96 0.98 1.  ]"
      ]
     },
     "execution_count": 117,
     "metadata": {},
     "output_type": "execute_result"
    }
   ],
   "source": [
    "lookup_tools.dense_lookup.dense_lookup(n2q_array, bins)"
   ]
  },
  {
   "cell_type": "code",
   "execution_count": 118,
   "metadata": {},
   "outputs": [
    {
     "ename": "AttributeError",
     "evalue": "'dense_lookup' object has no attribute 'dims'",
     "output_type": "error",
     "traceback": [
      "\u001b[0;31m---------------------------------------------------------------------------\u001b[0m",
      "\u001b[0;31mAttributeError\u001b[0m                            Traceback (most recent call last)",
      "\u001b[0;32m<ipython-input-118-322ee124bde8>\u001b[0m in \u001b[0;36m<module>\u001b[0;34m()\u001b[0m\n\u001b[0;32m----> 1\u001b[0;31m \u001b[0mlookup_tools\u001b[0m\u001b[0;34m.\u001b[0m\u001b[0mdense_lookup\u001b[0m\u001b[0;34m.\u001b[0m\u001b[0mdense_lookup\u001b[0m\u001b[0;34m(\u001b[0m\u001b[0mn2q_array\u001b[0m\u001b[0;34m,\u001b[0m \u001b[0mbins\u001b[0m\u001b[0;34m)\u001b[0m\u001b[0;34m.\u001b[0m\u001b[0mdims\u001b[0m\u001b[0;34m\u001b[0m\u001b[0m\n\u001b[0m",
      "\u001b[0;31mAttributeError\u001b[0m: 'dense_lookup' object has no attribute 'dims'"
     ]
    }
   ],
   "source": [
    "lookup_tools.dense_lookup.dense_lookup(n2q_array, bins).dims"
   ]
  },
  {
   "cell_type": "code",
   "execution_count": 119,
   "metadata": {},
   "outputs": [
    {
     "data": {
      "text/plain": [
       "(array([ 400.,  410.,  420.,  430.,  440.,  450.,  460.,  470.,  480.,\n",
       "         490.,  500.,  510.,  520.,  530.,  540.,  550.,  560.,  570.,\n",
       "         580.,  590.,  600.,  610.,  620.,  630.,  640.,  650.,  660.,\n",
       "         670.,  680.,  690.,  700.,  710.,  720.,  730.,  740.,  750.,\n",
       "         760.,  770.,  780.,  790.,  800.,  810.,  820.,  830.,  840.,\n",
       "         850.,  860.,  870.,  880.,  890.,  900.,  910.,  920.,  930.,\n",
       "         940.,  950.,  960.,  970.,  980.,  990., 1000.]),\n",
       " array([-6.   , -5.925, -5.85 , -5.775, -5.7  , -5.625, -5.55 , -5.475,\n",
       "        -5.4  , -5.325, -5.25 , -5.175, -5.1  , -5.025, -4.95 , -4.875,\n",
       "        -4.8  , -4.725, -4.65 , -4.575, -4.5  , -4.425, -4.35 , -4.275,\n",
       "        -4.2  , -4.125, -4.05 , -3.975, -3.9  , -3.825, -3.75 , -3.675,\n",
       "        -3.6  , -3.525, -3.45 , -3.375, -3.3  , -3.225, -3.15 , -3.075,\n",
       "        -3.   , -2.925, -2.85 , -2.775, -2.7  , -2.625, -2.55 , -2.475,\n",
       "        -2.4  , -2.325, -2.25 , -2.175, -2.1  ]),\n",
       " array([0.  , 0.02, 0.04, 0.06, 0.08, 0.1 , 0.12, 0.14, 0.16, 0.18, 0.2 ,\n",
       "        0.22, 0.24, 0.26, 0.28, 0.3 , 0.32, 0.34, 0.36, 0.38, 0.4 , 0.42,\n",
       "        0.44, 0.46, 0.48, 0.5 , 0.52, 0.54, 0.56, 0.58, 0.6 , 0.62, 0.64,\n",
       "        0.66, 0.68, 0.7 , 0.72, 0.74, 0.76, 0.78, 0.8 , 0.82, 0.84, 0.86,\n",
       "        0.88, 0.9 , 0.92, 0.94, 0.96, 0.98, 1.  ]))"
      ]
     },
     "execution_count": 119,
     "metadata": {},
     "output_type": "execute_result"
    }
   ],
   "source": [
    "lookup_tools.dense_lookup.dense_lookup(n2q_array, bins)._axes"
   ]
  },
  {
   "cell_type": "code",
   "execution_count": 120,
   "metadata": {},
   "outputs": [
    {
     "data": {
      "text/plain": [
       "3"
      ]
     },
     "execution_count": 120,
     "metadata": {},
     "output_type": "execute_result"
    }
   ],
   "source": [
    "lookup_tools.dense_lookup.dense_lookup(n2q_array, bins)._dimension"
   ]
  },
  {
   "cell_type": "code",
   "execution_count": 121,
   "metadata": {},
   "outputs": [
    {
     "data": {
      "text/plain": [
       "range(0, 3)"
      ]
     },
     "execution_count": 121,
     "metadata": {},
     "output_type": "execute_result"
    }
   ],
   "source": [
    "range(lookup_tools.dense_lookup.dense_lookup(n2q_array, bins)._dimension)"
   ]
  },
  {
   "cell_type": "code",
   "execution_count": 124,
   "metadata": {},
   "outputs": [
    {
     "data": {
      "text/plain": [
       "60"
      ]
     },
     "execution_count": 124,
     "metadata": {},
     "output_type": "execute_result"
    }
   ],
   "source": [
    "lookup_tools.dense_lookup.dense_lookup(n2q_array, bins)._values.shape[0]"
   ]
  },
  {
   "cell_type": "code",
   "execution_count": 123,
   "metadata": {},
   "outputs": [
    {
     "name": "stdout",
     "output_type": "stream",
     "text": [
      "[[[0.0000000e+00 0.0000000e+00 0.0000000e+00 ... 4.6722372e-03\n",
      "   4.6722372e-03 4.6722372e-03]\n",
      "  [0.0000000e+00 0.0000000e+00 0.0000000e+00 ... 4.5120455e-03\n",
      "   4.5120455e-03 4.5120455e-03]\n",
      "  [0.0000000e+00 0.0000000e+00 0.0000000e+00 ... 4.3518553e-03\n",
      "   4.3518553e-03 4.3518553e-03]\n",
      "  ...\n",
      "  [0.0000000e+00 0.0000000e+00 0.0000000e+00 ... 2.9840910e-01\n",
      "   2.9840910e-01 2.9840910e-01]\n",
      "  [0.0000000e+00 0.0000000e+00 0.0000000e+00 ... 2.1980873e-01\n",
      "   2.1980873e-01 2.1980873e-01]\n",
      "  [0.0000000e+00 0.0000000e+00 0.0000000e+00 ... 1.2857994e-01\n",
      "   1.2857994e-01 1.2857994e-01]]\n",
      "\n",
      " [[0.0000000e+00 0.0000000e+00 0.0000000e+00 ... 3.8178852e-03\n",
      "   3.8178852e-03 3.8178852e-03]\n",
      "  [0.0000000e+00 0.0000000e+00 0.0000000e+00 ... 4.3518557e-03\n",
      "   4.3518557e-03 4.3518557e-03]\n",
      "  [0.0000000e+00 0.0000000e+00 0.0000000e+00 ... 4.2183623e-03\n",
      "   4.2183623e-03 4.2183623e-03]\n",
      "  ...\n",
      "  [0.0000000e+00 0.0000000e+00 2.6698497e-05 ... 2.2920662e-01\n",
      "   2.2920662e-01 2.2920662e-01]\n",
      "  [0.0000000e+00 0.0000000e+00 0.0000000e+00 ... 1.5036593e-01\n",
      "   1.5036593e-01 1.5036593e-01]\n",
      "  [0.0000000e+00 0.0000000e+00 0.0000000e+00 ... 7.8253292e-02\n",
      "   7.8253292e-02 7.8253292e-02]]\n",
      "\n",
      " [[0.0000000e+00 0.0000000e+00 0.0000000e+00 ... 3.7911867e-03\n",
      "   3.7911867e-03 3.7911867e-03]\n",
      "  [0.0000000e+00 0.0000000e+00 0.0000000e+00 ... 2.9902314e-03\n",
      "   2.9902314e-03 2.9902314e-03]\n",
      "  [0.0000000e+00 0.0000000e+00 0.0000000e+00 ... 3.5242015e-03\n",
      "   3.5242015e-03 3.5242015e-03]\n",
      "  ...\n",
      "  [0.0000000e+00 0.0000000e+00 0.0000000e+00 ... 1.6448945e-01\n",
      "   1.6448945e-01 1.6448945e-01]\n",
      "  [0.0000000e+00 0.0000000e+00 0.0000000e+00 ... 9.7396113e-02\n",
      "   9.7396113e-02 9.7396113e-02]\n",
      "  [0.0000000e+00 0.0000000e+00 0.0000000e+00 ... 4.8164088e-02\n",
      "   4.8164088e-02 4.8164088e-02]]\n",
      "\n",
      " ...\n",
      "\n",
      " [[0.0000000e+00 0.0000000e+00 0.0000000e+00 ... 2.6698497e-05\n",
      "   2.6698497e-05 2.6698497e-05]\n",
      "  [0.0000000e+00 0.0000000e+00 0.0000000e+00 ... 5.3396994e-05\n",
      "   5.3396994e-05 5.3396994e-05]\n",
      "  [0.0000000e+00 0.0000000e+00 0.0000000e+00 ... 1.6019098e-04\n",
      "   1.6019098e-04 1.6019098e-04]\n",
      "  ...\n",
      "  [0.0000000e+00 0.0000000e+00 0.0000000e+00 ... 8.0095488e-05\n",
      "   8.0095488e-05 8.0095488e-05]\n",
      "  [0.0000000e+00 0.0000000e+00 0.0000000e+00 ... 1.6019098e-04\n",
      "   1.6019098e-04 1.6019098e-04]\n",
      "  [0.0000000e+00 0.0000000e+00 0.0000000e+00 ... 5.3396994e-05\n",
      "   5.3396994e-05 5.3396994e-05]]\n",
      "\n",
      " [[0.0000000e+00 0.0000000e+00 0.0000000e+00 ... 2.6698497e-05\n",
      "   2.6698497e-05 2.6698497e-05]\n",
      "  [0.0000000e+00 0.0000000e+00 0.0000000e+00 ... 0.0000000e+00\n",
      "   0.0000000e+00 0.0000000e+00]\n",
      "  [0.0000000e+00 0.0000000e+00 0.0000000e+00 ... 8.0095488e-05\n",
      "   8.0095488e-05 8.0095488e-05]\n",
      "  ...\n",
      "  [0.0000000e+00 0.0000000e+00 0.0000000e+00 ... 8.0095488e-05\n",
      "   8.0095488e-05 8.0095488e-05]\n",
      "  [0.0000000e+00 0.0000000e+00 0.0000000e+00 ... 8.0095488e-05\n",
      "   8.0095488e-05 8.0095488e-05]\n",
      "  [0.0000000e+00 0.0000000e+00 0.0000000e+00 ... 5.3396994e-05\n",
      "   5.3396994e-05 5.3396994e-05]]\n",
      "\n",
      " [[0.0000000e+00 0.0000000e+00 0.0000000e+00 ... 2.6698497e-05\n",
      "   2.6698497e-05 2.6698497e-05]\n",
      "  [0.0000000e+00 0.0000000e+00 0.0000000e+00 ... 8.0095488e-05\n",
      "   8.0095488e-05 8.0095488e-05]\n",
      "  [0.0000000e+00 0.0000000e+00 0.0000000e+00 ... 1.0679399e-04\n",
      "   1.0679399e-04 1.0679399e-04]\n",
      "  ...\n",
      "  [0.0000000e+00 0.0000000e+00 0.0000000e+00 ... 2.6698497e-05\n",
      "   2.6698497e-05 2.6698497e-05]\n",
      "  [0.0000000e+00 0.0000000e+00 0.0000000e+00 ... 0.0000000e+00\n",
      "   0.0000000e+00 0.0000000e+00]\n",
      "  [0.0000000e+00 0.0000000e+00 0.0000000e+00 ... 2.6698497e-05\n",
      "   2.6698497e-05 2.6698497e-05]]]\n"
     ]
    }
   ],
   "source": [
    "print(n2q_array)"
   ]
  },
  {
   "cell_type": "code",
   "execution_count": null,
   "metadata": {},
   "outputs": [],
   "source": []
  }
 ],
 "metadata": {
  "kernelspec": {
   "display_name": "Python 3",
   "language": "python",
   "name": "python3"
  },
  "language_info": {
   "codemirror_mode": {
    "name": "ipython",
    "version": 3
   },
   "file_extension": ".py",
   "mimetype": "text/x-python",
   "name": "python",
   "nbconvert_exporter": "python",
   "pygments_lexer": "ipython3",
   "version": "3.6.5"
  }
 },
 "nbformat": 4,
 "nbformat_minor": 2
}
